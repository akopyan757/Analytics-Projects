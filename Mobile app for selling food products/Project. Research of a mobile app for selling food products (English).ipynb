{
 "cells": [
  {
   "cell_type": "markdown",
   "metadata": {},
   "source": [
    "# Mobile application for selling food products\n",
    "\n",
    "We have event data from a startup mobile app that sells food products. We need to understand how users of the mobile app behave.\n",
    "\n",
    "<u>The purpose of the project:</u>\n",
    "- study the sales funnel;\n",
    "- learn the user's path before purchasing;\n",
    "- calculate how many users make a purchase;\n",
    "- calculate how many users are “stuck” at previous steps;\n",
    "- find out at what steps the user gets “stuck” in the previous steps;\n",
    "- study the results of the A/A/B experiment on changing fonts.<br>\n",
    "\n",
    "<u>Work plan:</u>\n",
    "1. We will conduct a general analysis from the provided data;\n",
    "2. We will perform data preprocessing: processing duplicate gaps, renaming columns and transforming values;\n",
    "3. We will conduct a data study: distribution of data by different parameters and analysis for anomalies;\n",
    "4. Event funnel analysis: studying the step sequence and studying the conversion to step;\n",
    "5. Analysis of conversion to an event based on the results of an A/B test.\n"
   ]
  },
  {
   "cell_type": "markdown",
   "metadata": {},
   "source": [
    "## General information and preliminary data analysis\n",
    "\n",
    "The event log data is provided in the file `/datasets/logs_exp.csv`, which stores the following information.\n",
    "\n",
    "- event name;\n",
    "- unique user identifier;\n",
    "- time of the event;\n",
    "- experimental group number.\n",
    "\n",
    "### Importing libraries\n"
   ]
  },
  {
   "cell_type": "code",
   "metadata": {},
   "source": [
    "import pandas as pd\n",
    "import datetime\n",
    "import numpy as np\n",
    "import math as mth\n",
    "from scipy import stats as st\n",
    "from matplotlib import pyplot as plt\n",
    "import matplotlib.colors as mcolors\n",
    "from plotly import graph_objects as go"
   ],
   "outputs": [],
   "execution_count": null
  },
  {
   "cell_type": "markdown",
   "metadata": {},
   "source": [
    "### Loading data\n",
    "\n",
    "Let's download data from the file `/datasets/logs_exp.csv` taking into account the separator `\\t`.\n"
   ]
  },
  {
   "cell_type": "code",
   "metadata": {},
   "source": [
    "logs = pd.read_csv('logs_exp.csv', sep='\\t')"
   ],
   "outputs": [],
   "execution_count": null
  },
  {
   "cell_type": "markdown",
   "metadata": {},
   "source": [
    "Let's display the first rows of the table and examine the data.\n"
   ]
  },
  {
   "cell_type": "code",
   "metadata": {},
   "source": [
    "logs.head()"
   ],
   "outputs": [],
   "execution_count": null
  },
  {
   "cell_type": "markdown",
   "metadata": {},
   "source": [
    "Let's display general information about the table.\n"
   ]
  },
  {
   "cell_type": "code",
   "metadata": {},
   "source": [
    "logs.info()"
   ],
   "outputs": [],
   "execution_count": null
  },
  {
   "cell_type": "markdown",
   "metadata": {},
   "source": [
    "### Conclusion\n",
    "\n",
    "From a preliminary review of the event log data, the following conclusions can be drawn:\n",
    "- ***244,126 records*** were found in the file;\n",
    "- ***no obvious gaps*** with the value `nan` in all columns, but the issue of gaps and duplicates needs to be carefully examined;\n",
    "- it is necessary to rename the columns to shorten their names and make them more readable;\n",
    "- the time data is written as a numeric value of milliseconds and the date and time column will need to be translated;\n",
    "- you can replace the values ​​of experimental groups in a more familiar string format for greater convenience (`A1`, `A2`, `B`).\n"
   ]
  },
  {
   "cell_type": "markdown",
   "metadata": {},
   "source": [
    "## Data preparation\n"
   ]
  },
  {
   "cell_type": "markdown",
   "metadata": {},
   "source": [
    "### Replacing column names\n",
    "\n",
    "Let's rename the column names to a more familiar and short string format using lower case and an underscore separator `_` between parts.\n"
   ]
  },
  {
   "cell_type": "code",
   "metadata": {},
   "source": [
    "logs.columns = ['event_name', 'user_id', 'event_timestamp', 'group']"
   ],
   "outputs": [],
   "execution_count": null
  },
  {
   "cell_type": "markdown",
   "metadata": {},
   "source": [
    "Let's output rows with new column names.\n"
   ]
  },
  {
   "cell_type": "code",
   "metadata": {},
   "source": [
    "logs.head(3)"
   ],
   "outputs": [],
   "execution_count": null
  },
  {
   "cell_type": "markdown",
   "metadata": {},
   "source": [
    "### Checking passes\n"
   ]
  },
  {
   "cell_type": "markdown",
   "metadata": {},
   "source": [
    "As we have already found out, when calling the `info` method on the dataset, no obvious gaps were found in any columns (the number of values ​​corresponds to the number of records).\n",
    "\n",
    "Let's check the unique values ​​of the event names and make sure that they all correspond to an event transition to a specific window.\n"
   ]
  },
  {
   "cell_type": "code",
   "metadata": {},
   "source": [
    "list(logs.event_name.unique())"
   ],
   "outputs": [],
   "execution_count": null
  },
  {
   "cell_type": "markdown",
   "metadata": {},
   "source": [
    "We will also check the unique values ​​of the experimental groups and make sure that there are exactly 3 of them.\n"
   ]
  },
  {
   "cell_type": "code",
   "metadata": {},
   "source": [
    "list(logs.group.unique())"
   ],
   "outputs": [],
   "execution_count": null
  },
  {
   "cell_type": "markdown",
   "metadata": {},
   "source": [
    "### Checking and processing duplicates\n"
   ]
  },
  {
   "cell_type": "markdown",
   "metadata": {},
   "source": [
    "Let's check for duplicate rows in the entire dataset.\n"
   ]
  },
  {
   "cell_type": "code",
   "metadata": {},
   "source": [
    "sum(logs.duplicated())"
   ],
   "outputs": [],
   "execution_count": null
  },
  {
   "cell_type": "markdown",
   "metadata": {},
   "source": [
    "We found ***413 duplicate records***. Given that the data contains columns with event times, we can assume that the same event could have been recorded multiple times.\n",
    "\n",
    "Let's filter out duplicate records.\n"
   ]
  },
  {
   "cell_type": "code",
   "metadata": {},
   "source": [
    "logs.drop_duplicates(inplace=True)"
   ],
   "outputs": [],
   "execution_count": null
  },
  {
   "cell_type": "markdown",
   "metadata": {},
   "source": [
    "The number of records has been reduced to ***243713***.\n"
   ]
  },
  {
   "cell_type": "code",
   "metadata": {},
   "source": [
    "len(logs.event_name)"
   ],
   "outputs": [],
   "execution_count": null
  },
  {
   "cell_type": "markdown",
   "metadata": {},
   "source": [
    "Also found ***23,156*** duplicate records ONLY for the user and event time columns.<br><br>\n",
    "It is not very clear why several events could be recorded for one user at one point in time, so we will leave these records.\n"
   ]
  },
  {
   "cell_type": "code",
   "metadata": {},
   "source": [
    "print(\"Количество\", sum(logs.duplicated(subset=['user_id', 'event_timestamp'])))"
   ],
   "outputs": [],
   "execution_count": null
  },
  {
   "cell_type": "markdown",
   "metadata": {},
   "source": [
    "### Adding Date and Datetime Columns\n",
    "\n",
    "Event date and time data is difficult to analyze by numeric value, so let's create 2 additional columns: date (`event_date`) and date and time (`event_datetime`).\n"
   ]
  },
  {
   "cell_type": "code",
   "metadata": {},
   "source": [
    "logs['event_datetime'] = pd.to_datetime(logs['event_timestamp'], unit='s')\n",
    "logs['event_date'] = logs['event_datetime'].dt.date"
   ],
   "outputs": [],
   "execution_count": null
  },
  {
   "cell_type": "markdown",
   "metadata": {},
   "source": [
    "Let's output a fragment of the dataset and evaluate the result.\n"
   ]
  },
  {
   "cell_type": "code",
   "metadata": {},
   "source": [
    "logs.sample(5)"
   ],
   "outputs": [],
   "execution_count": null
  },
  {
   "cell_type": "markdown",
   "metadata": {},
   "source": [
    "### Renaming the value of experimental groups\n",
    "\n",
    "For ease of perception, let's rename the group values ​​to symbolic values:\n",
    "- control group `246` - `A1`;\n",
    "- control group `247` - `A2`;\n",
    "- test group `248` - `B`.\n"
   ]
  },
  {
   "cell_type": "code",
   "metadata": {},
   "source": [
    "group_convert = lambda x: \"B\" if x == 248 else \"A1\" if x == 246 else \"A2\"\n",
    "logs.group = logs.group.apply(group_convert)"
   ],
   "outputs": [],
   "execution_count": null
  },
  {
   "cell_type": "markdown",
   "metadata": {},
   "source": [
    "Let's double-check the unique values.\n"
   ]
  },
  {
   "cell_type": "code",
   "metadata": {},
   "source": [
    "list(logs.group.unique())"
   ],
   "outputs": [],
   "execution_count": null
  },
  {
   "cell_type": "markdown",
   "metadata": {},
   "source": [
    "We can check and evaluate the result.\n"
   ]
  },
  {
   "cell_type": "code",
   "metadata": {},
   "source": [
    "logs.sample(5)"
   ],
   "outputs": [],
   "execution_count": null
  },
  {
   "cell_type": "markdown",
   "metadata": {},
   "source": [
    "### Conclusion\n",
    "\n",
    "The following steps were taken in preparing the data for the study:\n",
    "1. Renamed columns;\n",
    "2. Records were analyzed for omissions;\n",
    "3. Duplicate records were found and filtered for all columns;\n",
    "4. Added date and date with time columns;\n",
    "5. The values ​​of the control and test groups have been renamed.\n"
   ]
  },
  {
   "cell_type": "markdown",
   "metadata": {},
   "source": [
    "## Data Research\n"
   ]
  },
  {
   "cell_type": "markdown",
   "metadata": {},
   "source": [
    "### Analysis of general statistical data of events\n"
   ]
  },
  {
   "cell_type": "markdown",
   "metadata": {},
   "source": [
    "Let's calculate the general information:\n",
    "- number of records in the dataset;\n",
    "- number of unique events;\n",
    "- number of unique users;\n",
    "- average number of events per user.\n"
   ]
  },
  {
   "cell_type": "code",
   "metadata": {
    "jupyter": {
     "is_executing": true
    }
   },
   "source": [
    "print(\"Number of records:\", len(logs.event_name))\n",
    "print(\"Number of unique events:\", len(logs.event_name.unique()))\n",
    "print(\"Unique events:\", \", \".join(logs.event_name.unique()))\n",
    "print(\"Number of users:\", len(logs.user_id.unique()))\n",
    "print(\"Average number of events per user: {:.3}\".format(len(logs.event_name) / len(logs.user_id.unique())))"
   ],
   "outputs": [],
   "execution_count": null
  },
  {
   "cell_type": "markdown",
   "metadata": {},
   "source": [
    "Let's calculate the period during which the events occurred (14 days).\n"
   ]
  },
  {
   "cell_type": "code",
   "metadata": {},
   "source": [
    "print(\"Observation start:\", min(logs.event_datetime))\n",
    "print(\"Observation end:\", max(logs.event_datetime))\n",
    "print(\"Observation period:\", max(logs.event_datetime) - min(logs.event_datetime))"
   ],
   "outputs": [],
   "execution_count": null
  },
  {
   "cell_type": "markdown",
   "metadata": {},
   "source": [
    "#### Analysis of the distribution of events by observation days\n",
    "\n",
    "Let's derive a graph of the distribution of the number of events by day.\n"
   ]
  },
  {
   "cell_type": "code",
   "metadata": {},
   "source": [
    "date_counts = logs.groupby('event_date').agg({'event_name': 'count'})\n",
    "\n",
    "ax = date_counts.plot.bar(figsize=(11, 4), grid=True, legend=False)\n",
    "res = ax.set_title(\"Number of events by observation date\", fontsize=20)\n",
    "res = ax.set_xlabel(\"Event date\", fontsize=15)\n",
    "res = ax.set_ylabel(\"Number of events\", fontsize=15)\n",
    "res = ax.set_xticklabels(list(map(lambda x: datetime.datetime.strftime(x, '%b %-d'), date_counts.index)), rotation=0, fontsize=13)\n",
    "for p in ax.patches:\n",
    "    ax.annotate(str(p.get_height()), (p.get_x()-0.1, p.get_height() + 500))"
   ],
   "outputs": [],
   "execution_count": null
  },
  {
   "cell_type": "markdown",
   "metadata": {},
   "source": [
    "We will see that during the observation period in the first week the number of events is several times less than on August days. The reasons for such a difference may be technical problems, as a result of which the event may \"reach\" August. In this case, it cannot be said that the data for July is complete, so it is better to filter them.\n",
    "\n",
    "Let's construct the same table charts of distribution by days, but with a breakdown into groups and types of events.\n"
   ]
  },
  {
   "cell_type": "code",
   "metadata": {},
   "source": [
    "date_counts = pd.pivot_table(logs, index='event_date', columns='group', values='event_name', aggfunc='count')\n",
    "event_counts = pd.pivot_table(logs, index='event_date', columns='event_name', values='user_id', aggfunc='count')"
   ],
   "outputs": [],
   "execution_count": null
  },
  {
   "cell_type": "code",
   "metadata": {},
   "source": [
    "ax1 = plt.subplot(1, 2, 1)\n",
    "date_counts.plot.bar(figsize=(20, 4), grid=True, ax=ax1)\n",
    "ax1.legend(loc='upper left')\n",
    "res = ax1.set_title(\"Number of events by observation date\\nbroken down by experimental groups\", fontsize=20)\n",
    "res = ax1.set_xlabel(\"Event date\", fontsize=15)\n",
    "res = ax1.set_ylabel(\"Number of events\", fontsize=15)\n",
    "res = ax1.set_xticklabels(list(map(lambda x: datetime.datetime.strftime(x, '%b %-d'), date_counts.index)), rotation=0, fontsize=10)\n",
    "\n",
    "ax2 = plt.subplot(1, 2, 2)\n",
    "event_counts.plot.bar(grid=True, ax=ax2)\n",
    "ax2.legend(loc='upper left')\n",
    "res = ax2.set_title(\"Number of events by observation date\\nbroken down by event type\", fontsize=20)\n",
    "res = ax2.set_xlabel(\"Event date\", fontsize=15)\n",
    "res = ax2.set_ylabel(\"Number of events\", fontsize=15)\n",
    "res = ax2.set_xticklabels(list(map(lambda x: datetime.datetime.strftime(x, '%b %-d'), date_counts.index)), rotation=0, fontsize=10)"
   ],
   "outputs": [],
   "execution_count": null
  },
  {
   "cell_type": "markdown",
   "metadata": {},
   "source": [
    "From the graphs we see that neither the experimental group nor the type of event depends on the day of observation, which tells us that the events for August can be considered complete.\n",
    "\n",
    "Let's calculate the share of events for July.\n"
   ]
  },
  {
   "cell_type": "code",
   "metadata": {},
   "source": [
    "print(\"Number of events in July:\", len(logs[logs.event_datetime.dt.month == 7].index))\n",
    "print(\"Share of events in July: {:.1f}%\".format(100 * len(logs[logs.event_datetime.dt.month == 7].index) / len(logs.index)))"
   ],
   "outputs": [],
   "execution_count": null
  },
  {
   "cell_type": "markdown",
   "metadata": {},
   "source": [
    "The share of events for July is ***1.2%***. These events can be neglected and filtered out of the total sample. The distribution by experimental groups and event types on July days is similar to August, so this will not affect further research.\n",
    "\n",
    "Finally, let's filter out the July days.\n"
   ]
  },
  {
   "cell_type": "code",
   "metadata": {},
   "source": [
    "filtered_logs = logs[logs.event_datetime.dt.month == 8]"
   ],
   "outputs": [],
   "execution_count": null
  },
  {
   "cell_type": "markdown",
   "metadata": {},
   "source": [
    "#### Anomalous peaks in the number of events over time\n",
    "\n",
    "Let's plot a graph of the distribution of events over time. Each division will correspond to the number of events that were sent within half an hour in a certain time interval.\n"
   ]
  },
  {
   "cell_type": "code",
   "metadata": {},
   "source": [
    "(max(logs.event_datetime) - min(logs.event_datetime)) / (24 * 14 * 2)"
   ],
   "outputs": [],
   "execution_count": null
  },
  {
   "cell_type": "code",
   "metadata": {},
   "source": [
    "ax = filtered_logs.event_datetime.hist(bins=24*7*2, figsize=(20, 5))\n",
    "res = ax.set_title(\"Distribution of events over time\", fontsize=20)\n",
    "res = ax.set_ylabel(\"Number of events\", fontsize=20)\n",
    "res = ax.set_xlabel(\"Event time\", fontsize=20)"
   ],
   "outputs": [],
   "execution_count": null
  },
  {
   "cell_type": "markdown",
   "metadata": {},
   "source": [
    "From the graph we see that events are most often sent during the daytime period, which is logical. However, it can be noted that at certain points in time, the frequency of sending events jumps very strongly. This may be due to excessive user activity.\n",
    "\n",
    "Let's plot a scatter plot of the number of events per user.\n"
   ]
  },
  {
   "cell_type": "code",
   "metadata": {},
   "source": [
    "users_orders = filtered_logs.groupby('user_id').agg({'event_name': 'count'}).rename(columns={'event_name': 'events_count'})\n",
    "xlabel = pd.Series(range(len(users_orders)))\n",
    "ax = plt.scatter(xlabel, users_orders, alpha=0.3)\n",
    "ax = plt.grid()\n",
    "res = plt.title(\"Scatter plot of the number\\nof events per user\", fontsize=15)\n",
    "res = plt.ylabel(\"Number of events\", fontsize=15)\n",
    "res = plt.xlabel(\"User index\", fontsize=15)"
   ],
   "outputs": [],
   "execution_count": null
  },
  {
   "cell_type": "markdown",
   "metadata": {},
   "source": [
    "From the graph we see that in general, a user has from 0 to 200 events during the week, however, there are users whose number of events has reached 2500.\n",
    "\n",
    "Let's calculate the 50th, 75th, 95th and 99th percentiles of the number of events per user.\n"
   ]
  },
  {
   "cell_type": "code",
   "metadata": {},
   "source": [
    "print(np.percentile(users_orders, [50, 75, 95, 99, 99.5]))"
   ],
   "outputs": [],
   "execution_count": null
  },
  {
   "cell_type": "markdown",
   "metadata": {},
   "source": [
    "***1 percent of events*** produced between 200 events and 2,500 events. Considering that 75 percent of users may only have up to 37 events, this 1 percent can have a significant impact on the overall user behavior analysis.\n",
    "\n",
    "Let's calculate the total number of anomalous users, the number of events produced by them, and the share of events from anomalous users.\n"
   ]
  },
  {
   "cell_type": "code",
   "metadata": {},
   "source": [
    "abnormal_user_ids = users_orders[users_orders.events_count > 201].index\n",
    "abnormal_logs = filtered_logs[filtered_logs.user_id.isin(abnormal_user_ids)]\n",
    "print(\"Number of users with 200+ events:\", len(abnormal_user_ids))\n",
    "print(\"Number of events from the most active users:\", len(abnormal_logs))\n",
    "print(\"Share of events from the most active users: {:.1f}%\".format(100 * len(abnormal_logs) / len(filtered_logs)))\n"
   ],
   "outputs": [],
   "execution_count": null
  },
  {
   "cell_type": "markdown",
   "metadata": {},
   "source": [
    "As we can see, ***1 percent of the most active users*** account for ***14.2 events***. This indicator means that this 1 percent can greatly distort the overall picture of the use of the application by a casual user.\n",
    "\n",
    "In addition, we will construct a similar distribution of events by time, but only for abnormally active users. For comparison, we will also construct a distribution by time of events from users not included in this 1 percent, having previously made a cut by the sample size equal to the number of events from abnormally active users (34272 records).\n"
   ]
  },
  {
   "cell_type": "code",
   "metadata": {},
   "source": [
    "normal_logs = filtered_logs[~filtered_logs.user_id.isin(abnormal_user_ids)]\n",
    "normal_logs.sample(34272).event_datetime.hist(bins=24*7*2, figsize=(20, 5), alpha=0.9, label=\"Regular users\")\n",
    "ax = abnormal_logs.event_datetime.hist(bins=24*7*2, figsize=(20, 5), alpha=0.7, label=\"Active users\")\n",
    "ax.legend()\n",
    "res = ax.set_title(\"Distribution of events over time\", fontsize=20)\n",
    "res = ax.set_ylabel(\"Number of events\", fontsize=20)\n",
    "res = ax.set_xlabel(\"Event time\", fontsize=20)"
   ],
   "outputs": [],
   "execution_count": null
  },
  {
   "cell_type": "markdown",
   "metadata": {},
   "source": [
    "From the graph we can see that there are random half-hour periods of time with a large number of events being sent from the most users, against a more even distribution of \"normal\" users.\n",
    "\n",
    "This effect may be caused by delays in sending events to tracking or other technical problems.\n",
    "\n",
    "Let's filter out events from ***1 percent of users*** and re-plot the event distribution graph over time.\n"
   ]
  },
  {
   "cell_type": "code",
   "metadata": {},
   "source": [
    "ax = filtered_logs.event_datetime.hist(bins=24*7*2, figsize=(20, 5), alpha=0.9)\n",
    "ax = normal_logs.event_datetime.hist(bins=24*7*2, figsize=(20, 5), alpha=0.7)\n",
    "res = ax.set_title(\"Distribution of events over time\", fontsize=20)\n",
    "res = ax.set_ylabel(\"Number of events\", fontsize=20)\n",
    "res = ax.set_xlabel(\"Event time\", fontsize=20)"
   ],
   "outputs": [],
   "execution_count": null
  },
  {
   "cell_type": "markdown",
   "metadata": {},
   "source": [
    "You can see from the graph that we have solved the problem with abnormal peaks in a certain period of time. The distribution graph has become smoother and better reflects the picture of application use by time of day.\n"
   ]
  },
  {
   "cell_type": "code",
   "metadata": {},
   "source": [
    "data = normal_logs"
   ],
   "outputs": [],
   "execution_count": null
  },
  {
   "cell_type": "markdown",
   "metadata": {},
   "source": [
    "At the moment we have filtered ***15.2%*** of event records, of which about 14% are from the ***1% most active users*** and a few ***events from the month of July***.\n"
   ]
  },
  {
   "cell_type": "code",
   "metadata": {},
   "source": "print(\"Share of filtered events: {:.1f}%\".format((1 - len(data.event_name) / len(logs.event_name)) * 100))",
   "outputs": [],
   "execution_count": null
  },
  {
   "cell_type": "markdown",
   "metadata": {},
   "source": [
    "#### Check for overlapping experimental groups by users\n"
   ]
  },
  {
   "cell_type": "markdown",
   "metadata": {},
   "source": [
    "Let's calculate how many users could be in several experimental groups, as this can lead to distortion of the A/B test results.\n"
   ]
  },
  {
   "cell_type": "code",
   "metadata": {},
   "source": [
    "user_group_counts = data.groupby('user_id').agg({'group': lambda x: len(x.unique())})\n",
    "len(user_group_counts[user_group_counts.group > 1])"
   ],
   "outputs": [],
   "execution_count": null
  },
  {
   "cell_type": "markdown",
   "metadata": {},
   "source": [
    "No group intersections found. No anomalies.\n"
   ]
  },
  {
   "cell_type": "markdown",
   "metadata": {},
   "source": [
    "#### Distribution by experimental groups\n"
   ]
  },
  {
   "cell_type": "markdown",
   "metadata": {},
   "source": [
    "Let's count the number of events and users by experimental groups.\n"
   ]
  },
  {
   "cell_type": "code",
   "metadata": {},
   "source": [
    "group_counts = data.groupby('group').agg({'event_name': 'count', 'user_id': 'nunique'})\n",
    "group_counts = group_counts.rename(columns={'event_name': 'events', 'user_id': 'users'})\n",
    "group_counts"
   ],
   "outputs": [],
   "execution_count": null
  },
  {
   "cell_type": "markdown",
   "metadata": {},
   "source": [
    "Let's also construct a pie chart of the distribution of events and users by groups.\n"
   ]
  },
  {
   "cell_type": "code",
   "metadata": {},
   "source": [
    "ax1 = plt.subplot(1, 2, 1)\n",
    "ax2 = plt.subplot(1, 2, 2)\n",
    "group_counts.events.plot.pie(subplots=True, autopct='%1.1f%%', legend=False, ax=ax1)\n",
    "group_counts.users.plot.pie(subplots=True, autopct='%1.1f%%', legend=False, ax=ax2)\n",
    "res = ax1.set_title(\"Distribution of events\\nby groups\")\n",
    "res = ax2.set_title(\"Distribution of users\\nby groups\")"
   ],
   "outputs": [],
   "execution_count": null
  },
  {
   "cell_type": "markdown",
   "metadata": {},
   "source": [
    "According to the table and graphs, events and users are distributed evenly across groups. The share of each group ranges from ***32.6% to 34.3%*** of the total.\n"
   ]
  },
  {
   "cell_type": "markdown",
   "metadata": {},
   "source": [
    "### Conclusion from the data study\n",
    "\n",
    "Based on the results of the data study, the following conclusions were made:\n",
    "- 15.2% of all entries were filtered out due to the most active users and the low number of events in July compared to August;\n",
    "- no overlaps were found between users in the control and experimental groups;\n",
    "- the distribution of events and users across groups can be considered uniform.\n"
   ]
  },
  {
   "cell_type": "markdown",
   "metadata": {},
   "source": [
    "## Funnel Analysis\n"
   ]
  },
  {
   "cell_type": "markdown",
   "metadata": {},
   "source": [
    "### Analysis by event type. Funnel study\n"
   ]
  },
  {
   "cell_type": "markdown",
   "metadata": {},
   "source": [
    "Let's analyze the event funnel. First, we'll output the number of events, users, and the share of users who have performed at least one event by their type. We'll also output the cumulative dynamics for these metrics.\n"
   ]
  },
  {
   "cell_type": "code",
   "metadata": {},
   "source": [
    "event_counts = data.groupby('event_name').agg({'event_name': 'count', 'user_id': 'nunique'}).rename(columns={'event_name': 'events', 'user_id': 'users'})\n",
    "event_counts['users_share'] = np.round(100 * event_counts['users'] / len(data.user_id.unique()), 1)\n",
    "\n",
    "eventByDate_countsCum = pd.pivot_table(data, index='event_date', columns='event_name', values='user_id', aggfunc='count').cumsum()\n",
    "\n",
    "def usersCum(data):\n",
    "    return pd.Series(data.event_date.unique()).apply(lambda x: data[data.event_date <= x].user_id.nunique()).to_list()\n",
    "\n",
    "usersCums = dict((event_name, usersCum(data[data.event_name == event_name])) for event_name in data.event_name.unique())\n",
    "usersCums['All'] = usersCum(data)\n",
    "eventByDate_usersCum = pd.DataFrame(data=usersCums, index=list(data.event_date.unique()))\n",
    "eventByDate_usersShareCum = eventByDate_usersCum.div(eventByDate_usersCum['All'], axis=0)"
   ],
   "outputs": [],
   "execution_count": null
  },
  {
   "cell_type": "markdown",
   "metadata": {},
   "source": [
    "As you can see, the cumulative dynamics lines of the number of events and users are approximately similar in shape by event type. Accordingly, we can say that there is a clear funnel of steps from opening the screen to purchasing a product.\n",
    "\n",
    "Based on the event type name and their number, we can reveal the sequence of steps from opening the application to purchasing:\n",
    "1. `MainScreenAppear` - appearance of the main application screen;\n",
    "2. `OffersScreenAppear` - page with product selection;\n",
    "3. `CartScreenAppear` - cart page with selected products;\n",
    "4. `PaymentScreenSuccessful` - page of successful payment for the order.\n",
    "\n",
    "There is also a page with familiarization with the work of the application `Tutorial`. Due to the small share of users, sending the event occurs when the application is opened for the first time and he reads the tutorial that appears to the end, or opens the tutorial by clicking on the button from the main screen. In any case, this step can be discarded from the funnel, since it is obviously optional.\n"
   ]
  },
  {
   "cell_type": "code",
   "metadata": {
    "scrolled": true
   },
   "source": [
    "ax1 = plt.subplot(3, 2, 1)\n",
    "ax2 = plt.subplot(3, 2, 2)\n",
    "ax3 = plt.subplot(3, 2, 3)\n",
    "ax4 = plt.subplot(3, 2, 4)\n",
    "ax5 = plt.subplot(3, 2, 5)\n",
    "ax6 = plt.subplot(3, 2, 6)   \n",
    "\n",
    "event_names = list(data.event_name.unique())\n",
    "\n",
    "colors = list(mcolors.TABLEAU_COLORS.values())\n",
    "colors = sorted(colors, key=lambda c: tuple(mcolors.rgb_to_hsv(mcolors.to_rgb(c))))\n",
    "colors_dict = dict((event_names[i], colors[i]) for i in range(len(event_names)))\n",
    "\n",
    "event_counts_sorted = event_counts.events.sort_values(ascending=True)\n",
    "event_counts_sorted.plot.barh(figsize=(20, 14), grid=True, ax=ax1, color=[colors_dict[x] for x in event_counts_sorted.index])\n",
    "ax1.set_xlim((0, 135000))\n",
    "ax1.set_title(\"Number of events by type\", fontsize=18)\n",
    "ax1.set_xlabel(\"Number of events\", fontsize=16)\n",
    "ax1.set_ylabel(\"Event type\", fontsize=16)\n",
    "for p in ax1.patches:\n",
    "    ax1.annotate(str(p.get_width()), (p.get_width() + 1000, p.get_y() + 0.15), fontsize=15)\n",
    "\n",
    "eventByDate_countsCum.plot(ax=ax2, grid=True, linewidth=4.0, color=[colors_dict[x] for x in eventByDate_countsCum.columns])\n",
    "ax2.legend(loc='upper left')\n",
    "ax2.set_title(\"Cumulative dynamics of event count by type\", fontsize=18)\n",
    "ax2.set_xlabel(\"Date\", fontsize=16)\n",
    "ax2.set_ylabel(\"Number of events\", fontsize=16)\n",
    "\n",
    "event_users = event_counts.users.sort_values(ascending=True)\n",
    "event_users.plot.barh(grid=True, ax=ax3, color=[colors_dict[x] for x in event_users.index])\n",
    "for p in ax3.patches:\n",
    "    ax3.annotate(str(p.get_width()), (p.get_width() - 600, p.get_y() + 0.15), fontsize=15, color='white')\n",
    "ax3.set_title(\"Number of users who performed a specific event\", fontsize=18)\n",
    "ax3.set_xlabel(\"Number of users\", fontsize=16)\n",
    "ax3.set_ylabel(\"Event type\", fontsize=16)\n",
    "\n",
    "event_usersCum = eventByDate_usersCum.drop('All', axis=1)\n",
    "event_usersCum.plot(ax=ax4, grid=True, linewidth=4.0, color=[colors_dict[x] for x in event_usersCum.columns])\n",
    "ax4.legend(loc='upper left')\n",
    "ax4.set_title(\"Cumulative dynamics of user count\\nby type of events performed\", fontsize=18)\n",
    "ax4.set_xlabel(\"Date\", fontsize=16)\n",
    "ax4.set_ylabel(\"Number of events\", fontsize=16)\n",
    "    \n",
    "event_usersShare = event_counts.users_share.sort_values(ascending=True)\n",
    "event_usersShare.plot.barh(grid=True, ax=ax5, color=[colors_dict[x] for x in event_usersShare.index])\n",
    "for p in ax5.patches:\n",
    "    ax5.annotate(str(p.get_width()) + '%', (p.get_width() - 9, p.get_y() + 0.1), fontsize=15, color='white')\n",
    "ax5.set_xlim((0, 100))\n",
    "ax5.set_title(\"Share of users who performed at least one event by type\", fontsize=18)\n",
    "ax5.set_xlabel(\"Share of users (%)\", fontsize=16)\n",
    "ax5.set_ylabel(\"Event type\", fontsize=16)\n",
    "\n",
    "event_usersShareCum = eventByDate_usersShareCum.drop('All', axis=1)\n",
    "event_usersShareCum.plot(ax=ax6, grid=True, linewidth=4.0, color=[colors_dict[x] for x in event_usersShareCum.columns])\n",
    "ax6.legend(loc='upper left')\n",
    "ax6.set_title(\"Cumulative dynamics of the share of users\\nwho performed at least one event by type\", fontsize=18)\n",
    "ax6.set_xlabel(\"Share of users\", fontsize=16)\n",
    "ax6.set_ylabel(\"Date\", fontsize=16)\n",
    "\n",
    "plt.tight_layout()\n",
    "plt.show()"
   ],
   "outputs": [],
   "execution_count": null
  },
  {
   "cell_type": "markdown",
   "metadata": {},
   "source": [
    "Let's add another visualization for funnels.\n"
   ]
  },
  {
   "cell_type": "code",
   "metadata": {},
   "source": [
    "funnel_users = event_users.drop('Tutorial').sort_values(ascending=False)\n",
    "funnel_colors = [colors_dict[event_name] for event_name in funnel_users.index.to_numpy()]\n",
    "fig = go.Figure(go.Funnel(\n",
    "    y=funnel_users.index.to_numpy(),\n",
    "    x=funnel_users.to_numpy(),\n",
    "    textinfo = \"value\",\n",
    "    marker = {\"color\": funnel_colors}\n",
    "))\n",
    "fig.update_layout(\n",
    "    title=dict(text=\"User funnel by events\", font_size=20, x=0.5)\n",
    ")\n",
    "fig.show()"
   ],
   "outputs": [],
   "execution_count": null
  },
  {
   "cell_type": "markdown",
   "metadata": {},
   "source": [
    "***Conclusion:***\n",
    "\n",
    "A sequence of funnel steps was found that leads from the main screen to the purchase:\n",
    "1. `MainScreenAppear` - appearance of the main application screen;\n",
    "2. `OffersScreenAppear` - page with product selection;\n",
    "3. `CartScreenAppear` - cart page with selected products;\n",
    "4. `PaymentScreenSuccessful` - page of successful payment for the order.\n",
    "\n",
    "Based on the number of clicks to the `Tutorial` page, this step is optional.\n"
   ]
  },
  {
   "cell_type": "markdown",
   "metadata": {},
   "source": [
    "### Study of anomalous funnels\n"
   ]
  },
  {
   "cell_type": "markdown",
   "metadata": {},
   "source": [
    "Let's first display the number of users who sent only 1 type of events.\n"
   ]
  },
  {
   "cell_type": "code",
   "metadata": {},
   "source": [
    "user_events = data.groupby('user_id').agg({'event_name': lambda x: \",\".join(sorted(x.unique()))})\n",
    "user_events.rename(inplace=True, columns={'event_name': 'events'})"
   ],
   "outputs": [],
   "execution_count": null
  },
  {
   "cell_type": "code",
   "metadata": {},
   "source": [
    "onlyEvents = pd.Series(event_names).apply(lambda x: len(user_events[user_events.events == x]))\n",
    "onlyEvents.index = list(event_names)\n",
    "onlyEvents.name = 'Only'\n",
    "onlyEvents.to_frame()"
   ],
   "outputs": [],
   "execution_count": null
  },
  {
   "cell_type": "markdown",
   "metadata": {},
   "source": [
    "From the data, we can see that in addition to those who only went to the main screen `MainScreenAppear`, there are users who only got to the pages `OffersScreenAppear` and `Tutorial`. It can be assumed that customers got to these pages through referral links, bypassing the main screen. There were also no customers who only got to the pages `CartScreenAppear` and `PaymentScreenSuccessful`, which is logical.\n",
    "\n",
    "Let's count the number of users who sent at least 2 types of events.\n"
   ]
  },
  {
   "cell_type": "code",
   "metadata": {},
   "source": [
    "users_events_double = dict((x, [len(user_events[np.logical_and(user_events.events.str.contains(y), user_events.events.str.contains(x))]) for y in event_names]) for x in event_names)\n",
    "users_counts = pd.DataFrame(\n",
    "    data=users_events_double,\n",
    "    index=event_names,\n",
    ")\n",
    "users_counts.style.background_gradient(axis=None)"
   ],
   "outputs": [],
   "execution_count": null
  },
  {
   "cell_type": "code",
   "metadata": {},
   "source": [
    "print(\n",
    "    \"Number of users who made a purchase 'PaymentScreenSuccessful' but skipped the cart 'CartScreenAppear':\",\n",
    "    users_counts.loc['PaymentScreenSuccessful', 'PaymentScreenSuccessful'] - users_counts.loc['CartScreenAppear', 'PaymentScreenSuccessful']\n",
    ")\n",
    "print(\n",
    "    \"Number of users who made a purchase 'PaymentScreenSuccessful' but skipped the offers page 'OffersScreenAppear':\",\n",
    "    users_counts.loc['PaymentScreenSuccessful', 'PaymentScreenSuccessful'] - users_counts.loc['OffersScreenAppear', 'PaymentScreenSuccessful']\n",
    ")\n",
    "print(\n",
    "    \"Number of users who made a purchase 'PaymentScreenSuccessful' but skipped the main page 'MainScreenAppear':\",\n",
    "    users_counts.loc['PaymentScreenSuccessful', 'PaymentScreenSuccessful'] - users_counts.loc['MainScreenAppear', 'PaymentScreenSuccessful']\n",
    ")\n",
    "print(\n",
    "    \"Number of users who reached the cart 'CartScreenAppear' but skipped the offers page 'OffersScreenAppear':\",\n",
    "    users_counts.loc['CartScreenAppear', 'CartScreenAppear'] - users_counts.loc['CartScreenAppear', 'OffersScreenAppear']\n",
    ")"
   ],
   "outputs": [],
   "execution_count": null
  },
  {
   "cell_type": "markdown",
   "metadata": {},
   "source": [
    "The data may show some strange numbers, as there are users who may have skipped stages before making a purchase. Therefore, in the further study, users who did not skip stages of making a purchase in the funnel will not be taken into account.\n"
   ]
  },
  {
   "cell_type": "markdown",
   "metadata": {},
   "source": [
    "***Conclusion:***\n",
    "\n",
    "Users were found who had a rather anomalous funnel, studied in step (4.1) on the transition between screens.\n",
    "For the conversion of transitions to steps, we will only count users who did not jump between screens.\n"
   ]
  },
  {
   "cell_type": "markdown",
   "metadata": {},
   "source": [
    "\n",
    "### Study of overall user conversion per step\n",
    "\n",
    "Let's calculate the share of users who moved on to the next step:\n",
    "1. `OffersScreenAppear` provided that the user has opened the main screen `MainScreenAppear`;\n",
    "2. `CartScreenAppear` provided that the user has opened the screen with offers `OffersScreenAppear`;\n",
    "2. `PaymentScreenSuccessful` provided that the user opened the cart screen `CartScreenAppear`.\n",
    "\n",
    "First, let's count the number of users who reached the screens without skipping the stages.\n"
   ]
  },
  {
   "cell_type": "code",
   "metadata": {},
   "source": [
    "main_events = user_events[user_events.events.str.contains('MainScreenAppear')]\n",
    "offers_events = main_events[main_events.events.str.contains('OffersScreenAppear')]\n",
    "cart_events = offers_events[offers_events.events.str.contains('CartScreenAppear')]\n",
    "payment_events = cart_events[cart_events.events.str.contains('PaymentScreenSuccessful')]"
   ],
   "outputs": [],
   "execution_count": null
  },
  {
   "cell_type": "code",
   "metadata": {},
   "source": [
    "print(\"Users who opened the main screen:\\t\\t\", len(main_events))\n",
    "print(\"Users who opened the offers screen:\\t\", len(offers_events))\n",
    "print(\"Users who opened the cart:\\t\\t\", len(cart_events))\n",
    "print(\"Users who made a purchase:\\t\\t\", len(payment_events))"
   ],
   "outputs": [],
   "execution_count": null
  },
  {
   "cell_type": "markdown",
   "metadata": {},
   "source": [
    "Let's calculate the share of users who completed the next step of the funnel from the number of users who moved to the previous step.\n"
   ]
  },
  {
   "cell_type": "code",
   "metadata": {},
   "source": [
    "funnel = pd.DataFrame(\n",
    "    data={\n",
    "    'share': [\n",
    "        len(offers_events) / len(main_events),\n",
    "        len(cart_events) / len(offers_events),\n",
    "        len(payment_events) / len(cart_events),\n",
    "    ]}, \n",
    "    index=['OffersScreenAppear', 'CartScreenAppear', 'PaymentScreenSuccessful']\n",
    ")\n",
    "funnel.style.format('{:.1%}'.format)"
   ],
   "outputs": [],
   "execution_count": null
  },
  {
   "cell_type": "markdown",
   "metadata": {},
   "source": [
    "According to the table, we see that users are most confused when moving from the main screen `MainScreenAppear` to the application screen `OffersScreenAppear` (about ***40 percent*** of users). This may be due to poor screen design or because users do not go to `OffersScreenAppear` to get familiar with the application and find out its usefulness. In any case, this is a growth point that can be improved.\n",
    "\n",
    "It is also possible to note a good conversion of the transition from the offer screen `OffersScreenAppear` to the cart screen `CartScreenAppear` (about ***21 percent*** of users drop off). Most likely, the reasons for the outflow are related to the fact that the user did not find what he needed or did not like the products in general.\n",
    "\n",
    "Another thing to note is the good conversion rate of the purchase `PaymentScreenSuccessful` from the cart screen `CartScreenAppear` (about ***6 percent*** churn), which shows the good work of the payment service. A small churn may be due to the fact that the user may have changed his mind about buying the product.\n",
    "\n",
    "Let's also calculate the overall conversion of users who have completed the entire path from the main screen to purchasing `PaymentScreenSuccessful`, on those who have at least once landed on `MainScreenAppear`.\n"
   ]
  },
  {
   "cell_type": "code",
   "metadata": {},
   "source": "print(\"Share of users who made a purchase: {:.1f}%\".format(np.round(100 * len(payment_events) / len(main_events), 2)))",
   "outputs": [],
   "execution_count": null
  },
  {
   "cell_type": "markdown",
   "metadata": {},
   "source": [
    "From the conversion and dynamics data, we see that the share of the total loss of potential customers who made at least 1 purchase from those who visited the application at least once is ***about 54.3%***, so there are growth points for increasing revenue.\n",
    "\n",
    "***Conclusion:***\n",
    "\n",
    "Based on the conversion data, the following conclusions were made:\n",
    "- the overall conversion rate to purchase among users who opened the application is ***45.7%***;\n",
    "- <u>low</u> conversion per step from the main screen to the application screen was calculated - ***60.0%***;\n",
    "- the conversion rate per step from the application screen to the cart was calculated - ***79.5%***;\n",
    "- a <u>high</u> conversion rate into purchase was calculated among users who opened the cart - ***95.7%***;\n"
   ]
  },
  {
   "cell_type": "markdown",
   "metadata": {},
   "source": [
    "### Study of user conversion per step with breakdown of non-users who viewed/did not view the tutorial\n"
   ]
  },
  {
   "cell_type": "markdown",
   "metadata": {},
   "source": [
    "Let's do the same calculations, but only break it down into those users who viewed the tutorial page `Tutorial` and those who did not, to see whether familiarization with the application affects the quality of its use.\n",
    "\n",
    "As we have already calculated, only ***11% of users*** studied the tutorial, which indicates that this step is optional.\n",
    "\n",
    "Now let's study the impact of tutorial review on step conversion.\n"
   ]
  },
  {
   "cell_type": "code",
   "metadata": {},
   "source": [
    "main_events_with_tut = main_events[main_events.events.str.contains('Tutorial')]\n",
    "offers_events_with_tut = offers_events[offers_events.events.str.contains('Tutorial')]\n",
    "cart_events_with_tut = cart_events[cart_events.events.str.contains('Tutorial')]\n",
    "payment_events_with_tut = payment_events[payment_events.events.str.contains('Tutorial')]\n",
    "\n",
    "main_events_no_tut = main_events[~main_events.events.str.contains('Tutorial')]\n",
    "offers_events_no_tut = offers_events[~offers_events.events.str.contains('Tutorial')]\n",
    "cart_events_no_tut = cart_events[~cart_events.events.str.contains('Tutorial')]\n",
    "payment_events_no_tut = payment_events[~payment_events.events.str.contains('Tutorial')]"
   ],
   "outputs": [],
   "execution_count": null
  },
  {
   "cell_type": "code",
   "metadata": {},
   "source": [
    "print(\"Users who went through the tutorial and:\")\n",
    "print(\"- opened the main screen:\\t\", len(main_events_with_tut))\n",
    "print(\"- opened the offers screen:\\t\", len(offers_events_with_tut))\n",
    "print(\"- opened the cart:\\t\\t\", len(cart_events_with_tut))\n",
    "print(\"- made a purchase:\\t\\t\", len(payment_events_with_tut))\n",
    "print()\n",
    "print(\"Users who did NOT go through the tutorial and:\")\n",
    "print(\"- opened the main screen:\\t\", len(main_events_no_tut))\n",
    "print(\"- opened the offers screen:\\t\", len(offers_events_no_tut))\n",
    "print(\"- opened the cart:\\t\\t\", len(cart_events_no_tut))\n",
    "print(\"- made a purchase:\\t\\t\", len(payment_events_no_tut))"
   ],
   "outputs": [],
   "execution_count": null
  },
  {
   "cell_type": "markdown",
   "metadata": {},
   "source": [
    "Let's repeat the calculation of the conversion per step that we did earlier, only breaking it down into the fact of studying the tutorial.\n"
   ]
  },
  {
   "cell_type": "code",
   "metadata": {},
   "source": [
    "funnel_tut = pd.DataFrame(\n",
    "    data={\n",
    "    'with_tutorial': [\n",
    "        len(offers_events_with_tut) / len(main_events_with_tut),\n",
    "        len(cart_events_with_tut) / len(offers_events_with_tut),\n",
    "        len(payment_events_with_tut) / len(cart_events_with_tut),\n",
    "    ],\n",
    "    'no_tutorial': [\n",
    "        len(offers_events_no_tut) / len(main_events_no_tut),\n",
    "        len(cart_events_no_tut) / len(offers_events_no_tut),\n",
    "        len(payment_events_no_tut) / len(cart_events_no_tut),\n",
    "    ]}, \n",
    "    index=['OffersScreenAppear', 'CartScreenAppear', 'PaymentScreenSuccessful']\n",
    ")\n",
    "funnel_tut['diff'] = funnel_tut['with_tutorial'] - funnel_tut['no_tutorial'] \n",
    "funnel_tut.style.format('{:.2%}'.format)"
   ],
   "outputs": [],
   "execution_count": null
  },
  {
   "cell_type": "markdown",
   "metadata": {},
   "source": [
    "From the numbers you can see:\n",
    "- ***18.66% difference in conversion per step*** from the main screen `MainScreenAppear` to the application screen `OffersScreenAppear`, among those who studied the tutorial and did not;\n",
    "- ***2.88% difference in conversion per step*** from the `OffersScreenAppear` offer screen to the `CartScreenAppear` cart screen.\n",
    "\n",
    "However, it can be noted that the ***conversion to the purchase step from the basket*** for users who did not study the tutorial ***is higher by 9.75%***. The nature of this figure is difficult to explain, perhaps a larger sample of users who went to the tutorial is needed.\n",
    "\n",
    "Let's compare the overall conversion to purchases among users who have opened the application at least once.\n"
   ]
  },
  {
   "cell_type": "code",
   "metadata": {},
   "source": [
    "conv_with_tut = len(payment_events_with_tut) / len(main_events_with_tut)\n",
    "conv_no_tut = len(payment_events_no_tut) / len(main_events_no_tut)\n",
    "print(\"Share of users who made a purchase and completed the tutorial: \\t\\t{:.1%}\".format(conv_with_tut))\n",
    "print(\"Share of users who made a purchase and did NOT complete the tutorial:\\t{:.1%}\".format(conv_no_tut))\n",
    "print(\"Difference:\\t{:.1%}\".format(conv_with_tut - conv_no_tut))"
   ],
   "outputs": [],
   "execution_count": null
  },
  {
   "cell_type": "markdown",
   "metadata": {},
   "source": [
    "Notice the big difference of ***10.4%*** in conversion to purchase among those who studied the tutorial.\n"
   ]
  },
  {
   "cell_type": "markdown",
   "metadata": {},
   "source": [
    "***Conclusion:***\n",
    "\n",
    "The point of growth of conversion into steps and into purchases in general can be an increase in views of the tutorial page.\n",
    "The difference in conversion to purchase between those who studied the tutorial and those who did not is ***10.4%***. In particular, this affects the conversion of the transition to the step from the main screen to the application.\n"
   ]
  },
  {
   "cell_type": "markdown",
   "metadata": {},
   "source": [
    "### Conclusion on funnel analysis\n",
    "\n",
    "Based on the funnel analysis, the following conclusions can be drawn:\n",
    "\n",
    "- A sequence of funnel steps was found that leads from the main screen to the purchase:\n",
    "1. `MainScreenAppear` - appearance of the main application screen;\n",
    "2. `OffersScreenAppear` - page with product selection;\n",
    "3. `CartScreenAppear` - cart page with selected products;\n",
    "4. `PaymentScreenSuccessful` - page of successful payment for the order.\n",
    "- Based on the number of clicks on the `Tutorial` page, this step is optional;\n",
    "- Users were found who had a rather abnormal funnel (for the conversion of transitions to steps, only users who did not jump over screens were taken into account);\n",
    "- the overall conversion rate to purchase `PaymentScreenSuccessful` among users who opened the `MainScreenAppear` application is ***45.9%***;\n",
    "- <u>low</u> conversion per step from the main screen `MainScreenAppear` to the offer screen `OffersScreenAppear` was calculated - ***60%***;\n",
    "- the conversion rate per step from the offer screen `OffersScreenAppear` to the cart `CartScreenAppear` has been calculated - ***79.5%***;\n",
    "- <u>high</u> conversion to purchase `PaymentScreenSuccessful` among users who opened the `CartScreenAppear` cart was calculated - ***95.5%***;\n",
    "\n",
    "The growth point can be an increase in conversion in the step of transition from the main screen to the offer. This can be done by increasing the conversion of users who have studied the tutorial.\n",
    "- The difference in conversion per step from the main screen `MainScreenAppear` to the offer page `OffersScreenAppear` between those who studied the `Tutorial` tutorial and those who did not is ***18.66%***;\n",
    "- The difference in overall conversion to purchase among those who studied the tutorial and those who did not is ***10.4%***.\n"
   ]
  },
  {
   "cell_type": "markdown",
   "metadata": {},
   "source": [
    "## Analysis of A/B test results\n"
   ]
  },
  {
   "cell_type": "markdown",
   "metadata": {},
   "source": [
    "### Distribution of users by experimental groups\n",
    "\n",
    "Let's remove the 'Tutorial' event from the data first, since it is not included in the overall funnel of steps from the main screen to a successful purchase.\n"
   ]
  },
  {
   "cell_type": "code",
   "metadata": {},
   "source": [
    "data = data[data.event_name != 'Tutorial']"
   ],
   "outputs": [],
   "execution_count": null
  },
  {
   "cell_type": "markdown",
   "metadata": {},
   "source": [
    "\n",
    "As we have studied before, events and users are distributed evenly across experimental groups. No overlaps of user groups were found either.\n"
   ]
  },
  {
   "cell_type": "code",
   "metadata": {},
   "source": [
    "group_counts = data.groupby('group').agg({'event_name': 'count', 'user_id': 'nunique'})\n",
    "group_counts = group_counts.rename(columns={'event_name': 'events', 'user_id': 'users'})\n",
    "group_counts"
   ],
   "outputs": [],
   "execution_count": null
  },
  {
   "cell_type": "markdown",
   "metadata": {},
   "source": [
    "### A/A test. Shares of users who performed a specific event\n",
    "\n",
    "Let's count the number of users who performed each type of action in the two control groups.\n"
   ]
  },
  {
   "cell_type": "code",
   "metadata": {},
   "source": [
    "group_users = pd.pivot_table(data, index='event_name', columns='group', values='user_id', aggfunc='nunique', margins=True)\n",
    "group_users = group_users.drop('All', axis=1)\n",
    "group_users_control = group_users.copy().drop('B', axis=1)\n",
    "group_users_control"
   ],
   "outputs": [],
   "execution_count": null
  },
  {
   "cell_type": "markdown",
   "metadata": {},
   "source": [
    "The most popular event is the opening of the main screen `MainScreenAppear`.\n",
    "\n",
    "Let's calculate the proportion of users who performed the `MainScreenAppear` event in each of the control groups.\n"
   ]
  },
  {
   "cell_type": "code",
   "metadata": {},
   "source": [
    "share1 = group_users_control.loc['MainScreenAppear', 'A1'] / group_users_control.loc['All', 'A1']\n",
    "share2 = group_users_control.loc['MainScreenAppear', 'A2'] / group_users_control.loc['All', 'A2']\n",
    "\n",
    "print(\"Share of users from A1 who performed the 'MainScreenAppear' event: {:.2%}\".format(share1))\n",
    "print(\"Share of users from A2 who performed the 'MainScreenAppear' event: {:.2%}\".format(share2))\n",
    "print(\"Difference in share of users between groups A1 and A2: {:.2%}\".format(share1 - share2))"
   ],
   "outputs": [],
   "execution_count": null
  },
  {
   "cell_type": "markdown",
   "metadata": {},
   "source": [
    "The difference between the two control groups is small, but it cannot yet be said that the difference is not statistically significant.\n",
    "\n",
    "Let's check the hypothesis of equality of shares, where:\n",
    "- H0 - there is ***NO significant difference*** between the shares of users who performed the `MainScreenAppear` event;\n",
    "- H1 - there is ***a significant difference*** between the shares of users who performed the `MainScreenAppear` event.\n",
    "\n",
    "Let's write a function that will calculate the pvalue.\n"
   ]
  },
  {
   "cell_type": "code",
   "metadata": {},
   "source": [
    "def check_hypothesyis(data, columns1, column2, event_name):\n",
    "    successes = data.loc[event_name, [columns1, column2]].to_numpy()\n",
    "    trials = data.loc['All', [columns1, column2]].to_numpy()\n",
    "\n",
    "    p1 = successes[0] / trials[0]  # proportion of successes in the first group\n",
    "    p2 = successes[1] / trials[1]  # proportion of successes in the second group\n",
    "\n",
    "    # proportion of successes in the combined dataset:\n",
    "    p_combined = (successes[0] + successes[1]) / (trials[0] + trials[1])\n",
    "    difference = p1 - p2  # difference in proportions between the datasets\n",
    "\n",
    "    # calculate the z-score in standard deviations of the standard normal distribution\n",
    "    z_value = difference / mth.sqrt(p_combined * (1 - p_combined) * (1/trials[0] + 1/trials[1]))\n",
    "\n",
    "    # define the standard normal distribution (mean 0, std deviation 1)\n",
    "    distr = st.norm(0, 1)\n",
    "    pvalue = (1 - distr.cdf(abs(z_value))) * 2\n",
    "\n",
    "    return pvalue\n"
   ],
   "outputs": [],
   "execution_count": null
  },
  {
   "cell_type": "markdown",
   "metadata": {},
   "source": [
    "We will specify the level of statistical significance for the hypotheses as ***0.05***, since leaving a 5% probability that the null hypothesis will be erroneously rejected is a generally accepted indicator.\n"
   ]
  },
  {
   "cell_type": "code",
   "metadata": {},
   "source": [
    "alpha = 0.05"
   ],
   "outputs": [],
   "execution_count": null
  },
  {
   "cell_type": "code",
   "metadata": {},
   "source": [
    "def hypothesis_conclusion(pvalue, alpha):\n",
    "    if pvalue > alpha:\n",
    "        return \"Failed to reject the first hypothesis, no evidence to suggest the proportions are different\"\n",
    "    else:\n",
    "        return \"Reject the first hypothesis: there is a significant difference between the proportions\""
   ],
   "outputs": [],
   "execution_count": null
  },
  {
   "cell_type": "code",
   "metadata": {},
   "source": [
    "pvalue = check_hypothesyis(group_users, 'A1', 'A2', 'MainScreenAppear')\n",
    "print(\"pvalue: {:.4f}\".format(pvalue))\n",
    "print(hypothesis_conclusion(pvalue, alpha))"
   ],
   "outputs": [],
   "execution_count": null
  },
  {
   "cell_type": "markdown",
   "metadata": {},
   "source": [
    "As it turns out from the results, there is ***NO reason to believe that the difference of 0.14% is significant*** to reject the null hypothesis. Therefore, it can be said that users were distributed evenly across the control groups by this criterion.\n",
    "\n",
    "Let's now calculate the shares of users who performed each of the events.\n"
   ]
  },
  {
   "cell_type": "code",
   "metadata": {},
   "source": [
    "def perc_format(columns):\n",
    "    return dict((x, '{:.2%}'.format) for x in columns)"
   ],
   "outputs": [],
   "execution_count": null
  },
  {
   "cell_type": "code",
   "metadata": {},
   "source": [
    "group_users_control_share = group_users.div(group_users_control.loc['All'], axis=1)\n",
    "group_users_control_share.drop(['All'], axis=0, inplace=True)\n",
    "group_users_control_share.drop(['B'], axis=1, inplace=True)\n",
    "group_users_control_share['diff'] = group_users_control_share['A1'] - group_users_control_share['A2']\n",
    "group_users_control_share.style.format(perc_format(group_users_control_share.columns))"
   ],
   "outputs": [],
   "execution_count": null
  },
  {
   "cell_type": "markdown",
   "metadata": {},
   "source": [
    "The largest difference in proportions between the two control groups is ***1.59%*** for the `PaymentScreenSuccessful` purchase event. However, there is no reason to assume that the difference is statistically significant. Accordingly, similar hypotheses should be made.\n",
    "\n",
    "Let's test several hypotheses about the equality of the shares of users who performed the events `CartScreenAppear`, `MainScreenAppear`, `OffersScreenAppear`, `PaymentScreenSuccessful`, `Tutorial` where:\n",
    "- H0 - there is ***NO significant difference*** between the proportions of users in the control groups;\n",
    "- H1 - there is ***a significant difference*** between the proportions of users in the control groups.\n"
   ]
  },
  {
   "cell_type": "code",
   "metadata": {},
   "source": [
    "pd.options.display.max_colwidth = 600\n",
    "def pvalue_color_builder(alpha):\n",
    "    def pvalue_color(val):\n",
    "        color = 'pink' if val < alpha else 'lightgreen'\n",
    "        return 'background-color: %s' % color\n",
    "    return pvalue_color\n",
    "\n",
    "def pvalue_format(columns):\n",
    "    return dict((x, '{:.4f}'.format) for x in columns)"
   ],
   "outputs": [],
   "execution_count": null
  },
  {
   "cell_type": "code",
   "metadata": {},
   "source": [
    "event_names = group_users_control.drop('All').index.to_series()\n",
    "\n",
    "group_users_control_share['pvalue'] = event_names.apply(lambda x: check_hypothesyis(group_users_control, 'A1', 'A2', x))\n",
    "group_users_control_share['conclusion'] = group_users_control_share.apply(lambda x: hypothesis_conclusion(x.pvalue, alpha), axis=1)\n",
    "group_users_control_share.style.applymap(pvalue_color_builder(alpha), subset=pd.IndexSlice[:, ['pvalue']]).format(perc_format(['A1', 'A2', 'diff'])).format(pvalue_format(['pvalue']))"
   ],
   "outputs": [],
   "execution_count": null
  },
  {
   "cell_type": "markdown",
   "metadata": {},
   "source": [
    "***Conclusion:***\n",
    "\n",
    "Based on these findings, it can be concluded that for each event, the proportion of users who committed them does not differ.\n"
   ]
  },
  {
   "cell_type": "markdown",
   "metadata": {},
   "source": [
    "### A/B test. Shares of users who performed a specific event\n"
   ]
  },
  {
   "cell_type": "markdown",
   "metadata": {},
   "source": [
    "Let's now run an A/B test comparing the control group with the experimental group, where we changed the fonts.\n",
    "We will make a multiple hypothesis, where we will check the significance of the difference in the proportion of users who performed a specific event:\n",
    "- between the control `A1` and experimental `B` groups;\n",
    "- between the control `A2` and experimental `B` groups;\n",
    "- between the combined control `A12` and experimental `B` groups;\n"
   ]
  },
  {
   "cell_type": "markdown",
   "metadata": {},
   "source": [
    "Let's output the number of users who performed a specific event in each control group. We'll also add a combined control group.\n"
   ]
  },
  {
   "cell_type": "code",
   "metadata": {},
   "source": [
    "group_users['A12'] = group_users['A1'] + group_users['A2']\n",
    "group_users = group_users.reindex(['A1', 'A2', 'A12', 'B'], axis=1)\n",
    "group_users"
   ],
   "outputs": [],
   "execution_count": null
  },
  {
   "cell_type": "markdown",
   "metadata": {},
   "source": [
    "Let's calculate the shares of users in each group (`A1`, `A2`, `A12`, `B`) who performed each observed event. We will also derive the difference in the shares of each of the control groups `A1`, `A2`, `A12` with the experimental `B`, as well as between the two control groups `A1`, `A2`.\n"
   ]
  },
  {
   "cell_type": "code",
   "metadata": {},
   "source": [
    "group_users_share = group_users.div(group_users.loc['All'], axis=1)\n",
    "group_users_share.drop(['All'], axis=0, inplace=True)\n",
    "group_users_share['diff_A1_A2'] = group_users_share['A1'] - group_users_share['A2']\n",
    "group_users_share['diff_A1_B'] = group_users_share['A1'] - group_users_share['B']\n",
    "group_users_share['diff_A2_B'] = group_users_share['A2'] - group_users_share['B']\n",
    "group_users_share['diff_A12_B'] = group_users_share['A12'] - group_users_share['B']\n",
    "group_users_share.style.format(perc_format(group_users_share.columns))"
   ],
   "outputs": [],
   "execution_count": null
  },
  {
   "cell_type": "markdown",
   "metadata": {},
   "source": [
    "We can see that in almost all cases, the control groups have better indicators. But this does not mean that the difference is significant.\n",
    "\n",
    "Let's test several hypotheses about the equality of the shares of users who performed the events `CartScreenAppear`, `MainScreenAppear`, `OffersScreenAppear`, `PaymentScreenSuccessful` where:\n",
    "- H0 - between the proportions of users in the control and experimental groups ***NO significant difference***;\n",
    "- H1 - there is ***a significant difference*** between the proportions of users in the control and experimental groups.\n",
    "\n",
    "We will not include the `Tutorial` events in the tests, since this event is not included in the general funnel.\n",
    "\n",
    "Since we are making a multiple hypothesis, where we test 4 pairs of groups (`A1` and `A2`, `A1` and `B`, `A2` and `B`, `A1`+`A2` and `B`) for 4 key events (16 tests in total), we must adjust the level of statistical significance to ***reduce the group probability of type I error (FWER)***.\n",
    "\n",
    "Let's use it and calculate what the probability of making a type I error (FWER) will be if we leave the significance level equal to 0.05 for each test.\n"
   ]
  },
  {
   "cell_type": "code",
   "metadata": {},
   "source": [
    "print(\"FWER: {:.1%}\".format(1 - pow((1 - alpha), 16)))"
   ],
   "outputs": [],
   "execution_count": null
  },
  {
   "cell_type": "markdown",
   "metadata": {},
   "source": [
    "***56%*** is a very high `FWER`, so we need to make a correction. We will use the Bonferroni method, where we will adjust the significance level by the number of tests.\n"
   ]
  },
  {
   "cell_type": "code",
   "metadata": {},
   "source": [
    "alpha_bonf = alpha / 16\n",
    "alpha_bonf"
   ],
   "outputs": [],
   "execution_count": null
  },
  {
   "cell_type": "markdown",
   "metadata": {},
   "source": [
    "Let's calculate the group error of type I for the adjusted significance level.\n"
   ]
  },
  {
   "cell_type": "code",
   "metadata": {},
   "source": [
    "print(\"FWER: {:.2%}\".format(1 - pow((1 - alpha_bonf), 16)))"
   ],
   "outputs": [],
   "execution_count": null
  },
  {
   "cell_type": "markdown",
   "metadata": {},
   "source": [
    "The Type I error rate is now ***4.88%***, using the Bonferron method to adjust the significance level.\n"
   ]
  },
  {
   "cell_type": "markdown",
   "metadata": {},
   "source": [
    "Now let's calculate the `pvalue` values ​​for each of the tests, taking into account the significance level correction.\n",
    "Let's highlight in green the cells where we cannot reject the `H0` hypothesis about the statistical significance of the difference in proportions.\n"
   ]
  },
  {
   "cell_type": "code",
   "metadata": {},
   "source": [
    "def hypothesis_list_conclusion(pvalues, alpha):\n",
    "    if all([pvalue > alpha for pvalue in pvalues]):\n",
    "        return \"Failed to reject the first hypothesis, no evidence to suggest the proportions are different\"\n",
    "    else:\n",
    "        return \"Reject the first hypothesis: there is a significant difference between the proportions\""
   ],
   "outputs": [],
   "execution_count": null
  },
  {
   "cell_type": "code",
   "metadata": {},
   "source": [
    "group_hypothesis = group_users_share.copy()\n",
    "pvalue_columns = ['pvalue_A1_A2','pvalue_A1_B', 'pvalue_A2_B', 'pvalue_A12_B']\n",
    "color_slice = pd.IndexSlice[:, pvalue_columns]\n",
    "\n",
    "group_hypothesis['pvalue_A1_A2'] = event_names.apply(lambda x: check_hypothesyis(group_users, 'A1', 'A2', x))\n",
    "group_hypothesis['pvalue_A1_B'] = event_names.apply(lambda x: check_hypothesyis(group_users, 'A1', 'B', x))\n",
    "group_hypothesis['pvalue_A2_B'] = event_names.apply(lambda x: check_hypothesyis(group_users, 'A2', 'B', x))\n",
    "group_hypothesis['pvalue_A12_B'] = event_names.apply(lambda x: check_hypothesyis(group_users, 'A12', 'B', x))\n",
    "(\n",
    "    group_hypothesis.style.applymap(pvalue_color_builder(alpha_bonf), subset=color_slice)\n",
    "        .format(perc_format(['A1', 'A2', 'A12', 'B', 'diff_A1_A2', 'diff_A1_B', 'diff_A2_B', 'diff_A12_B']))\n",
    "        .format(pvalue_format(pvalue_columns))\n",
    ")"
   ],
   "outputs": [],
   "execution_count": null
  },
  {
   "cell_type": "markdown",
   "metadata": {},
   "source": [
    "Based on pvalue values, we will draw conclusions based on the test results:\n",
    "- separately for each event;\n",
    "- general conclusion for all tests.\n"
   ]
  },
  {
   "cell_type": "code",
   "metadata": {},
   "source": [
    "conclusions = group_hypothesis.apply(lambda x: hypothesis_list_conclusion(x[pvalue_columns], alpha_bonf), axis=1)\n",
    "conclusions['TOTAL CONCLUSION'] = hypothesis_list_conclusion(group_hypothesis[pvalue_columns].to_numpy().flatten(), alpha_bonf)\n",
    "conclusions = conclusions.rename('conclusion').to_frame()\n",
    "conclusions.style.set_properties(**{'background-color': 'black', 'color': 'white'}, subset=pd.IndexSlice[['TOTAL CONCLUSION'], :])"
   ],
   "outputs": [],
   "execution_count": null
  },
  {
   "cell_type": "markdown",
   "metadata": {},
   "source": [
    "As can be seen, for each of the events, there is no statistical difference between the control and experimental groups.\n",
    "\n",
    "The lowest `pvalue` among 16 tests performed is ***0.0855*** for the test describing the difference in shares of ***2.61%*** between the control `A1` and experimental `B` groups in users who went to the cart page `CartScreenAppear`.\n",
    "\n",
    "As we have already said, ***the probability of a type I error is 4.88%.***\n",
    "\n",
    "Accordingly, it can be argued that changes to the font will not help increase conversions in transitions between screens.\n"
   ]
  },
  {
   "cell_type": "markdown",
   "metadata": {},
   "source": [
    "### Conclusions from the results of A/A and A/B tests\n",
    "\n",
    "Based on the test results, the following conclusions and recommendations can be made:\n",
    "- the distribution of users and events across the three groups was distributed evenly into thirds;\n",
    "- two control groups were pre-tested against each other and no statistical significance was found in the difference in the proportion of users who performed a specific event;\n",
    "- multiple tests were conducted between control and experimental groups and no statistical difference was found in the number of users going to a particular screen;\n",
    "- the test can be stopped and it can be assumed that ***changing fonts*** does not lead to an increase in conversion into clicks on screens and purchases.\n"
   ]
  }
 ],
 "metadata": {
  "ExecuteTimeLog": [
   {
    "duration": 65,
    "start_time": "2024-08-24T11:26:18.888Z"
   },
   {
    "duration": 6,
    "start_time": "2024-08-24T11:26:23.409Z"
   },
   {
    "duration": 389,
    "start_time": "2024-08-24T11:26:26.343Z"
   },
   {
    "duration": 841,
    "start_time": "2024-08-24T11:26:27.455Z"
   },
   {
    "duration": 14,
    "start_time": "2024-08-24T11:26:33.276Z"
   },
   {
    "duration": 329,
    "start_time": "2024-08-24T11:26:43.390Z"
   },
   {
    "duration": 6,
    "start_time": "2024-08-24T11:26:44.416Z"
   },
   {
    "duration": 317,
    "start_time": "2024-08-24T11:26:46.399Z"
   },
   {
    "duration": 6,
    "start_time": "2024-08-24T11:26:47.811Z"
   },
   {
    "duration": 182,
    "start_time": "2024-08-24T11:27:13.309Z"
   },
   {
    "duration": 7,
    "start_time": "2024-08-24T11:27:14.517Z"
   },
   {
    "duration": 183,
    "start_time": "2024-08-24T11:28:09.563Z"
   },
   {
    "duration": 8,
    "start_time": "2024-08-24T11:28:10.724Z"
   },
   {
    "duration": 67,
    "start_time": "2024-08-24T11:30:36.422Z"
   },
   {
    "duration": 23,
    "start_time": "2024-08-24T11:31:03.661Z"
   },
   {
    "duration": 3,
    "start_time": "2024-08-24T11:38:38.584Z"
   },
   {
    "duration": 3,
    "start_time": "2024-08-24T11:41:35.596Z"
   },
   {
    "duration": 25,
    "start_time": "2024-08-24T11:41:41.000Z"
   },
   {
    "duration": 8,
    "start_time": "2024-08-24T11:41:48.930Z"
   },
   {
    "duration": 8,
    "start_time": "2024-08-24T11:43:00.731Z"
   },
   {
    "duration": 21,
    "start_time": "2024-08-24T11:43:53.776Z"
   },
   {
    "duration": 21,
    "start_time": "2024-08-24T11:44:01.452Z"
   },
   {
    "duration": 116,
    "start_time": "2024-08-24T11:45:32.066Z"
   },
   {
    "duration": 30,
    "start_time": "2024-08-24T11:46:34.237Z"
   },
   {
    "duration": 26,
    "start_time": "2024-08-24T11:46:38.728Z"
   },
   {
    "duration": 25,
    "start_time": "2024-08-24T11:46:45.248Z"
   },
   {
    "duration": 17,
    "start_time": "2024-08-24T11:47:29.631Z"
   },
   {
    "duration": 14,
    "start_time": "2024-08-24T11:49:43.162Z"
   },
   {
    "duration": 5,
    "start_time": "2024-08-24T11:50:29.712Z"
   },
   {
    "duration": 72,
    "start_time": "2024-08-24T11:51:29.637Z"
   },
   {
    "duration": 58,
    "start_time": "2024-08-24T11:51:33.484Z"
   },
   {
    "duration": 80,
    "start_time": "2024-08-24T11:51:38.638Z"
   },
   {
    "duration": 74,
    "start_time": "2024-08-24T11:52:21.738Z"
   },
   {
    "duration": 70,
    "start_time": "2024-08-24T11:55:47.414Z"
   },
   {
    "duration": 62,
    "start_time": "2024-08-24T11:56:22.011Z"
   },
   {
    "duration": 98,
    "start_time": "2024-08-24T11:56:29.786Z"
   },
   {
    "duration": 4,
    "start_time": "2024-08-24T11:56:39.315Z"
   },
   {
    "duration": 4,
    "start_time": "2024-08-24T11:57:10.347Z"
   },
   {
    "duration": 58,
    "start_time": "2024-08-24T11:59:40.118Z"
   },
   {
    "duration": 57,
    "start_time": "2024-08-24T11:59:56.261Z"
   },
   {
    "duration": 57,
    "start_time": "2024-08-24T12:00:01.037Z"
   },
   {
    "duration": 56,
    "start_time": "2024-08-24T12:00:03.551Z"
   },
   {
    "duration": 79,
    "start_time": "2024-08-24T12:00:25.901Z"
   },
   {
    "duration": 53,
    "start_time": "2024-08-24T12:00:31.881Z"
   },
   {
    "duration": 59,
    "start_time": "2024-08-24T12:07:06.853Z"
   },
   {
    "duration": 4,
    "start_time": "2024-08-24T12:09:00.774Z"
   },
   {
    "duration": 8,
    "start_time": "2024-08-24T12:09:01.965Z"
   },
   {
    "duration": 19,
    "start_time": "2024-08-24T12:09:06.265Z"
   },
   {
    "duration": 55,
    "start_time": "2024-08-24T12:09:11.750Z"
   },
   {
    "duration": 9,
    "start_time": "2024-08-24T12:13:25.858Z"
   },
   {
    "duration": 23,
    "start_time": "2024-08-24T12:13:34.340Z"
   },
   {
    "duration": 20,
    "start_time": "2024-08-24T12:14:04.521Z"
   },
   {
    "duration": 5,
    "start_time": "2024-08-24T12:14:35.984Z"
   },
   {
    "duration": 4,
    "start_time": "2024-08-24T12:14:44.689Z"
   },
   {
    "duration": 4,
    "start_time": "2024-08-24T12:14:55.743Z"
   },
   {
    "duration": 3,
    "start_time": "2024-08-24T12:15:52.781Z"
   },
   {
    "duration": 3,
    "start_time": "2024-08-24T12:19:04.378Z"
   },
   {
    "duration": 53,
    "start_time": "2024-08-24T12:19:26.999Z"
   },
   {
    "duration": 27,
    "start_time": "2024-08-24T12:19:34.198Z"
   },
   {
    "duration": 82,
    "start_time": "2024-08-24T12:19:47.519Z"
   },
   {
    "duration": 16,
    "start_time": "2024-08-24T12:23:30.985Z"
   },
   {
    "duration": 74,
    "start_time": "2024-08-24T12:27:09.706Z"
   },
   {
    "duration": 5,
    "start_time": "2024-08-24T12:27:29.585Z"
   },
   {
    "duration": 20,
    "start_time": "2024-08-24T12:28:04.342Z"
   },
   {
    "duration": 66,
    "start_time": "2024-08-24T12:28:26.886Z"
   },
   {
    "duration": 37,
    "start_time": "2024-08-24T12:29:09.918Z"
   },
   {
    "duration": 35,
    "start_time": "2024-08-24T12:29:12.721Z"
   },
   {
    "duration": 35,
    "start_time": "2024-08-24T12:29:24.265Z"
   },
   {
    "duration": 33,
    "start_time": "2024-08-24T12:29:52.485Z"
   },
   {
    "duration": 43,
    "start_time": "2024-08-24T12:29:56.002Z"
   },
   {
    "duration": 3,
    "start_time": "2024-08-24T12:30:17.927Z"
   },
   {
    "duration": 35,
    "start_time": "2024-08-24T12:30:24.494Z"
   },
   {
    "duration": 37,
    "start_time": "2024-08-24T12:32:11.894Z"
   },
   {
    "duration": 87,
    "start_time": "2024-08-24T12:33:20.669Z"
   },
   {
    "duration": 66,
    "start_time": "2024-08-24T12:33:29.432Z"
   },
   {
    "duration": 65,
    "start_time": "2024-08-24T12:33:40.814Z"
   },
   {
    "duration": 68,
    "start_time": "2024-08-24T12:33:48.868Z"
   },
   {
    "duration": 40,
    "start_time": "2024-08-24T12:33:58.808Z"
   },
   {
    "duration": 4,
    "start_time": "2024-08-24T12:34:07.156Z"
   },
   {
    "duration": 50,
    "start_time": "2024-08-24T12:34:09.725Z"
   },
   {
    "duration": 36,
    "start_time": "2024-08-24T12:34:18.242Z"
   },
   {
    "duration": 41,
    "start_time": "2024-08-24T12:36:49.958Z"
   },
   {
    "duration": 38,
    "start_time": "2024-08-24T12:37:03.708Z"
   },
   {
    "duration": 40,
    "start_time": "2024-08-24T12:37:08.367Z"
   },
   {
    "duration": 42,
    "start_time": "2024-08-24T12:37:11.057Z"
   },
   {
    "duration": 42,
    "start_time": "2024-08-24T12:37:13.364Z"
   },
   {
    "duration": 39,
    "start_time": "2024-08-24T12:37:17.480Z"
   },
   {
    "duration": 38,
    "start_time": "2024-08-24T12:37:20.539Z"
   },
   {
    "duration": 42,
    "start_time": "2024-08-24T12:37:30.087Z"
   },
   {
    "duration": 40,
    "start_time": "2024-08-24T12:37:40.657Z"
   },
   {
    "duration": 559,
    "start_time": "2024-08-24T12:39:45.044Z"
   },
   {
    "duration": 1064,
    "start_time": "2024-08-24T12:40:13.009Z"
   },
   {
    "duration": 1090,
    "start_time": "2024-08-24T12:40:25.860Z"
   },
   {
    "duration": 689,
    "start_time": "2024-08-24T12:44:34.900Z"
   },
   {
    "duration": 206,
    "start_time": "2024-08-24T12:44:48.705Z"
   },
   {
    "duration": 219,
    "start_time": "2024-08-24T12:44:54.670Z"
   },
   {
    "duration": 212,
    "start_time": "2024-08-24T12:45:06.133Z"
   },
   {
    "duration": 23,
    "start_time": "2024-08-24T12:45:40.435Z"
   },
   {
    "duration": 12,
    "start_time": "2024-08-24T12:45:47.069Z"
   },
   {
    "duration": 148,
    "start_time": "2024-08-24T12:45:51.430Z"
   },
   {
    "duration": 230,
    "start_time": "2024-08-24T12:45:57.721Z"
   },
   {
    "duration": 229,
    "start_time": "2024-08-24T12:46:20.669Z"
   },
   {
    "duration": 112,
    "start_time": "2024-08-24T12:47:03.858Z"
   },
   {
    "duration": 329,
    "start_time": "2024-08-24T12:47:15.936Z"
   },
   {
    "duration": 263,
    "start_time": "2024-08-24T12:47:29.567Z"
   },
   {
    "duration": 275,
    "start_time": "2024-08-24T12:48:21.675Z"
   },
   {
    "duration": 282,
    "start_time": "2024-08-24T12:48:29.290Z"
   },
   {
    "duration": 260,
    "start_time": "2024-08-24T12:49:11.309Z"
   },
   {
    "duration": 273,
    "start_time": "2024-08-24T12:49:18.615Z"
   },
   {
    "duration": 275,
    "start_time": "2024-08-24T12:49:31.897Z"
   },
   {
    "duration": 68,
    "start_time": "2024-08-24T12:50:26.248Z"
   },
   {
    "duration": 293,
    "start_time": "2024-08-24T12:50:31.660Z"
   },
   {
    "duration": 311,
    "start_time": "2024-08-24T12:50:42.736Z"
   },
   {
    "duration": 291,
    "start_time": "2024-08-24T12:51:21.733Z"
   },
   {
    "duration": 3,
    "start_time": "2024-08-24T12:51:43.086Z"
   },
   {
    "duration": 301,
    "start_time": "2024-08-24T12:51:56.666Z"
   },
   {
    "duration": 9,
    "start_time": "2024-08-24T12:52:06.138Z"
   },
   {
    "duration": 397,
    "start_time": "2024-08-24T12:52:08.504Z"
   },
   {
    "duration": 291,
    "start_time": "2024-08-24T12:52:25.633Z"
   },
   {
    "duration": 281,
    "start_time": "2024-08-24T12:52:55.047Z"
   },
   {
    "duration": 315,
    "start_time": "2024-08-24T12:53:01.361Z"
   },
   {
    "duration": 257,
    "start_time": "2024-08-24T12:53:33.876Z"
   },
   {
    "duration": 239,
    "start_time": "2024-08-24T12:53:44.464Z"
   },
   {
    "duration": 237,
    "start_time": "2024-08-24T12:53:52.183Z"
   },
   {
    "duration": 236,
    "start_time": "2024-08-24T12:54:21.781Z"
   },
   {
    "duration": 240,
    "start_time": "2024-08-24T12:54:26.215Z"
   },
   {
    "duration": 264,
    "start_time": "2024-08-24T12:54:39.370Z"
   },
   {
    "duration": 238,
    "start_time": "2024-08-24T12:55:11.334Z"
   },
   {
    "duration": 335,
    "start_time": "2024-08-24T12:55:21.939Z"
   },
   {
    "duration": 238,
    "start_time": "2024-08-24T12:55:27.655Z"
   },
   {
    "duration": 236,
    "start_time": "2024-08-24T12:55:39.050Z"
   },
   {
    "duration": 251,
    "start_time": "2024-08-24T12:56:04.762Z"
   },
   {
    "duration": 239,
    "start_time": "2024-08-24T12:56:26.887Z"
   },
   {
    "duration": 247,
    "start_time": "2024-08-24T12:56:36.841Z"
   },
   {
    "duration": 247,
    "start_time": "2024-08-24T12:56:49.338Z"
   },
   {
    "duration": 7,
    "start_time": "2024-08-24T12:57:07.914Z"
   },
   {
    "duration": 38,
    "start_time": "2024-08-24T12:57:43.918Z"
   },
   {
    "duration": 27,
    "start_time": "2024-08-24T12:57:52.344Z"
   },
   {
    "duration": 234,
    "start_time": "2024-08-24T12:57:57.838Z"
   },
   {
    "duration": 258,
    "start_time": "2024-08-24T12:58:08.122Z"
   },
   {
    "duration": 268,
    "start_time": "2024-08-24T12:59:28.297Z"
   },
   {
    "duration": 310,
    "start_time": "2024-08-24T12:59:45.218Z"
   },
   {
    "duration": 396,
    "start_time": "2024-08-24T12:59:58.029Z"
   },
   {
    "duration": 277,
    "start_time": "2024-08-24T13:00:13.838Z"
   },
   {
    "duration": 297,
    "start_time": "2024-08-24T13:00:24.204Z"
   },
   {
    "duration": 287,
    "start_time": "2024-08-24T13:00:36.186Z"
   },
   {
    "duration": 277,
    "start_time": "2024-08-24T13:00:40.190Z"
   },
   {
    "duration": 283,
    "start_time": "2024-08-24T13:00:43.670Z"
   },
   {
    "duration": 291,
    "start_time": "2024-08-24T13:00:54.902Z"
   },
   {
    "duration": 291,
    "start_time": "2024-08-24T13:00:58.080Z"
   },
   {
    "duration": 300,
    "start_time": "2024-08-24T13:01:01.370Z"
   },
   {
    "duration": 298,
    "start_time": "2024-08-24T13:01:06.399Z"
   },
   {
    "duration": 307,
    "start_time": "2024-08-24T13:01:09.739Z"
   },
   {
    "duration": 395,
    "start_time": "2024-08-24T13:01:37.851Z"
   },
   {
    "duration": 273,
    "start_time": "2024-08-24T13:02:12.006Z"
   },
   {
    "duration": 27,
    "start_time": "2024-08-24T13:05:16.787Z"
   },
   {
    "duration": 24,
    "start_time": "2024-08-24T13:06:12.220Z"
   },
   {
    "duration": 9,
    "start_time": "2024-08-24T13:06:58.028Z"
   },
   {
    "duration": 98,
    "start_time": "2024-08-24T13:07:03.593Z"
   },
   {
    "duration": 68,
    "start_time": "2024-08-24T13:07:13.217Z"
   },
   {
    "duration": 64,
    "start_time": "2024-08-24T13:07:34.660Z"
   },
   {
    "duration": 131,
    "start_time": "2024-08-24T13:08:54.002Z"
   },
   {
    "duration": 11,
    "start_time": "2024-08-24T13:11:45.169Z"
   },
   {
    "duration": 618,
    "start_time": "2024-08-24T13:11:50.330Z"
   },
   {
    "duration": 729,
    "start_time": "2024-08-24T13:12:02.210Z"
   },
   {
    "duration": 45,
    "start_time": "2024-08-25T06:47:19.773Z"
   },
   {
    "duration": 362,
    "start_time": "2024-08-25T06:47:25.161Z"
   },
   {
    "duration": 965,
    "start_time": "2024-08-25T06:47:25.526Z"
   },
   {
    "duration": 14,
    "start_time": "2024-08-25T06:47:26.492Z"
   },
   {
    "duration": 21,
    "start_time": "2024-08-25T06:47:26.508Z"
   },
   {
    "duration": 3,
    "start_time": "2024-08-25T06:47:26.532Z"
   },
   {
    "duration": 8,
    "start_time": "2024-08-25T06:47:26.537Z"
   },
   {
    "duration": 20,
    "start_time": "2024-08-25T06:47:26.546Z"
   },
   {
    "duration": 6,
    "start_time": "2024-08-25T06:47:26.567Z"
   },
   {
    "duration": 99,
    "start_time": "2024-08-25T06:47:26.575Z"
   },
   {
    "duration": 76,
    "start_time": "2024-08-25T06:47:26.676Z"
   },
   {
    "duration": 4,
    "start_time": "2024-08-25T06:47:26.754Z"
   },
   {
    "duration": 65,
    "start_time": "2024-08-25T06:47:26.760Z"
   },
   {
    "duration": 18,
    "start_time": "2024-08-25T06:47:26.827Z"
   },
   {
    "duration": 16,
    "start_time": "2024-08-25T06:47:26.847Z"
   },
   {
    "duration": 38,
    "start_time": "2024-08-25T06:47:26.865Z"
   },
   {
    "duration": 32,
    "start_time": "2024-08-25T06:47:26.904Z"
   },
   {
    "duration": 25,
    "start_time": "2024-08-25T06:47:26.938Z"
   },
   {
    "duration": 37,
    "start_time": "2024-08-25T06:47:26.965Z"
   },
   {
    "duration": 1016,
    "start_time": "2024-08-25T06:47:27.003Z"
   },
   {
    "duration": 647,
    "start_time": "2024-08-25T06:47:28.025Z"
   },
   {
    "duration": 253,
    "start_time": "2024-08-25T06:47:28.674Z"
   },
   {
    "duration": 611,
    "start_time": "2024-08-25T06:47:28.929Z"
   },
   {
    "duration": 1424,
    "start_time": "2024-08-25T06:47:29.542Z"
   },
   {
    "duration": 85,
    "start_time": "2024-08-25T06:47:30.968Z"
   },
   {
    "duration": 1465,
    "start_time": "2024-08-25T06:47:40.673Z"
   },
   {
    "duration": 625,
    "start_time": "2024-08-25T06:48:24.879Z"
   },
   {
    "duration": 728,
    "start_time": "2024-08-25T06:48:41.425Z"
   },
   {
    "duration": 666,
    "start_time": "2024-08-25T06:48:54.904Z"
   },
   {
    "duration": 34,
    "start_time": "2024-08-25T06:51:12.524Z"
   },
   {
    "duration": 583,
    "start_time": "2024-08-25T06:51:16.146Z"
   },
   {
    "duration": 10,
    "start_time": "2024-08-25T06:51:27.443Z"
   },
   {
    "duration": 34,
    "start_time": "2024-08-25T06:51:45.586Z"
   },
   {
    "duration": 9,
    "start_time": "2024-08-25T06:51:46.828Z"
   },
   {
    "duration": 594,
    "start_time": "2024-08-25T06:51:51.916Z"
   },
   {
    "duration": 7,
    "start_time": "2024-08-25T06:54:51.556Z"
   },
   {
    "duration": 49,
    "start_time": "2024-08-25T06:54:54.317Z"
   },
   {
    "duration": 7,
    "start_time": "2024-08-25T06:54:58.323Z"
   },
   {
    "duration": 421,
    "start_time": "2024-08-25T06:55:06.031Z"
   },
   {
    "duration": 213,
    "start_time": "2024-08-25T06:55:22.138Z"
   },
   {
    "duration": 261,
    "start_time": "2024-08-25T06:55:37.146Z"
   },
   {
    "duration": 248,
    "start_time": "2024-08-25T06:55:47.120Z"
   },
   {
    "duration": 245,
    "start_time": "2024-08-25T06:56:26.385Z"
   },
   {
    "duration": 26,
    "start_time": "2024-08-25T06:57:32.660Z"
   },
   {
    "duration": 19,
    "start_time": "2024-08-25T06:58:44.172Z"
   },
   {
    "duration": 31,
    "start_time": "2024-08-25T06:59:18.942Z"
   },
   {
    "duration": 26,
    "start_time": "2024-08-25T06:59:34.096Z"
   },
   {
    "duration": 26,
    "start_time": "2024-08-25T06:59:37.841Z"
   },
   {
    "duration": 3,
    "start_time": "2024-08-25T07:00:19.443Z"
   },
   {
    "duration": 718,
    "start_time": "2024-08-25T07:00:23.562Z"
   },
   {
    "duration": 51,
    "start_time": "2024-08-26T12:30:13.136Z"
   },
   {
    "duration": 821,
    "start_time": "2024-08-26T12:30:20.495Z"
   },
   {
    "duration": 1016,
    "start_time": "2024-08-26T12:30:21.318Z"
   },
   {
    "duration": 11,
    "start_time": "2024-08-26T12:30:22.336Z"
   },
   {
    "duration": 29,
    "start_time": "2024-08-26T12:30:22.349Z"
   },
   {
    "duration": 3,
    "start_time": "2024-08-26T12:30:22.380Z"
   },
   {
    "duration": 11,
    "start_time": "2024-08-26T12:30:22.384Z"
   },
   {
    "duration": 28,
    "start_time": "2024-08-26T12:30:22.396Z"
   },
   {
    "duration": 5,
    "start_time": "2024-08-26T12:30:22.425Z"
   },
   {
    "duration": 94,
    "start_time": "2024-08-26T12:30:22.431Z"
   },
   {
    "duration": 85,
    "start_time": "2024-08-26T12:30:22.528Z"
   },
   {
    "duration": 6,
    "start_time": "2024-08-26T12:30:22.615Z"
   },
   {
    "duration": 80,
    "start_time": "2024-08-26T12:30:22.623Z"
   },
   {
    "duration": 20,
    "start_time": "2024-08-26T12:30:22.704Z"
   },
   {
    "duration": 90,
    "start_time": "2024-08-26T12:30:22.725Z"
   },
   {
    "duration": 40,
    "start_time": "2024-08-26T12:30:22.817Z"
   },
   {
    "duration": 17,
    "start_time": "2024-08-26T12:30:22.859Z"
   },
   {
    "duration": 43,
    "start_time": "2024-08-26T12:30:22.878Z"
   },
   {
    "duration": 38,
    "start_time": "2024-08-26T12:30:22.923Z"
   },
   {
    "duration": 1157,
    "start_time": "2024-08-26T12:30:22.963Z"
   },
   {
    "duration": 282,
    "start_time": "2024-08-26T12:30:24.122Z"
   },
   {
    "duration": 318,
    "start_time": "2024-08-26T12:30:24.406Z"
   },
   {
    "duration": 59,
    "start_time": "2024-08-26T12:30:24.726Z"
   },
   {
    "duration": 270,
    "start_time": "2024-08-26T12:30:24.797Z"
   },
   {
    "duration": 163,
    "start_time": "2024-08-26T12:30:25.070Z"
   },
   {
    "duration": 677,
    "start_time": "2024-08-26T12:30:25.235Z"
   },
   {
    "duration": 1538,
    "start_time": "2024-08-26T12:30:25.915Z"
   },
   {
    "duration": 90,
    "start_time": "2024-08-26T12:30:27.454Z"
   },
   {
    "duration": 165,
    "start_time": "2024-08-26T12:30:32.610Z"
   },
   {
    "duration": 250,
    "start_time": "2024-08-26T12:30:39.913Z"
   },
   {
    "duration": 148,
    "start_time": "2024-08-26T12:30:58.055Z"
   },
   {
    "duration": 160,
    "start_time": "2024-08-26T12:31:14.085Z"
   },
   {
    "duration": 150,
    "start_time": "2024-08-26T12:31:24.704Z"
   },
   {
    "duration": 158,
    "start_time": "2024-08-26T12:31:31.137Z"
   },
   {
    "duration": 158,
    "start_time": "2024-08-26T12:31:40.011Z"
   },
   {
    "duration": 171,
    "start_time": "2024-08-26T12:31:45.173Z"
   },
   {
    "duration": 178,
    "start_time": "2024-08-26T12:31:55.273Z"
   },
   {
    "duration": 172,
    "start_time": "2024-08-26T12:32:35.649Z"
   },
   {
    "duration": 177,
    "start_time": "2024-08-26T12:32:43.083Z"
   },
   {
    "duration": 170,
    "start_time": "2024-08-26T12:32:46.411Z"
   },
   {
    "duration": 8,
    "start_time": "2024-08-26T12:32:57.229Z"
   },
   {
    "duration": 2,
    "start_time": "2024-08-26T12:33:09.351Z"
   },
   {
    "duration": 5,
    "start_time": "2024-08-26T12:33:35.289Z"
   },
   {
    "duration": 4,
    "start_time": "2024-08-26T12:33:53.636Z"
   },
   {
    "duration": 4,
    "start_time": "2024-08-26T12:34:00.729Z"
   },
   {
    "duration": 5,
    "start_time": "2024-08-26T12:34:04.021Z"
   },
   {
    "duration": 5,
    "start_time": "2024-08-26T12:34:06.123Z"
   },
   {
    "duration": 4,
    "start_time": "2024-08-26T12:34:09.474Z"
   },
   {
    "duration": 246,
    "start_time": "2024-08-26T12:35:23.334Z"
   },
   {
    "duration": 241,
    "start_time": "2024-08-26T12:35:30.408Z"
   },
   {
    "duration": 316,
    "start_time": "2024-08-26T12:35:40.862Z"
   },
   {
    "duration": 258,
    "start_time": "2024-08-26T12:35:45.570Z"
   },
   {
    "duration": 256,
    "start_time": "2024-08-26T12:35:49.104Z"
   },
   {
    "duration": 247,
    "start_time": "2024-08-26T12:36:01.458Z"
   },
   {
    "duration": 401,
    "start_time": "2024-08-26T12:36:06.868Z"
   },
   {
    "duration": 304,
    "start_time": "2024-08-26T12:36:09.062Z"
   },
   {
    "duration": 261,
    "start_time": "2024-08-26T12:36:11.948Z"
   },
   {
    "duration": 248,
    "start_time": "2024-08-26T12:36:16.478Z"
   },
   {
    "duration": 265,
    "start_time": "2024-08-26T12:36:50.293Z"
   },
   {
    "duration": 262,
    "start_time": "2024-08-26T12:36:55.811Z"
   },
   {
    "duration": 261,
    "start_time": "2024-08-26T12:36:59.667Z"
   },
   {
    "duration": 269,
    "start_time": "2024-08-26T12:37:04.409Z"
   },
   {
    "duration": 266,
    "start_time": "2024-08-26T12:42:09.687Z"
   },
   {
    "duration": 53,
    "start_time": "2024-08-26T12:42:15.705Z"
   },
   {
    "duration": 262,
    "start_time": "2024-08-26T12:42:16.550Z"
   },
   {
    "duration": 90,
    "start_time": "2024-08-26T12:42:47.692Z"
   },
   {
    "duration": 98,
    "start_time": "2024-08-26T12:42:57.904Z"
   },
   {
    "duration": 263,
    "start_time": "2024-08-26T12:43:09.830Z"
   },
   {
    "duration": 443,
    "start_time": "2024-08-26T12:43:21.117Z"
   },
   {
    "duration": 259,
    "start_time": "2024-08-26T12:44:00.649Z"
   },
   {
    "duration": 17,
    "start_time": "2024-08-26T12:44:34.097Z"
   },
   {
    "duration": 15,
    "start_time": "2024-08-26T12:44:38.563Z"
   },
   {
    "duration": 233,
    "start_time": "2024-08-26T12:45:03.686Z"
   },
   {
    "duration": 226,
    "start_time": "2024-08-26T12:45:20.330Z"
   },
   {
    "duration": 592,
    "start_time": "2024-08-26T12:45:33.417Z"
   },
   {
    "duration": 821,
    "start_time": "2024-08-26T12:45:42.519Z"
   },
   {
    "duration": 513,
    "start_time": "2024-08-26T12:46:01.427Z"
   },
   {
    "duration": 553,
    "start_time": "2024-08-26T12:46:19.962Z"
   },
   {
    "duration": 558,
    "start_time": "2024-08-26T12:46:25.355Z"
   },
   {
    "duration": 666,
    "start_time": "2024-08-26T12:46:39.535Z"
   },
   {
    "duration": 27,
    "start_time": "2024-08-26T12:53:29.144Z"
   },
   {
    "duration": 45,
    "start_time": "2024-08-26T12:53:49.066Z"
   },
   {
    "duration": 41,
    "start_time": "2024-08-26T12:54:05.855Z"
   },
   {
    "duration": 46,
    "start_time": "2024-08-26T12:54:17.706Z"
   },
   {
    "duration": 45,
    "start_time": "2024-08-26T12:54:24.076Z"
   },
   {
    "duration": 45,
    "start_time": "2024-08-26T12:54:28.479Z"
   },
   {
    "duration": 68,
    "start_time": "2024-08-26T12:55:21.122Z"
   },
   {
    "duration": 548,
    "start_time": "2024-08-26T12:56:12.029Z"
   },
   {
    "duration": 539,
    "start_time": "2024-08-26T12:56:29.494Z"
   },
   {
    "duration": 33,
    "start_time": "2024-08-26T12:59:04.147Z"
   },
   {
    "duration": 8,
    "start_time": "2024-08-26T13:01:47.728Z"
   },
   {
    "duration": 36,
    "start_time": "2024-08-26T13:01:50.749Z"
   },
   {
    "duration": 789,
    "start_time": "2024-08-26T13:01:51.961Z"
   },
   {
    "duration": 396,
    "start_time": "2024-08-26T13:01:59.262Z"
   },
   {
    "duration": 597,
    "start_time": "2024-08-26T13:02:12.951Z"
   },
   {
    "duration": 740,
    "start_time": "2024-08-26T13:02:43.413Z"
   },
   {
    "duration": 7,
    "start_time": "2024-08-26T13:04:05.690Z"
   },
   {
    "duration": 6,
    "start_time": "2024-08-26T13:04:22.946Z"
   },
   {
    "duration": 8,
    "start_time": "2024-08-26T13:04:35.671Z"
   },
   {
    "duration": 6,
    "start_time": "2024-08-26T13:04:43.497Z"
   },
   {
    "duration": 11,
    "start_time": "2024-08-26T13:04:47.990Z"
   },
   {
    "duration": 184,
    "start_time": "2024-08-26T13:04:52.667Z"
   },
   {
    "duration": 5,
    "start_time": "2024-08-26T13:04:54.170Z"
   },
   {
    "duration": 10,
    "start_time": "2024-08-26T13:04:55.571Z"
   },
   {
    "duration": 9,
    "start_time": "2024-08-26T13:05:10.627Z"
   },
   {
    "duration": 179,
    "start_time": "2024-08-26T13:05:28.518Z"
   },
   {
    "duration": 10,
    "start_time": "2024-08-26T13:05:34.925Z"
   },
   {
    "duration": 8,
    "start_time": "2024-08-26T13:05:39.084Z"
   },
   {
    "duration": 178,
    "start_time": "2024-08-26T13:05:41.230Z"
   },
   {
    "duration": 4,
    "start_time": "2024-08-26T13:05:47.761Z"
   },
   {
    "duration": 10,
    "start_time": "2024-08-26T13:05:49.991Z"
   },
   {
    "duration": 10,
    "start_time": "2024-08-26T13:05:51.865Z"
   },
   {
    "duration": 8,
    "start_time": "2024-08-26T13:06:00.450Z"
   },
   {
    "duration": 176,
    "start_time": "2024-08-26T13:06:19.368Z"
   },
   {
    "duration": 8,
    "start_time": "2024-08-26T13:06:24.614Z"
   },
   {
    "duration": 173,
    "start_time": "2024-08-26T13:06:27.710Z"
   },
   {
    "duration": 173,
    "start_time": "2024-08-26T13:06:34.786Z"
   },
   {
    "duration": 8,
    "start_time": "2024-08-26T13:06:37.131Z"
   },
   {
    "duration": 9,
    "start_time": "2024-08-26T13:06:46.973Z"
   },
   {
    "duration": 5,
    "start_time": "2024-08-26T13:06:56.375Z"
   },
   {
    "duration": 4,
    "start_time": "2024-08-26T13:07:52.638Z"
   },
   {
    "duration": 18,
    "start_time": "2024-08-26T13:08:21.272Z"
   },
   {
    "duration": 13,
    "start_time": "2024-08-26T13:08:29.343Z"
   },
   {
    "duration": 4,
    "start_time": "2024-08-26T13:09:03.636Z"
   },
   {
    "duration": 12,
    "start_time": "2024-08-26T13:09:05.900Z"
   },
   {
    "duration": 13,
    "start_time": "2024-08-26T13:09:13.223Z"
   },
   {
    "duration": 5,
    "start_time": "2024-08-26T13:09:21.909Z"
   },
   {
    "duration": 16,
    "start_time": "2024-08-26T13:09:32.020Z"
   },
   {
    "duration": 12,
    "start_time": "2024-08-26T13:09:55.929Z"
   },
   {
    "duration": 574,
    "start_time": "2024-08-26T13:10:11.577Z"
   },
   {
    "duration": 9,
    "start_time": "2024-08-26T13:11:05.574Z"
   },
   {
    "duration": 7,
    "start_time": "2024-08-26T13:11:09.083Z"
   },
   {
    "duration": 12,
    "start_time": "2024-08-26T13:12:01.216Z"
   },
   {
    "duration": 9,
    "start_time": "2024-08-26T13:12:02.664Z"
   },
   {
    "duration": 10,
    "start_time": "2024-08-26T13:12:11.707Z"
   },
   {
    "duration": 71,
    "start_time": "2024-08-26T13:13:03.012Z"
   },
   {
    "duration": 55,
    "start_time": "2024-08-26T13:13:07.003Z"
   },
   {
    "duration": 14,
    "start_time": "2024-08-26T13:13:16.673Z"
   },
   {
    "duration": 11,
    "start_time": "2024-08-26T13:13:18.532Z"
   },
   {
    "duration": 6,
    "start_time": "2024-08-26T13:13:31.669Z"
   },
   {
    "duration": 5,
    "start_time": "2024-08-26T13:13:38.531Z"
   },
   {
    "duration": 5,
    "start_time": "2024-08-26T13:13:50.287Z"
   },
   {
    "duration": 12,
    "start_time": "2024-08-26T13:13:53.775Z"
   },
   {
    "duration": 12,
    "start_time": "2024-08-26T13:13:57.403Z"
   },
   {
    "duration": 763,
    "start_time": "2024-08-26T13:14:02.292Z"
   },
   {
    "duration": 58,
    "start_time": "2024-08-26T13:14:37.931Z"
   },
   {
    "duration": 652,
    "start_time": "2024-08-26T13:14:40.749Z"
   },
   {
    "duration": 787,
    "start_time": "2024-08-26T13:15:15.279Z"
   },
   {
    "duration": 579,
    "start_time": "2024-08-26T13:15:26.725Z"
   },
   {
    "duration": 565,
    "start_time": "2024-08-26T13:15:32.602Z"
   },
   {
    "duration": 12,
    "start_time": "2024-08-26T13:16:10.520Z"
   },
   {
    "duration": 12,
    "start_time": "2024-08-26T13:16:13.647Z"
   },
   {
    "duration": 12,
    "start_time": "2024-08-26T13:16:25.035Z"
   },
   {
    "duration": 25,
    "start_time": "2024-08-26T13:17:05.250Z"
   },
   {
    "duration": 1270,
    "start_time": "2024-08-26T13:17:18.659Z"
   },
   {
    "duration": 984,
    "start_time": "2024-08-26T13:17:33.105Z"
   },
   {
    "duration": 1269,
    "start_time": "2024-08-26T13:17:48.234Z"
   },
   {
    "duration": 961,
    "start_time": "2024-08-26T13:18:00.429Z"
   },
   {
    "duration": 1271,
    "start_time": "2024-08-26T13:18:14.457Z"
   },
   {
    "duration": 989,
    "start_time": "2024-08-26T13:18:24.484Z"
   },
   {
    "duration": 1468,
    "start_time": "2024-08-26T13:18:28.899Z"
   },
   {
    "duration": 1126,
    "start_time": "2024-08-26T13:19:54.785Z"
   },
   {
    "duration": 1095,
    "start_time": "2024-08-26T13:20:08.378Z"
   },
   {
    "duration": 1071,
    "start_time": "2024-08-26T13:20:16.363Z"
   },
   {
    "duration": 1037,
    "start_time": "2024-08-26T13:20:26.749Z"
   },
   {
    "duration": 6,
    "start_time": "2024-08-26T13:23:49.464Z"
   },
   {
    "duration": 32,
    "start_time": "2024-08-26T13:23:52.334Z"
   },
   {
    "duration": 1038,
    "start_time": "2024-08-26T13:23:59.741Z"
   },
   {
    "duration": 64,
    "start_time": "2024-08-26T13:25:23.355Z"
   },
   {
    "duration": 137,
    "start_time": "2024-08-26T13:28:57.424Z"
   },
   {
    "duration": 177,
    "start_time": "2024-08-26T13:29:11.424Z"
   },
   {
    "duration": 62,
    "start_time": "2024-08-26T13:29:56.291Z"
   },
   {
    "duration": 5,
    "start_time": "2024-08-26T13:30:44.576Z"
   },
   {
    "duration": 5,
    "start_time": "2024-08-26T13:30:47.360Z"
   },
   {
    "duration": 6,
    "start_time": "2024-08-26T13:32:44.365Z"
   },
   {
    "duration": 4,
    "start_time": "2024-08-26T13:32:51.408Z"
   },
   {
    "duration": 7,
    "start_time": "2024-08-26T13:33:24.669Z"
   },
   {
    "duration": 12,
    "start_time": "2024-08-26T13:33:29.530Z"
   },
   {
    "duration": 17,
    "start_time": "2024-08-26T13:34:09.230Z"
   },
   {
    "duration": 5,
    "start_time": "2024-08-26T13:34:17.381Z"
   },
   {
    "duration": 5,
    "start_time": "2024-08-26T13:34:22.823Z"
   },
   {
    "duration": 36,
    "start_time": "2024-08-26T13:35:57.652Z"
   },
   {
    "duration": 26,
    "start_time": "2024-08-26T13:37:35.204Z"
   },
   {
    "duration": 25,
    "start_time": "2024-08-26T13:38:07.698Z"
   },
   {
    "duration": 1050,
    "start_time": "2024-08-26T13:42:38.472Z"
   },
   {
    "duration": 1503,
    "start_time": "2024-08-26T13:43:00.182Z"
   },
   {
    "duration": 1064,
    "start_time": "2024-08-26T13:43:22.619Z"
   },
   {
    "duration": 1041,
    "start_time": "2024-08-26T13:44:19.141Z"
   },
   {
    "duration": 290,
    "start_time": "2024-08-26T13:44:54.054Z"
   },
   {
    "duration": 262,
    "start_time": "2024-08-26T13:44:56.766Z"
   },
   {
    "duration": 13,
    "start_time": "2024-08-26T13:45:00.365Z"
   },
   {
    "duration": 279,
    "start_time": "2024-08-26T13:45:14.833Z"
   },
   {
    "duration": 13,
    "start_time": "2024-08-26T13:45:33.785Z"
   },
   {
    "duration": 262,
    "start_time": "2024-08-26T13:45:42.890Z"
   },
   {
    "duration": 14,
    "start_time": "2024-08-26T13:45:47.498Z"
   },
   {
    "duration": 281,
    "start_time": "2024-08-26T13:45:49.211Z"
   },
   {
    "duration": 12,
    "start_time": "2024-08-26T13:46:03.857Z"
   },
   {
    "duration": 602,
    "start_time": "2024-08-26T13:46:13.940Z"
   },
   {
    "duration": 175,
    "start_time": "2024-08-26T13:46:16.456Z"
   },
   {
    "duration": 4,
    "start_time": "2024-08-26T13:46:18.353Z"
   },
   {
    "duration": 14,
    "start_time": "2024-08-26T13:46:19.770Z"
   },
   {
    "duration": 259,
    "start_time": "2024-08-26T13:46:21.595Z"
   },
   {
    "duration": 1541,
    "start_time": "2024-08-26T13:46:56.859Z"
   },
   {
    "duration": 1061,
    "start_time": "2024-08-26T13:47:07.015Z"
   },
   {
    "duration": 1064,
    "start_time": "2024-08-26T13:51:18.674Z"
   },
   {
    "duration": 606,
    "start_time": "2024-08-26T13:51:53.645Z"
   },
   {
    "duration": 610,
    "start_time": "2024-08-26T13:52:12.863Z"
   },
   {
    "duration": 1196,
    "start_time": "2024-08-26T13:52:29.915Z"
   },
   {
    "duration": 641,
    "start_time": "2024-08-26T13:52:43.526Z"
   },
   {
    "duration": 1175,
    "start_time": "2024-08-26T13:52:56.792Z"
   },
   {
    "duration": 1151,
    "start_time": "2024-08-26T13:53:00.147Z"
   },
   {
    "duration": 1015,
    "start_time": "2024-08-26T13:54:21.598Z"
   },
   {
    "duration": 2075,
    "start_time": "2024-08-26T13:54:31.876Z"
   },
   {
    "duration": 3,
    "start_time": "2024-08-26T14:00:30.785Z"
   },
   {
    "duration": 666,
    "start_time": "2024-08-26T14:00:57.692Z"
   },
   {
    "duration": 633,
    "start_time": "2024-08-26T14:01:48.238Z"
   },
   {
    "duration": 2,
    "start_time": "2024-08-26T14:01:53.048Z"
   },
   {
    "duration": 592,
    "start_time": "2024-08-26T14:01:53.938Z"
   },
   {
    "duration": 635,
    "start_time": "2024-08-26T14:02:55.352Z"
   },
   {
    "duration": 193,
    "start_time": "2024-08-26T14:02:55.989Z"
   },
   {
    "duration": 15,
    "start_time": "2024-08-26T14:02:56.184Z"
   },
   {
    "duration": 23,
    "start_time": "2024-08-26T14:02:56.201Z"
   },
   {
    "duration": 13,
    "start_time": "2024-08-26T14:02:56.226Z"
   },
   {
    "duration": 11,
    "start_time": "2024-08-26T14:02:56.240Z"
   },
   {
    "duration": 26,
    "start_time": "2024-08-26T14:02:56.252Z"
   },
   {
    "duration": 6,
    "start_time": "2024-08-26T14:02:56.297Z"
   },
   {
    "duration": 100,
    "start_time": "2024-08-26T14:02:56.305Z"
   },
   {
    "duration": 92,
    "start_time": "2024-08-26T14:02:56.407Z"
   },
   {
    "duration": 4,
    "start_time": "2024-08-26T14:02:56.500Z"
   },
   {
    "duration": 68,
    "start_time": "2024-08-26T14:02:56.506Z"
   },
   {
    "duration": 32,
    "start_time": "2024-08-26T14:02:56.576Z"
   },
   {
    "duration": 19,
    "start_time": "2024-08-26T14:02:56.611Z"
   },
   {
    "duration": 67,
    "start_time": "2024-08-26T14:02:56.631Z"
   },
   {
    "duration": 18,
    "start_time": "2024-08-26T14:02:56.700Z"
   },
   {
    "duration": 26,
    "start_time": "2024-08-26T14:02:56.720Z"
   },
   {
    "duration": 65,
    "start_time": "2024-08-26T14:02:56.747Z"
   },
   {
    "duration": 1235,
    "start_time": "2024-08-26T14:02:56.813Z"
   },
   {
    "duration": 281,
    "start_time": "2024-08-26T14:02:58.049Z"
   },
   {
    "duration": 179,
    "start_time": "2024-08-26T14:02:58.332Z"
   },
   {
    "duration": 598,
    "start_time": "2024-08-26T14:02:58.512Z"
   },
   {
    "duration": 50,
    "start_time": "2024-08-26T14:02:59.112Z"
   },
   {
    "duration": 58,
    "start_time": "2024-08-26T14:02:59.163Z"
   },
   {
    "duration": 647,
    "start_time": "2024-08-26T14:02:59.223Z"
   },
   {
    "duration": 729,
    "start_time": "2024-08-26T14:02:59.872Z"
   },
   {
    "duration": 184,
    "start_time": "2024-08-26T14:03:00.603Z"
   },
   {
    "duration": 12,
    "start_time": "2024-08-26T14:03:00.789Z"
   },
   {
    "duration": 28,
    "start_time": "2024-08-26T14:03:00.803Z"
   },
   {
    "duration": 1379,
    "start_time": "2024-08-26T14:03:00.833Z"
   },
   {
    "duration": 1192,
    "start_time": "2024-08-26T14:03:02.214Z"
   },
   {
    "duration": 3,
    "start_time": "2024-08-26T14:03:03.407Z"
   },
   {
    "duration": 1619,
    "start_time": "2024-08-26T14:03:03.412Z"
   },
   {
    "duration": 94,
    "start_time": "2024-08-26T14:03:05.033Z"
   },
   {
    "duration": 1150,
    "start_time": "2024-08-26T14:03:23.272Z"
   },
   {
    "duration": 661,
    "start_time": "2024-08-26T14:03:35.083Z"
   },
   {
    "duration": 184,
    "start_time": "2024-08-26T14:03:35.746Z"
   },
   {
    "duration": 12,
    "start_time": "2024-08-26T14:03:35.932Z"
   },
   {
    "duration": 77,
    "start_time": "2024-08-26T14:03:35.945Z"
   },
   {
    "duration": 3,
    "start_time": "2024-08-26T14:03:36.024Z"
   },
   {
    "duration": 10,
    "start_time": "2024-08-26T14:03:36.029Z"
   },
   {
    "duration": 36,
    "start_time": "2024-08-26T14:03:36.040Z"
   },
   {
    "duration": 72,
    "start_time": "2024-08-26T14:03:36.078Z"
   },
   {
    "duration": 108,
    "start_time": "2024-08-26T14:03:36.152Z"
   },
   {
    "duration": 84,
    "start_time": "2024-08-26T14:03:36.262Z"
   },
   {
    "duration": 4,
    "start_time": "2024-08-26T14:03:36.348Z"
   },
   {
    "duration": 81,
    "start_time": "2024-08-26T14:03:36.353Z"
   },
   {
    "duration": 19,
    "start_time": "2024-08-26T14:03:36.435Z"
   },
   {
    "duration": 26,
    "start_time": "2024-08-26T14:03:36.457Z"
   },
   {
    "duration": 67,
    "start_time": "2024-08-26T14:03:36.485Z"
   },
   {
    "duration": 16,
    "start_time": "2024-08-26T14:03:36.554Z"
   },
   {
    "duration": 30,
    "start_time": "2024-08-26T14:03:36.571Z"
   },
   {
    "duration": 49,
    "start_time": "2024-08-26T14:03:36.602Z"
   },
   {
    "duration": 1165,
    "start_time": "2024-08-26T14:03:36.653Z"
   },
   {
    "duration": 273,
    "start_time": "2024-08-26T14:03:37.819Z"
   },
   {
    "duration": 147,
    "start_time": "2024-08-26T14:03:38.094Z"
   },
   {
    "duration": 584,
    "start_time": "2024-08-26T14:03:38.242Z"
   },
   {
    "duration": 44,
    "start_time": "2024-08-26T14:03:38.828Z"
   },
   {
    "duration": 46,
    "start_time": "2024-08-26T14:03:38.874Z"
   },
   {
    "duration": 669,
    "start_time": "2024-08-26T14:03:38.922Z"
   },
   {
    "duration": 692,
    "start_time": "2024-08-26T14:03:39.597Z"
   },
   {
    "duration": 182,
    "start_time": "2024-08-26T14:03:40.290Z"
   },
   {
    "duration": 4,
    "start_time": "2024-08-26T14:03:40.474Z"
   },
   {
    "duration": 25,
    "start_time": "2024-08-26T14:03:40.479Z"
   },
   {
    "duration": 1318,
    "start_time": "2024-08-26T14:03:40.506Z"
   },
   {
    "duration": 1123,
    "start_time": "2024-08-26T14:03:41.826Z"
   },
   {
    "duration": 1301,
    "start_time": "2024-08-26T14:04:11.817Z"
   },
   {
    "duration": 1284,
    "start_time": "2024-08-26T14:04:26.059Z"
   },
   {
    "duration": 1055,
    "start_time": "2024-08-26T14:04:37.165Z"
   },
   {
    "duration": 1313,
    "start_time": "2024-08-26T14:04:42.521Z"
   },
   {
    "duration": 3,
    "start_time": "2024-08-26T14:07:42.394Z"
   },
   {
    "duration": 689,
    "start_time": "2024-08-26T14:07:57.674Z"
   },
   {
    "duration": 217,
    "start_time": "2024-08-26T14:07:58.365Z"
   },
   {
    "duration": 14,
    "start_time": "2024-08-26T14:07:58.583Z"
   },
   {
    "duration": 23,
    "start_time": "2024-08-26T14:07:58.599Z"
   },
   {
    "duration": 5,
    "start_time": "2024-08-26T14:07:58.625Z"
   },
   {
    "duration": 8,
    "start_time": "2024-08-26T14:07:58.632Z"
   },
   {
    "duration": 28,
    "start_time": "2024-08-26T14:07:58.641Z"
   },
   {
    "duration": 5,
    "start_time": "2024-08-26T14:07:58.670Z"
   },
   {
    "duration": 88,
    "start_time": "2024-08-26T14:07:58.697Z"
   },
   {
    "duration": 84,
    "start_time": "2024-08-26T14:07:58.798Z"
   },
   {
    "duration": 16,
    "start_time": "2024-08-26T14:07:58.883Z"
   },
   {
    "duration": 61,
    "start_time": "2024-08-26T14:07:58.902Z"
   },
   {
    "duration": 33,
    "start_time": "2024-08-26T14:07:58.965Z"
   },
   {
    "duration": 27,
    "start_time": "2024-08-26T14:07:59.002Z"
   },
   {
    "duration": 43,
    "start_time": "2024-08-26T14:07:59.031Z"
   },
   {
    "duration": 35,
    "start_time": "2024-08-26T14:07:59.076Z"
   },
   {
    "duration": 39,
    "start_time": "2024-08-26T14:07:59.113Z"
   },
   {
    "duration": 53,
    "start_time": "2024-08-26T14:07:59.154Z"
   },
   {
    "duration": 1262,
    "start_time": "2024-08-26T14:07:59.209Z"
   },
   {
    "duration": 300,
    "start_time": "2024-08-26T14:08:00.473Z"
   },
   {
    "duration": 112,
    "start_time": "2024-08-26T14:08:00.774Z"
   },
   {
    "duration": 640,
    "start_time": "2024-08-26T14:08:00.888Z"
   },
   {
    "duration": 42,
    "start_time": "2024-08-26T14:08:01.529Z"
   },
   {
    "duration": 51,
    "start_time": "2024-08-26T14:08:01.572Z"
   },
   {
    "duration": 696,
    "start_time": "2024-08-26T14:08:01.625Z"
   },
   {
    "duration": 791,
    "start_time": "2024-08-26T14:08:02.322Z"
   },
   {
    "duration": 211,
    "start_time": "2024-08-26T14:08:03.114Z"
   },
   {
    "duration": 4,
    "start_time": "2024-08-26T14:08:03.327Z"
   },
   {
    "duration": 14,
    "start_time": "2024-08-26T14:08:03.333Z"
   },
   {
    "duration": 1532,
    "start_time": "2024-08-26T14:08:03.349Z"
   },
   {
    "duration": 1275,
    "start_time": "2024-08-26T14:08:04.882Z"
   },
   {
    "duration": 3,
    "start_time": "2024-08-26T14:08:06.158Z"
   },
   {
    "duration": 5,
    "start_time": "2024-08-26T14:10:44.127Z"
   },
   {
    "duration": 4,
    "start_time": "2024-08-26T14:10:50.229Z"
   },
   {
    "duration": 4,
    "start_time": "2024-08-26T14:11:31.814Z"
   },
   {
    "duration": 10,
    "start_time": "2024-08-26T14:11:44.728Z"
   },
   {
    "duration": 672,
    "start_time": "2024-08-26T14:12:00.485Z"
   },
   {
    "duration": 186,
    "start_time": "2024-08-26T14:12:01.158Z"
   },
   {
    "duration": 12,
    "start_time": "2024-08-26T14:12:01.346Z"
   },
   {
    "duration": 24,
    "start_time": "2024-08-26T14:12:01.360Z"
   },
   {
    "duration": 3,
    "start_time": "2024-08-26T14:12:01.399Z"
   },
   {
    "duration": 13,
    "start_time": "2024-08-26T14:12:01.404Z"
   },
   {
    "duration": 31,
    "start_time": "2024-08-26T14:12:01.419Z"
   },
   {
    "duration": 11,
    "start_time": "2024-08-26T14:12:01.452Z"
   },
   {
    "duration": 97,
    "start_time": "2024-08-26T14:12:01.464Z"
   },
   {
    "duration": 83,
    "start_time": "2024-08-26T14:12:01.562Z"
   },
   {
    "duration": 4,
    "start_time": "2024-08-26T14:12:01.646Z"
   },
   {
    "duration": 83,
    "start_time": "2024-08-26T14:12:01.651Z"
   },
   {
    "duration": 21,
    "start_time": "2024-08-26T14:12:01.736Z"
   },
   {
    "duration": 18,
    "start_time": "2024-08-26T14:12:01.759Z"
   },
   {
    "duration": 60,
    "start_time": "2024-08-26T14:12:01.778Z"
   },
   {
    "duration": 17,
    "start_time": "2024-08-26T14:12:01.839Z"
   },
   {
    "duration": 46,
    "start_time": "2024-08-26T14:12:01.857Z"
   },
   {
    "duration": 40,
    "start_time": "2024-08-26T14:12:01.905Z"
   },
   {
    "duration": 1188,
    "start_time": "2024-08-26T14:12:01.946Z"
   },
   {
    "duration": 281,
    "start_time": "2024-08-26T14:12:03.135Z"
   },
   {
    "duration": 105,
    "start_time": "2024-08-26T14:12:03.417Z"
   },
   {
    "duration": 593,
    "start_time": "2024-08-26T14:12:03.523Z"
   },
   {
    "duration": 45,
    "start_time": "2024-08-26T14:12:04.117Z"
   },
   {
    "duration": 49,
    "start_time": "2024-08-26T14:12:04.163Z"
   },
   {
    "duration": 624,
    "start_time": "2024-08-26T14:12:04.214Z"
   },
   {
    "duration": 720,
    "start_time": "2024-08-26T14:12:04.840Z"
   },
   {
    "duration": 191,
    "start_time": "2024-08-26T14:12:05.562Z"
   },
   {
    "duration": 4,
    "start_time": "2024-08-26T14:12:05.755Z"
   },
   {
    "duration": 15,
    "start_time": "2024-08-26T14:12:05.761Z"
   },
   {
    "duration": 1378,
    "start_time": "2024-08-26T14:12:05.798Z"
   },
   {
    "duration": 1166,
    "start_time": "2024-08-26T14:12:07.178Z"
   },
   {
    "duration": 4,
    "start_time": "2024-08-26T14:12:08.345Z"
   },
   {
    "duration": 6,
    "start_time": "2024-08-26T14:12:18.369Z"
   },
   {
    "duration": 1397,
    "start_time": "2024-08-26T14:12:44.433Z"
   },
   {
    "duration": 1269,
    "start_time": "2024-08-26T14:13:01.293Z"
   },
   {
    "duration": 682,
    "start_time": "2024-08-26T14:13:09.277Z"
   },
   {
    "duration": 204,
    "start_time": "2024-08-26T14:13:09.962Z"
   },
   {
    "duration": 11,
    "start_time": "2024-08-26T14:13:10.167Z"
   },
   {
    "duration": 43,
    "start_time": "2024-08-26T14:13:10.180Z"
   },
   {
    "duration": 3,
    "start_time": "2024-08-26T14:13:10.226Z"
   },
   {
    "duration": 8,
    "start_time": "2024-08-26T14:13:10.231Z"
   },
   {
    "duration": 21,
    "start_time": "2024-08-26T14:13:10.241Z"
   },
   {
    "duration": 35,
    "start_time": "2024-08-26T14:13:10.264Z"
   },
   {
    "duration": 85,
    "start_time": "2024-08-26T14:13:10.301Z"
   },
   {
    "duration": 90,
    "start_time": "2024-08-26T14:13:10.387Z"
   },
   {
    "duration": 5,
    "start_time": "2024-08-26T14:13:10.478Z"
   },
   {
    "duration": 82,
    "start_time": "2024-08-26T14:13:10.484Z"
   },
   {
    "duration": 40,
    "start_time": "2024-08-26T14:13:10.567Z"
   },
   {
    "duration": 18,
    "start_time": "2024-08-26T14:13:10.611Z"
   },
   {
    "duration": 49,
    "start_time": "2024-08-26T14:13:10.631Z"
   },
   {
    "duration": 28,
    "start_time": "2024-08-26T14:13:10.681Z"
   },
   {
    "duration": 29,
    "start_time": "2024-08-26T14:13:10.710Z"
   },
   {
    "duration": 66,
    "start_time": "2024-08-26T14:13:10.740Z"
   },
   {
    "duration": 1245,
    "start_time": "2024-08-26T14:13:10.809Z"
   },
   {
    "duration": 299,
    "start_time": "2024-08-26T14:13:12.056Z"
   },
   {
    "duration": 106,
    "start_time": "2024-08-26T14:13:12.356Z"
   },
   {
    "duration": 637,
    "start_time": "2024-08-26T14:13:12.464Z"
   },
   {
    "duration": 50,
    "start_time": "2024-08-26T14:13:13.102Z"
   },
   {
    "duration": 60,
    "start_time": "2024-08-26T14:13:13.154Z"
   },
   {
    "duration": 666,
    "start_time": "2024-08-26T14:13:13.216Z"
   },
   {
    "duration": 764,
    "start_time": "2024-08-26T14:13:13.884Z"
   },
   {
    "duration": 195,
    "start_time": "2024-08-26T14:13:14.649Z"
   },
   {
    "duration": 5,
    "start_time": "2024-08-26T14:13:14.845Z"
   },
   {
    "duration": 15,
    "start_time": "2024-08-26T14:13:14.851Z"
   },
   {
    "duration": 1462,
    "start_time": "2024-08-26T14:13:14.868Z"
   },
   {
    "duration": 1248,
    "start_time": "2024-08-26T14:13:16.332Z"
   },
   {
    "duration": 3,
    "start_time": "2024-08-26T14:13:17.582Z"
   },
   {
    "duration": 22,
    "start_time": "2024-08-26T14:13:17.587Z"
   },
   {
    "duration": 5,
    "start_time": "2024-08-26T14:13:55.781Z"
   },
   {
    "duration": 3,
    "start_time": "2024-08-26T14:14:01.570Z"
   },
   {
    "duration": 4,
    "start_time": "2024-08-26T14:19:25.091Z"
   },
   {
    "duration": 70,
    "start_time": "2024-08-26T14:30:04.126Z"
   },
   {
    "duration": 7278,
    "start_time": "2024-08-26T14:30:14.387Z"
   },
   {
    "duration": 32,
    "start_time": "2024-08-26T14:30:27.556Z"
   },
   {
    "duration": 31,
    "start_time": "2024-08-26T14:30:46.031Z"
   },
   {
    "duration": 83,
    "start_time": "2024-08-26T14:30:56.157Z"
   },
   {
    "duration": 143,
    "start_time": "2024-08-26T14:31:01.010Z"
   },
   {
    "duration": 8,
    "start_time": "2024-08-26T14:31:09.981Z"
   },
   {
    "duration": 9,
    "start_time": "2024-08-26T14:31:21.506Z"
   },
   {
    "duration": 140,
    "start_time": "2024-08-26T14:31:33.584Z"
   },
   {
    "duration": 351,
    "start_time": "2024-08-26T14:32:48.198Z"
   },
   {
    "duration": 475,
    "start_time": "2024-08-26T14:33:00.995Z"
   },
   {
    "duration": 1296,
    "start_time": "2024-08-26T14:33:45.004Z"
   },
   {
    "duration": 554,
    "start_time": "2024-08-26T14:33:51.165Z"
   },
   {
    "duration": 441,
    "start_time": "2024-08-26T14:33:59.534Z"
   },
   {
    "duration": 65,
    "start_time": "2024-08-26T14:34:08.708Z"
   },
   {
    "duration": 446,
    "start_time": "2024-08-26T14:34:11.879Z"
   },
   {
    "duration": 458,
    "start_time": "2024-08-26T14:34:26.589Z"
   },
   {
    "duration": 437,
    "start_time": "2024-08-26T14:35:16.220Z"
   },
   {
    "duration": 430,
    "start_time": "2024-08-26T14:35:20.372Z"
   },
   {
    "duration": 461,
    "start_time": "2024-08-26T14:35:33.001Z"
   },
   {
    "duration": 454,
    "start_time": "2024-08-26T14:35:43.108Z"
   },
   {
    "duration": 327,
    "start_time": "2024-08-26T14:36:00.146Z"
   },
   {
    "duration": 291,
    "start_time": "2024-08-26T14:36:04.943Z"
   },
   {
    "duration": 298,
    "start_time": "2024-08-26T14:36:16.447Z"
   },
   {
    "duration": 295,
    "start_time": "2024-08-26T14:36:25.150Z"
   },
   {
    "duration": 290,
    "start_time": "2024-08-26T14:36:31.422Z"
   },
   {
    "duration": 290,
    "start_time": "2024-08-26T14:36:37.094Z"
   },
   {
    "duration": 141,
    "start_time": "2024-08-26T14:40:40.208Z"
   },
   {
    "duration": 85,
    "start_time": "2024-08-26T14:41:42.620Z"
   },
   {
    "duration": 87,
    "start_time": "2024-08-26T14:41:51.875Z"
   },
   {
    "duration": 75,
    "start_time": "2024-08-26T14:42:10.192Z"
   },
   {
    "duration": 88,
    "start_time": "2024-08-26T14:42:40.927Z"
   },
   {
    "duration": 57,
    "start_time": "2024-08-26T14:43:08.897Z"
   },
   {
    "duration": 65,
    "start_time": "2024-08-26T14:43:43.287Z"
   },
   {
    "duration": 59,
    "start_time": "2024-08-26T14:43:56.279Z"
   },
   {
    "duration": 58,
    "start_time": "2024-08-26T14:43:59.547Z"
   },
   {
    "duration": 67,
    "start_time": "2024-08-26T14:44:08.362Z"
   },
   {
    "duration": 74,
    "start_time": "2024-08-26T14:44:31.788Z"
   },
   {
    "duration": 51,
    "start_time": "2024-08-26T14:45:06.576Z"
   },
   {
    "duration": 193,
    "start_time": "2024-08-26T14:46:21.565Z"
   },
   {
    "duration": 275,
    "start_time": "2024-08-26T14:46:29.994Z"
   },
   {
    "duration": 173,
    "start_time": "2024-08-26T14:46:41.326Z"
   },
   {
    "duration": 85,
    "start_time": "2024-08-26T14:47:02.936Z"
   },
   {
    "duration": 138,
    "start_time": "2024-08-26T14:47:14.691Z"
   },
   {
    "duration": 143,
    "start_time": "2024-08-26T14:47:31.429Z"
   },
   {
    "duration": 175,
    "start_time": "2024-08-26T14:47:55.192Z"
   },
   {
    "duration": 165,
    "start_time": "2024-08-26T14:47:58.715Z"
   },
   {
    "duration": 140,
    "start_time": "2024-08-26T14:48:09.418Z"
   },
   {
    "duration": 140,
    "start_time": "2024-08-26T14:48:14.862Z"
   },
   {
    "duration": 132,
    "start_time": "2024-08-26T14:48:31.229Z"
   },
   {
    "duration": 142,
    "start_time": "2024-08-26T14:48:39.982Z"
   },
   {
    "duration": 147,
    "start_time": "2024-08-26T14:48:47.726Z"
   },
   {
    "duration": 158,
    "start_time": "2024-08-26T14:49:02.591Z"
   },
   {
    "duration": 159,
    "start_time": "2024-08-26T14:49:10.915Z"
   },
   {
    "duration": 154,
    "start_time": "2024-08-26T14:49:17.557Z"
   },
   {
    "duration": 3,
    "start_time": "2024-08-26T14:52:29.993Z"
   },
   {
    "duration": 3,
    "start_time": "2024-08-26T14:52:54.915Z"
   },
   {
    "duration": 8,
    "start_time": "2024-08-26T14:53:38.911Z"
   },
   {
    "duration": 3,
    "start_time": "2024-08-26T14:53:40.779Z"
   },
   {
    "duration": 5,
    "start_time": "2024-08-26T14:53:41.810Z"
   },
   {
    "duration": 341,
    "start_time": "2024-08-26T14:53:45.348Z"
   },
   {
    "duration": 54,
    "start_time": "2024-08-26T14:53:47.938Z"
   },
   {
    "duration": 66,
    "start_time": "2024-08-26T14:53:55.702Z"
   },
   {
    "duration": 15,
    "start_time": "2024-08-26T14:53:57.158Z"
   },
   {
    "duration": 10,
    "start_time": "2024-08-26T14:54:15.662Z"
   },
   {
    "duration": 12,
    "start_time": "2024-08-26T14:54:21.424Z"
   },
   {
    "duration": 10,
    "start_time": "2024-08-26T14:54:28.994Z"
   },
   {
    "duration": 17,
    "start_time": "2024-08-26T14:54:39.049Z"
   },
   {
    "duration": 27,
    "start_time": "2024-08-26T14:55:28.154Z"
   },
   {
    "duration": 379,
    "start_time": "2024-08-26T14:56:06.679Z"
   },
   {
    "duration": 169,
    "start_time": "2024-08-26T14:56:17.794Z"
   },
   {
    "duration": 1109,
    "start_time": "2024-08-26T14:59:16.253Z"
   },
   {
    "duration": 153,
    "start_time": "2024-08-26T14:59:34.926Z"
   },
   {
    "duration": 146,
    "start_time": "2024-08-26T14:59:40.815Z"
   },
   {
    "duration": 156,
    "start_time": "2024-08-26T14:59:58.220Z"
   },
   {
    "duration": 124,
    "start_time": "2024-08-26T15:00:16.302Z"
   },
   {
    "duration": 138,
    "start_time": "2024-08-26T15:00:22.881Z"
   },
   {
    "duration": 117,
    "start_time": "2024-08-26T15:00:31.905Z"
   },
   {
    "duration": 4,
    "start_time": "2024-08-26T15:00:37.275Z"
   },
   {
    "duration": 162,
    "start_time": "2024-08-26T15:00:39.897Z"
   },
   {
    "duration": 157,
    "start_time": "2024-08-26T15:00:55.052Z"
   },
   {
    "duration": 168,
    "start_time": "2024-08-26T15:01:11.719Z"
   },
   {
    "duration": 160,
    "start_time": "2024-08-26T15:01:17.230Z"
   },
   {
    "duration": 164,
    "start_time": "2024-08-26T15:01:30.561Z"
   },
   {
    "duration": 259,
    "start_time": "2024-08-26T15:01:46.186Z"
   },
   {
    "duration": 169,
    "start_time": "2024-08-26T15:01:57.686Z"
   },
   {
    "duration": 169,
    "start_time": "2024-08-26T15:02:02.757Z"
   },
   {
    "duration": 176,
    "start_time": "2024-08-26T15:02:06.321Z"
   },
   {
    "duration": 157,
    "start_time": "2024-08-26T15:02:27.087Z"
   },
   {
    "duration": 172,
    "start_time": "2024-08-26T15:02:31.939Z"
   },
   {
    "duration": 171,
    "start_time": "2024-08-26T15:02:37.167Z"
   },
   {
    "duration": 166,
    "start_time": "2024-08-26T15:02:42.072Z"
   },
   {
    "duration": 173,
    "start_time": "2024-08-26T15:02:51.678Z"
   },
   {
    "duration": 182,
    "start_time": "2024-08-26T15:03:00.678Z"
   },
   {
    "duration": 185,
    "start_time": "2024-08-26T15:03:07.378Z"
   },
   {
    "duration": 171,
    "start_time": "2024-08-26T15:03:24.539Z"
   },
   {
    "duration": 179,
    "start_time": "2024-08-26T15:03:27.684Z"
   },
   {
    "duration": 177,
    "start_time": "2024-08-26T15:03:34.586Z"
   },
   {
    "duration": 263,
    "start_time": "2024-08-26T15:03:39.459Z"
   },
   {
    "duration": 170,
    "start_time": "2024-08-26T15:03:42.928Z"
   },
   {
    "duration": 284,
    "start_time": "2024-08-26T15:03:46.123Z"
   },
   {
    "duration": 187,
    "start_time": "2024-08-26T15:03:49.024Z"
   },
   {
    "duration": 169,
    "start_time": "2024-08-26T15:03:52.347Z"
   },
   {
    "duration": 57,
    "start_time": "2024-08-26T15:06:38.885Z"
   },
   {
    "duration": 52,
    "start_time": "2024-08-26T15:06:56.466Z"
   },
   {
    "duration": 52,
    "start_time": "2024-08-26T15:06:59.997Z"
   },
   {
    "duration": 54,
    "start_time": "2024-08-26T15:07:22.022Z"
   },
   {
    "duration": 60,
    "start_time": "2024-08-26T15:07:32.399Z"
   },
   {
    "duration": 56,
    "start_time": "2024-08-26T15:07:44.300Z"
   },
   {
    "duration": 67,
    "start_time": "2024-08-26T15:07:48.039Z"
   },
   {
    "duration": 72,
    "start_time": "2024-08-26T15:07:56.226Z"
   },
   {
    "duration": 99,
    "start_time": "2024-08-26T15:07:59.341Z"
   },
   {
    "duration": 199,
    "start_time": "2024-08-26T15:08:18.119Z"
   },
   {
    "duration": 55,
    "start_time": "2024-08-26T15:08:36.297Z"
   },
   {
    "duration": 179,
    "start_time": "2024-08-26T15:08:44.066Z"
   },
   {
    "duration": 213,
    "start_time": "2024-08-26T15:09:05.411Z"
   },
   {
    "duration": 206,
    "start_time": "2024-08-26T15:09:13.257Z"
   },
   {
    "duration": 203,
    "start_time": "2024-08-26T15:09:23.956Z"
   },
   {
    "duration": 202,
    "start_time": "2024-08-26T15:09:28.796Z"
   },
   {
    "duration": 5,
    "start_time": "2024-08-26T15:10:40.954Z"
   },
   {
    "duration": 192,
    "start_time": "2024-08-26T15:10:49.753Z"
   },
   {
    "duration": 205,
    "start_time": "2024-08-26T15:10:59.394Z"
   },
   {
    "duration": 280,
    "start_time": "2024-08-26T15:11:36.306Z"
   },
   {
    "duration": 381,
    "start_time": "2024-08-26T15:11:43.026Z"
   },
   {
    "duration": 289,
    "start_time": "2024-08-26T15:11:53.087Z"
   },
   {
    "duration": 357,
    "start_time": "2024-08-26T15:11:57.443Z"
   },
   {
    "duration": 154,
    "start_time": "2024-08-26T15:12:45.352Z"
   },
   {
    "duration": 303,
    "start_time": "2024-08-26T15:12:54.784Z"
   },
   {
    "duration": 160,
    "start_time": "2024-08-26T15:13:03.511Z"
   },
   {
    "duration": 66,
    "start_time": "2024-08-26T15:13:07.050Z"
   },
   {
    "duration": 176,
    "start_time": "2024-08-26T15:13:09.096Z"
   },
   {
    "duration": 165,
    "start_time": "2024-08-26T15:13:21.085Z"
   },
   {
    "duration": 156,
    "start_time": "2024-08-26T15:13:23.853Z"
   },
   {
    "duration": 327,
    "start_time": "2024-08-26T15:13:36.744Z"
   },
   {
    "duration": 337,
    "start_time": "2024-08-26T15:13:54.310Z"
   },
   {
    "duration": 432,
    "start_time": "2024-08-26T15:13:59.275Z"
   },
   {
    "duration": 343,
    "start_time": "2024-08-26T15:14:16.184Z"
   },
   {
    "duration": 2028,
    "start_time": "2024-08-26T15:17:38.425Z"
   },
   {
    "duration": 490,
    "start_time": "2024-08-26T15:17:42.530Z"
   },
   {
    "duration": 436,
    "start_time": "2024-08-26T15:17:55.928Z"
   },
   {
    "duration": 65,
    "start_time": "2024-08-26T15:19:13.545Z"
   },
   {
    "duration": 71,
    "start_time": "2024-08-26T15:19:21.455Z"
   },
   {
    "duration": 917,
    "start_time": "2024-08-26T15:19:41.016Z"
   },
   {
    "duration": 513,
    "start_time": "2024-08-26T15:19:53.607Z"
   },
   {
    "duration": 502,
    "start_time": "2024-08-26T15:20:17.009Z"
   },
   {
    "duration": 582,
    "start_time": "2024-08-26T15:20:32.129Z"
   },
   {
    "duration": 464,
    "start_time": "2024-08-26T15:20:43.225Z"
   },
   {
    "duration": 462,
    "start_time": "2024-08-26T15:20:53.838Z"
   },
   {
    "duration": 470,
    "start_time": "2024-08-26T15:21:11.438Z"
   },
   {
    "duration": 458,
    "start_time": "2024-08-26T15:21:56.142Z"
   },
   {
    "duration": 579,
    "start_time": "2024-08-26T15:22:09.915Z"
   },
   {
    "duration": 463,
    "start_time": "2024-08-26T15:22:21.522Z"
   },
   {
    "duration": 447,
    "start_time": "2024-08-26T15:22:27.741Z"
   },
   {
    "duration": 455,
    "start_time": "2024-08-26T15:22:33.031Z"
   },
   {
    "duration": 445,
    "start_time": "2024-08-26T15:22:42.176Z"
   },
   {
    "duration": 477,
    "start_time": "2024-08-26T15:22:55.111Z"
   },
   {
    "duration": 588,
    "start_time": "2024-08-26T15:23:14.262Z"
   },
   {
    "duration": 459,
    "start_time": "2024-08-26T15:23:21.742Z"
   },
   {
    "duration": 297,
    "start_time": "2024-08-26T15:28:55.401Z"
   },
   {
    "duration": 4,
    "start_time": "2024-08-26T15:31:45.255Z"
   },
   {
    "duration": 4,
    "start_time": "2024-08-26T15:32:02.436Z"
   },
   {
    "duration": 4,
    "start_time": "2024-08-26T15:32:19.921Z"
   },
   {
    "duration": 4,
    "start_time": "2024-08-26T15:32:40.132Z"
   },
   {
    "duration": 838,
    "start_time": "2024-08-26T15:35:41.783Z"
   },
   {
    "duration": 9,
    "start_time": "2024-08-26T15:36:05.185Z"
   },
   {
    "duration": 8,
    "start_time": "2024-08-26T15:36:32.965Z"
   },
   {
    "duration": 8,
    "start_time": "2024-08-26T15:37:26.186Z"
   },
   {
    "duration": 4,
    "start_time": "2024-08-26T15:37:56.566Z"
   },
   {
    "duration": 6,
    "start_time": "2024-08-26T15:37:57.621Z"
   },
   {
    "duration": 146,
    "start_time": "2024-08-26T15:38:25.055Z"
   },
   {
    "duration": 163,
    "start_time": "2024-08-26T15:38:36.664Z"
   },
   {
    "duration": 134,
    "start_time": "2024-08-26T15:38:58.169Z"
   },
   {
    "duration": 5,
    "start_time": "2024-08-26T15:39:31.396Z"
   },
   {
    "duration": 9,
    "start_time": "2024-08-26T15:39:32.504Z"
   },
   {
    "duration": 144,
    "start_time": "2024-08-26T15:39:36.693Z"
   },
   {
    "duration": 144,
    "start_time": "2024-08-26T15:39:44.537Z"
   },
   {
    "duration": 130,
    "start_time": "2024-08-26T15:39:58.673Z"
   },
   {
    "duration": 5,
    "start_time": "2024-08-26T15:40:47.759Z"
   },
   {
    "duration": 7,
    "start_time": "2024-08-26T15:40:50.120Z"
   },
   {
    "duration": 126,
    "start_time": "2024-08-26T15:40:51.376Z"
   },
   {
    "duration": 55,
    "start_time": "2024-08-26T15:42:19.517Z"
   },
   {
    "duration": 6,
    "start_time": "2024-08-26T15:42:21.937Z"
   },
   {
    "duration": 7,
    "start_time": "2024-08-26T15:42:25.297Z"
   },
   {
    "duration": 5,
    "start_time": "2024-08-26T15:42:33.848Z"
   },
   {
    "duration": 122,
    "start_time": "2024-08-26T15:42:35.181Z"
   },
   {
    "duration": 6,
    "start_time": "2024-08-26T15:42:36.238Z"
   },
   {
    "duration": 117,
    "start_time": "2024-08-26T15:42:42.265Z"
   },
   {
    "duration": 4,
    "start_time": "2024-08-26T15:42:58.271Z"
   },
   {
    "duration": 7,
    "start_time": "2024-08-26T15:43:00.409Z"
   },
   {
    "duration": 12,
    "start_time": "2024-08-26T15:43:01.378Z"
   },
   {
    "duration": 246,
    "start_time": "2024-08-26T15:43:05.691Z"
   },
   {
    "duration": 9,
    "start_time": "2024-08-26T15:43:24.100Z"
   },
   {
    "duration": 11,
    "start_time": "2024-08-26T15:43:30.526Z"
   },
   {
    "duration": 124,
    "start_time": "2024-08-26T15:43:50.831Z"
   },
   {
    "duration": 119,
    "start_time": "2024-08-26T15:43:55.192Z"
   },
   {
    "duration": 5,
    "start_time": "2024-08-26T15:44:14.492Z"
   },
   {
    "duration": 6,
    "start_time": "2024-08-26T15:44:16.625Z"
   },
   {
    "duration": 136,
    "start_time": "2024-08-26T15:44:17.567Z"
   },
   {
    "duration": 125,
    "start_time": "2024-08-26T15:44:35.164Z"
   },
   {
    "duration": 120,
    "start_time": "2024-08-26T15:44:40.616Z"
   },
   {
    "duration": 4,
    "start_time": "2024-08-26T15:45:27.478Z"
   },
   {
    "duration": 4,
    "start_time": "2024-08-26T15:45:38.693Z"
   },
   {
    "duration": 30,
    "start_time": "2024-08-26T15:48:35.530Z"
   },
   {
    "duration": 74,
    "start_time": "2024-08-26T15:48:42.954Z"
   },
   {
    "duration": 77,
    "start_time": "2024-08-26T15:48:49.178Z"
   },
   {
    "duration": 15,
    "start_time": "2024-08-26T15:49:56.183Z"
   },
   {
    "duration": 80,
    "start_time": "2024-08-26T15:50:03.116Z"
   },
   {
    "duration": 63,
    "start_time": "2024-08-26T15:50:23.558Z"
   },
   {
    "duration": 263,
    "start_time": "2024-08-26T15:50:28.306Z"
   },
   {
    "duration": 8,
    "start_time": "2024-08-26T15:53:02.800Z"
   },
   {
    "duration": 183,
    "start_time": "2024-08-26T15:53:25.808Z"
   },
   {
    "duration": 186,
    "start_time": "2024-08-26T15:53:43.159Z"
   },
   {
    "duration": 170,
    "start_time": "2024-08-26T15:53:50.727Z"
   },
   {
    "duration": 11,
    "start_time": "2024-08-26T15:57:06.285Z"
   },
   {
    "duration": 50,
    "start_time": "2024-08-26T15:58:56.157Z"
   },
   {
    "duration": 169,
    "start_time": "2024-08-26T16:00:41.160Z"
   },
   {
    "duration": 218,
    "start_time": "2024-08-26T16:00:42.743Z"
   },
   {
    "duration": 6,
    "start_time": "2024-08-26T16:00:51.031Z"
   },
   {
    "duration": 186,
    "start_time": "2024-08-26T16:00:52.079Z"
   },
   {
    "duration": 11,
    "start_time": "2024-08-26T16:00:55.892Z"
   },
   {
    "duration": 51,
    "start_time": "2024-08-27T07:48:55.587Z"
   },
   {
    "duration": 13,
    "start_time": "2024-08-27T07:54:49.822Z"
   },
   {
    "duration": 944,
    "start_time": "2024-08-27T07:54:57.746Z"
   },
   {
    "duration": 745,
    "start_time": "2024-08-27T07:54:58.692Z"
   },
   {
    "duration": 12,
    "start_time": "2024-08-27T07:54:59.439Z"
   },
   {
    "duration": 49,
    "start_time": "2024-08-27T07:54:59.453Z"
   },
   {
    "duration": 3,
    "start_time": "2024-08-27T07:54:59.504Z"
   },
   {
    "duration": 10,
    "start_time": "2024-08-27T07:54:59.509Z"
   },
   {
    "duration": 23,
    "start_time": "2024-08-27T07:54:59.520Z"
   },
   {
    "duration": 9,
    "start_time": "2024-08-27T07:54:59.546Z"
   },
   {
    "duration": 104,
    "start_time": "2024-08-27T07:54:59.557Z"
   },
   {
    "duration": 119,
    "start_time": "2024-08-27T07:54:59.665Z"
   },
   {
    "duration": 5,
    "start_time": "2024-08-27T07:54:59.786Z"
   },
   {
    "duration": 78,
    "start_time": "2024-08-27T07:54:59.793Z"
   },
   {
    "duration": 28,
    "start_time": "2024-08-27T07:54:59.873Z"
   },
   {
    "duration": 22,
    "start_time": "2024-08-27T07:54:59.903Z"
   },
   {
    "duration": 67,
    "start_time": "2024-08-27T07:54:59.927Z"
   },
   {
    "duration": 18,
    "start_time": "2024-08-27T07:54:59.996Z"
   },
   {
    "duration": 68,
    "start_time": "2024-08-27T07:55:00.016Z"
   },
   {
    "duration": 75,
    "start_time": "2024-08-27T07:55:00.086Z"
   },
   {
    "duration": 1308,
    "start_time": "2024-08-27T07:55:00.163Z"
   },
   {
    "duration": 323,
    "start_time": "2024-08-27T07:55:01.473Z"
   },
   {
    "duration": 170,
    "start_time": "2024-08-27T07:55:01.798Z"
   },
   {
    "duration": 603,
    "start_time": "2024-08-27T07:55:01.970Z"
   },
   {
    "duration": 46,
    "start_time": "2024-08-27T07:55:02.575Z"
   },
   {
    "duration": 62,
    "start_time": "2024-08-27T07:55:02.623Z"
   },
   {
    "duration": 781,
    "start_time": "2024-08-27T07:55:02.688Z"
   },
   {
    "duration": 797,
    "start_time": "2024-08-27T07:55:03.471Z"
   },
   {
    "duration": 221,
    "start_time": "2024-08-27T07:55:04.270Z"
   },
   {
    "duration": 5,
    "start_time": "2024-08-27T07:55:04.496Z"
   },
   {
    "duration": 99,
    "start_time": "2024-08-27T07:55:04.503Z"
   },
   {
    "duration": 1426,
    "start_time": "2024-08-27T07:55:04.604Z"
   },
   {
    "duration": 1294,
    "start_time": "2024-08-27T07:55:06.032Z"
   },
   {
    "duration": 3,
    "start_time": "2024-08-27T07:55:07.328Z"
   },
   {
    "duration": 18,
    "start_time": "2024-08-27T07:55:07.333Z"
   },
   {
    "duration": 382,
    "start_time": "2024-08-27T07:55:07.356Z"
   },
   {
    "duration": 64,
    "start_time": "2024-08-27T07:55:07.740Z"
   },
   {
    "duration": 177,
    "start_time": "2024-08-27T07:55:07.806Z"
   },
   {
    "duration": 499,
    "start_time": "2024-08-27T07:55:07.985Z"
   },
   {
    "duration": 96,
    "start_time": "2024-08-27T07:55:08.487Z"
   },
   {
    "duration": 0,
    "start_time": "2024-08-27T07:55:08.586Z"
   },
   {
    "duration": 0,
    "start_time": "2024-08-27T07:55:08.587Z"
   },
   {
    "duration": 0,
    "start_time": "2024-08-27T07:55:08.588Z"
   },
   {
    "duration": 0,
    "start_time": "2024-08-27T07:55:08.589Z"
   },
   {
    "duration": 0,
    "start_time": "2024-08-27T07:55:08.591Z"
   },
   {
    "duration": 0,
    "start_time": "2024-08-27T07:55:08.592Z"
   },
   {
    "duration": 0,
    "start_time": "2024-08-27T07:55:08.593Z"
   },
   {
    "duration": 0,
    "start_time": "2024-08-27T07:55:08.595Z"
   },
   {
    "duration": 0,
    "start_time": "2024-08-27T07:55:08.596Z"
   },
   {
    "duration": 0,
    "start_time": "2024-08-27T07:55:08.598Z"
   },
   {
    "duration": 207,
    "start_time": "2024-08-27T07:55:49.172Z"
   },
   {
    "duration": 713,
    "start_time": "2024-08-27T07:57:11.567Z"
   },
   {
    "duration": 519,
    "start_time": "2024-08-27T07:58:01.425Z"
   },
   {
    "duration": 582,
    "start_time": "2024-08-27T07:58:09.341Z"
   },
   {
    "duration": 525,
    "start_time": "2024-08-27T07:58:22.045Z"
   },
   {
    "duration": 921,
    "start_time": "2024-08-27T07:59:09.863Z"
   },
   {
    "duration": 1357,
    "start_time": "2024-08-27T07:59:52.859Z"
   },
   {
    "duration": 933,
    "start_time": "2024-08-27T08:00:21.300Z"
   },
   {
    "duration": 1193,
    "start_time": "2024-08-27T08:00:27.583Z"
   },
   {
    "duration": 1257,
    "start_time": "2024-08-27T08:00:31.864Z"
   },
   {
    "duration": 969,
    "start_time": "2024-08-27T08:01:25.023Z"
   },
   {
    "duration": 737,
    "start_time": "2024-08-27T08:01:49.203Z"
   },
   {
    "duration": 1264,
    "start_time": "2024-08-27T08:01:53.766Z"
   },
   {
    "duration": 1473,
    "start_time": "2024-08-27T08:01:58.774Z"
   },
   {
    "duration": 1322,
    "start_time": "2024-08-27T08:02:24.215Z"
   },
   {
    "duration": 1366,
    "start_time": "2024-08-27T08:02:52.739Z"
   },
   {
    "duration": 1283,
    "start_time": "2024-08-27T08:03:35.633Z"
   },
   {
    "duration": 1540,
    "start_time": "2024-08-27T08:03:49.435Z"
   },
   {
    "duration": 1368,
    "start_time": "2024-08-27T08:05:16.045Z"
   },
   {
    "duration": 9,
    "start_time": "2024-08-27T08:07:29.817Z"
   },
   {
    "duration": 1365,
    "start_time": "2024-08-27T08:08:47.893Z"
   },
   {
    "duration": 739,
    "start_time": "2024-08-27T08:08:57.569Z"
   },
   {
    "duration": 1382,
    "start_time": "2024-08-27T08:09:07.678Z"
   },
   {
    "duration": 1373,
    "start_time": "2024-08-27T08:09:28.327Z"
   },
   {
    "duration": 1555,
    "start_time": "2024-08-27T08:10:40.170Z"
   },
   {
    "duration": 1319,
    "start_time": "2024-08-27T08:13:53.142Z"
   },
   {
    "duration": 2179,
    "start_time": "2024-08-27T08:14:01.032Z"
   },
   {
    "duration": 2366,
    "start_time": "2024-08-27T08:14:12.996Z"
   },
   {
    "duration": 299,
    "start_time": "2024-08-27T08:31:14.038Z"
   },
   {
    "duration": 283,
    "start_time": "2024-08-27T08:31:24.718Z"
   },
   {
    "duration": 50,
    "start_time": "2024-08-27T08:31:34.995Z"
   },
   {
    "duration": 47,
    "start_time": "2024-08-27T08:31:58.564Z"
   },
   {
    "duration": 45,
    "start_time": "2024-08-27T08:32:03.934Z"
   },
   {
    "duration": 0,
    "start_time": "2024-08-27T08:32:43.027Z"
   },
   {
    "duration": 50,
    "start_time": "2024-08-27T08:36:31.407Z"
   },
   {
    "duration": 687,
    "start_time": "2024-08-27T08:36:38.701Z"
   },
   {
    "duration": 201,
    "start_time": "2024-08-27T08:36:39.390Z"
   },
   {
    "duration": 11,
    "start_time": "2024-08-27T08:36:39.593Z"
   },
   {
    "duration": 29,
    "start_time": "2024-08-27T08:36:39.607Z"
   },
   {
    "duration": 17,
    "start_time": "2024-08-27T08:36:39.638Z"
   },
   {
    "duration": 9,
    "start_time": "2024-08-27T08:36:39.657Z"
   },
   {
    "duration": 38,
    "start_time": "2024-08-27T08:36:39.668Z"
   },
   {
    "duration": 17,
    "start_time": "2024-08-27T08:36:39.707Z"
   },
   {
    "duration": 103,
    "start_time": "2024-08-27T08:36:39.726Z"
   },
   {
    "duration": 86,
    "start_time": "2024-08-27T08:36:39.833Z"
   },
   {
    "duration": 4,
    "start_time": "2024-08-27T08:36:39.921Z"
   },
   {
    "duration": 77,
    "start_time": "2024-08-27T08:36:39.927Z"
   },
   {
    "duration": 20,
    "start_time": "2024-08-27T08:36:40.006Z"
   },
   {
    "duration": 33,
    "start_time": "2024-08-27T08:36:40.028Z"
   },
   {
    "duration": 45,
    "start_time": "2024-08-27T08:36:40.063Z"
   },
   {
    "duration": 18,
    "start_time": "2024-08-27T08:36:40.110Z"
   },
   {
    "duration": 49,
    "start_time": "2024-08-27T08:36:40.129Z"
   },
   {
    "duration": 44,
    "start_time": "2024-08-27T08:36:40.180Z"
   },
   {
    "duration": 1282,
    "start_time": "2024-08-27T08:36:40.226Z"
   },
   {
    "duration": 300,
    "start_time": "2024-08-27T08:36:41.510Z"
   },
   {
    "duration": 162,
    "start_time": "2024-08-27T08:36:41.812Z"
   },
   {
    "duration": 583,
    "start_time": "2024-08-27T08:36:41.975Z"
   },
   {
    "duration": 45,
    "start_time": "2024-08-27T08:36:42.560Z"
   },
   {
    "duration": 50,
    "start_time": "2024-08-27T08:36:42.607Z"
   },
   {
    "duration": 685,
    "start_time": "2024-08-27T08:36:42.659Z"
   },
   {
    "duration": 754,
    "start_time": "2024-08-27T08:36:43.346Z"
   },
   {
    "duration": 202,
    "start_time": "2024-08-27T08:36:44.102Z"
   },
   {
    "duration": 4,
    "start_time": "2024-08-27T08:36:44.310Z"
   },
   {
    "duration": 20,
    "start_time": "2024-08-27T08:36:44.315Z"
   },
   {
    "duration": 1454,
    "start_time": "2024-08-27T08:36:44.337Z"
   },
   {
    "duration": 1265,
    "start_time": "2024-08-27T08:36:45.792Z"
   },
   {
    "duration": 3,
    "start_time": "2024-08-27T08:36:47.059Z"
   },
   {
    "duration": 6,
    "start_time": "2024-08-27T08:36:47.063Z"
   },
   {
    "duration": 337,
    "start_time": "2024-08-27T08:36:47.071Z"
   },
   {
    "duration": 58,
    "start_time": "2024-08-27T08:36:47.410Z"
   },
   {
    "duration": 193,
    "start_time": "2024-08-27T08:36:47.470Z"
   },
   {
    "duration": 185,
    "start_time": "2024-08-27T08:36:47.665Z"
   },
   {
    "duration": 0,
    "start_time": "2024-08-27T08:36:47.855Z"
   },
   {
    "duration": 0,
    "start_time": "2024-08-27T08:36:47.856Z"
   },
   {
    "duration": 0,
    "start_time": "2024-08-27T08:36:47.857Z"
   },
   {
    "duration": 0,
    "start_time": "2024-08-27T08:36:47.858Z"
   },
   {
    "duration": 0,
    "start_time": "2024-08-27T08:36:47.859Z"
   },
   {
    "duration": 0,
    "start_time": "2024-08-27T08:36:47.860Z"
   },
   {
    "duration": 0,
    "start_time": "2024-08-27T08:36:47.862Z"
   },
   {
    "duration": 0,
    "start_time": "2024-08-27T08:36:47.863Z"
   },
   {
    "duration": 0,
    "start_time": "2024-08-27T08:36:47.864Z"
   },
   {
    "duration": 0,
    "start_time": "2024-08-27T08:36:47.865Z"
   },
   {
    "duration": 0,
    "start_time": "2024-08-27T08:36:47.866Z"
   },
   {
    "duration": 0,
    "start_time": "2024-08-27T08:36:47.867Z"
   },
   {
    "duration": 0,
    "start_time": "2024-08-27T08:36:47.869Z"
   },
   {
    "duration": 11,
    "start_time": "2024-08-27T08:36:58.709Z"
   },
   {
    "duration": 22,
    "start_time": "2024-08-27T08:37:42.047Z"
   },
   {
    "duration": 52,
    "start_time": "2024-08-27T08:38:13.389Z"
   },
   {
    "duration": 764,
    "start_time": "2024-08-27T08:38:21.526Z"
   },
   {
    "duration": 717,
    "start_time": "2024-08-27T08:38:22.292Z"
   },
   {
    "duration": 12,
    "start_time": "2024-08-27T08:38:23.010Z"
   },
   {
    "duration": 53,
    "start_time": "2024-08-27T08:38:23.024Z"
   },
   {
    "duration": 3,
    "start_time": "2024-08-27T08:38:23.079Z"
   },
   {
    "duration": 21,
    "start_time": "2024-08-27T08:38:23.084Z"
   },
   {
    "duration": 54,
    "start_time": "2024-08-27T08:38:23.107Z"
   },
   {
    "duration": 5,
    "start_time": "2024-08-27T08:38:23.163Z"
   },
   {
    "duration": 125,
    "start_time": "2024-08-27T08:38:23.170Z"
   },
   {
    "duration": 87,
    "start_time": "2024-08-27T08:38:23.299Z"
   },
   {
    "duration": 4,
    "start_time": "2024-08-27T08:38:23.389Z"
   },
   {
    "duration": 78,
    "start_time": "2024-08-27T08:38:23.395Z"
   },
   {
    "duration": 21,
    "start_time": "2024-08-27T08:38:23.475Z"
   },
   {
    "duration": 19,
    "start_time": "2024-08-27T08:38:23.497Z"
   },
   {
    "duration": 59,
    "start_time": "2024-08-27T08:38:23.518Z"
   },
   {
    "duration": 17,
    "start_time": "2024-08-27T08:38:23.579Z"
   },
   {
    "duration": 42,
    "start_time": "2024-08-27T08:38:23.598Z"
   },
   {
    "duration": 54,
    "start_time": "2024-08-27T08:38:23.642Z"
   },
   {
    "duration": 1237,
    "start_time": "2024-08-27T08:38:23.697Z"
   },
   {
    "duration": 323,
    "start_time": "2024-08-27T08:38:24.936Z"
   },
   {
    "duration": 158,
    "start_time": "2024-08-27T08:38:25.260Z"
   },
   {
    "duration": 577,
    "start_time": "2024-08-27T08:38:25.420Z"
   },
   {
    "duration": 56,
    "start_time": "2024-08-27T08:38:25.999Z"
   },
   {
    "duration": 37,
    "start_time": "2024-08-27T08:38:26.057Z"
   },
   {
    "duration": 682,
    "start_time": "2024-08-27T08:38:26.096Z"
   },
   {
    "duration": 769,
    "start_time": "2024-08-27T08:38:26.780Z"
   },
   {
    "duration": 218,
    "start_time": "2024-08-27T08:38:27.550Z"
   },
   {
    "duration": 5,
    "start_time": "2024-08-27T08:38:27.772Z"
   },
   {
    "duration": 26,
    "start_time": "2024-08-27T08:38:27.778Z"
   },
   {
    "duration": 1429,
    "start_time": "2024-08-27T08:38:27.806Z"
   },
   {
    "duration": 1239,
    "start_time": "2024-08-27T08:38:29.237Z"
   },
   {
    "duration": 3,
    "start_time": "2024-08-27T08:38:30.478Z"
   },
   {
    "duration": 26,
    "start_time": "2024-08-27T08:38:30.483Z"
   },
   {
    "duration": 336,
    "start_time": "2024-08-27T08:38:30.511Z"
   },
   {
    "duration": 69,
    "start_time": "2024-08-27T08:38:30.849Z"
   },
   {
    "duration": 181,
    "start_time": "2024-08-27T08:38:30.920Z"
   },
   {
    "duration": 194,
    "start_time": "2024-08-27T08:38:31.103Z"
   },
   {
    "duration": 0,
    "start_time": "2024-08-27T08:38:31.298Z"
   },
   {
    "duration": 0,
    "start_time": "2024-08-27T08:38:31.300Z"
   },
   {
    "duration": 0,
    "start_time": "2024-08-27T08:38:31.301Z"
   },
   {
    "duration": 0,
    "start_time": "2024-08-27T08:38:31.302Z"
   },
   {
    "duration": 0,
    "start_time": "2024-08-27T08:38:31.303Z"
   },
   {
    "duration": 0,
    "start_time": "2024-08-27T08:38:31.304Z"
   },
   {
    "duration": 0,
    "start_time": "2024-08-27T08:38:31.305Z"
   },
   {
    "duration": 0,
    "start_time": "2024-08-27T08:38:31.306Z"
   },
   {
    "duration": 0,
    "start_time": "2024-08-27T08:38:31.308Z"
   },
   {
    "duration": 0,
    "start_time": "2024-08-27T08:38:31.309Z"
   },
   {
    "duration": 0,
    "start_time": "2024-08-27T08:38:31.310Z"
   },
   {
    "duration": 0,
    "start_time": "2024-08-27T08:38:31.311Z"
   },
   {
    "duration": 0,
    "start_time": "2024-08-27T08:38:31.312Z"
   },
   {
    "duration": 1094,
    "start_time": "2024-08-27T08:38:45.264Z"
   },
   {
    "duration": 22,
    "start_time": "2024-08-27T08:39:09.907Z"
   },
   {
    "duration": 51,
    "start_time": "2024-08-27T08:39:26.970Z"
   },
   {
    "duration": 787,
    "start_time": "2024-08-27T08:39:33.646Z"
   },
   {
    "duration": 721,
    "start_time": "2024-08-27T08:39:34.435Z"
   },
   {
    "duration": 16,
    "start_time": "2024-08-27T08:39:35.158Z"
   },
   {
    "duration": 52,
    "start_time": "2024-08-27T08:39:35.176Z"
   },
   {
    "duration": 15,
    "start_time": "2024-08-27T08:39:35.230Z"
   },
   {
    "duration": 50,
    "start_time": "2024-08-27T08:39:35.247Z"
   },
   {
    "duration": 34,
    "start_time": "2024-08-27T08:39:35.299Z"
   },
   {
    "duration": 7,
    "start_time": "2024-08-27T08:39:35.334Z"
   },
   {
    "duration": 90,
    "start_time": "2024-08-27T08:39:35.343Z"
   },
   {
    "duration": 92,
    "start_time": "2024-08-27T08:39:35.435Z"
   },
   {
    "duration": 4,
    "start_time": "2024-08-27T08:39:35.529Z"
   },
   {
    "duration": 104,
    "start_time": "2024-08-27T08:39:35.535Z"
   },
   {
    "duration": 21,
    "start_time": "2024-08-27T08:39:35.640Z"
   },
   {
    "duration": 20,
    "start_time": "2024-08-27T08:39:35.664Z"
   },
   {
    "duration": 57,
    "start_time": "2024-08-27T08:39:35.685Z"
   },
   {
    "duration": 23,
    "start_time": "2024-08-27T08:39:35.744Z"
   },
   {
    "duration": 55,
    "start_time": "2024-08-27T08:39:35.768Z"
   },
   {
    "duration": 59,
    "start_time": "2024-08-27T08:39:35.825Z"
   },
   {
    "duration": 1244,
    "start_time": "2024-08-27T08:39:35.885Z"
   },
   {
    "duration": 316,
    "start_time": "2024-08-27T08:39:37.130Z"
   },
   {
    "duration": 165,
    "start_time": "2024-08-27T08:39:37.455Z"
   },
   {
    "duration": 594,
    "start_time": "2024-08-27T08:39:37.622Z"
   },
   {
    "duration": 52,
    "start_time": "2024-08-27T08:39:38.218Z"
   },
   {
    "duration": 36,
    "start_time": "2024-08-27T08:39:38.272Z"
   },
   {
    "duration": 651,
    "start_time": "2024-08-27T08:39:38.310Z"
   },
   {
    "duration": 809,
    "start_time": "2024-08-27T08:39:38.963Z"
   },
   {
    "duration": 192,
    "start_time": "2024-08-27T08:39:39.774Z"
   },
   {
    "duration": 5,
    "start_time": "2024-08-27T08:39:39.967Z"
   },
   {
    "duration": 32,
    "start_time": "2024-08-27T08:39:39.973Z"
   },
   {
    "duration": 1527,
    "start_time": "2024-08-27T08:39:40.006Z"
   },
   {
    "duration": 1227,
    "start_time": "2024-08-27T08:39:41.534Z"
   },
   {
    "duration": 4,
    "start_time": "2024-08-27T08:39:42.762Z"
   },
   {
    "duration": 34,
    "start_time": "2024-08-27T08:39:42.767Z"
   },
   {
    "duration": 337,
    "start_time": "2024-08-27T08:39:42.803Z"
   },
   {
    "duration": 67,
    "start_time": "2024-08-27T08:39:43.143Z"
   },
   {
    "duration": 184,
    "start_time": "2024-08-27T08:39:43.212Z"
   },
   {
    "duration": 191,
    "start_time": "2024-08-27T08:39:43.398Z"
   },
   {
    "duration": 0,
    "start_time": "2024-08-27T08:39:43.591Z"
   },
   {
    "duration": 0,
    "start_time": "2024-08-27T08:39:43.592Z"
   },
   {
    "duration": 0,
    "start_time": "2024-08-27T08:39:43.593Z"
   },
   {
    "duration": 0,
    "start_time": "2024-08-27T08:39:43.594Z"
   },
   {
    "duration": 0,
    "start_time": "2024-08-27T08:39:43.595Z"
   },
   {
    "duration": 0,
    "start_time": "2024-08-27T08:39:43.596Z"
   },
   {
    "duration": 0,
    "start_time": "2024-08-27T08:39:43.597Z"
   },
   {
    "duration": 0,
    "start_time": "2024-08-27T08:39:43.598Z"
   },
   {
    "duration": 1,
    "start_time": "2024-08-27T08:39:43.598Z"
   },
   {
    "duration": 0,
    "start_time": "2024-08-27T08:39:43.599Z"
   },
   {
    "duration": 0,
    "start_time": "2024-08-27T08:39:43.600Z"
   },
   {
    "duration": 0,
    "start_time": "2024-08-27T08:39:43.601Z"
   },
   {
    "duration": 0,
    "start_time": "2024-08-27T08:39:43.602Z"
   },
   {
    "duration": 54,
    "start_time": "2024-08-27T08:40:14.917Z"
   },
   {
    "duration": 708,
    "start_time": "2024-08-27T08:40:33.265Z"
   },
   {
    "duration": 714,
    "start_time": "2024-08-27T08:40:33.975Z"
   },
   {
    "duration": 13,
    "start_time": "2024-08-27T08:40:34.690Z"
   },
   {
    "duration": 70,
    "start_time": "2024-08-27T08:40:34.704Z"
   },
   {
    "duration": 3,
    "start_time": "2024-08-27T08:40:34.776Z"
   },
   {
    "duration": 17,
    "start_time": "2024-08-27T08:40:34.780Z"
   },
   {
    "duration": 21,
    "start_time": "2024-08-27T08:40:34.799Z"
   },
   {
    "duration": 5,
    "start_time": "2024-08-27T08:40:34.822Z"
   },
   {
    "duration": 107,
    "start_time": "2024-08-27T08:40:34.828Z"
   },
   {
    "duration": 83,
    "start_time": "2024-08-27T08:40:34.937Z"
   },
   {
    "duration": 4,
    "start_time": "2024-08-27T08:40:35.022Z"
   },
   {
    "duration": 82,
    "start_time": "2024-08-27T08:40:35.028Z"
   },
   {
    "duration": 20,
    "start_time": "2024-08-27T08:40:35.112Z"
   },
   {
    "duration": 32,
    "start_time": "2024-08-27T08:40:35.135Z"
   },
   {
    "duration": 55,
    "start_time": "2024-08-27T08:40:35.168Z"
   },
   {
    "duration": 25,
    "start_time": "2024-08-27T08:40:35.224Z"
   },
   {
    "duration": 25,
    "start_time": "2024-08-27T08:40:35.251Z"
   },
   {
    "duration": 52,
    "start_time": "2024-08-27T08:40:35.278Z"
   },
   {
    "duration": 1237,
    "start_time": "2024-08-27T08:40:35.332Z"
   },
   {
    "duration": 300,
    "start_time": "2024-08-27T08:40:36.571Z"
   },
   {
    "duration": 160,
    "start_time": "2024-08-27T08:40:36.873Z"
   },
   {
    "duration": 642,
    "start_time": "2024-08-27T08:40:37.034Z"
   },
   {
    "duration": 48,
    "start_time": "2024-08-27T08:40:37.677Z"
   },
   {
    "duration": 57,
    "start_time": "2024-08-27T08:40:37.727Z"
   },
   {
    "duration": 673,
    "start_time": "2024-08-27T08:40:37.786Z"
   },
   {
    "duration": 781,
    "start_time": "2024-08-27T08:40:38.460Z"
   },
   {
    "duration": 196,
    "start_time": "2024-08-27T08:40:39.243Z"
   },
   {
    "duration": 5,
    "start_time": "2024-08-27T08:40:39.440Z"
   },
   {
    "duration": 58,
    "start_time": "2024-08-27T08:40:39.456Z"
   },
   {
    "duration": 1411,
    "start_time": "2024-08-27T08:40:39.516Z"
   },
   {
    "duration": 1246,
    "start_time": "2024-08-27T08:40:40.928Z"
   },
   {
    "duration": 2,
    "start_time": "2024-08-27T08:40:42.176Z"
   },
   {
    "duration": 5,
    "start_time": "2024-08-27T08:40:42.180Z"
   },
   {
    "duration": 338,
    "start_time": "2024-08-27T08:40:42.187Z"
   },
   {
    "duration": 68,
    "start_time": "2024-08-27T08:40:42.527Z"
   },
   {
    "duration": 173,
    "start_time": "2024-08-27T08:40:42.597Z"
   },
   {
    "duration": 191,
    "start_time": "2024-08-27T08:40:42.772Z"
   },
   {
    "duration": 0,
    "start_time": "2024-08-27T08:40:42.965Z"
   },
   {
    "duration": 0,
    "start_time": "2024-08-27T08:40:42.966Z"
   },
   {
    "duration": 0,
    "start_time": "2024-08-27T08:40:42.967Z"
   },
   {
    "duration": 0,
    "start_time": "2024-08-27T08:40:42.968Z"
   },
   {
    "duration": 0,
    "start_time": "2024-08-27T08:40:42.969Z"
   },
   {
    "duration": 0,
    "start_time": "2024-08-27T08:40:42.970Z"
   },
   {
    "duration": 0,
    "start_time": "2024-08-27T08:40:42.971Z"
   },
   {
    "duration": 0,
    "start_time": "2024-08-27T08:40:42.972Z"
   },
   {
    "duration": 0,
    "start_time": "2024-08-27T08:40:42.973Z"
   },
   {
    "duration": 0,
    "start_time": "2024-08-27T08:40:42.974Z"
   },
   {
    "duration": 0,
    "start_time": "2024-08-27T08:40:42.976Z"
   },
   {
    "duration": 0,
    "start_time": "2024-08-27T08:40:42.977Z"
   },
   {
    "duration": 0,
    "start_time": "2024-08-27T08:40:42.978Z"
   },
   {
    "duration": 3710,
    "start_time": "2024-08-27T08:40:50.807Z"
   },
   {
    "duration": 3788,
    "start_time": "2024-08-27T08:41:00.003Z"
   },
   {
    "duration": 50,
    "start_time": "2024-08-27T08:41:46.440Z"
   },
   {
    "duration": 688,
    "start_time": "2024-08-27T08:41:52.153Z"
   },
   {
    "duration": 729,
    "start_time": "2024-08-27T08:41:52.843Z"
   },
   {
    "duration": 12,
    "start_time": "2024-08-27T08:41:53.574Z"
   },
   {
    "duration": 26,
    "start_time": "2024-08-27T08:41:53.588Z"
   },
   {
    "duration": 4,
    "start_time": "2024-08-27T08:41:53.617Z"
   },
   {
    "duration": 12,
    "start_time": "2024-08-27T08:41:53.623Z"
   },
   {
    "duration": 37,
    "start_time": "2024-08-27T08:41:53.637Z"
   },
   {
    "duration": 24,
    "start_time": "2024-08-27T08:41:53.676Z"
   },
   {
    "duration": 81,
    "start_time": "2024-08-27T08:41:53.701Z"
   },
   {
    "duration": 83,
    "start_time": "2024-08-27T08:41:53.784Z"
   },
   {
    "duration": 4,
    "start_time": "2024-08-27T08:41:53.869Z"
   },
   {
    "duration": 57,
    "start_time": "2024-08-27T08:41:53.875Z"
   },
   {
    "duration": 37,
    "start_time": "2024-08-27T08:41:53.933Z"
   },
   {
    "duration": 18,
    "start_time": "2024-08-27T08:41:53.973Z"
   },
   {
    "duration": 56,
    "start_time": "2024-08-27T08:41:53.993Z"
   },
   {
    "duration": 17,
    "start_time": "2024-08-27T08:41:54.055Z"
   },
   {
    "duration": 33,
    "start_time": "2024-08-27T08:41:54.073Z"
   },
   {
    "duration": 55,
    "start_time": "2024-08-27T08:41:54.107Z"
   },
   {
    "duration": 1256,
    "start_time": "2024-08-27T08:41:54.164Z"
   },
   {
    "duration": 293,
    "start_time": "2024-08-27T08:41:55.422Z"
   },
   {
    "duration": 160,
    "start_time": "2024-08-27T08:41:55.716Z"
   },
   {
    "duration": 595,
    "start_time": "2024-08-27T08:41:55.878Z"
   },
   {
    "duration": 46,
    "start_time": "2024-08-27T08:41:56.475Z"
   },
   {
    "duration": 52,
    "start_time": "2024-08-27T08:41:56.522Z"
   },
   {
    "duration": 676,
    "start_time": "2024-08-27T08:41:56.575Z"
   },
   {
    "duration": 786,
    "start_time": "2024-08-27T08:41:57.256Z"
   },
   {
    "duration": 198,
    "start_time": "2024-08-27T08:41:58.044Z"
   },
   {
    "duration": 12,
    "start_time": "2024-08-27T08:41:58.243Z"
   },
   {
    "duration": 14,
    "start_time": "2024-08-27T08:41:58.257Z"
   },
   {
    "duration": 1445,
    "start_time": "2024-08-27T08:41:58.273Z"
   },
   {
    "duration": 1328,
    "start_time": "2024-08-27T08:41:59.720Z"
   },
   {
    "duration": 5,
    "start_time": "2024-08-27T08:42:01.050Z"
   },
   {
    "duration": 4,
    "start_time": "2024-08-27T08:42:01.057Z"
   },
   {
    "duration": 324,
    "start_time": "2024-08-27T08:42:01.062Z"
   },
   {
    "duration": 69,
    "start_time": "2024-08-27T08:42:01.387Z"
   },
   {
    "duration": 174,
    "start_time": "2024-08-27T08:42:01.458Z"
   },
   {
    "duration": 185,
    "start_time": "2024-08-27T08:42:01.634Z"
   },
   {
    "duration": 0,
    "start_time": "2024-08-27T08:42:01.821Z"
   },
   {
    "duration": 0,
    "start_time": "2024-08-27T08:42:01.822Z"
   },
   {
    "duration": 0,
    "start_time": "2024-08-27T08:42:01.823Z"
   },
   {
    "duration": 0,
    "start_time": "2024-08-27T08:42:01.824Z"
   },
   {
    "duration": 0,
    "start_time": "2024-08-27T08:42:01.826Z"
   },
   {
    "duration": 0,
    "start_time": "2024-08-27T08:42:01.827Z"
   },
   {
    "duration": 0,
    "start_time": "2024-08-27T08:42:01.828Z"
   },
   {
    "duration": 0,
    "start_time": "2024-08-27T08:42:01.829Z"
   },
   {
    "duration": 0,
    "start_time": "2024-08-27T08:42:01.830Z"
   },
   {
    "duration": 0,
    "start_time": "2024-08-27T08:42:01.831Z"
   },
   {
    "duration": 0,
    "start_time": "2024-08-27T08:42:01.856Z"
   },
   {
    "duration": 0,
    "start_time": "2024-08-27T08:42:01.857Z"
   },
   {
    "duration": 0,
    "start_time": "2024-08-27T08:42:01.858Z"
   },
   {
    "duration": 50,
    "start_time": "2024-08-27T08:42:25.646Z"
   },
   {
    "duration": 718,
    "start_time": "2024-08-27T08:42:32.966Z"
   },
   {
    "duration": 711,
    "start_time": "2024-08-27T08:42:33.686Z"
   },
   {
    "duration": 12,
    "start_time": "2024-08-27T08:42:34.400Z"
   },
   {
    "duration": 28,
    "start_time": "2024-08-27T08:42:34.414Z"
   },
   {
    "duration": 3,
    "start_time": "2024-08-27T08:42:34.444Z"
   },
   {
    "duration": 63,
    "start_time": "2024-08-27T08:42:34.449Z"
   },
   {
    "duration": 22,
    "start_time": "2024-08-27T08:42:34.514Z"
   },
   {
    "duration": 17,
    "start_time": "2024-08-27T08:42:34.538Z"
   },
   {
    "duration": 105,
    "start_time": "2024-08-27T08:42:34.556Z"
   },
   {
    "duration": 80,
    "start_time": "2024-08-27T08:42:34.664Z"
   },
   {
    "duration": 4,
    "start_time": "2024-08-27T08:42:34.756Z"
   },
   {
    "duration": 72,
    "start_time": "2024-08-27T08:42:34.762Z"
   },
   {
    "duration": 25,
    "start_time": "2024-08-27T08:42:34.835Z"
   },
   {
    "duration": 20,
    "start_time": "2024-08-27T08:42:34.861Z"
   },
   {
    "duration": 67,
    "start_time": "2024-08-27T08:42:34.883Z"
   },
   {
    "duration": 25,
    "start_time": "2024-08-27T08:42:34.952Z"
   },
   {
    "duration": 40,
    "start_time": "2024-08-27T08:42:34.978Z"
   },
   {
    "duration": 55,
    "start_time": "2024-08-27T08:42:35.020Z"
   },
   {
    "duration": 1250,
    "start_time": "2024-08-27T08:42:35.076Z"
   },
   {
    "duration": 295,
    "start_time": "2024-08-27T08:42:36.328Z"
   },
   {
    "duration": 164,
    "start_time": "2024-08-27T08:42:36.624Z"
   },
   {
    "duration": 594,
    "start_time": "2024-08-27T08:42:36.790Z"
   },
   {
    "duration": 48,
    "start_time": "2024-08-27T08:42:37.386Z"
   },
   {
    "duration": 66,
    "start_time": "2024-08-27T08:42:37.435Z"
   },
   {
    "duration": 677,
    "start_time": "2024-08-27T08:42:37.503Z"
   },
   {
    "duration": 767,
    "start_time": "2024-08-27T08:42:38.182Z"
   },
   {
    "duration": 201,
    "start_time": "2024-08-27T08:42:38.954Z"
   },
   {
    "duration": 5,
    "start_time": "2024-08-27T08:42:39.159Z"
   },
   {
    "duration": 69,
    "start_time": "2024-08-27T08:42:39.165Z"
   },
   {
    "duration": 1412,
    "start_time": "2024-08-27T08:42:39.236Z"
   },
   {
    "duration": 1262,
    "start_time": "2024-08-27T08:42:40.650Z"
   },
   {
    "duration": 4,
    "start_time": "2024-08-27T08:42:41.914Z"
   },
   {
    "duration": 5,
    "start_time": "2024-08-27T08:42:41.920Z"
   },
   {
    "duration": 337,
    "start_time": "2024-08-27T08:42:41.926Z"
   },
   {
    "duration": 55,
    "start_time": "2024-08-27T08:42:42.265Z"
   },
   {
    "duration": 186,
    "start_time": "2024-08-27T08:42:42.321Z"
   },
   {
    "duration": 186,
    "start_time": "2024-08-27T08:42:42.509Z"
   },
   {
    "duration": 0,
    "start_time": "2024-08-27T08:42:42.698Z"
   },
   {
    "duration": 0,
    "start_time": "2024-08-27T08:42:42.699Z"
   },
   {
    "duration": 0,
    "start_time": "2024-08-27T08:42:42.701Z"
   },
   {
    "duration": 0,
    "start_time": "2024-08-27T08:42:42.702Z"
   },
   {
    "duration": 0,
    "start_time": "2024-08-27T08:42:42.704Z"
   },
   {
    "duration": 0,
    "start_time": "2024-08-27T08:42:42.705Z"
   },
   {
    "duration": 0,
    "start_time": "2024-08-27T08:42:42.706Z"
   },
   {
    "duration": 0,
    "start_time": "2024-08-27T08:42:42.708Z"
   },
   {
    "duration": 0,
    "start_time": "2024-08-27T08:42:42.709Z"
   },
   {
    "duration": 0,
    "start_time": "2024-08-27T08:42:42.711Z"
   },
   {
    "duration": 0,
    "start_time": "2024-08-27T08:42:42.712Z"
   },
   {
    "duration": 0,
    "start_time": "2024-08-27T08:42:42.714Z"
   },
   {
    "duration": 0,
    "start_time": "2024-08-27T08:42:42.715Z"
   },
   {
    "duration": 681,
    "start_time": "2024-08-27T08:43:23.190Z"
   },
   {
    "duration": 718,
    "start_time": "2024-08-27T08:43:23.873Z"
   },
   {
    "duration": 12,
    "start_time": "2024-08-27T08:43:24.592Z"
   },
   {
    "duration": 25,
    "start_time": "2024-08-27T08:43:24.605Z"
   },
   {
    "duration": 3,
    "start_time": "2024-08-27T08:43:24.634Z"
   },
   {
    "duration": 21,
    "start_time": "2024-08-27T08:43:24.639Z"
   },
   {
    "duration": 23,
    "start_time": "2024-08-27T08:43:24.662Z"
   },
   {
    "duration": 7,
    "start_time": "2024-08-27T08:43:24.686Z"
   },
   {
    "duration": 116,
    "start_time": "2024-08-27T08:43:24.694Z"
   },
   {
    "duration": 99,
    "start_time": "2024-08-27T08:43:24.811Z"
   },
   {
    "duration": 6,
    "start_time": "2024-08-27T08:43:24.912Z"
   },
   {
    "duration": 70,
    "start_time": "2024-08-27T08:43:24.919Z"
   },
   {
    "duration": 20,
    "start_time": "2024-08-27T08:43:24.991Z"
   },
   {
    "duration": 19,
    "start_time": "2024-08-27T08:43:25.014Z"
   },
   {
    "duration": 44,
    "start_time": "2024-08-27T08:43:25.055Z"
   },
   {
    "duration": 21,
    "start_time": "2024-08-27T08:43:25.100Z"
   },
   {
    "duration": 42,
    "start_time": "2024-08-27T08:43:25.123Z"
   },
   {
    "duration": 41,
    "start_time": "2024-08-27T08:43:25.167Z"
   },
   {
    "duration": 1238,
    "start_time": "2024-08-27T08:43:25.210Z"
   },
   {
    "duration": 292,
    "start_time": "2024-08-27T08:43:26.454Z"
   },
   {
    "duration": 103,
    "start_time": "2024-08-27T08:43:26.755Z"
   },
   {
    "duration": 638,
    "start_time": "2024-08-27T08:43:26.859Z"
   },
   {
    "duration": 65,
    "start_time": "2024-08-27T08:43:27.498Z"
   },
   {
    "duration": 39,
    "start_time": "2024-08-27T08:43:27.565Z"
   },
   {
    "duration": 675,
    "start_time": "2024-08-27T08:43:27.608Z"
   },
   {
    "duration": 745,
    "start_time": "2024-08-27T08:43:28.285Z"
   },
   {
    "duration": 211,
    "start_time": "2024-08-27T08:43:29.032Z"
   },
   {
    "duration": 7,
    "start_time": "2024-08-27T08:43:29.255Z"
   },
   {
    "duration": 18,
    "start_time": "2024-08-27T08:43:29.263Z"
   },
   {
    "duration": 1466,
    "start_time": "2024-08-27T08:43:29.283Z"
   },
   {
    "duration": 1241,
    "start_time": "2024-08-27T08:43:30.755Z"
   },
   {
    "duration": 3,
    "start_time": "2024-08-27T08:43:31.998Z"
   },
   {
    "duration": 24,
    "start_time": "2024-08-27T08:43:32.003Z"
   },
   {
    "duration": 338,
    "start_time": "2024-08-27T08:43:32.029Z"
   },
   {
    "duration": 55,
    "start_time": "2024-08-27T08:43:32.369Z"
   },
   {
    "duration": 190,
    "start_time": "2024-08-27T08:43:32.426Z"
   },
   {
    "duration": 191,
    "start_time": "2024-08-27T08:43:32.617Z"
   },
   {
    "duration": 0,
    "start_time": "2024-08-27T08:43:32.810Z"
   },
   {
    "duration": 0,
    "start_time": "2024-08-27T08:43:32.811Z"
   },
   {
    "duration": 0,
    "start_time": "2024-08-27T08:43:32.812Z"
   },
   {
    "duration": 0,
    "start_time": "2024-08-27T08:43:32.813Z"
   },
   {
    "duration": 0,
    "start_time": "2024-08-27T08:43:32.815Z"
   },
   {
    "duration": 0,
    "start_time": "2024-08-27T08:43:32.815Z"
   },
   {
    "duration": 0,
    "start_time": "2024-08-27T08:43:32.816Z"
   },
   {
    "duration": 0,
    "start_time": "2024-08-27T08:43:32.817Z"
   },
   {
    "duration": 0,
    "start_time": "2024-08-27T08:43:32.818Z"
   },
   {
    "duration": 0,
    "start_time": "2024-08-27T08:43:32.819Z"
   },
   {
    "duration": 0,
    "start_time": "2024-08-27T08:43:32.820Z"
   },
   {
    "duration": 0,
    "start_time": "2024-08-27T08:43:32.822Z"
   },
   {
    "duration": 0,
    "start_time": "2024-08-27T08:43:32.822Z"
   },
   {
    "duration": 37438,
    "start_time": "2024-08-27T08:43:41.223Z"
   },
   {
    "duration": 0,
    "start_time": "2024-08-27T08:47:51.958Z"
   },
   {
    "duration": 0,
    "start_time": "2024-08-27T08:47:51.959Z"
   },
   {
    "duration": 9,
    "start_time": "2024-08-27T08:47:54.337Z"
   },
   {
    "duration": 87,
    "start_time": "2024-08-27T08:48:22.520Z"
   },
   {
    "duration": 55,
    "start_time": "2024-08-27T08:48:36.440Z"
   },
   {
    "duration": 9,
    "start_time": "2024-08-27T08:48:53.210Z"
   },
   {
    "duration": 6,
    "start_time": "2024-08-27T08:49:01.292Z"
   },
   {
    "duration": 7,
    "start_time": "2024-08-27T08:49:10.814Z"
   },
   {
    "duration": 697,
    "start_time": "2024-08-27T08:49:15.846Z"
   },
   {
    "duration": 730,
    "start_time": "2024-08-27T08:49:16.545Z"
   },
   {
    "duration": 13,
    "start_time": "2024-08-27T08:49:17.277Z"
   },
   {
    "duration": 42,
    "start_time": "2024-08-27T08:49:17.291Z"
   },
   {
    "duration": 2,
    "start_time": "2024-08-27T08:49:17.336Z"
   },
   {
    "duration": 13,
    "start_time": "2024-08-27T08:49:17.340Z"
   },
   {
    "duration": 28,
    "start_time": "2024-08-27T08:49:17.355Z"
   },
   {
    "duration": 21,
    "start_time": "2024-08-27T08:49:17.384Z"
   },
   {
    "duration": 97,
    "start_time": "2024-08-27T08:49:17.407Z"
   },
   {
    "duration": 102,
    "start_time": "2024-08-27T08:49:17.506Z"
   },
   {
    "duration": 5,
    "start_time": "2024-08-27T08:49:17.611Z"
   },
   {
    "duration": 81,
    "start_time": "2024-08-27T08:49:17.618Z"
   },
   {
    "duration": 20,
    "start_time": "2024-08-27T08:49:17.701Z"
   },
   {
    "duration": 20,
    "start_time": "2024-08-27T08:49:17.724Z"
   },
   {
    "duration": 46,
    "start_time": "2024-08-27T08:49:17.756Z"
   },
   {
    "duration": 18,
    "start_time": "2024-08-27T08:49:17.804Z"
   },
   {
    "duration": 46,
    "start_time": "2024-08-27T08:49:17.824Z"
   },
   {
    "duration": 42,
    "start_time": "2024-08-27T08:49:17.872Z"
   },
   {
    "duration": 1233,
    "start_time": "2024-08-27T08:49:17.916Z"
   },
   {
    "duration": 299,
    "start_time": "2024-08-27T08:49:19.151Z"
   },
   {
    "duration": 165,
    "start_time": "2024-08-27T08:49:19.451Z"
   },
   {
    "duration": 573,
    "start_time": "2024-08-27T08:49:19.618Z"
   },
   {
    "duration": 46,
    "start_time": "2024-08-27T08:49:20.192Z"
   },
   {
    "duration": 47,
    "start_time": "2024-08-27T08:49:20.239Z"
   },
   {
    "duration": 675,
    "start_time": "2024-08-27T08:49:20.288Z"
   },
   {
    "duration": 739,
    "start_time": "2024-08-27T08:49:20.964Z"
   },
   {
    "duration": 193,
    "start_time": "2024-08-27T08:49:21.705Z"
   },
   {
    "duration": 5,
    "start_time": "2024-08-27T08:49:21.899Z"
   },
   {
    "duration": 19,
    "start_time": "2024-08-27T08:49:21.906Z"
   },
   {
    "duration": 1413,
    "start_time": "2024-08-27T08:49:21.926Z"
   },
   {
    "duration": 1200,
    "start_time": "2024-08-27T08:49:23.341Z"
   },
   {
    "duration": 3,
    "start_time": "2024-08-27T08:49:24.543Z"
   },
   {
    "duration": 4,
    "start_time": "2024-08-27T08:49:24.555Z"
   },
   {
    "duration": 325,
    "start_time": "2024-08-27T08:49:24.560Z"
   },
   {
    "duration": 55,
    "start_time": "2024-08-27T08:49:24.887Z"
   },
   {
    "duration": 169,
    "start_time": "2024-08-27T08:49:24.956Z"
   },
   {
    "duration": 221,
    "start_time": "2024-08-27T08:49:25.127Z"
   },
   {
    "duration": 0,
    "start_time": "2024-08-27T08:49:25.350Z"
   },
   {
    "duration": 0,
    "start_time": "2024-08-27T08:49:25.351Z"
   },
   {
    "duration": 0,
    "start_time": "2024-08-27T08:49:25.355Z"
   },
   {
    "duration": 0,
    "start_time": "2024-08-27T08:49:25.356Z"
   },
   {
    "duration": 0,
    "start_time": "2024-08-27T08:49:25.357Z"
   },
   {
    "duration": 0,
    "start_time": "2024-08-27T08:49:25.358Z"
   },
   {
    "duration": 0,
    "start_time": "2024-08-27T08:49:25.359Z"
   },
   {
    "duration": 0,
    "start_time": "2024-08-27T08:49:25.360Z"
   },
   {
    "duration": 0,
    "start_time": "2024-08-27T08:49:25.361Z"
   },
   {
    "duration": 0,
    "start_time": "2024-08-27T08:49:25.362Z"
   },
   {
    "duration": 0,
    "start_time": "2024-08-27T08:49:25.363Z"
   },
   {
    "duration": 0,
    "start_time": "2024-08-27T08:49:25.364Z"
   },
   {
    "duration": 0,
    "start_time": "2024-08-27T08:49:25.365Z"
   },
   {
    "duration": 8,
    "start_time": "2024-08-27T08:49:30.256Z"
   },
   {
    "duration": 62,
    "start_time": "2024-08-27T08:49:32.633Z"
   },
   {
    "duration": 9,
    "start_time": "2024-08-27T08:49:46.905Z"
   },
   {
    "duration": 9,
    "start_time": "2024-08-27T08:50:24.351Z"
   },
   {
    "duration": 10,
    "start_time": "2024-08-27T08:50:32.687Z"
   },
   {
    "duration": 69,
    "start_time": "2024-08-27T08:51:02.923Z"
   },
   {
    "duration": 598,
    "start_time": "2024-08-27T08:52:05.596Z"
   },
   {
    "duration": 626,
    "start_time": "2024-08-27T08:52:14.549Z"
   },
   {
    "duration": 4,
    "start_time": "2024-08-27T08:52:56.173Z"
   },
   {
    "duration": 635,
    "start_time": "2024-08-27T08:52:59.435Z"
   },
   {
    "duration": 622,
    "start_time": "2024-08-27T08:53:45.453Z"
   },
   {
    "duration": 637,
    "start_time": "2024-08-27T08:54:24.349Z"
   },
   {
    "duration": 632,
    "start_time": "2024-08-27T08:54:53.348Z"
   },
   {
    "duration": 618,
    "start_time": "2024-08-27T08:55:13.390Z"
   },
   {
    "duration": 52,
    "start_time": "2024-08-27T08:55:34.188Z"
   },
   {
    "duration": 69,
    "start_time": "2024-08-27T08:55:42.084Z"
   },
   {
    "duration": 648,
    "start_time": "2024-08-27T08:55:44.782Z"
   },
   {
    "duration": 983,
    "start_time": "2024-08-27T08:57:48.230Z"
   },
   {
    "duration": 425,
    "start_time": "2024-08-27T08:57:50.293Z"
   },
   {
    "duration": 270,
    "start_time": "2024-08-27T09:00:30.733Z"
   },
   {
    "duration": 280,
    "start_time": "2024-08-27T09:00:37.872Z"
   },
   {
    "duration": 276,
    "start_time": "2024-08-27T09:00:46.769Z"
   },
   {
    "duration": 9,
    "start_time": "2024-08-27T09:00:51.168Z"
   },
   {
    "duration": 54,
    "start_time": "2024-08-27T09:01:10.186Z"
   },
   {
    "duration": 52,
    "start_time": "2024-08-27T09:01:24.730Z"
   },
   {
    "duration": 56,
    "start_time": "2024-08-27T09:01:36.901Z"
   },
   {
    "duration": 53,
    "start_time": "2024-08-27T09:01:50.742Z"
   },
   {
    "duration": 57,
    "start_time": "2024-08-27T09:02:04.076Z"
   },
   {
    "duration": 316,
    "start_time": "2024-08-27T09:02:58.988Z"
   },
   {
    "duration": 337,
    "start_time": "2024-08-27T09:03:31.646Z"
   },
   {
    "duration": 329,
    "start_time": "2024-08-27T09:03:36.594Z"
   },
   {
    "duration": 319,
    "start_time": "2024-08-27T09:04:08.023Z"
   },
   {
    "duration": 317,
    "start_time": "2024-08-27T09:05:08.389Z"
   },
   {
    "duration": 348,
    "start_time": "2024-08-27T09:05:26.928Z"
   },
   {
    "duration": 314,
    "start_time": "2024-08-27T09:07:36.179Z"
   },
   {
    "duration": 322,
    "start_time": "2024-08-27T09:07:47.234Z"
   },
   {
    "duration": 312,
    "start_time": "2024-08-27T09:07:49.877Z"
   },
   {
    "duration": 1159,
    "start_time": "2024-08-27T09:09:17.180Z"
   },
   {
    "duration": 351,
    "start_time": "2024-08-27T09:11:20.337Z"
   },
   {
    "duration": 309,
    "start_time": "2024-08-27T09:11:37.950Z"
   },
   {
    "duration": 336,
    "start_time": "2024-08-27T09:11:50.271Z"
   },
   {
    "duration": 318,
    "start_time": "2024-08-27T09:13:24.679Z"
   },
   {
    "duration": 341,
    "start_time": "2024-08-27T09:13:27.324Z"
   },
   {
    "duration": 340,
    "start_time": "2024-08-27T09:13:36.720Z"
   },
   {
    "duration": 347,
    "start_time": "2024-08-27T09:13:41.110Z"
   },
   {
    "duration": 327,
    "start_time": "2024-08-27T09:13:48.782Z"
   },
   {
    "duration": 343,
    "start_time": "2024-08-27T09:14:05.046Z"
   },
   {
    "duration": 321,
    "start_time": "2024-08-27T09:14:49.226Z"
   },
   {
    "duration": 1260,
    "start_time": "2024-08-27T09:14:57.088Z"
   },
   {
    "duration": 12,
    "start_time": "2024-08-27T09:15:10.947Z"
   },
   {
    "duration": 605,
    "start_time": "2024-08-27T09:17:31.067Z"
   },
   {
    "duration": 1391,
    "start_time": "2024-08-27T09:17:38.776Z"
   },
   {
    "duration": 83,
    "start_time": "2024-08-27T09:21:40.404Z"
   },
   {
    "duration": 563,
    "start_time": "2024-08-27T09:23:50.732Z"
   },
   {
    "duration": 581,
    "start_time": "2024-08-27T09:24:01.847Z"
   },
   {
    "duration": 1367,
    "start_time": "2024-08-27T09:24:09.999Z"
   },
   {
    "duration": 3,
    "start_time": "2024-08-27T09:25:16.445Z"
   },
   {
    "duration": 389,
    "start_time": "2024-08-27T09:25:50.282Z"
   },
   {
    "duration": 398,
    "start_time": "2024-08-27T09:26:04.622Z"
   },
   {
    "duration": 389,
    "start_time": "2024-08-27T09:26:10.549Z"
   },
   {
    "duration": 426,
    "start_time": "2024-08-27T09:26:36.505Z"
   },
   {
    "duration": 585,
    "start_time": "2024-08-27T09:26:42.056Z"
   },
   {
    "duration": 3,
    "start_time": "2024-08-27T09:26:52.749Z"
   },
   {
    "duration": 418,
    "start_time": "2024-08-27T09:27:00.637Z"
   },
   {
    "duration": 4,
    "start_time": "2024-08-27T09:28:13.762Z"
   },
   {
    "duration": 8,
    "start_time": "2024-08-27T09:28:20.644Z"
   },
   {
    "duration": 8,
    "start_time": "2024-08-27T09:29:37.684Z"
   },
   {
    "duration": 4,
    "start_time": "2024-08-27T09:30:40.059Z"
   },
   {
    "duration": 5,
    "start_time": "2024-08-27T09:31:35.641Z"
   },
   {
    "duration": 8,
    "start_time": "2024-08-27T09:31:42.278Z"
   },
   {
    "duration": 5,
    "start_time": "2024-08-27T09:31:45.534Z"
   },
   {
    "duration": 398,
    "start_time": "2024-08-27T09:32:05.353Z"
   },
   {
    "duration": 1237,
    "start_time": "2024-08-27T09:32:10.365Z"
   },
   {
    "duration": 629,
    "start_time": "2024-08-27T09:32:46.509Z"
   },
   {
    "duration": 811,
    "start_time": "2024-08-27T09:33:08.937Z"
   },
   {
    "duration": 1263,
    "start_time": "2024-08-27T09:34:06.092Z"
   },
   {
    "duration": 1233,
    "start_time": "2024-08-27T09:36:09.927Z"
   },
   {
    "duration": 736,
    "start_time": "2024-08-27T09:36:13.608Z"
   },
   {
    "duration": 1253,
    "start_time": "2024-08-27T09:36:38.716Z"
   },
   {
    "duration": 414,
    "start_time": "2024-08-27T09:37:01.824Z"
   },
   {
    "duration": 422,
    "start_time": "2024-08-27T09:37:34.469Z"
   },
   {
    "duration": 422,
    "start_time": "2024-08-27T09:37:37.963Z"
   },
   {
    "duration": 1439,
    "start_time": "2024-08-27T09:37:43.276Z"
   },
   {
    "duration": 1234,
    "start_time": "2024-08-27T09:38:05.311Z"
   },
   {
    "duration": 1224,
    "start_time": "2024-08-27T09:38:15.315Z"
   },
   {
    "duration": 189,
    "start_time": "2024-08-27T09:38:22.990Z"
   },
   {
    "duration": 1269,
    "start_time": "2024-08-27T09:38:24.618Z"
   },
   {
    "duration": 1498,
    "start_time": "2024-08-27T09:38:49.084Z"
   },
   {
    "duration": 1277,
    "start_time": "2024-08-27T09:39:07.448Z"
   },
   {
    "duration": 602,
    "start_time": "2024-08-27T09:39:13.178Z"
   },
   {
    "duration": 581,
    "start_time": "2024-08-27T09:39:22.195Z"
   },
   {
    "duration": 599,
    "start_time": "2024-08-27T09:39:33.194Z"
   },
   {
    "duration": 598,
    "start_time": "2024-08-27T09:39:45.598Z"
   },
   {
    "duration": 598,
    "start_time": "2024-08-27T09:39:51.348Z"
   },
   {
    "duration": 1563,
    "start_time": "2024-08-27T09:40:09.068Z"
   },
   {
    "duration": 1287,
    "start_time": "2024-08-27T09:41:56.925Z"
   },
   {
    "duration": 1299,
    "start_time": "2024-08-27T09:43:47.523Z"
   },
   {
    "duration": 416,
    "start_time": "2024-08-27T09:44:41.209Z"
   },
   {
    "duration": 411,
    "start_time": "2024-08-27T09:44:52.509Z"
   },
   {
    "duration": 406,
    "start_time": "2024-08-27T09:45:29.972Z"
   },
   {
    "duration": 432,
    "start_time": "2024-08-27T09:45:35.645Z"
   },
   {
    "duration": 430,
    "start_time": "2024-08-27T09:46:51.032Z"
   },
   {
    "duration": 785,
    "start_time": "2024-08-27T09:47:15.557Z"
   },
   {
    "duration": 418,
    "start_time": "2024-08-27T09:47:33.783Z"
   },
   {
    "duration": 1306,
    "start_time": "2024-08-27T09:47:46.349Z"
   },
   {
    "duration": 1234,
    "start_time": "2024-08-27T09:48:09.559Z"
   },
   {
    "duration": 677,
    "start_time": "2024-08-27T09:48:52.689Z"
   },
   {
    "duration": 1241,
    "start_time": "2024-08-27T09:49:11.830Z"
   },
   {
    "duration": 796,
    "start_time": "2024-08-27T09:50:10.100Z"
   },
   {
    "duration": 1626,
    "start_time": "2024-08-27T09:50:14.211Z"
   },
   {
    "duration": 983,
    "start_time": "2024-08-27T09:51:28.113Z"
   },
   {
    "duration": 1294,
    "start_time": "2024-08-27T09:51:32.926Z"
   },
   {
    "duration": 1278,
    "start_time": "2024-08-27T09:52:02.854Z"
   },
   {
    "duration": 1213,
    "start_time": "2024-08-27T09:52:25.726Z"
   },
   {
    "duration": 1249,
    "start_time": "2024-08-27T09:55:05.139Z"
   },
   {
    "duration": 1277,
    "start_time": "2024-08-27T09:56:02.343Z"
   },
   {
    "duration": 1604,
    "start_time": "2024-08-27T09:56:15.705Z"
   },
   {
    "duration": 1302,
    "start_time": "2024-08-27T09:56:52.445Z"
   },
   {
    "duration": 1229,
    "start_time": "2024-08-27T09:56:59.473Z"
   },
   {
    "duration": 1233,
    "start_time": "2024-08-27T09:57:11.607Z"
   },
   {
    "duration": 1248,
    "start_time": "2024-08-27T09:57:20.692Z"
   },
   {
    "duration": 1260,
    "start_time": "2024-08-27T09:57:31.961Z"
   },
   {
    "duration": 1348,
    "start_time": "2024-08-27T09:58:04.711Z"
   },
   {
    "duration": 1797,
    "start_time": "2024-08-27T09:58:17.292Z"
   },
   {
    "duration": 1336,
    "start_time": "2024-08-27T09:59:17.919Z"
   },
   {
    "duration": 1382,
    "start_time": "2024-08-27T10:01:12.739Z"
   },
   {
    "duration": 1344,
    "start_time": "2024-08-27T10:01:37.419Z"
   },
   {
    "duration": 1468,
    "start_time": "2024-08-27T10:01:56.447Z"
   },
   {
    "duration": 1370,
    "start_time": "2024-08-27T10:02:27.821Z"
   },
   {
    "duration": 1421,
    "start_time": "2024-08-27T10:02:40.446Z"
   },
   {
    "duration": 1436,
    "start_time": "2024-08-27T10:03:24.282Z"
   },
   {
    "duration": 1919,
    "start_time": "2024-08-27T10:03:38.181Z"
   },
   {
    "duration": 1477,
    "start_time": "2024-08-27T10:04:26.441Z"
   },
   {
    "duration": 1457,
    "start_time": "2024-08-27T10:04:36.604Z"
   },
   {
    "duration": 967,
    "start_time": "2024-08-27T10:05:44.398Z"
   },
   {
    "duration": 206,
    "start_time": "2024-08-27T10:05:55.785Z"
   },
   {
    "duration": 1930,
    "start_time": "2024-08-27T10:06:57.825Z"
   },
   {
    "duration": 1757,
    "start_time": "2024-08-27T10:07:22.640Z"
   },
   {
    "duration": 1804,
    "start_time": "2024-08-27T10:09:08.285Z"
   },
   {
    "duration": 1774,
    "start_time": "2024-08-27T10:09:25.693Z"
   },
   {
    "duration": 2314,
    "start_time": "2024-08-27T10:09:39.973Z"
   },
   {
    "duration": 5,
    "start_time": "2024-08-27T10:31:48.426Z"
   },
   {
    "duration": 6,
    "start_time": "2024-08-27T10:32:18.641Z"
   },
   {
    "duration": 6,
    "start_time": "2024-08-27T10:33:22.407Z"
   },
   {
    "duration": 8,
    "start_time": "2024-08-27T10:33:24.913Z"
   },
   {
    "duration": 6,
    "start_time": "2024-08-27T10:33:39.836Z"
   },
   {
    "duration": 8,
    "start_time": "2024-08-27T10:33:41.795Z"
   },
   {
    "duration": 144,
    "start_time": "2024-08-27T10:33:52.173Z"
   },
   {
    "duration": 10,
    "start_time": "2024-08-27T10:34:02.693Z"
   },
   {
    "duration": 10,
    "start_time": "2024-08-27T10:34:07.043Z"
   },
   {
    "duration": 139,
    "start_time": "2024-08-27T10:34:10.077Z"
   },
   {
    "duration": 11,
    "start_time": "2024-08-27T10:34:39.261Z"
   },
   {
    "duration": 12,
    "start_time": "2024-08-27T10:34:52.487Z"
   },
   {
    "duration": 12,
    "start_time": "2024-08-27T10:35:01.141Z"
   },
   {
    "duration": 11,
    "start_time": "2024-08-27T10:35:10.427Z"
   },
   {
    "duration": 6,
    "start_time": "2024-08-27T10:35:25.692Z"
   },
   {
    "duration": 128,
    "start_time": "2024-08-27T10:35:26.694Z"
   },
   {
    "duration": 135,
    "start_time": "2024-08-27T10:35:30.422Z"
   },
   {
    "duration": 127,
    "start_time": "2024-08-27T10:35:33.897Z"
   },
   {
    "duration": 116,
    "start_time": "2024-08-27T10:35:45.788Z"
   },
   {
    "duration": 120,
    "start_time": "2024-08-27T10:35:50.054Z"
   },
   {
    "duration": 116,
    "start_time": "2024-08-27T10:35:53.304Z"
   },
   {
    "duration": 113,
    "start_time": "2024-08-27T10:35:59.600Z"
   },
   {
    "duration": 128,
    "start_time": "2024-08-27T10:36:04.599Z"
   },
   {
    "duration": 116,
    "start_time": "2024-08-27T10:36:08.502Z"
   },
   {
    "duration": 123,
    "start_time": "2024-08-27T10:36:11.343Z"
   },
   {
    "duration": 121,
    "start_time": "2024-08-27T10:36:39.971Z"
   },
   {
    "duration": 125,
    "start_time": "2024-08-27T10:36:47.719Z"
   },
   {
    "duration": 117,
    "start_time": "2024-08-27T10:36:52.748Z"
   },
   {
    "duration": 107,
    "start_time": "2024-08-27T10:36:55.340Z"
   },
   {
    "duration": 121,
    "start_time": "2024-08-27T10:37:01.752Z"
   },
   {
    "duration": 107,
    "start_time": "2024-08-27T10:37:43.666Z"
   },
   {
    "duration": 120,
    "start_time": "2024-08-27T10:37:50.627Z"
   },
   {
    "duration": 82,
    "start_time": "2024-08-27T10:38:45.287Z"
   },
   {
    "duration": 138,
    "start_time": "2024-08-27T10:38:47.585Z"
   },
   {
    "duration": 132,
    "start_time": "2024-08-27T10:38:53.147Z"
   },
   {
    "duration": 133,
    "start_time": "2024-08-27T10:38:57.955Z"
   },
   {
    "duration": 124,
    "start_time": "2024-08-27T10:39:05.400Z"
   },
   {
    "duration": 125,
    "start_time": "2024-08-27T10:39:07.732Z"
   },
   {
    "duration": 124,
    "start_time": "2024-08-27T10:39:10.453Z"
   },
   {
    "duration": 140,
    "start_time": "2024-08-27T10:40:38.164Z"
   },
   {
    "duration": 131,
    "start_time": "2024-08-27T10:40:46.960Z"
   },
   {
    "duration": 135,
    "start_time": "2024-08-27T10:41:21.930Z"
   },
   {
    "duration": 141,
    "start_time": "2024-08-27T10:41:44.469Z"
   },
   {
    "duration": 8,
    "start_time": "2024-08-27T10:45:10.568Z"
   },
   {
    "duration": 10,
    "start_time": "2024-08-27T10:45:54.831Z"
   },
   {
    "duration": 3,
    "start_time": "2024-08-27T10:46:00.512Z"
   },
   {
    "duration": 13,
    "start_time": "2024-08-27T10:47:37.385Z"
   },
   {
    "duration": 6,
    "start_time": "2024-08-27T10:47:50.356Z"
   },
   {
    "duration": 13,
    "start_time": "2024-08-27T10:48:26.663Z"
   },
   {
    "duration": 8,
    "start_time": "2024-08-27T10:48:35.313Z"
   },
   {
    "duration": 10,
    "start_time": "2024-08-27T10:48:40.641Z"
   },
   {
    "duration": 346,
    "start_time": "2024-08-27T10:48:49.653Z"
   },
   {
    "duration": 186,
    "start_time": "2024-08-27T10:49:42.378Z"
   },
   {
    "duration": 422,
    "start_time": "2024-08-27T10:49:48.121Z"
   },
   {
    "duration": 438,
    "start_time": "2024-08-27T10:49:53.790Z"
   },
   {
    "duration": 371,
    "start_time": "2024-08-27T10:50:00.837Z"
   },
   {
    "duration": 348,
    "start_time": "2024-08-27T10:50:09.890Z"
   },
   {
    "duration": 509,
    "start_time": "2024-08-27T10:50:30.749Z"
   },
   {
    "duration": 459,
    "start_time": "2024-08-27T10:50:37.806Z"
   },
   {
    "duration": 473,
    "start_time": "2024-08-27T10:50:43.412Z"
   },
   {
    "duration": 481,
    "start_time": "2024-08-27T10:51:01.639Z"
   },
   {
    "duration": 523,
    "start_time": "2024-08-27T10:51:18.849Z"
   },
   {
    "duration": 11,
    "start_time": "2024-08-27T10:51:37.047Z"
   },
   {
    "duration": 495,
    "start_time": "2024-08-27T10:51:38.986Z"
   },
   {
    "duration": 973,
    "start_time": "2024-08-27T10:52:07.070Z"
   },
   {
    "duration": 340,
    "start_time": "2024-08-27T10:52:10.024Z"
   },
   {
    "duration": 459,
    "start_time": "2024-08-27T10:52:14.919Z"
   },
   {
    "duration": 498,
    "start_time": "2024-08-27T10:53:07.959Z"
   },
   {
    "duration": 487,
    "start_time": "2024-08-27T10:53:38.807Z"
   },
   {
    "duration": 517,
    "start_time": "2024-08-27T10:53:46.748Z"
   },
   {
    "duration": 494,
    "start_time": "2024-08-27T10:54:32.383Z"
   },
   {
    "duration": 472,
    "start_time": "2024-08-27T10:54:47.008Z"
   },
   {
    "duration": 6,
    "start_time": "2024-08-27T11:03:18.193Z"
   },
   {
    "duration": 7,
    "start_time": "2024-08-27T11:03:58.121Z"
   },
   {
    "duration": 4,
    "start_time": "2024-08-27T11:04:10.210Z"
   },
   {
    "duration": 6,
    "start_time": "2024-08-27T11:04:13.521Z"
   },
   {
    "duration": 9,
    "start_time": "2024-08-27T11:04:37.121Z"
   },
   {
    "duration": 12,
    "start_time": "2024-08-27T11:04:53.184Z"
   },
   {
    "duration": 10,
    "start_time": "2024-08-27T11:05:19.267Z"
   },
   {
    "duration": 12,
    "start_time": "2024-08-27T11:05:24.501Z"
   },
   {
    "duration": 5,
    "start_time": "2024-08-27T11:05:35.662Z"
   },
   {
    "duration": 7,
    "start_time": "2024-08-27T11:05:39.861Z"
   },
   {
    "duration": 33,
    "start_time": "2024-08-27T11:05:53.064Z"
   },
   {
    "duration": 153,
    "start_time": "2024-08-27T11:05:55.749Z"
   },
   {
    "duration": 146,
    "start_time": "2024-08-27T11:06:00.149Z"
   },
   {
    "duration": 160,
    "start_time": "2024-08-27T11:06:58.907Z"
   },
   {
    "duration": 144,
    "start_time": "2024-08-27T11:07:08.403Z"
   },
   {
    "duration": 147,
    "start_time": "2024-08-27T11:07:24.697Z"
   },
   {
    "duration": 154,
    "start_time": "2024-08-27T11:08:02.695Z"
   },
   {
    "duration": 154,
    "start_time": "2024-08-27T11:08:10.974Z"
   },
   {
    "duration": 168,
    "start_time": "2024-08-27T11:08:24.469Z"
   },
   {
    "duration": 165,
    "start_time": "2024-08-27T11:08:30.829Z"
   },
   {
    "duration": 154,
    "start_time": "2024-08-27T11:08:44.374Z"
   },
   {
    "duration": 9,
    "start_time": "2024-08-27T11:08:58.644Z"
   },
   {
    "duration": 152,
    "start_time": "2024-08-27T11:09:05.810Z"
   },
   {
    "duration": 11,
    "start_time": "2024-08-27T11:16:30.382Z"
   },
   {
    "duration": 11,
    "start_time": "2024-08-27T11:16:32.998Z"
   },
   {
    "duration": 12,
    "start_time": "2024-08-27T11:16:35.791Z"
   },
   {
    "duration": 15,
    "start_time": "2024-08-27T11:18:17.900Z"
   },
   {
    "duration": 162,
    "start_time": "2024-08-27T11:26:56.769Z"
   },
   {
    "duration": 7,
    "start_time": "2024-08-27T11:27:13.001Z"
   },
   {
    "duration": 8,
    "start_time": "2024-08-27T11:31:53.956Z"
   },
   {
    "duration": 61,
    "start_time": "2024-08-27T11:32:35.051Z"
   },
   {
    "duration": 10,
    "start_time": "2024-08-27T11:32:38.874Z"
   },
   {
    "duration": 294,
    "start_time": "2024-08-27T11:32:55.850Z"
   },
   {
    "duration": 335,
    "start_time": "2024-08-27T11:32:58.860Z"
   },
   {
    "duration": 320,
    "start_time": "2024-08-27T11:33:30.693Z"
   },
   {
    "duration": 337,
    "start_time": "2024-08-27T11:33:32.721Z"
   },
   {
    "duration": 317,
    "start_time": "2024-08-27T11:33:44.602Z"
   },
   {
    "duration": 3,
    "start_time": "2024-08-27T11:33:59.769Z"
   },
   {
    "duration": 323,
    "start_time": "2024-08-27T11:34:01.968Z"
   },
   {
    "duration": 326,
    "start_time": "2024-08-27T11:34:08.733Z"
   },
   {
    "duration": 356,
    "start_time": "2024-08-27T11:34:22.841Z"
   },
   {
    "duration": 327,
    "start_time": "2024-08-27T11:34:27.776Z"
   },
   {
    "duration": 334,
    "start_time": "2024-08-27T11:35:03.671Z"
   },
   {
    "duration": 340,
    "start_time": "2024-08-27T11:35:31.218Z"
   },
   {
    "duration": 345,
    "start_time": "2024-08-27T11:36:15.005Z"
   },
   {
    "duration": 351,
    "start_time": "2024-08-27T11:36:31.936Z"
   },
   {
    "duration": 350,
    "start_time": "2024-08-27T11:37:20.350Z"
   },
   {
    "duration": 336,
    "start_time": "2024-08-27T11:45:39.609Z"
   },
   {
    "duration": 339,
    "start_time": "2024-08-27T11:45:48.624Z"
   },
   {
    "duration": 380,
    "start_time": "2024-08-27T11:47:47.290Z"
   },
   {
    "duration": 333,
    "start_time": "2024-08-27T11:48:03.599Z"
   },
   {
    "duration": 331,
    "start_time": "2024-08-27T11:48:22.010Z"
   },
   {
    "duration": 327,
    "start_time": "2024-08-27T11:48:26.277Z"
   },
   {
    "duration": 349,
    "start_time": "2024-08-27T11:49:16.199Z"
   },
   {
    "duration": 337,
    "start_time": "2024-08-27T11:51:53.212Z"
   },
   {
    "duration": 341,
    "start_time": "2024-08-27T11:52:07.218Z"
   },
   {
    "duration": 378,
    "start_time": "2024-08-27T11:53:17.642Z"
   },
   {
    "duration": 333,
    "start_time": "2024-08-27T11:53:24.522Z"
   },
   {
    "duration": 347,
    "start_time": "2024-08-27T11:53:30.647Z"
   },
   {
    "duration": 325,
    "start_time": "2024-08-27T11:53:35.538Z"
   },
   {
    "duration": 356,
    "start_time": "2024-08-27T11:53:50.153Z"
   },
   {
    "duration": 340,
    "start_time": "2024-08-27T11:54:01.549Z"
   },
   {
    "duration": 345,
    "start_time": "2024-08-27T11:54:06.952Z"
   },
   {
    "duration": 335,
    "start_time": "2024-08-27T11:54:21.362Z"
   },
   {
    "duration": 60,
    "start_time": "2024-08-27T12:00:19.802Z"
   },
   {
    "duration": 347,
    "start_time": "2024-08-27T12:00:28.609Z"
   },
   {
    "duration": 9,
    "start_time": "2024-08-27T12:00:57.234Z"
   },
   {
    "duration": 360,
    "start_time": "2024-08-27T12:01:07.023Z"
   },
   {
    "duration": 337,
    "start_time": "2024-08-27T12:01:24.530Z"
   },
   {
    "duration": 358,
    "start_time": "2024-08-27T12:01:27.946Z"
   },
   {
    "duration": 349,
    "start_time": "2024-08-27T12:01:33.540Z"
   },
   {
    "duration": 356,
    "start_time": "2024-08-27T12:01:39.379Z"
   },
   {
    "duration": 547,
    "start_time": "2024-08-27T12:02:02.012Z"
   },
   {
    "duration": 616,
    "start_time": "2024-08-27T12:02:50.185Z"
   },
   {
    "duration": 5,
    "start_time": "2024-08-27T12:02:52.146Z"
   },
   {
    "duration": 4270,
    "start_time": "2024-08-27T12:02:56.031Z"
   },
   {
    "duration": 0,
    "start_time": "2024-08-27T12:04:55.582Z"
   },
   {
    "duration": 4,
    "start_time": "2024-08-27T12:05:09.845Z"
   },
   {
    "duration": 5,
    "start_time": "2024-08-27T12:05:18.405Z"
   },
   {
    "duration": 9,
    "start_time": "2024-08-27T12:05:44.669Z"
   },
   {
    "duration": 8,
    "start_time": "2024-08-27T12:05:53.564Z"
   },
   {
    "duration": 9,
    "start_time": "2024-08-27T12:06:04.622Z"
   },
   {
    "duration": 7,
    "start_time": "2024-08-27T12:06:08.014Z"
   },
   {
    "duration": 4,
    "start_time": "2024-08-27T12:06:36.210Z"
   },
   {
    "duration": 367,
    "start_time": "2024-08-27T12:06:42.348Z"
   },
   {
    "duration": 347,
    "start_time": "2024-08-27T12:07:31.404Z"
   },
   {
    "duration": 361,
    "start_time": "2024-08-27T12:08:31.247Z"
   },
   {
    "duration": 366,
    "start_time": "2024-08-27T12:08:51.048Z"
   },
   {
    "duration": 12,
    "start_time": "2024-08-27T12:09:02.566Z"
   },
   {
    "duration": 5,
    "start_time": "2024-08-27T12:09:23.949Z"
   },
   {
    "duration": 18,
    "start_time": "2024-08-27T12:09:38.482Z"
   },
   {
    "duration": 11,
    "start_time": "2024-08-27T12:10:06.135Z"
   },
   {
    "duration": 10,
    "start_time": "2024-08-27T12:10:10.617Z"
   },
   {
    "duration": 13,
    "start_time": "2024-08-27T12:10:41.128Z"
   },
   {
    "duration": 549,
    "start_time": "2024-08-27T12:13:27.932Z"
   },
   {
    "duration": 268,
    "start_time": "2024-08-27T12:13:36.296Z"
   },
   {
    "duration": 310,
    "start_time": "2024-08-27T12:13:59.305Z"
   },
   {
    "duration": 95,
    "start_time": "2024-08-27T12:14:11.205Z"
   },
   {
    "duration": 4,
    "start_time": "2024-08-27T12:14:13.875Z"
   },
   {
    "duration": 74,
    "start_time": "2024-08-27T12:14:20.655Z"
   },
   {
    "duration": 70,
    "start_time": "2024-08-27T12:14:40.137Z"
   },
   {
    "duration": 631,
    "start_time": "2024-08-27T12:15:06.547Z"
   },
   {
    "duration": 61,
    "start_time": "2024-08-27T12:15:39.448Z"
   },
   {
    "duration": 3,
    "start_time": "2024-08-27T12:16:32.595Z"
   },
   {
    "duration": 4,
    "start_time": "2024-08-27T12:16:36.793Z"
   },
   {
    "duration": 65,
    "start_time": "2024-08-27T12:17:50.625Z"
   },
   {
    "duration": 56,
    "start_time": "2024-08-27T12:17:53.792Z"
   },
   {
    "duration": 57,
    "start_time": "2024-08-27T12:17:57.881Z"
   },
   {
    "duration": 5,
    "start_time": "2024-08-27T12:18:05.084Z"
   },
   {
    "duration": 53,
    "start_time": "2024-08-27T12:19:17.453Z"
   },
   {
    "duration": 16,
    "start_time": "2024-08-27T12:19:21.588Z"
   },
   {
    "duration": 15,
    "start_time": "2024-08-27T12:19:35.700Z"
   },
   {
    "duration": 25,
    "start_time": "2024-08-27T12:20:14.173Z"
   },
   {
    "duration": 5,
    "start_time": "2024-08-27T12:20:45.135Z"
   },
   {
    "duration": 15,
    "start_time": "2024-08-27T12:21:59.415Z"
   },
   {
    "duration": 177,
    "start_time": "2024-08-27T12:22:15.643Z"
   },
   {
    "duration": 172,
    "start_time": "2024-08-27T12:23:05.078Z"
   },
   {
    "duration": 5,
    "start_time": "2024-08-27T12:27:13.697Z"
   },
   {
    "duration": 60,
    "start_time": "2024-08-27T12:27:34.375Z"
   },
   {
    "duration": 23,
    "start_time": "2024-08-27T12:27:47.722Z"
   },
   {
    "duration": 149,
    "start_time": "2024-08-27T12:28:55.575Z"
   },
   {
    "duration": 145,
    "start_time": "2024-08-27T12:29:16.883Z"
   },
   {
    "duration": 160,
    "start_time": "2024-08-27T12:29:25.484Z"
   },
   {
    "duration": 152,
    "start_time": "2024-08-27T12:29:29.256Z"
   },
   {
    "duration": 196,
    "start_time": "2024-08-27T12:29:51.274Z"
   },
   {
    "duration": 163,
    "start_time": "2024-08-27T12:30:31.534Z"
   },
   {
    "duration": 155,
    "start_time": "2024-08-27T12:30:39.871Z"
   },
   {
    "duration": 177,
    "start_time": "2024-08-27T12:30:48.806Z"
   },
   {
    "duration": 174,
    "start_time": "2024-08-27T12:32:33.772Z"
   },
   {
    "duration": 15,
    "start_time": "2024-08-27T12:35:33.157Z"
   },
   {
    "duration": 162,
    "start_time": "2024-08-27T12:35:40.930Z"
   },
   {
    "duration": 4,
    "start_time": "2024-08-27T12:45:07.733Z"
   },
   {
    "duration": 194,
    "start_time": "2024-08-27T12:45:10.692Z"
   },
   {
    "duration": 157,
    "start_time": "2024-08-27T12:45:15.829Z"
   },
   {
    "duration": 352,
    "start_time": "2024-08-27T12:45:36.272Z"
   },
   {
    "duration": 49,
    "start_time": "2024-08-27T15:17:59.174Z"
   },
   {
    "duration": 809,
    "start_time": "2024-08-27T15:18:16.790Z"
   },
   {
    "duration": 755,
    "start_time": "2024-08-27T15:18:17.601Z"
   },
   {
    "duration": 13,
    "start_time": "2024-08-27T15:18:18.357Z"
   },
   {
    "duration": 25,
    "start_time": "2024-08-27T15:18:18.372Z"
   },
   {
    "duration": 3,
    "start_time": "2024-08-27T15:18:18.400Z"
   },
   {
    "duration": 11,
    "start_time": "2024-08-27T15:18:18.405Z"
   },
   {
    "duration": 39,
    "start_time": "2024-08-27T15:18:18.417Z"
   },
   {
    "duration": 5,
    "start_time": "2024-08-27T15:18:18.458Z"
   },
   {
    "duration": 91,
    "start_time": "2024-08-27T15:18:18.464Z"
   },
   {
    "duration": 71,
    "start_time": "2024-08-27T15:18:18.556Z"
   },
   {
    "duration": 4,
    "start_time": "2024-08-27T15:18:18.628Z"
   },
   {
    "duration": 134,
    "start_time": "2024-08-27T15:18:18.634Z"
   },
   {
    "duration": 24,
    "start_time": "2024-08-27T15:18:18.770Z"
   },
   {
    "duration": 16,
    "start_time": "2024-08-27T15:18:18.798Z"
   },
   {
    "duration": 63,
    "start_time": "2024-08-27T15:18:18.816Z"
   },
   {
    "duration": 15,
    "start_time": "2024-08-27T15:18:18.880Z"
   },
   {
    "duration": 25,
    "start_time": "2024-08-27T15:18:18.897Z"
   },
   {
    "duration": 63,
    "start_time": "2024-08-27T15:18:18.923Z"
   },
   {
    "duration": 1172,
    "start_time": "2024-08-27T15:18:18.988Z"
   },
   {
    "duration": 287,
    "start_time": "2024-08-27T15:18:20.161Z"
   },
   {
    "duration": 148,
    "start_time": "2024-08-27T15:18:20.450Z"
   },
   {
    "duration": 579,
    "start_time": "2024-08-27T15:18:20.599Z"
   },
   {
    "duration": 43,
    "start_time": "2024-08-27T15:18:21.180Z"
   },
   {
    "duration": 47,
    "start_time": "2024-08-27T15:18:21.225Z"
   },
   {
    "duration": 623,
    "start_time": "2024-08-27T15:18:21.274Z"
   },
   {
    "duration": 708,
    "start_time": "2024-08-27T15:18:21.899Z"
   },
   {
    "duration": 185,
    "start_time": "2024-08-27T15:18:22.610Z"
   },
   {
    "duration": 4,
    "start_time": "2024-08-27T15:18:22.797Z"
   },
   {
    "duration": 18,
    "start_time": "2024-08-27T15:18:22.803Z"
   },
   {
    "duration": 1306,
    "start_time": "2024-08-27T15:18:22.823Z"
   },
   {
    "duration": 1146,
    "start_time": "2024-08-27T15:18:24.130Z"
   },
   {
    "duration": 3,
    "start_time": "2024-08-27T15:18:25.278Z"
   },
   {
    "duration": 29,
    "start_time": "2024-08-27T15:18:25.282Z"
   },
   {
    "duration": 307,
    "start_time": "2024-08-27T15:18:25.312Z"
   },
   {
    "duration": 76,
    "start_time": "2024-08-27T15:18:25.621Z"
   },
   {
    "duration": 154,
    "start_time": "2024-08-27T15:18:25.699Z"
   },
   {
    "duration": 322,
    "start_time": "2024-08-27T15:18:25.855Z"
   },
   {
    "duration": 1934,
    "start_time": "2024-08-27T15:18:26.178Z"
   },
   {
    "duration": 336,
    "start_time": "2024-08-27T15:18:28.113Z"
   },
   {
    "duration": 10,
    "start_time": "2024-08-27T15:18:28.451Z"
   },
   {
    "duration": 16,
    "start_time": "2024-08-27T15:18:28.465Z"
   },
   {
    "duration": 191,
    "start_time": "2024-08-27T15:18:28.483Z"
   },
   {
    "duration": 153,
    "start_time": "2024-08-27T15:18:28.675Z"
   },
   {
    "duration": 5,
    "start_time": "2024-08-27T15:18:28.829Z"
   },
   {
    "duration": 17,
    "start_time": "2024-08-27T15:18:28.836Z"
   },
   {
    "duration": 1074,
    "start_time": "2024-08-27T15:18:28.854Z"
   },
   {
    "duration": 10,
    "start_time": "2024-08-27T15:18:29.930Z"
   },
   {
    "duration": 156,
    "start_time": "2024-08-27T15:18:29.942Z"
   },
   {
    "duration": 7,
    "start_time": "2024-08-27T15:18:30.100Z"
   },
   {
    "duration": 255,
    "start_time": "2024-08-27T15:21:03.442Z"
   },
   {
    "duration": 171,
    "start_time": "2024-08-27T15:21:14.812Z"
   },
   {
    "duration": 8,
    "start_time": "2024-08-27T15:21:38.980Z"
   },
   {
    "duration": 173,
    "start_time": "2024-08-27T15:21:49.223Z"
   },
   {
    "duration": 434,
    "start_time": "2024-08-27T15:22:10.905Z"
   },
   {
    "duration": 446,
    "start_time": "2024-08-27T15:24:09.033Z"
   },
   {
    "duration": 570,
    "start_time": "2024-08-27T15:25:04.712Z"
   },
   {
    "duration": 462,
    "start_time": "2024-08-27T15:25:18.370Z"
   },
   {
    "duration": 502,
    "start_time": "2024-08-27T15:26:19.042Z"
   },
   {
    "duration": 466,
    "start_time": "2024-08-27T15:29:41.674Z"
   },
   {
    "duration": 453,
    "start_time": "2024-08-27T15:29:47.202Z"
   },
   {
    "duration": 471,
    "start_time": "2024-08-27T15:29:59.770Z"
   },
   {
    "duration": 456,
    "start_time": "2024-08-27T15:30:24.975Z"
   },
   {
    "duration": 184,
    "start_time": "2024-08-27T15:30:45.850Z"
   },
   {
    "duration": 315,
    "start_time": "2024-08-27T15:30:52.769Z"
   },
   {
    "duration": 473,
    "start_time": "2024-08-27T15:30:57.682Z"
   },
   {
    "duration": 483,
    "start_time": "2024-08-27T15:33:47.586Z"
   },
   {
    "duration": 508,
    "start_time": "2024-08-27T15:34:05.847Z"
   },
   {
    "duration": 214,
    "start_time": "2024-08-27T15:34:37.742Z"
   },
   {
    "duration": 202,
    "start_time": "2024-08-27T15:34:43.287Z"
   },
   {
    "duration": 456,
    "start_time": "2024-08-27T15:34:47.990Z"
   },
   {
    "duration": 291,
    "start_time": "2024-08-27T15:35:23.718Z"
   },
   {
    "duration": 197,
    "start_time": "2024-08-27T15:36:22.295Z"
   },
   {
    "duration": 215,
    "start_time": "2024-08-27T15:36:43.518Z"
   },
   {
    "duration": 5,
    "start_time": "2024-08-27T15:39:47.024Z"
   },
   {
    "duration": 6,
    "start_time": "2024-08-27T15:39:50.173Z"
   },
   {
    "duration": 7,
    "start_time": "2024-08-27T15:39:52.297Z"
   },
   {
    "duration": 183,
    "start_time": "2024-08-27T15:39:53.726Z"
   },
   {
    "duration": 180,
    "start_time": "2024-08-27T15:40:02.381Z"
   },
   {
    "duration": 173,
    "start_time": "2024-08-27T15:40:04.863Z"
   },
   {
    "duration": 176,
    "start_time": "2024-08-27T15:40:11.901Z"
   },
   {
    "duration": 197,
    "start_time": "2024-08-27T15:40:22.786Z"
   },
   {
    "duration": 205,
    "start_time": "2024-08-27T15:40:43.063Z"
   },
   {
    "duration": 226,
    "start_time": "2024-08-27T15:41:01.750Z"
   },
   {
    "duration": 442,
    "start_time": "2024-08-27T15:41:17.723Z"
   },
   {
    "duration": 564,
    "start_time": "2024-08-27T15:41:58.494Z"
   },
   {
    "duration": 655,
    "start_time": "2024-08-27T15:42:16.875Z"
   },
   {
    "duration": 180,
    "start_time": "2024-08-27T15:42:17.531Z"
   },
   {
    "duration": 15,
    "start_time": "2024-08-27T15:42:17.712Z"
   },
   {
    "duration": 47,
    "start_time": "2024-08-27T15:42:17.729Z"
   },
   {
    "duration": 3,
    "start_time": "2024-08-27T15:42:17.779Z"
   },
   {
    "duration": 7,
    "start_time": "2024-08-27T15:42:17.783Z"
   },
   {
    "duration": 21,
    "start_time": "2024-08-27T15:42:17.792Z"
   },
   {
    "duration": 11,
    "start_time": "2024-08-27T15:42:17.815Z"
   },
   {
    "duration": 81,
    "start_time": "2024-08-27T15:42:17.853Z"
   },
   {
    "duration": 81,
    "start_time": "2024-08-27T15:42:17.936Z"
   },
   {
    "duration": 4,
    "start_time": "2024-08-27T15:42:18.019Z"
   },
   {
    "duration": 67,
    "start_time": "2024-08-27T15:42:18.024Z"
   },
   {
    "duration": 18,
    "start_time": "2024-08-27T15:42:18.093Z"
   },
   {
    "duration": 17,
    "start_time": "2024-08-27T15:42:18.114Z"
   },
   {
    "duration": 59,
    "start_time": "2024-08-27T15:42:18.132Z"
   },
   {
    "duration": 24,
    "start_time": "2024-08-27T15:42:18.193Z"
   },
   {
    "duration": 48,
    "start_time": "2024-08-27T15:42:18.219Z"
   },
   {
    "duration": 40,
    "start_time": "2024-08-27T15:42:18.268Z"
   },
   {
    "duration": 1140,
    "start_time": "2024-08-27T15:42:18.311Z"
   },
   {
    "duration": 261,
    "start_time": "2024-08-27T15:42:19.453Z"
   },
   {
    "duration": 141,
    "start_time": "2024-08-27T15:42:19.716Z"
   },
   {
    "duration": 547,
    "start_time": "2024-08-27T15:42:19.858Z"
   },
   {
    "duration": 52,
    "start_time": "2024-08-27T15:42:20.407Z"
   },
   {
    "duration": 35,
    "start_time": "2024-08-27T15:42:20.460Z"
   },
   {
    "duration": 621,
    "start_time": "2024-08-27T15:42:20.496Z"
   },
   {
    "duration": 720,
    "start_time": "2024-08-27T15:42:21.119Z"
   },
   {
    "duration": 185,
    "start_time": "2024-08-27T15:42:21.840Z"
   },
   {
    "duration": 5,
    "start_time": "2024-08-27T15:42:22.027Z"
   },
   {
    "duration": 28,
    "start_time": "2024-08-27T15:42:22.033Z"
   },
   {
    "duration": 1330,
    "start_time": "2024-08-27T15:42:22.062Z"
   },
   {
    "duration": 1159,
    "start_time": "2024-08-27T15:42:23.394Z"
   },
   {
    "duration": 3,
    "start_time": "2024-08-27T15:42:24.554Z"
   },
   {
    "duration": 8,
    "start_time": "2024-08-27T15:42:24.558Z"
   },
   {
    "duration": 291,
    "start_time": "2024-08-27T15:42:24.567Z"
   },
   {
    "duration": 49,
    "start_time": "2024-08-27T15:42:24.860Z"
   },
   {
    "duration": 164,
    "start_time": "2024-08-27T15:42:24.911Z"
   },
   {
    "duration": 302,
    "start_time": "2024-08-27T15:42:25.076Z"
   },
   {
    "duration": 1792,
    "start_time": "2024-08-27T15:42:25.379Z"
   },
   {
    "duration": 347,
    "start_time": "2024-08-27T15:42:27.174Z"
   },
   {
    "duration": 10,
    "start_time": "2024-08-27T15:42:27.523Z"
   },
   {
    "duration": 17,
    "start_time": "2024-08-27T15:42:27.537Z"
   },
   {
    "duration": 186,
    "start_time": "2024-08-27T15:42:27.556Z"
   },
   {
    "duration": 153,
    "start_time": "2024-08-27T15:42:27.744Z"
   },
   {
    "duration": 6,
    "start_time": "2024-08-27T15:42:27.899Z"
   },
   {
    "duration": 9,
    "start_time": "2024-08-27T15:42:27.906Z"
   },
   {
    "duration": 78,
    "start_time": "2024-08-27T15:42:27.916Z"
   },
   {
    "duration": 463,
    "start_time": "2024-08-27T15:42:27.996Z"
   },
   {
    "duration": 11,
    "start_time": "2024-08-27T15:42:28.460Z"
   },
   {
    "duration": 177,
    "start_time": "2024-08-27T15:42:28.472Z"
   },
   {
    "duration": 8,
    "start_time": "2024-08-27T15:42:28.653Z"
   },
   {
    "duration": 1702,
    "start_time": "2024-08-27T15:44:17.164Z"
   },
   {
    "duration": 1731,
    "start_time": "2024-08-27T15:44:29.970Z"
   },
   {
    "duration": 448,
    "start_time": "2024-08-27T15:44:59.544Z"
   },
   {
    "duration": 420,
    "start_time": "2024-08-27T15:45:58.435Z"
   },
   {
    "duration": 66,
    "start_time": "2024-08-27T15:47:39.673Z"
   },
   {
    "duration": 6,
    "start_time": "2024-08-27T15:47:46.464Z"
   },
   {
    "duration": 6,
    "start_time": "2024-08-27T15:47:48.663Z"
   },
   {
    "duration": 476,
    "start_time": "2024-08-27T15:48:04.174Z"
   },
   {
    "duration": 271,
    "start_time": "2024-08-27T15:48:14.004Z"
   },
   {
    "duration": 55,
    "start_time": "2024-08-27T15:48:55.026Z"
   },
   {
    "duration": 52,
    "start_time": "2024-08-27T15:49:01.584Z"
   },
   {
    "duration": 198,
    "start_time": "2024-08-27T15:49:04.674Z"
   },
   {
    "duration": 196,
    "start_time": "2024-08-27T15:49:16.364Z"
   },
   {
    "duration": 6,
    "start_time": "2024-08-27T15:49:57.184Z"
   },
   {
    "duration": 206,
    "start_time": "2024-08-27T15:50:02.649Z"
   },
   {
    "duration": 277,
    "start_time": "2024-08-27T15:50:16.454Z"
   },
   {
    "duration": 187,
    "start_time": "2024-08-27T15:50:30.715Z"
   },
   {
    "duration": 193,
    "start_time": "2024-08-27T15:50:48.043Z"
   },
   {
    "duration": 454,
    "start_time": "2024-08-27T15:51:11.902Z"
   },
   {
    "duration": 173,
    "start_time": "2024-08-27T15:53:08.961Z"
   },
   {
    "duration": 184,
    "start_time": "2024-08-27T15:53:16.224Z"
   },
   {
    "duration": 170,
    "start_time": "2024-08-27T15:53:32.763Z"
   },
   {
    "duration": 5,
    "start_time": "2024-08-27T15:55:40.795Z"
   },
   {
    "duration": 7,
    "start_time": "2024-08-27T15:55:42.026Z"
   },
   {
    "duration": 8,
    "start_time": "2024-08-27T15:55:43.783Z"
   },
   {
    "duration": 161,
    "start_time": "2024-08-27T15:55:45.328Z"
   },
   {
    "duration": 175,
    "start_time": "2024-08-27T15:56:14.326Z"
   },
   {
    "duration": 156,
    "start_time": "2024-08-27T15:56:18.792Z"
   },
   {
    "duration": 315,
    "start_time": "2024-08-27T15:56:30.972Z"
   },
   {
    "duration": 161,
    "start_time": "2024-08-27T15:56:38.102Z"
   },
   {
    "duration": 164,
    "start_time": "2024-08-27T15:56:45.074Z"
   },
   {
    "duration": 159,
    "start_time": "2024-08-27T15:56:54.771Z"
   },
   {
    "duration": 455,
    "start_time": "2024-08-27T15:57:00.192Z"
   },
   {
    "duration": 207,
    "start_time": "2024-08-27T15:57:13.140Z"
   },
   {
    "duration": 205,
    "start_time": "2024-08-27T15:57:20.402Z"
   },
   {
    "duration": 438,
    "start_time": "2024-08-27T15:57:41.433Z"
   },
   {
    "duration": 421,
    "start_time": "2024-08-27T15:59:25.023Z"
   },
   {
    "duration": 469,
    "start_time": "2024-08-27T15:59:39.542Z"
   },
   {
    "duration": 308,
    "start_time": "2024-08-27T16:00:01.542Z"
   },
   {
    "duration": 229,
    "start_time": "2024-08-27T16:01:04.147Z"
   },
   {
    "duration": 200,
    "start_time": "2024-08-27T16:01:07.415Z"
   },
   {
    "duration": 229,
    "start_time": "2024-08-27T16:01:24.243Z"
   },
   {
    "duration": 205,
    "start_time": "2024-08-27T16:02:22.535Z"
   },
   {
    "duration": 202,
    "start_time": "2024-08-27T16:03:22.908Z"
   },
   {
    "duration": 424,
    "start_time": "2024-08-27T16:03:28.034Z"
   },
   {
    "duration": 97,
    "start_time": "2024-08-27T16:04:41.098Z"
   },
   {
    "duration": 100,
    "start_time": "2024-08-27T16:05:17.864Z"
   },
   {
    "duration": 93,
    "start_time": "2024-08-27T16:05:22.697Z"
   },
   {
    "duration": 193,
    "start_time": "2024-08-27T16:05:27.432Z"
   },
   {
    "duration": 439,
    "start_time": "2024-08-27T16:05:36.495Z"
   },
   {
    "duration": 15,
    "start_time": "2024-08-27T16:46:31.432Z"
   },
   {
    "duration": 26,
    "start_time": "2024-08-27T16:47:18.581Z"
   },
   {
    "duration": 10,
    "start_time": "2024-08-27T16:47:41.760Z"
   },
   {
    "duration": 8,
    "start_time": "2024-08-27T16:50:28.328Z"
   },
   {
    "duration": 155,
    "start_time": "2024-08-27T16:50:32.174Z"
   },
   {
    "duration": 28,
    "start_time": "2024-08-27T16:50:56.189Z"
   },
   {
    "duration": 28,
    "start_time": "2024-08-27T16:51:14.024Z"
   },
   {
    "duration": 250,
    "start_time": "2024-08-27T16:51:27.274Z"
   },
   {
    "duration": 42,
    "start_time": "2024-08-27T16:51:41.730Z"
   },
   {
    "duration": 170,
    "start_time": "2024-08-27T16:51:52.743Z"
   },
   {
    "duration": 171,
    "start_time": "2024-08-27T16:52:13.292Z"
   },
   {
    "duration": 169,
    "start_time": "2024-08-27T16:53:05.790Z"
   },
   {
    "duration": 11,
    "start_time": "2024-08-27T16:54:36.071Z"
   },
   {
    "duration": 10,
    "start_time": "2024-08-27T16:54:51.870Z"
   },
   {
    "duration": 11,
    "start_time": "2024-08-27T16:55:00.062Z"
   },
   {
    "duration": 9,
    "start_time": "2024-08-27T16:55:11.380Z"
   },
   {
    "duration": 15,
    "start_time": "2024-08-27T16:55:24.249Z"
   },
   {
    "duration": 187,
    "start_time": "2024-08-27T16:57:06.032Z"
   },
   {
    "duration": 186,
    "start_time": "2024-08-27T16:57:20.177Z"
   },
   {
    "duration": 169,
    "start_time": "2024-08-27T16:57:27.008Z"
   },
   {
    "duration": 208,
    "start_time": "2024-08-27T16:57:53.326Z"
   },
   {
    "duration": 178,
    "start_time": "2024-08-27T16:57:59.136Z"
   },
   {
    "duration": 168,
    "start_time": "2024-08-27T16:58:03.625Z"
   },
   {
    "duration": 165,
    "start_time": "2024-08-27T16:58:06.383Z"
   },
   {
    "duration": 195,
    "start_time": "2024-08-27T16:59:19.099Z"
   },
   {
    "duration": 142,
    "start_time": "2024-08-27T17:03:13.112Z"
   },
   {
    "duration": 166,
    "start_time": "2024-08-27T17:03:17.456Z"
   },
   {
    "duration": 184,
    "start_time": "2024-08-27T17:03:20.736Z"
   },
   {
    "duration": 14,
    "start_time": "2024-08-27T17:03:23.796Z"
   },
   {
    "duration": 184,
    "start_time": "2024-08-27T17:03:24.903Z"
   },
   {
    "duration": 11,
    "start_time": "2024-08-27T17:03:26.334Z"
   },
   {
    "duration": 131,
    "start_time": "2024-08-27T17:03:27.866Z"
   },
   {
    "duration": 161,
    "start_time": "2024-08-27T17:03:30.688Z"
   },
   {
    "duration": 109,
    "start_time": "2024-08-27T17:04:30.788Z"
   },
   {
    "duration": 12,
    "start_time": "2024-08-27T17:04:36.348Z"
   },
   {
    "duration": 8,
    "start_time": "2024-08-27T17:04:52.445Z"
   },
   {
    "duration": 13,
    "start_time": "2024-08-27T17:04:58.575Z"
   },
   {
    "duration": 12,
    "start_time": "2024-08-27T17:05:07.872Z"
   },
   {
    "duration": 8,
    "start_time": "2024-08-27T17:06:44.979Z"
   },
   {
    "duration": 766,
    "start_time": "2024-08-27T17:06:59.249Z"
   },
   {
    "duration": 208,
    "start_time": "2024-08-27T17:07:00.017Z"
   },
   {
    "duration": 13,
    "start_time": "2024-08-27T17:07:00.227Z"
   },
   {
    "duration": 50,
    "start_time": "2024-08-27T17:07:00.252Z"
   },
   {
    "duration": 4,
    "start_time": "2024-08-27T17:07:00.305Z"
   },
   {
    "duration": 70,
    "start_time": "2024-08-27T17:07:00.311Z"
   },
   {
    "duration": 42,
    "start_time": "2024-08-27T17:07:00.383Z"
   },
   {
    "duration": 20,
    "start_time": "2024-08-27T17:07:00.428Z"
   },
   {
    "duration": 108,
    "start_time": "2024-08-27T17:07:00.450Z"
   },
   {
    "duration": 79,
    "start_time": "2024-08-27T17:07:00.561Z"
   },
   {
    "duration": 13,
    "start_time": "2024-08-27T17:07:00.642Z"
   },
   {
    "duration": 64,
    "start_time": "2024-08-27T17:07:00.656Z"
   },
   {
    "duration": 45,
    "start_time": "2024-08-27T17:07:00.722Z"
   },
   {
    "duration": 36,
    "start_time": "2024-08-27T17:07:00.772Z"
   },
   {
    "duration": 55,
    "start_time": "2024-08-27T17:07:00.813Z"
   },
   {
    "duration": 21,
    "start_time": "2024-08-27T17:07:00.871Z"
   },
   {
    "duration": 128,
    "start_time": "2024-08-27T17:07:00.893Z"
   },
   {
    "duration": 49,
    "start_time": "2024-08-27T17:07:01.023Z"
   },
   {
    "duration": 1409,
    "start_time": "2024-08-27T17:07:01.076Z"
   },
   {
    "duration": 331,
    "start_time": "2024-08-27T17:07:02.487Z"
   },
   {
    "duration": 163,
    "start_time": "2024-08-27T17:07:02.819Z"
   },
   {
    "duration": 652,
    "start_time": "2024-08-27T17:07:02.984Z"
   },
   {
    "duration": 61,
    "start_time": "2024-08-27T17:07:03.638Z"
   },
   {
    "duration": 35,
    "start_time": "2024-08-27T17:07:03.701Z"
   },
   {
    "duration": 776,
    "start_time": "2024-08-27T17:07:03.737Z"
   },
   {
    "duration": 877,
    "start_time": "2024-08-27T17:07:04.515Z"
   },
   {
    "duration": 228,
    "start_time": "2024-08-27T17:07:05.395Z"
   },
   {
    "duration": 5,
    "start_time": "2024-08-27T17:07:05.625Z"
   },
   {
    "duration": 27,
    "start_time": "2024-08-27T17:07:05.631Z"
   },
   {
    "duration": 1557,
    "start_time": "2024-08-27T17:07:05.661Z"
   },
   {
    "duration": 1383,
    "start_time": "2024-08-27T17:07:07.220Z"
   },
   {
    "duration": 4,
    "start_time": "2024-08-27T17:07:08.604Z"
   },
   {
    "duration": 13,
    "start_time": "2024-08-27T17:07:08.609Z"
   },
   {
    "duration": 380,
    "start_time": "2024-08-27T17:07:08.623Z"
   },
   {
    "duration": 82,
    "start_time": "2024-08-27T17:07:09.005Z"
   },
   {
    "duration": 189,
    "start_time": "2024-08-27T17:07:09.088Z"
   },
   {
    "duration": 374,
    "start_time": "2024-08-27T17:07:09.279Z"
   },
   {
    "duration": 2088,
    "start_time": "2024-08-27T17:07:09.655Z"
   },
   {
    "duration": 385,
    "start_time": "2024-08-27T17:07:11.745Z"
   },
   {
    "duration": 23,
    "start_time": "2024-08-27T17:07:12.132Z"
   },
   {
    "duration": 269,
    "start_time": "2024-08-27T17:07:12.162Z"
   },
   {
    "duration": 5,
    "start_time": "2024-08-27T17:07:12.433Z"
   },
   {
    "duration": 17,
    "start_time": "2024-08-27T17:07:12.440Z"
   },
   {
    "duration": 26,
    "start_time": "2024-08-27T17:07:12.459Z"
   },
   {
    "duration": 544,
    "start_time": "2024-08-27T17:07:12.486Z"
   },
   {
    "duration": 12,
    "start_time": "2024-08-27T17:07:13.032Z"
   },
   {
    "duration": 179,
    "start_time": "2024-08-27T17:07:13.053Z"
   },
   {
    "duration": 7,
    "start_time": "2024-08-27T17:07:13.234Z"
   },
   {
    "duration": 9,
    "start_time": "2024-08-27T17:18:32.416Z"
   },
   {
    "duration": 159,
    "start_time": "2024-08-27T17:18:56.993Z"
   },
   {
    "duration": 162,
    "start_time": "2024-08-27T17:19:40.809Z"
   },
   {
    "duration": 165,
    "start_time": "2024-08-27T17:21:40.575Z"
   },
   {
    "duration": 160,
    "start_time": "2024-08-27T17:21:46.535Z"
   },
   {
    "duration": 159,
    "start_time": "2024-08-27T17:21:50.968Z"
   },
   {
    "duration": 165,
    "start_time": "2024-08-27T17:21:53.805Z"
   },
   {
    "duration": 164,
    "start_time": "2024-08-27T17:21:58.485Z"
   },
   {
    "duration": 71,
    "start_time": "2024-08-27T17:22:02.756Z"
   },
   {
    "duration": 7,
    "start_time": "2024-08-27T17:22:07.325Z"
   },
   {
    "duration": 8,
    "start_time": "2024-08-27T17:22:21.959Z"
   },
   {
    "duration": 8,
    "start_time": "2024-08-27T17:22:28.680Z"
   },
   {
    "duration": 4,
    "start_time": "2024-08-27T17:22:36.532Z"
   },
   {
    "duration": 4,
    "start_time": "2024-08-27T17:22:50.854Z"
   },
   {
    "duration": 6,
    "start_time": "2024-08-27T17:23:21.274Z"
   },
   {
    "duration": 4,
    "start_time": "2024-08-27T17:24:03.215Z"
   },
   {
    "duration": 3,
    "start_time": "2024-08-27T17:25:27.493Z"
   },
   {
    "duration": 4,
    "start_time": "2024-08-27T17:25:48.788Z"
   },
   {
    "duration": 5,
    "start_time": "2024-08-27T17:26:38.496Z"
   },
   {
    "duration": 5,
    "start_time": "2024-08-27T17:27:36.593Z"
   },
   {
    "duration": 6,
    "start_time": "2024-08-27T17:27:41.276Z"
   },
   {
    "duration": 11,
    "start_time": "2024-08-27T17:34:39.552Z"
   },
   {
    "duration": 10,
    "start_time": "2024-08-27T17:36:58.927Z"
   },
   {
    "duration": 7,
    "start_time": "2024-08-27T17:37:58.584Z"
   },
   {
    "duration": 12,
    "start_time": "2024-08-27T17:38:06.232Z"
   },
   {
    "duration": 8,
    "start_time": "2024-08-27T17:38:15.121Z"
   },
   {
    "duration": 58,
    "start_time": "2024-08-27T17:42:09.259Z"
   },
   {
    "duration": 6,
    "start_time": "2024-08-27T17:42:16.546Z"
   },
   {
    "duration": 701,
    "start_time": "2024-08-27T17:42:23.125Z"
   },
   {
    "duration": 204,
    "start_time": "2024-08-27T17:42:23.828Z"
   },
   {
    "duration": 10,
    "start_time": "2024-08-27T17:42:24.034Z"
   },
   {
    "duration": 29,
    "start_time": "2024-08-27T17:42:24.045Z"
   },
   {
    "duration": 4,
    "start_time": "2024-08-27T17:42:24.076Z"
   },
   {
    "duration": 11,
    "start_time": "2024-08-27T17:42:24.082Z"
   },
   {
    "duration": 34,
    "start_time": "2024-08-27T17:42:24.095Z"
   },
   {
    "duration": 28,
    "start_time": "2024-08-27T17:42:24.131Z"
   },
   {
    "duration": 105,
    "start_time": "2024-08-27T17:42:24.161Z"
   },
   {
    "duration": 94,
    "start_time": "2024-08-27T17:42:24.269Z"
   },
   {
    "duration": 5,
    "start_time": "2024-08-27T17:42:24.365Z"
   },
   {
    "duration": 60,
    "start_time": "2024-08-27T17:42:24.371Z"
   },
   {
    "duration": 34,
    "start_time": "2024-08-27T17:42:24.433Z"
   },
   {
    "duration": 19,
    "start_time": "2024-08-27T17:42:24.471Z"
   },
   {
    "duration": 44,
    "start_time": "2024-08-27T17:42:24.492Z"
   },
   {
    "duration": 29,
    "start_time": "2024-08-27T17:42:24.538Z"
   },
   {
    "duration": 36,
    "start_time": "2024-08-27T17:42:24.570Z"
   },
   {
    "duration": 61,
    "start_time": "2024-08-27T17:42:24.607Z"
   },
   {
    "duration": 1215,
    "start_time": "2024-08-27T17:42:24.670Z"
   },
   {
    "duration": 294,
    "start_time": "2024-08-27T17:42:25.887Z"
   },
   {
    "duration": 152,
    "start_time": "2024-08-27T17:42:26.183Z"
   },
   {
    "duration": 567,
    "start_time": "2024-08-27T17:42:26.336Z"
   },
   {
    "duration": 57,
    "start_time": "2024-08-27T17:42:26.905Z"
   },
   {
    "duration": 40,
    "start_time": "2024-08-27T17:42:26.964Z"
   },
   {
    "duration": 715,
    "start_time": "2024-08-27T17:42:27.006Z"
   },
   {
    "duration": 788,
    "start_time": "2024-08-27T17:42:27.723Z"
   },
   {
    "duration": 215,
    "start_time": "2024-08-27T17:42:28.513Z"
   },
   {
    "duration": 4,
    "start_time": "2024-08-27T17:42:28.730Z"
   },
   {
    "duration": 29,
    "start_time": "2024-08-27T17:42:28.735Z"
   },
   {
    "duration": 1455,
    "start_time": "2024-08-27T17:42:28.766Z"
   },
   {
    "duration": 1160,
    "start_time": "2024-08-27T17:42:30.224Z"
   },
   {
    "duration": 2,
    "start_time": "2024-08-27T17:42:31.386Z"
   },
   {
    "duration": 51,
    "start_time": "2024-08-27T17:42:31.390Z"
   },
   {
    "duration": 408,
    "start_time": "2024-08-27T17:42:31.443Z"
   },
   {
    "duration": 51,
    "start_time": "2024-08-27T17:42:31.853Z"
   },
   {
    "duration": 174,
    "start_time": "2024-08-27T17:42:31.906Z"
   },
   {
    "duration": 334,
    "start_time": "2024-08-27T17:42:32.082Z"
   },
   {
    "duration": 2013,
    "start_time": "2024-08-27T17:42:32.418Z"
   },
   {
    "duration": 369,
    "start_time": "2024-08-27T17:42:34.433Z"
   },
   {
    "duration": 12,
    "start_time": "2024-08-27T17:42:34.804Z"
   },
   {
    "duration": 272,
    "start_time": "2024-08-27T17:42:34.820Z"
   },
   {
    "duration": 5,
    "start_time": "2024-08-27T17:42:35.094Z"
   },
   {
    "duration": 25,
    "start_time": "2024-08-27T17:42:35.101Z"
   },
   {
    "duration": 56,
    "start_time": "2024-08-27T17:43:40.570Z"
   },
   {
    "duration": 681,
    "start_time": "2024-08-27T17:43:50.436Z"
   },
   {
    "duration": 206,
    "start_time": "2024-08-27T17:43:51.119Z"
   },
   {
    "duration": 10,
    "start_time": "2024-08-27T17:43:51.327Z"
   },
   {
    "duration": 31,
    "start_time": "2024-08-27T17:43:51.339Z"
   },
   {
    "duration": 3,
    "start_time": "2024-08-27T17:43:51.372Z"
   },
   {
    "duration": 13,
    "start_time": "2024-08-27T17:43:51.376Z"
   },
   {
    "duration": 23,
    "start_time": "2024-08-27T17:43:51.390Z"
   },
   {
    "duration": 104,
    "start_time": "2024-08-27T17:43:51.414Z"
   },
   {
    "duration": 86,
    "start_time": "2024-08-27T17:43:51.519Z"
   },
   {
    "duration": 82,
    "start_time": "2024-08-27T17:43:51.607Z"
   },
   {
    "duration": 4,
    "start_time": "2024-08-27T17:43:51.690Z"
   },
   {
    "duration": 83,
    "start_time": "2024-08-27T17:43:51.696Z"
   },
   {
    "duration": 18,
    "start_time": "2024-08-27T17:43:51.780Z"
   },
   {
    "duration": 17,
    "start_time": "2024-08-27T17:43:51.801Z"
   },
   {
    "duration": 59,
    "start_time": "2024-08-27T17:43:51.819Z"
   },
   {
    "duration": 15,
    "start_time": "2024-08-27T17:43:51.880Z"
   },
   {
    "duration": 21,
    "start_time": "2024-08-27T17:43:51.896Z"
   },
   {
    "duration": 62,
    "start_time": "2024-08-27T17:43:51.919Z"
   },
   {
    "duration": 1227,
    "start_time": "2024-08-27T17:43:51.982Z"
   },
   {
    "duration": 305,
    "start_time": "2024-08-27T17:43:53.211Z"
   },
   {
    "duration": 182,
    "start_time": "2024-08-27T17:43:53.519Z"
   },
   {
    "duration": 587,
    "start_time": "2024-08-27T17:43:53.703Z"
   },
   {
    "duration": 46,
    "start_time": "2024-08-27T17:43:54.292Z"
   },
   {
    "duration": 43,
    "start_time": "2024-08-27T17:43:54.340Z"
   },
   {
    "duration": 624,
    "start_time": "2024-08-27T17:43:54.385Z"
   },
   {
    "duration": 708,
    "start_time": "2024-08-27T17:43:55.010Z"
   },
   {
    "duration": 196,
    "start_time": "2024-08-27T17:43:55.720Z"
   },
   {
    "duration": 11,
    "start_time": "2024-08-27T17:43:55.917Z"
   },
   {
    "duration": 29,
    "start_time": "2024-08-27T17:43:55.930Z"
   },
   {
    "duration": 1423,
    "start_time": "2024-08-27T17:43:55.965Z"
   },
   {
    "duration": 1223,
    "start_time": "2024-08-27T17:43:57.390Z"
   },
   {
    "duration": 2,
    "start_time": "2024-08-27T17:43:58.615Z"
   },
   {
    "duration": 10,
    "start_time": "2024-08-27T17:43:58.619Z"
   },
   {
    "duration": 317,
    "start_time": "2024-08-27T17:43:58.631Z"
   },
   {
    "duration": 59,
    "start_time": "2024-08-27T17:43:58.950Z"
   },
   {
    "duration": 183,
    "start_time": "2024-08-27T17:43:59.011Z"
   },
   {
    "duration": 337,
    "start_time": "2024-08-27T17:43:59.195Z"
   },
   {
    "duration": 1917,
    "start_time": "2024-08-27T17:43:59.534Z"
   },
   {
    "duration": 360,
    "start_time": "2024-08-27T17:44:01.454Z"
   },
   {
    "duration": 12,
    "start_time": "2024-08-27T17:44:01.815Z"
   },
   {
    "duration": 213,
    "start_time": "2024-08-27T17:44:01.830Z"
   },
   {
    "duration": 17,
    "start_time": "2024-08-27T17:44:02.045Z"
   },
   {
    "duration": 18,
    "start_time": "2024-08-27T17:44:02.065Z"
   },
   {
    "duration": 23,
    "start_time": "2024-08-27T17:44:02.085Z"
   },
   {
    "duration": 28,
    "start_time": "2024-08-27T17:44:02.110Z"
   },
   {
    "duration": 9,
    "start_time": "2024-08-27T17:44:02.140Z"
   },
   {
    "duration": 21,
    "start_time": "2024-08-27T17:44:02.151Z"
   },
   {
    "duration": 25,
    "start_time": "2024-08-27T17:44:02.173Z"
   },
   {
    "duration": 479,
    "start_time": "2024-08-27T17:44:02.199Z"
   },
   {
    "duration": 15,
    "start_time": "2024-08-27T17:44:02.679Z"
   },
   {
    "duration": 178,
    "start_time": "2024-08-27T17:44:02.696Z"
   },
   {
    "duration": 7,
    "start_time": "2024-08-27T17:44:02.875Z"
   },
   {
    "duration": 3,
    "start_time": "2024-08-27T17:44:10.734Z"
   },
   {
    "duration": 4,
    "start_time": "2024-08-27T17:44:22.179Z"
   },
   {
    "duration": 79,
    "start_time": "2024-08-27T17:45:09.380Z"
   },
   {
    "duration": 50,
    "start_time": "2024-08-27T17:45:12.036Z"
   },
   {
    "duration": 63,
    "start_time": "2024-08-27T17:45:26.182Z"
   },
   {
    "duration": 18,
    "start_time": "2024-08-27T17:45:46.930Z"
   },
   {
    "duration": 3,
    "start_time": "2024-08-27T17:45:48.149Z"
   },
   {
    "duration": 5,
    "start_time": "2024-08-27T17:46:15.931Z"
   },
   {
    "duration": 6,
    "start_time": "2024-08-27T17:46:17.309Z"
   },
   {
    "duration": 7,
    "start_time": "2024-08-27T17:46:51.814Z"
   },
   {
    "duration": 455,
    "start_time": "2024-08-27T17:46:53.581Z"
   },
   {
    "duration": 10,
    "start_time": "2024-08-27T17:47:40.988Z"
   },
   {
    "duration": 158,
    "start_time": "2024-08-27T17:47:44.291Z"
   },
   {
    "duration": 4,
    "start_time": "2024-08-27T17:48:55.685Z"
   },
   {
    "duration": 4,
    "start_time": "2024-08-27T17:50:18.510Z"
   },
   {
    "duration": 4,
    "start_time": "2024-08-27T17:50:32.190Z"
   },
   {
    "duration": 4,
    "start_time": "2024-08-27T17:50:43.190Z"
   },
   {
    "duration": 4,
    "start_time": "2024-08-27T17:50:51.340Z"
   },
   {
    "duration": 8,
    "start_time": "2024-08-27T17:52:27.963Z"
   },
   {
    "duration": 12,
    "start_time": "2024-08-27T17:52:32.733Z"
   },
   {
    "duration": 9,
    "start_time": "2024-08-27T17:54:26.230Z"
   },
   {
    "duration": 13,
    "start_time": "2024-08-27T17:54:43.489Z"
   },
   {
    "duration": 50,
    "start_time": "2024-08-28T06:23:04.604Z"
   },
   {
    "duration": 7,
    "start_time": "2024-08-28T06:25:56.074Z"
   },
   {
    "duration": 7,
    "start_time": "2024-08-28T06:26:28.691Z"
   },
   {
    "duration": 809,
    "start_time": "2024-08-28T06:26:32.648Z"
   },
   {
    "duration": 972,
    "start_time": "2024-08-28T06:26:33.459Z"
   },
   {
    "duration": 12,
    "start_time": "2024-08-28T06:26:34.433Z"
   },
   {
    "duration": 24,
    "start_time": "2024-08-28T06:26:34.446Z"
   },
   {
    "duration": 3,
    "start_time": "2024-08-28T06:26:34.472Z"
   },
   {
    "duration": 8,
    "start_time": "2024-08-28T06:26:34.476Z"
   },
   {
    "duration": 20,
    "start_time": "2024-08-28T06:26:34.486Z"
   },
   {
    "duration": 5,
    "start_time": "2024-08-28T06:26:34.508Z"
   },
   {
    "duration": 109,
    "start_time": "2024-08-28T06:26:34.515Z"
   },
   {
    "duration": 84,
    "start_time": "2024-08-28T06:26:34.625Z"
   },
   {
    "duration": 4,
    "start_time": "2024-08-28T06:26:34.711Z"
   },
   {
    "duration": 68,
    "start_time": "2024-08-28T06:26:34.716Z"
   },
   {
    "duration": 20,
    "start_time": "2024-08-28T06:26:34.786Z"
   },
   {
    "duration": 19,
    "start_time": "2024-08-28T06:26:34.808Z"
   },
   {
    "duration": 64,
    "start_time": "2024-08-28T06:26:34.828Z"
   },
   {
    "duration": 16,
    "start_time": "2024-08-28T06:26:34.894Z"
   },
   {
    "duration": 41,
    "start_time": "2024-08-28T06:26:34.911Z"
   },
   {
    "duration": 40,
    "start_time": "2024-08-28T06:26:34.953Z"
   },
   {
    "duration": 1142,
    "start_time": "2024-08-28T06:26:34.994Z"
   },
   {
    "duration": 315,
    "start_time": "2024-08-28T06:26:36.137Z"
   },
   {
    "duration": 104,
    "start_time": "2024-08-28T06:26:36.454Z"
   },
   {
    "duration": 541,
    "start_time": "2024-08-28T06:26:36.560Z"
   },
   {
    "duration": 52,
    "start_time": "2024-08-28T06:26:37.103Z"
   },
   {
    "duration": 34,
    "start_time": "2024-08-28T06:26:37.157Z"
   },
   {
    "duration": 622,
    "start_time": "2024-08-28T06:26:37.193Z"
   },
   {
    "duration": 697,
    "start_time": "2024-08-28T06:26:37.816Z"
   },
   {
    "duration": 252,
    "start_time": "2024-08-28T06:26:38.514Z"
   },
   {
    "duration": 4,
    "start_time": "2024-08-28T06:26:38.767Z"
   },
   {
    "duration": 14,
    "start_time": "2024-08-28T06:26:38.772Z"
   },
   {
    "duration": 1265,
    "start_time": "2024-08-28T06:26:38.788Z"
   },
   {
    "duration": 1149,
    "start_time": "2024-08-28T06:26:40.055Z"
   },
   {
    "duration": 3,
    "start_time": "2024-08-28T06:26:41.206Z"
   },
   {
    "duration": 7,
    "start_time": "2024-08-28T06:26:41.210Z"
   },
   {
    "duration": 301,
    "start_time": "2024-08-28T06:26:41.219Z"
   },
   {
    "duration": 67,
    "start_time": "2024-08-28T06:26:41.522Z"
   },
   {
    "duration": 163,
    "start_time": "2024-08-28T06:26:41.591Z"
   },
   {
    "duration": 328,
    "start_time": "2024-08-28T06:26:41.756Z"
   },
   {
    "duration": 1879,
    "start_time": "2024-08-28T06:26:42.085Z"
   },
   {
    "duration": 325,
    "start_time": "2024-08-28T06:26:43.966Z"
   },
   {
    "duration": 17,
    "start_time": "2024-08-28T06:26:44.292Z"
   },
   {
    "duration": 209,
    "start_time": "2024-08-28T06:26:44.312Z"
   },
   {
    "duration": 6,
    "start_time": "2024-08-28T06:26:44.523Z"
   },
   {
    "duration": 31,
    "start_time": "2024-08-28T06:26:44.531Z"
   },
   {
    "duration": 73,
    "start_time": "2024-08-28T06:26:44.564Z"
   },
   {
    "duration": 0,
    "start_time": "2024-08-28T06:26:44.639Z"
   },
   {
    "duration": 0,
    "start_time": "2024-08-28T06:26:44.640Z"
   },
   {
    "duration": 0,
    "start_time": "2024-08-28T06:26:44.652Z"
   },
   {
    "duration": 0,
    "start_time": "2024-08-28T06:26:44.653Z"
   },
   {
    "duration": 5,
    "start_time": "2024-08-28T06:27:19.012Z"
   },
   {
    "duration": 7,
    "start_time": "2024-08-28T06:28:25.983Z"
   },
   {
    "duration": 10,
    "start_time": "2024-08-28T06:28:50.194Z"
   },
   {
    "duration": 8,
    "start_time": "2024-08-28T07:26:13.391Z"
   },
   {
    "duration": 5,
    "start_time": "2024-08-28T07:26:38.921Z"
   },
   {
    "duration": 5,
    "start_time": "2024-08-28T07:26:56.644Z"
   },
   {
    "duration": 3,
    "start_time": "2024-08-28T07:27:00.633Z"
   },
   {
    "duration": 4,
    "start_time": "2024-08-28T07:27:18.504Z"
   },
   {
    "duration": 7,
    "start_time": "2024-08-28T07:29:43.334Z"
   },
   {
    "duration": 79,
    "start_time": "2024-08-28T07:55:49.232Z"
   },
   {
    "duration": 25,
    "start_time": "2024-08-28T07:56:13.811Z"
   },
   {
    "duration": 169,
    "start_time": "2024-08-28T07:56:16.121Z"
   },
   {
    "duration": 168,
    "start_time": "2024-08-28T07:56:38.101Z"
   },
   {
    "duration": 175,
    "start_time": "2024-08-28T07:57:01.237Z"
   },
   {
    "duration": 170,
    "start_time": "2024-08-28T07:58:42.106Z"
   },
   {
    "duration": 179,
    "start_time": "2024-08-28T07:58:48.824Z"
   },
   {
    "duration": 3,
    "start_time": "2024-08-28T08:02:38.143Z"
   },
   {
    "duration": 8,
    "start_time": "2024-08-28T08:03:31.775Z"
   },
   {
    "duration": 9,
    "start_time": "2024-08-28T08:03:49.584Z"
   },
   {
    "duration": 10,
    "start_time": "2024-08-28T08:04:03.390Z"
   },
   {
    "duration": 11,
    "start_time": "2024-08-28T08:04:35.799Z"
   },
   {
    "duration": 4,
    "start_time": "2024-08-28T08:04:47.594Z"
   },
   {
    "duration": 4,
    "start_time": "2024-08-28T08:04:53.817Z"
   },
   {
    "duration": 4,
    "start_time": "2024-08-28T08:04:57.272Z"
   },
   {
    "duration": 5,
    "start_time": "2024-08-28T08:05:10.345Z"
   },
   {
    "duration": 529,
    "start_time": "2024-08-28T08:06:33.493Z"
   },
   {
    "duration": 57,
    "start_time": "2024-08-28T08:07:43.810Z"
   },
   {
    "duration": 5,
    "start_time": "2024-08-28T08:15:09.988Z"
   },
   {
    "duration": 184,
    "start_time": "2024-08-28T08:15:57.900Z"
   },
   {
    "duration": 6,
    "start_time": "2024-08-28T08:16:15.798Z"
   },
   {
    "duration": 5,
    "start_time": "2024-08-28T08:16:28.759Z"
   },
   {
    "duration": 4,
    "start_time": "2024-08-28T08:16:51.666Z"
   },
   {
    "duration": 38,
    "start_time": "2024-08-28T08:17:28.457Z"
   },
   {
    "duration": 4,
    "start_time": "2024-08-28T08:17:38.673Z"
   },
   {
    "duration": 13,
    "start_time": "2024-08-28T08:17:40.728Z"
   },
   {
    "duration": 3,
    "start_time": "2024-08-28T08:18:05.071Z"
   },
   {
    "duration": 7,
    "start_time": "2024-08-28T08:18:10.062Z"
   },
   {
    "duration": 914,
    "start_time": "2024-08-28T08:19:36.448Z"
   },
   {
    "duration": 9,
    "start_time": "2024-08-28T08:19:43.718Z"
   },
   {
    "duration": 11,
    "start_time": "2024-08-28T08:20:03.380Z"
   },
   {
    "duration": 11,
    "start_time": "2024-08-28T08:20:24.047Z"
   },
   {
    "duration": 22,
    "start_time": "2024-08-28T08:23:07.630Z"
   },
   {
    "duration": 25,
    "start_time": "2024-08-28T08:23:13.677Z"
   },
   {
    "duration": 25,
    "start_time": "2024-08-28T08:23:31.336Z"
   },
   {
    "duration": 165,
    "start_time": "2024-08-28T08:26:51.045Z"
   },
   {
    "duration": 4,
    "start_time": "2024-08-28T08:26:52.684Z"
   },
   {
    "duration": 5,
    "start_time": "2024-08-28T08:26:54.786Z"
   },
   {
    "duration": 5,
    "start_time": "2024-08-28T08:26:58.096Z"
   },
   {
    "duration": 9,
    "start_time": "2024-08-28T08:27:01.088Z"
   },
   {
    "duration": 62,
    "start_time": "2024-08-28T08:28:11.637Z"
   },
   {
    "duration": 19,
    "start_time": "2024-08-28T08:28:16.320Z"
   },
   {
    "duration": 20,
    "start_time": "2024-08-28T08:28:25.147Z"
   },
   {
    "duration": 8,
    "start_time": "2024-08-28T08:29:01.283Z"
   },
   {
    "duration": 9,
    "start_time": "2024-08-28T08:29:06.486Z"
   },
   {
    "duration": 8,
    "start_time": "2024-08-28T08:29:16.217Z"
   },
   {
    "duration": 7,
    "start_time": "2024-08-28T08:29:17.467Z"
   },
   {
    "duration": 17,
    "start_time": "2024-08-28T08:29:23.951Z"
   },
   {
    "duration": 10,
    "start_time": "2024-08-28T08:29:36.611Z"
   },
   {
    "duration": 10,
    "start_time": "2024-08-28T08:29:38.660Z"
   },
   {
    "duration": 10,
    "start_time": "2024-08-28T08:29:43.581Z"
   },
   {
    "duration": 4,
    "start_time": "2024-08-28T08:29:47.416Z"
   },
   {
    "duration": 168,
    "start_time": "2024-08-28T08:29:49.006Z"
   },
   {
    "duration": 8,
    "start_time": "2024-08-28T08:29:56.910Z"
   },
   {
    "duration": 14,
    "start_time": "2024-08-28T08:30:02.335Z"
   },
   {
    "duration": 13,
    "start_time": "2024-08-28T08:30:16.919Z"
   },
   {
    "duration": 11,
    "start_time": "2024-08-28T08:30:29.625Z"
   },
   {
    "duration": 8,
    "start_time": "2024-08-28T08:30:30.969Z"
   },
   {
    "duration": 8,
    "start_time": "2024-08-28T08:30:43.424Z"
   },
   {
    "duration": 76,
    "start_time": "2024-08-28T08:33:08.695Z"
   },
   {
    "duration": 84,
    "start_time": "2024-08-28T08:33:45.216Z"
   },
   {
    "duration": 73,
    "start_time": "2024-08-28T08:35:11.641Z"
   },
   {
    "duration": 17,
    "start_time": "2024-08-28T08:35:57.980Z"
   },
   {
    "duration": 16,
    "start_time": "2024-08-28T08:36:13.615Z"
   },
   {
    "duration": 15,
    "start_time": "2024-08-28T08:36:44.119Z"
   },
   {
    "duration": 3,
    "start_time": "2024-08-28T08:36:51.240Z"
   },
   {
    "duration": 5,
    "start_time": "2024-08-28T08:36:53.514Z"
   },
   {
    "duration": 8,
    "start_time": "2024-08-28T08:36:57.905Z"
   },
   {
    "duration": 13,
    "start_time": "2024-08-28T08:37:30.574Z"
   },
   {
    "duration": 13,
    "start_time": "2024-08-28T08:37:56.863Z"
   },
   {
    "duration": 14,
    "start_time": "2024-08-28T08:38:06.409Z"
   },
   {
    "duration": 12,
    "start_time": "2024-08-28T08:38:10.140Z"
   },
   {
    "duration": 62,
    "start_time": "2024-08-28T08:38:19.541Z"
   },
   {
    "duration": 13,
    "start_time": "2024-08-28T08:38:22.200Z"
   },
   {
    "duration": 13,
    "start_time": "2024-08-28T08:38:37.462Z"
   },
   {
    "duration": 14,
    "start_time": "2024-08-28T08:38:40.200Z"
   },
   {
    "duration": 13,
    "start_time": "2024-08-28T08:38:48.884Z"
   },
   {
    "duration": 13,
    "start_time": "2024-08-28T08:38:59.140Z"
   },
   {
    "duration": 19,
    "start_time": "2024-08-28T08:39:03.776Z"
   },
   {
    "duration": 1056,
    "start_time": "2024-08-28T08:41:49.442Z"
   },
   {
    "duration": 236,
    "start_time": "2024-08-28T08:41:50.500Z"
   },
   {
    "duration": 10,
    "start_time": "2024-08-28T08:41:50.738Z"
   },
   {
    "duration": 21,
    "start_time": "2024-08-28T08:41:50.753Z"
   },
   {
    "duration": 3,
    "start_time": "2024-08-28T08:41:50.775Z"
   },
   {
    "duration": 14,
    "start_time": "2024-08-28T08:41:50.779Z"
   },
   {
    "duration": 27,
    "start_time": "2024-08-28T08:41:50.794Z"
   },
   {
    "duration": 4,
    "start_time": "2024-08-28T08:41:50.823Z"
   },
   {
    "duration": 101,
    "start_time": "2024-08-28T08:41:50.829Z"
   },
   {
    "duration": 81,
    "start_time": "2024-08-28T08:41:50.933Z"
   },
   {
    "duration": 4,
    "start_time": "2024-08-28T08:41:51.015Z"
   },
   {
    "duration": 68,
    "start_time": "2024-08-28T08:41:51.021Z"
   },
   {
    "duration": 19,
    "start_time": "2024-08-28T08:41:51.091Z"
   },
   {
    "duration": 17,
    "start_time": "2024-08-28T08:41:51.112Z"
   },
   {
    "duration": 59,
    "start_time": "2024-08-28T08:41:51.131Z"
   },
   {
    "duration": 16,
    "start_time": "2024-08-28T08:41:51.191Z"
   },
   {
    "duration": 44,
    "start_time": "2024-08-28T08:41:51.209Z"
   },
   {
    "duration": 42,
    "start_time": "2024-08-28T08:41:51.255Z"
   },
   {
    "duration": 1293,
    "start_time": "2024-08-28T08:41:51.298Z"
   },
   {
    "duration": 284,
    "start_time": "2024-08-28T08:41:52.593Z"
   },
   {
    "duration": 106,
    "start_time": "2024-08-28T08:41:52.879Z"
   },
   {
    "duration": 546,
    "start_time": "2024-08-28T08:41:52.987Z"
   },
   {
    "duration": 54,
    "start_time": "2024-08-28T08:41:53.535Z"
   },
   {
    "duration": 35,
    "start_time": "2024-08-28T08:41:53.591Z"
   },
   {
    "duration": 737,
    "start_time": "2024-08-28T08:41:53.628Z"
   },
   {
    "duration": 791,
    "start_time": "2024-08-28T08:41:54.367Z"
   },
   {
    "duration": 180,
    "start_time": "2024-08-28T08:41:55.160Z"
   },
   {
    "duration": 4,
    "start_time": "2024-08-28T08:41:55.352Z"
   },
   {
    "duration": 18,
    "start_time": "2024-08-28T08:41:55.358Z"
   },
   {
    "duration": 1384,
    "start_time": "2024-08-28T08:41:55.378Z"
   },
   {
    "duration": 1177,
    "start_time": "2024-08-28T08:41:56.763Z"
   },
   {
    "duration": 2,
    "start_time": "2024-08-28T08:41:57.942Z"
   },
   {
    "duration": 54,
    "start_time": "2024-08-28T08:41:57.946Z"
   },
   {
    "duration": 289,
    "start_time": "2024-08-28T08:41:58.001Z"
   },
   {
    "duration": 51,
    "start_time": "2024-08-28T08:41:58.291Z"
   },
   {
    "duration": 160,
    "start_time": "2024-08-28T08:41:58.352Z"
   },
   {
    "duration": 335,
    "start_time": "2024-08-28T08:41:58.513Z"
   },
   {
    "duration": 1724,
    "start_time": "2024-08-28T08:41:58.852Z"
   },
   {
    "duration": 331,
    "start_time": "2024-08-28T08:42:00.578Z"
   },
   {
    "duration": 13,
    "start_time": "2024-08-28T08:42:00.911Z"
   },
   {
    "duration": 237,
    "start_time": "2024-08-28T08:42:00.925Z"
   },
   {
    "duration": 5,
    "start_time": "2024-08-28T08:42:01.164Z"
   },
   {
    "duration": 55,
    "start_time": "2024-08-28T08:42:01.171Z"
   },
   {
    "duration": 5,
    "start_time": "2024-08-28T08:42:01.228Z"
   },
   {
    "duration": 15,
    "start_time": "2024-08-28T08:42:01.235Z"
   },
   {
    "duration": 10,
    "start_time": "2024-08-28T08:42:01.252Z"
   },
   {
    "duration": 14,
    "start_time": "2024-08-28T08:42:01.264Z"
   },
   {
    "duration": 180,
    "start_time": "2024-08-28T08:42:01.279Z"
   },
   {
    "duration": 104,
    "start_time": "2024-08-28T08:42:01.460Z"
   },
   {
    "duration": 0,
    "start_time": "2024-08-28T08:42:01.566Z"
   },
   {
    "duration": 0,
    "start_time": "2024-08-28T08:42:01.567Z"
   },
   {
    "duration": 0,
    "start_time": "2024-08-28T08:42:01.568Z"
   },
   {
    "duration": 0,
    "start_time": "2024-08-28T08:42:01.569Z"
   },
   {
    "duration": 0,
    "start_time": "2024-08-28T08:42:01.570Z"
   },
   {
    "duration": 0,
    "start_time": "2024-08-28T08:42:01.571Z"
   },
   {
    "duration": 0,
    "start_time": "2024-08-28T08:42:01.572Z"
   },
   {
    "duration": 6,
    "start_time": "2024-08-28T08:42:13.901Z"
   },
   {
    "duration": 4,
    "start_time": "2024-08-28T08:42:17.288Z"
   },
   {
    "duration": 3,
    "start_time": "2024-08-28T08:42:19.120Z"
   },
   {
    "duration": 6,
    "start_time": "2024-08-28T08:42:20.109Z"
   },
   {
    "duration": 9,
    "start_time": "2024-08-28T08:42:21.904Z"
   },
   {
    "duration": 9,
    "start_time": "2024-08-28T08:42:42.465Z"
   },
   {
    "duration": 16,
    "start_time": "2024-08-28T08:42:44.840Z"
   },
   {
    "duration": 19,
    "start_time": "2024-08-28T08:43:01.448Z"
   },
   {
    "duration": 17,
    "start_time": "2024-08-28T08:43:13.370Z"
   },
   {
    "duration": 5,
    "start_time": "2024-08-28T08:43:22.658Z"
   },
   {
    "duration": 8,
    "start_time": "2024-08-28T08:43:24.421Z"
   },
   {
    "duration": 4,
    "start_time": "2024-08-28T08:43:52.843Z"
   },
   {
    "duration": 8,
    "start_time": "2024-08-28T08:43:55.611Z"
   },
   {
    "duration": 3,
    "start_time": "2024-08-28T08:44:42.783Z"
   },
   {
    "duration": 9,
    "start_time": "2024-08-28T08:44:43.982Z"
   },
   {
    "duration": 10,
    "start_time": "2024-08-28T08:49:50.556Z"
   },
   {
    "duration": 9,
    "start_time": "2024-08-28T08:50:02.662Z"
   },
   {
    "duration": 8,
    "start_time": "2024-08-28T08:50:05.375Z"
   },
   {
    "duration": 3,
    "start_time": "2024-08-28T08:50:08.405Z"
   },
   {
    "duration": 243,
    "start_time": "2024-08-28T08:50:09.658Z"
   },
   {
    "duration": 10,
    "start_time": "2024-08-28T08:50:16.455Z"
   },
   {
    "duration": 9,
    "start_time": "2024-08-28T08:50:59.958Z"
   },
   {
    "duration": 3,
    "start_time": "2024-08-28T08:51:13.352Z"
   },
   {
    "duration": 10,
    "start_time": "2024-08-28T08:51:15.227Z"
   },
   {
    "duration": 14,
    "start_time": "2024-08-28T08:52:50.762Z"
   },
   {
    "duration": 827,
    "start_time": "2024-08-28T08:53:00.359Z"
   },
   {
    "duration": 868,
    "start_time": "2024-08-28T08:53:36.776Z"
   },
   {
    "duration": 872,
    "start_time": "2024-08-28T08:53:39.107Z"
   },
   {
    "duration": 856,
    "start_time": "2024-08-28T08:53:49.049Z"
   },
   {
    "duration": 827,
    "start_time": "2024-08-28T08:54:02.023Z"
   },
   {
    "duration": 1047,
    "start_time": "2024-08-28T08:54:14.561Z"
   },
   {
    "duration": 233,
    "start_time": "2024-08-28T08:54:15.610Z"
   },
   {
    "duration": 17,
    "start_time": "2024-08-28T08:54:15.845Z"
   },
   {
    "duration": 21,
    "start_time": "2024-08-28T08:54:15.864Z"
   },
   {
    "duration": 2,
    "start_time": "2024-08-28T08:54:15.887Z"
   },
   {
    "duration": 25,
    "start_time": "2024-08-28T08:54:15.891Z"
   },
   {
    "duration": 32,
    "start_time": "2024-08-28T08:54:15.917Z"
   },
   {
    "duration": 11,
    "start_time": "2024-08-28T08:54:15.951Z"
   },
   {
    "duration": 88,
    "start_time": "2024-08-28T08:54:15.964Z"
   },
   {
    "duration": 76,
    "start_time": "2024-08-28T08:54:16.054Z"
   },
   {
    "duration": 3,
    "start_time": "2024-08-28T08:54:16.132Z"
   },
   {
    "duration": 52,
    "start_time": "2024-08-28T08:54:16.152Z"
   },
   {
    "duration": 19,
    "start_time": "2024-08-28T08:54:16.206Z"
   },
   {
    "duration": 33,
    "start_time": "2024-08-28T08:54:16.226Z"
   },
   {
    "duration": 41,
    "start_time": "2024-08-28T08:54:16.260Z"
   },
   {
    "duration": 16,
    "start_time": "2024-08-28T08:54:16.303Z"
   },
   {
    "duration": 95,
    "start_time": "2024-08-28T08:54:16.321Z"
   },
   {
    "duration": 39,
    "start_time": "2024-08-28T08:54:16.417Z"
   },
   {
    "duration": 1258,
    "start_time": "2024-08-28T08:54:16.457Z"
   },
   {
    "duration": 281,
    "start_time": "2024-08-28T08:54:17.717Z"
   },
   {
    "duration": 105,
    "start_time": "2024-08-28T08:54:18.000Z"
   },
   {
    "duration": 552,
    "start_time": "2024-08-28T08:54:18.107Z"
   },
   {
    "duration": 45,
    "start_time": "2024-08-28T08:54:18.661Z"
   },
   {
    "duration": 52,
    "start_time": "2024-08-28T08:54:18.708Z"
   },
   {
    "duration": 674,
    "start_time": "2024-08-28T08:54:18.761Z"
   },
   {
    "duration": 767,
    "start_time": "2024-08-28T08:54:19.437Z"
   },
   {
    "duration": 180,
    "start_time": "2024-08-28T08:54:20.206Z"
   },
   {
    "duration": 4,
    "start_time": "2024-08-28T08:54:20.390Z"
   },
   {
    "duration": 86,
    "start_time": "2024-08-28T08:54:20.396Z"
   },
   {
    "duration": 1388,
    "start_time": "2024-08-28T08:54:20.484Z"
   },
   {
    "duration": 1170,
    "start_time": "2024-08-28T08:54:21.873Z"
   },
   {
    "duration": 7,
    "start_time": "2024-08-28T08:54:23.045Z"
   },
   {
    "duration": 3,
    "start_time": "2024-08-28T08:54:23.054Z"
   },
   {
    "duration": 296,
    "start_time": "2024-08-28T08:54:23.058Z"
   },
   {
    "duration": 52,
    "start_time": "2024-08-28T08:54:23.355Z"
   },
   {
    "duration": 164,
    "start_time": "2024-08-28T08:54:23.408Z"
   },
   {
    "duration": 335,
    "start_time": "2024-08-28T08:54:23.574Z"
   },
   {
    "duration": 1668,
    "start_time": "2024-08-28T08:54:23.912Z"
   },
   {
    "duration": 318,
    "start_time": "2024-08-28T08:54:25.582Z"
   },
   {
    "duration": 12,
    "start_time": "2024-08-28T08:54:25.902Z"
   },
   {
    "duration": 217,
    "start_time": "2024-08-28T08:54:25.916Z"
   },
   {
    "duration": 5,
    "start_time": "2024-08-28T08:54:26.135Z"
   },
   {
    "duration": 25,
    "start_time": "2024-08-28T08:54:26.142Z"
   },
   {
    "duration": 5,
    "start_time": "2024-08-28T08:54:26.169Z"
   },
   {
    "duration": 13,
    "start_time": "2024-08-28T08:54:26.176Z"
   },
   {
    "duration": 7,
    "start_time": "2024-08-28T08:54:26.191Z"
   },
   {
    "duration": 14,
    "start_time": "2024-08-28T08:54:26.199Z"
   },
   {
    "duration": 206,
    "start_time": "2024-08-28T08:54:26.215Z"
   },
   {
    "duration": 5,
    "start_time": "2024-08-28T08:54:26.423Z"
   },
   {
    "duration": 38,
    "start_time": "2024-08-28T08:54:26.430Z"
   },
   {
    "duration": 9,
    "start_time": "2024-08-28T08:54:26.470Z"
   },
   {
    "duration": 6,
    "start_time": "2024-08-28T08:54:26.480Z"
   },
   {
    "duration": 8,
    "start_time": "2024-08-28T08:54:26.488Z"
   },
   {
    "duration": 13,
    "start_time": "2024-08-28T08:54:26.498Z"
   },
   {
    "duration": 18,
    "start_time": "2024-08-28T08:54:26.512Z"
   },
   {
    "duration": 120,
    "start_time": "2024-08-28T08:54:26.532Z"
   },
   {
    "duration": 0,
    "start_time": "2024-08-28T08:54:26.654Z"
   },
   {
    "duration": 0,
    "start_time": "2024-08-28T08:54:26.655Z"
   },
   {
    "duration": 0,
    "start_time": "2024-08-28T08:54:26.657Z"
   },
   {
    "duration": 4,
    "start_time": "2024-08-28T08:54:55.232Z"
   },
   {
    "duration": 3,
    "start_time": "2024-08-28T08:55:02.487Z"
   },
   {
    "duration": 3,
    "start_time": "2024-08-28T08:55:03.532Z"
   },
   {
    "duration": 8,
    "start_time": "2024-08-28T08:55:04.655Z"
   },
   {
    "duration": 19,
    "start_time": "2024-08-28T08:55:41.575Z"
   },
   {
    "duration": 20,
    "start_time": "2024-08-28T08:55:52.902Z"
   },
   {
    "duration": 3,
    "start_time": "2024-08-28T08:56:08.607Z"
   },
   {
    "duration": 20,
    "start_time": "2024-08-28T08:56:14.910Z"
   },
   {
    "duration": 3,
    "start_time": "2024-08-28T08:56:23.046Z"
   },
   {
    "duration": 19,
    "start_time": "2024-08-28T08:56:26.907Z"
   },
   {
    "duration": 21,
    "start_time": "2024-08-28T08:56:37.498Z"
   },
   {
    "duration": 61,
    "start_time": "2024-08-28T08:56:55.599Z"
   },
   {
    "duration": 19,
    "start_time": "2024-08-28T08:56:57.570Z"
   },
   {
    "duration": 10,
    "start_time": "2024-08-28T08:58:02.466Z"
   },
   {
    "duration": 9,
    "start_time": "2024-08-28T08:58:09.480Z"
   },
   {
    "duration": 224,
    "start_time": "2024-08-28T08:58:29.263Z"
   },
   {
    "duration": 233,
    "start_time": "2024-08-28T08:58:44.006Z"
   },
   {
    "duration": 223,
    "start_time": "2024-08-28T08:58:58.691Z"
   },
   {
    "duration": 224,
    "start_time": "2024-08-28T08:59:02.444Z"
   },
   {
    "duration": 10,
    "start_time": "2024-08-28T09:00:09.454Z"
   },
   {
    "duration": 14,
    "start_time": "2024-08-28T09:00:28.176Z"
   },
   {
    "duration": 11,
    "start_time": "2024-08-28T09:00:30.563Z"
   },
   {
    "duration": 16,
    "start_time": "2024-08-28T09:01:11.327Z"
   },
   {
    "duration": 18,
    "start_time": "2024-08-28T09:01:15.897Z"
   },
   {
    "duration": 4,
    "start_time": "2024-08-28T09:01:30.934Z"
   },
   {
    "duration": 17,
    "start_time": "2024-08-28T09:01:35.471Z"
   },
   {
    "duration": 18,
    "start_time": "2024-08-28T09:01:56.958Z"
   },
   {
    "duration": 9,
    "start_time": "2024-08-28T09:02:47.969Z"
   },
   {
    "duration": 17,
    "start_time": "2024-08-28T09:04:35.318Z"
   },
   {
    "duration": 25,
    "start_time": "2024-08-28T09:05:09.443Z"
   },
   {
    "duration": 26,
    "start_time": "2024-08-28T09:05:21.856Z"
   },
   {
    "duration": 5,
    "start_time": "2024-08-28T09:05:31.257Z"
   },
   {
    "duration": 26,
    "start_time": "2024-08-28T09:05:33.576Z"
   },
   {
    "duration": 37,
    "start_time": "2024-08-28T09:07:32.226Z"
   },
   {
    "duration": 236,
    "start_time": "2024-08-28T09:09:00.249Z"
   },
   {
    "duration": 228,
    "start_time": "2024-08-28T09:09:06.797Z"
   },
   {
    "duration": 225,
    "start_time": "2024-08-28T09:09:10.536Z"
   },
   {
    "duration": 18,
    "start_time": "2024-08-28T09:09:33.967Z"
   },
   {
    "duration": 40,
    "start_time": "2024-08-28T09:10:39.652Z"
   },
   {
    "duration": 39,
    "start_time": "2024-08-28T09:11:46.292Z"
   },
   {
    "duration": 40,
    "start_time": "2024-08-28T09:12:02.700Z"
   },
   {
    "duration": 7,
    "start_time": "2024-08-28T09:12:28.608Z"
   },
   {
    "duration": 229,
    "start_time": "2024-08-28T09:12:57.415Z"
   },
   {
    "duration": 18,
    "start_time": "2024-08-28T09:13:00.303Z"
   },
   {
    "duration": 40,
    "start_time": "2024-08-28T09:13:02.443Z"
   },
   {
    "duration": 4,
    "start_time": "2024-08-28T09:13:17.027Z"
   },
   {
    "duration": 7,
    "start_time": "2024-08-28T09:13:27.922Z"
   },
   {
    "duration": 20,
    "start_time": "2024-08-28T09:14:05.639Z"
   },
   {
    "duration": 36,
    "start_time": "2024-08-28T09:14:37.183Z"
   },
   {
    "duration": 7,
    "start_time": "2024-08-28T09:17:24.103Z"
   },
   {
    "duration": 5,
    "start_time": "2024-08-28T09:17:27.565Z"
   },
   {
    "duration": 5,
    "start_time": "2024-08-28T09:17:29.135Z"
   },
   {
    "duration": 7,
    "start_time": "2024-08-28T09:18:37.377Z"
   },
   {
    "duration": 5,
    "start_time": "2024-08-28T09:18:40.931Z"
   },
   {
    "duration": 9,
    "start_time": "2024-08-28T09:18:48.753Z"
   },
   {
    "duration": 6,
    "start_time": "2024-08-28T09:18:56.983Z"
   },
   {
    "duration": 178,
    "start_time": "2024-08-28T09:20:04.327Z"
   },
   {
    "duration": 241,
    "start_time": "2024-08-28T09:20:09.749Z"
   },
   {
    "duration": 234,
    "start_time": "2024-08-28T09:20:19.097Z"
   },
   {
    "duration": 254,
    "start_time": "2024-08-28T09:20:32.211Z"
   },
   {
    "duration": 226,
    "start_time": "2024-08-28T09:20:44.666Z"
   },
   {
    "duration": 224,
    "start_time": "2024-08-28T09:20:48.390Z"
   },
   {
    "duration": 4,
    "start_time": "2024-08-28T09:21:01.663Z"
   },
   {
    "duration": 5,
    "start_time": "2024-08-28T09:21:05.814Z"
   },
   {
    "duration": 5,
    "start_time": "2024-08-28T09:21:07.939Z"
   },
   {
    "duration": 17,
    "start_time": "2024-08-28T09:21:23.007Z"
   },
   {
    "duration": 9,
    "start_time": "2024-08-28T09:21:49.894Z"
   },
   {
    "duration": 6,
    "start_time": "2024-08-28T09:21:53.260Z"
   },
   {
    "duration": 10,
    "start_time": "2024-08-28T09:21:54.701Z"
   },
   {
    "duration": 6,
    "start_time": "2024-08-28T09:21:57.258Z"
   },
   {
    "duration": 8,
    "start_time": "2024-08-28T09:21:58.354Z"
   },
   {
    "duration": 3,
    "start_time": "2024-08-28T09:22:06.218Z"
   },
   {
    "duration": 20,
    "start_time": "2024-08-28T09:22:07.020Z"
   },
   {
    "duration": 18,
    "start_time": "2024-08-28T09:22:18.049Z"
   },
   {
    "duration": 7,
    "start_time": "2024-08-28T09:22:27.120Z"
   },
   {
    "duration": 17,
    "start_time": "2024-08-28T09:22:48.009Z"
   },
   {
    "duration": 9,
    "start_time": "2024-08-28T09:23:05.780Z"
   },
   {
    "duration": 20,
    "start_time": "2024-08-28T09:23:29.003Z"
   },
   {
    "duration": 5,
    "start_time": "2024-08-28T09:23:53.402Z"
   },
   {
    "duration": 6,
    "start_time": "2024-08-28T09:23:56.109Z"
   },
   {
    "duration": 9,
    "start_time": "2024-08-28T09:23:57.167Z"
   },
   {
    "duration": 3,
    "start_time": "2024-08-28T09:23:58.976Z"
   },
   {
    "duration": 26,
    "start_time": "2024-08-28T09:23:59.975Z"
   },
   {
    "duration": 16,
    "start_time": "2024-08-28T09:24:17.410Z"
   },
   {
    "duration": 15,
    "start_time": "2024-08-28T09:24:36.575Z"
   },
   {
    "duration": 19,
    "start_time": "2024-08-28T09:25:32.594Z"
   },
   {
    "duration": 233,
    "start_time": "2024-08-28T09:25:47.528Z"
   },
   {
    "duration": 238,
    "start_time": "2024-08-28T09:25:56.325Z"
   },
   {
    "duration": 882,
    "start_time": "2024-08-28T09:26:43.680Z"
   },
   {
    "duration": 1117,
    "start_time": "2024-08-28T09:27:00.633Z"
   },
   {
    "duration": 26,
    "start_time": "2024-08-28T09:27:49.086Z"
   },
   {
    "duration": 25,
    "start_time": "2024-08-28T09:28:01.250Z"
   },
   {
    "duration": 5,
    "start_time": "2024-08-28T09:28:46.731Z"
   },
   {
    "duration": 6,
    "start_time": "2024-08-28T09:28:49.471Z"
   },
   {
    "duration": 21,
    "start_time": "2024-08-28T09:28:52.181Z"
   },
   {
    "duration": 32,
    "start_time": "2024-08-28T09:28:56.206Z"
   },
   {
    "duration": 228,
    "start_time": "2024-08-28T09:29:33.436Z"
   },
   {
    "duration": 9,
    "start_time": "2024-08-28T09:29:55.445Z"
   },
   {
    "duration": 18,
    "start_time": "2024-08-28T09:29:57.841Z"
   },
   {
    "duration": 34,
    "start_time": "2024-08-28T09:30:00.025Z"
   },
   {
    "duration": 46,
    "start_time": "2024-08-28T09:30:09.711Z"
   },
   {
    "duration": 43,
    "start_time": "2024-08-28T09:30:21.187Z"
   },
   {
    "duration": 9,
    "start_time": "2024-08-28T09:32:23.932Z"
   },
   {
    "duration": 30,
    "start_time": "2024-08-28T09:32:26.464Z"
   },
   {
    "duration": 5,
    "start_time": "2024-08-28T09:32:39.795Z"
   },
   {
    "duration": 31,
    "start_time": "2024-08-28T09:32:42.860Z"
   },
   {
    "duration": 5,
    "start_time": "2024-08-28T09:32:56.503Z"
   },
   {
    "duration": 6,
    "start_time": "2024-08-28T09:33:01.855Z"
   },
   {
    "duration": 250,
    "start_time": "2024-08-28T09:33:05.670Z"
   },
   {
    "duration": 6,
    "start_time": "2024-08-28T09:33:26.044Z"
   },
   {
    "duration": 31,
    "start_time": "2024-08-28T09:33:31.636Z"
   },
   {
    "duration": 65,
    "start_time": "2024-08-28T09:33:50.814Z"
   },
   {
    "duration": 1202,
    "start_time": "2024-08-29T08:27:29.068Z"
   },
   {
    "duration": 755,
    "start_time": "2024-08-29T08:27:30.272Z"
   },
   {
    "duration": 11,
    "start_time": "2024-08-29T08:27:31.028Z"
   },
   {
    "duration": 37,
    "start_time": "2024-08-29T08:27:31.041Z"
   },
   {
    "duration": 2,
    "start_time": "2024-08-29T08:27:31.080Z"
   },
   {
    "duration": 15,
    "start_time": "2024-08-29T08:27:31.083Z"
   },
   {
    "duration": 20,
    "start_time": "2024-08-29T08:27:31.099Z"
   },
   {
    "duration": 25,
    "start_time": "2024-08-29T08:27:31.121Z"
   },
   {
    "duration": 79,
    "start_time": "2024-08-29T08:27:31.147Z"
   },
   {
    "duration": 77,
    "start_time": "2024-08-29T08:27:31.228Z"
   },
   {
    "duration": 5,
    "start_time": "2024-08-29T08:27:31.306Z"
   },
   {
    "duration": 80,
    "start_time": "2024-08-29T08:27:31.312Z"
   },
   {
    "duration": 18,
    "start_time": "2024-08-29T08:27:31.394Z"
   },
   {
    "duration": 29,
    "start_time": "2024-08-29T08:27:31.413Z"
   },
   {
    "duration": 40,
    "start_time": "2024-08-29T08:27:31.444Z"
   },
   {
    "duration": 19,
    "start_time": "2024-08-29T08:27:31.486Z"
   },
   {
    "duration": 50,
    "start_time": "2024-08-29T08:27:31.507Z"
   },
   {
    "duration": 47,
    "start_time": "2024-08-29T08:27:31.559Z"
   },
   {
    "duration": 1188,
    "start_time": "2024-08-29T08:27:31.607Z"
   },
   {
    "duration": 269,
    "start_time": "2024-08-29T08:27:32.797Z"
   },
   {
    "duration": 102,
    "start_time": "2024-08-29T08:27:33.067Z"
   },
   {
    "duration": 579,
    "start_time": "2024-08-29T08:27:33.171Z"
   },
   {
    "duration": 45,
    "start_time": "2024-08-29T08:27:33.751Z"
   },
   {
    "duration": 59,
    "start_time": "2024-08-29T08:27:33.798Z"
   },
   {
    "duration": 669,
    "start_time": "2024-08-29T08:27:33.858Z"
   },
   {
    "duration": 737,
    "start_time": "2024-08-29T08:27:34.529Z"
   },
   {
    "duration": 177,
    "start_time": "2024-08-29T08:27:35.268Z"
   },
   {
    "duration": 4,
    "start_time": "2024-08-29T08:27:35.449Z"
   },
   {
    "duration": 35,
    "start_time": "2024-08-29T08:27:35.454Z"
   },
   {
    "duration": 1286,
    "start_time": "2024-08-29T08:27:35.490Z"
   },
   {
    "duration": 1169,
    "start_time": "2024-08-29T08:27:36.778Z"
   },
   {
    "duration": 3,
    "start_time": "2024-08-29T08:27:37.949Z"
   },
   {
    "duration": 11,
    "start_time": "2024-08-29T08:27:37.953Z"
   },
   {
    "duration": 313,
    "start_time": "2024-08-29T08:27:37.965Z"
   },
   {
    "duration": 47,
    "start_time": "2024-08-29T08:27:38.280Z"
   },
   {
    "duration": 141,
    "start_time": "2024-08-29T08:27:38.337Z"
   },
   {
    "duration": 297,
    "start_time": "2024-08-29T08:27:38.480Z"
   },
   {
    "duration": 1681,
    "start_time": "2024-08-29T08:27:38.778Z"
   },
   {
    "duration": 301,
    "start_time": "2024-08-29T08:27:40.460Z"
   },
   {
    "duration": 12,
    "start_time": "2024-08-29T08:27:40.763Z"
   },
   {
    "duration": 203,
    "start_time": "2024-08-29T08:27:40.776Z"
   },
   {
    "duration": 5,
    "start_time": "2024-08-29T08:27:40.981Z"
   },
   {
    "duration": 15,
    "start_time": "2024-08-29T08:27:40.987Z"
   },
   {
    "duration": 5,
    "start_time": "2024-08-29T08:27:41.003Z"
   },
   {
    "duration": 28,
    "start_time": "2024-08-29T08:27:41.010Z"
   },
   {
    "duration": 11,
    "start_time": "2024-08-29T08:27:41.040Z"
   },
   {
    "duration": 19,
    "start_time": "2024-08-29T08:27:41.052Z"
   },
   {
    "duration": 223,
    "start_time": "2024-08-29T08:27:41.073Z"
   },
   {
    "duration": 4,
    "start_time": "2024-08-29T08:27:41.298Z"
   },
   {
    "duration": 48,
    "start_time": "2024-08-29T08:27:41.303Z"
   },
   {
    "duration": 21,
    "start_time": "2024-08-29T08:27:41.352Z"
   },
   {
    "duration": 21,
    "start_time": "2024-08-29T08:27:41.374Z"
   },
   {
    "duration": 98,
    "start_time": "2024-08-29T08:27:41.397Z"
   },
   {
    "duration": 0,
    "start_time": "2024-08-29T08:27:41.496Z"
   },
   {
    "duration": 0,
    "start_time": "2024-08-29T08:27:41.498Z"
   },
   {
    "duration": 0,
    "start_time": "2024-08-29T08:27:41.499Z"
   },
   {
    "duration": 0,
    "start_time": "2024-08-29T08:27:41.500Z"
   },
   {
    "duration": 0,
    "start_time": "2024-08-29T08:27:41.501Z"
   },
   {
    "duration": 10,
    "start_time": "2024-08-29T08:41:41.412Z"
   },
   {
    "duration": 9,
    "start_time": "2024-08-29T08:42:03.903Z"
   },
   {
    "duration": 9,
    "start_time": "2024-08-29T08:42:51.466Z"
   },
   {
    "duration": 13,
    "start_time": "2024-08-29T08:42:56.256Z"
   },
   {
    "duration": 7,
    "start_time": "2024-08-29T08:43:03.303Z"
   },
   {
    "duration": 12,
    "start_time": "2024-08-29T08:43:09.394Z"
   },
   {
    "duration": 11,
    "start_time": "2024-08-29T08:57:30.157Z"
   },
   {
    "duration": 14,
    "start_time": "2024-08-29T08:57:35.581Z"
   },
   {
    "duration": 11,
    "start_time": "2024-08-29T08:57:38.903Z"
   },
   {
    "duration": 10,
    "start_time": "2024-08-29T08:57:52.658Z"
   },
   {
    "duration": 60,
    "start_time": "2024-08-29T08:58:21.845Z"
   },
   {
    "duration": 17,
    "start_time": "2024-08-29T08:58:24.886Z"
   },
   {
    "duration": 14,
    "start_time": "2024-08-29T08:58:31.573Z"
   },
   {
    "duration": 19,
    "start_time": "2024-08-29T08:58:41.301Z"
   },
   {
    "duration": 14,
    "start_time": "2024-08-29T08:58:49.308Z"
   },
   {
    "duration": 14,
    "start_time": "2024-08-29T08:59:22.781Z"
   },
   {
    "duration": 9,
    "start_time": "2024-08-29T08:59:37.156Z"
   },
   {
    "duration": 13,
    "start_time": "2024-08-29T08:59:41.760Z"
   },
   {
    "duration": 961,
    "start_time": "2024-08-29T08:59:53.186Z"
   },
   {
    "duration": 220,
    "start_time": "2024-08-29T08:59:54.149Z"
   },
   {
    "duration": 10,
    "start_time": "2024-08-29T08:59:54.371Z"
   },
   {
    "duration": 21,
    "start_time": "2024-08-29T08:59:54.382Z"
   },
   {
    "duration": 2,
    "start_time": "2024-08-29T08:59:54.406Z"
   },
   {
    "duration": 24,
    "start_time": "2024-08-29T08:59:54.410Z"
   },
   {
    "duration": 18,
    "start_time": "2024-08-29T08:59:54.438Z"
   },
   {
    "duration": 12,
    "start_time": "2024-08-29T08:59:54.458Z"
   },
   {
    "duration": 83,
    "start_time": "2024-08-29T08:59:54.471Z"
   },
   {
    "duration": 66,
    "start_time": "2024-08-29T08:59:54.556Z"
   },
   {
    "duration": 35,
    "start_time": "2024-08-29T08:59:54.624Z"
   },
   {
    "duration": 62,
    "start_time": "2024-08-29T08:59:54.660Z"
   },
   {
    "duration": 19,
    "start_time": "2024-08-29T08:59:54.723Z"
   },
   {
    "duration": 17,
    "start_time": "2024-08-29T08:59:54.746Z"
   },
   {
    "duration": 39,
    "start_time": "2024-08-29T08:59:54.765Z"
   },
   {
    "duration": 34,
    "start_time": "2024-08-29T08:59:54.806Z"
   },
   {
    "duration": 23,
    "start_time": "2024-08-29T08:59:54.842Z"
   },
   {
    "duration": 35,
    "start_time": "2024-08-29T08:59:54.867Z"
   },
   {
    "duration": 1187,
    "start_time": "2024-08-29T08:59:54.903Z"
   },
   {
    "duration": 268,
    "start_time": "2024-08-29T08:59:56.092Z"
   },
   {
    "duration": 91,
    "start_time": "2024-08-29T08:59:56.362Z"
   },
   {
    "duration": 518,
    "start_time": "2024-08-29T08:59:56.455Z"
   },
   {
    "duration": 41,
    "start_time": "2024-08-29T08:59:56.975Z"
   },
   {
    "duration": 47,
    "start_time": "2024-08-29T08:59:57.018Z"
   },
   {
    "duration": 595,
    "start_time": "2024-08-29T08:59:57.067Z"
   },
   {
    "duration": 752,
    "start_time": "2024-08-29T08:59:57.663Z"
   },
   {
    "duration": 163,
    "start_time": "2024-08-29T08:59:58.417Z"
   },
   {
    "duration": 4,
    "start_time": "2024-08-29T08:59:58.582Z"
   },
   {
    "duration": 83,
    "start_time": "2024-08-29T08:59:58.588Z"
   },
   {
    "duration": 1250,
    "start_time": "2024-08-29T08:59:58.673Z"
   },
   {
    "duration": 1143,
    "start_time": "2024-08-29T08:59:59.925Z"
   },
   {
    "duration": 3,
    "start_time": "2024-08-29T09:00:01.070Z"
   },
   {
    "duration": 13,
    "start_time": "2024-08-29T09:00:01.075Z"
   },
   {
    "duration": 313,
    "start_time": "2024-08-29T09:00:01.089Z"
   },
   {
    "duration": 60,
    "start_time": "2024-08-29T09:00:01.403Z"
   },
   {
    "duration": 175,
    "start_time": "2024-08-29T09:00:01.464Z"
   },
   {
    "duration": 300,
    "start_time": "2024-08-29T09:00:01.641Z"
   },
   {
    "duration": 1648,
    "start_time": "2024-08-29T09:00:01.943Z"
   },
   {
    "duration": 298,
    "start_time": "2024-08-29T09:00:03.592Z"
   },
   {
    "duration": 12,
    "start_time": "2024-08-29T09:00:03.891Z"
   },
   {
    "duration": 202,
    "start_time": "2024-08-29T09:00:03.907Z"
   },
   {
    "duration": 6,
    "start_time": "2024-08-29T09:00:04.111Z"
   },
   {
    "duration": 31,
    "start_time": "2024-08-29T09:00:04.118Z"
   },
   {
    "duration": 15,
    "start_time": "2024-08-29T09:00:04.151Z"
   },
   {
    "duration": 14,
    "start_time": "2024-08-29T09:00:04.167Z"
   },
   {
    "duration": 17,
    "start_time": "2024-08-29T09:00:04.183Z"
   },
   {
    "duration": 11,
    "start_time": "2024-08-29T09:00:04.201Z"
   },
   {
    "duration": 218,
    "start_time": "2024-08-29T09:00:04.213Z"
   },
   {
    "duration": 8,
    "start_time": "2024-08-29T09:00:04.432Z"
   },
   {
    "duration": 16,
    "start_time": "2024-08-29T09:00:04.441Z"
   },
   {
    "duration": 30,
    "start_time": "2024-08-29T09:00:04.458Z"
   },
   {
    "duration": 25,
    "start_time": "2024-08-29T09:00:04.489Z"
   },
   {
    "duration": 18,
    "start_time": "2024-08-29T09:00:04.516Z"
   },
   {
    "duration": 116,
    "start_time": "2024-08-29T09:00:04.536Z"
   },
   {
    "duration": 134,
    "start_time": "2024-08-29T09:00:04.653Z"
   },
   {
    "duration": 0,
    "start_time": "2024-08-29T09:00:04.788Z"
   },
   {
    "duration": 0,
    "start_time": "2024-08-29T09:00:04.789Z"
   },
   {
    "duration": 0,
    "start_time": "2024-08-29T09:00:04.791Z"
   },
   {
    "duration": 11,
    "start_time": "2024-08-29T09:00:27.348Z"
   },
   {
    "duration": 17,
    "start_time": "2024-08-29T09:01:03.309Z"
   },
   {
    "duration": 15,
    "start_time": "2024-08-29T09:01:12.884Z"
   },
   {
    "duration": 17,
    "start_time": "2024-08-29T09:01:17.253Z"
   },
   {
    "duration": 12,
    "start_time": "2024-08-29T09:01:25.203Z"
   },
   {
    "duration": 9,
    "start_time": "2024-08-29T09:01:30.911Z"
   },
   {
    "duration": 13,
    "start_time": "2024-08-29T09:01:34.445Z"
   },
   {
    "duration": 11,
    "start_time": "2024-08-29T09:01:51.672Z"
   },
   {
    "duration": 2,
    "start_time": "2024-08-29T09:02:23.111Z"
   },
   {
    "duration": 3,
    "start_time": "2024-08-29T09:02:33.369Z"
   },
   {
    "duration": 32,
    "start_time": "2024-08-29T09:02:34.246Z"
   },
   {
    "duration": 5,
    "start_time": "2024-08-29T09:02:46.272Z"
   },
   {
    "duration": 7,
    "start_time": "2024-08-29T09:02:48.560Z"
   },
   {
    "duration": 11,
    "start_time": "2024-08-29T09:02:49.615Z"
   },
   {
    "duration": 3,
    "start_time": "2024-08-29T09:02:52.277Z"
   },
   {
    "duration": 24,
    "start_time": "2024-08-29T09:02:53.778Z"
   },
   {
    "duration": 22,
    "start_time": "2024-08-29T09:03:03.015Z"
   },
   {
    "duration": 22,
    "start_time": "2024-08-29T09:03:41.738Z"
   },
   {
    "duration": 22,
    "start_time": "2024-08-29T09:03:53.907Z"
   },
   {
    "duration": 25,
    "start_time": "2024-08-29T09:04:17.794Z"
   },
   {
    "duration": 15,
    "start_time": "2024-08-29T09:04:50.778Z"
   },
   {
    "duration": 13,
    "start_time": "2024-08-29T09:05:00.919Z"
   },
   {
    "duration": 25,
    "start_time": "2024-08-29T09:05:20.401Z"
   },
   {
    "duration": 10,
    "start_time": "2024-08-29T09:05:23.345Z"
   },
   {
    "duration": 24,
    "start_time": "2024-08-29T09:05:29.280Z"
   },
   {
    "duration": 52,
    "start_time": "2024-08-29T09:05:34.435Z"
   },
   {
    "duration": 31,
    "start_time": "2024-08-29T09:05:37.487Z"
   },
   {
    "duration": 22,
    "start_time": "2024-08-29T09:05:48.846Z"
   },
   {
    "duration": 24,
    "start_time": "2024-08-29T09:06:20.085Z"
   },
   {
    "duration": 24,
    "start_time": "2024-08-29T09:06:27.635Z"
   },
   {
    "duration": 61,
    "start_time": "2024-08-29T09:07:04.092Z"
   },
   {
    "duration": 60,
    "start_time": "2024-08-29T09:07:07.263Z"
   },
   {
    "duration": 23,
    "start_time": "2024-08-29T09:07:10.947Z"
   },
   {
    "duration": 18,
    "start_time": "2024-08-29T09:07:15.888Z"
   },
   {
    "duration": 25,
    "start_time": "2024-08-29T09:07:20.169Z"
   },
   {
    "duration": 9,
    "start_time": "2024-08-29T09:08:01.934Z"
   },
   {
    "duration": 18,
    "start_time": "2024-08-29T09:08:04.658Z"
   },
   {
    "duration": 44,
    "start_time": "2024-08-29T09:08:08.706Z"
   },
   {
    "duration": 1040,
    "start_time": "2024-08-29T09:08:18.951Z"
   },
   {
    "duration": 228,
    "start_time": "2024-08-29T09:08:19.993Z"
   },
   {
    "duration": 11,
    "start_time": "2024-08-29T09:08:20.222Z"
   },
   {
    "duration": 22,
    "start_time": "2024-08-29T09:08:20.238Z"
   },
   {
    "duration": 3,
    "start_time": "2024-08-29T09:08:20.262Z"
   },
   {
    "duration": 17,
    "start_time": "2024-08-29T09:08:20.266Z"
   },
   {
    "duration": 40,
    "start_time": "2024-08-29T09:08:20.285Z"
   },
   {
    "duration": 72,
    "start_time": "2024-08-29T09:08:20.326Z"
   },
   {
    "duration": 101,
    "start_time": "2024-08-29T09:08:20.400Z"
   },
   {
    "duration": 74,
    "start_time": "2024-08-29T09:08:20.504Z"
   },
   {
    "duration": 4,
    "start_time": "2024-08-29T09:08:20.579Z"
   },
   {
    "duration": 100,
    "start_time": "2024-08-29T09:08:20.584Z"
   },
   {
    "duration": 25,
    "start_time": "2024-08-29T09:08:20.685Z"
   },
   {
    "duration": 16,
    "start_time": "2024-08-29T09:08:20.711Z"
   },
   {
    "duration": 44,
    "start_time": "2024-08-29T09:08:20.728Z"
   },
   {
    "duration": 15,
    "start_time": "2024-08-29T09:08:20.774Z"
   },
   {
    "duration": 43,
    "start_time": "2024-08-29T09:08:20.791Z"
   },
   {
    "duration": 54,
    "start_time": "2024-08-29T09:08:20.836Z"
   },
   {
    "duration": 1236,
    "start_time": "2024-08-29T09:08:20.891Z"
   },
   {
    "duration": 256,
    "start_time": "2024-08-29T09:08:22.128Z"
   },
   {
    "duration": 96,
    "start_time": "2024-08-29T09:08:22.386Z"
   },
   {
    "duration": 493,
    "start_time": "2024-08-29T09:08:22.484Z"
   },
   {
    "duration": 42,
    "start_time": "2024-08-29T09:08:22.979Z"
   },
   {
    "duration": 44,
    "start_time": "2024-08-29T09:08:23.022Z"
   },
   {
    "duration": 689,
    "start_time": "2024-08-29T09:08:23.068Z"
   },
   {
    "duration": 721,
    "start_time": "2024-08-29T09:08:23.758Z"
   },
   {
    "duration": 169,
    "start_time": "2024-08-29T09:08:24.481Z"
   },
   {
    "duration": 4,
    "start_time": "2024-08-29T09:08:24.653Z"
   },
   {
    "duration": 45,
    "start_time": "2024-08-29T09:08:24.658Z"
   },
   {
    "duration": 1276,
    "start_time": "2024-08-29T09:08:24.704Z"
   },
   {
    "duration": 1145,
    "start_time": "2024-08-29T09:08:25.982Z"
   },
   {
    "duration": 3,
    "start_time": "2024-08-29T09:08:27.128Z"
   },
   {
    "duration": 5,
    "start_time": "2024-08-29T09:08:27.138Z"
   },
   {
    "duration": 300,
    "start_time": "2024-08-29T09:08:27.144Z"
   },
   {
    "duration": 48,
    "start_time": "2024-08-29T09:08:27.446Z"
   },
   {
    "duration": 156,
    "start_time": "2024-08-29T09:08:27.495Z"
   },
   {
    "duration": 296,
    "start_time": "2024-08-29T09:08:27.652Z"
   },
   {
    "duration": 1669,
    "start_time": "2024-08-29T09:08:27.950Z"
   },
   {
    "duration": 305,
    "start_time": "2024-08-29T09:08:29.621Z"
   },
   {
    "duration": 16,
    "start_time": "2024-08-29T09:08:29.928Z"
   },
   {
    "duration": 215,
    "start_time": "2024-08-29T09:08:29.945Z"
   },
   {
    "duration": 7,
    "start_time": "2024-08-29T09:08:30.162Z"
   },
   {
    "duration": 44,
    "start_time": "2024-08-29T09:08:30.170Z"
   },
   {
    "duration": 77,
    "start_time": "2024-08-29T09:08:30.216Z"
   },
   {
    "duration": 145,
    "start_time": "2024-08-29T09:08:30.295Z"
   },
   {
    "duration": 11,
    "start_time": "2024-08-29T09:08:30.441Z"
   },
   {
    "duration": 25,
    "start_time": "2024-08-29T09:08:30.454Z"
   },
   {
    "duration": 226,
    "start_time": "2024-08-29T09:08:30.481Z"
   },
   {
    "duration": 4,
    "start_time": "2024-08-29T09:08:30.709Z"
   },
   {
    "duration": 14,
    "start_time": "2024-08-29T09:08:30.714Z"
   },
   {
    "duration": 16,
    "start_time": "2024-08-29T09:08:30.730Z"
   },
   {
    "duration": 10,
    "start_time": "2024-08-29T09:08:30.747Z"
   },
   {
    "duration": 18,
    "start_time": "2024-08-29T09:08:30.759Z"
   },
   {
    "duration": 17,
    "start_time": "2024-08-29T09:08:30.779Z"
   },
   {
    "duration": 39,
    "start_time": "2024-08-29T09:08:30.797Z"
   },
   {
    "duration": 9,
    "start_time": "2024-08-29T09:08:30.837Z"
   },
   {
    "duration": 19,
    "start_time": "2024-08-29T09:08:30.847Z"
   },
   {
    "duration": 45,
    "start_time": "2024-08-29T09:08:30.868Z"
   },
   {
    "duration": 100,
    "start_time": "2024-08-29T09:11:02.960Z"
   },
   {
    "duration": 14,
    "start_time": "2024-08-29T09:11:07.648Z"
   },
   {
    "duration": 9,
    "start_time": "2024-08-29T09:11:11.939Z"
   },
   {
    "duration": 17,
    "start_time": "2024-08-29T09:11:17.172Z"
   },
   {
    "duration": 9,
    "start_time": "2024-08-29T09:11:23.363Z"
   },
   {
    "duration": 26,
    "start_time": "2024-08-29T09:11:25.343Z"
   },
   {
    "duration": 4,
    "start_time": "2024-08-29T09:11:32.652Z"
   },
   {
    "duration": 14,
    "start_time": "2024-08-29T09:11:39.144Z"
   },
   {
    "duration": 8,
    "start_time": "2024-08-29T09:13:44.175Z"
   },
   {
    "duration": 8,
    "start_time": "2024-08-29T09:13:53.109Z"
   },
   {
    "duration": 7,
    "start_time": "2024-08-29T09:13:56.644Z"
   },
   {
    "duration": 10,
    "start_time": "2024-08-29T09:14:31.551Z"
   },
   {
    "duration": 1046,
    "start_time": "2024-08-29T09:14:53.759Z"
   },
   {
    "duration": 233,
    "start_time": "2024-08-29T09:14:54.807Z"
   },
   {
    "duration": 11,
    "start_time": "2024-08-29T09:14:55.041Z"
   },
   {
    "duration": 28,
    "start_time": "2024-08-29T09:14:55.053Z"
   },
   {
    "duration": 10,
    "start_time": "2024-08-29T09:14:55.082Z"
   },
   {
    "duration": 15,
    "start_time": "2024-08-29T09:14:55.093Z"
   },
   {
    "duration": 20,
    "start_time": "2024-08-29T09:14:55.109Z"
   },
   {
    "duration": 15,
    "start_time": "2024-08-29T09:14:55.130Z"
   },
   {
    "duration": 115,
    "start_time": "2024-08-29T09:14:55.147Z"
   },
   {
    "duration": 75,
    "start_time": "2024-08-29T09:14:55.265Z"
   },
   {
    "duration": 3,
    "start_time": "2024-08-29T09:14:55.342Z"
   },
   {
    "duration": 65,
    "start_time": "2024-08-29T09:14:55.347Z"
   },
   {
    "duration": 18,
    "start_time": "2024-08-29T09:14:55.414Z"
   },
   {
    "duration": 19,
    "start_time": "2024-08-29T09:14:55.438Z"
   },
   {
    "duration": 45,
    "start_time": "2024-08-29T09:14:55.459Z"
   },
   {
    "duration": 33,
    "start_time": "2024-08-29T09:14:55.506Z"
   },
   {
    "duration": 31,
    "start_time": "2024-08-29T09:14:55.541Z"
   },
   {
    "duration": 69,
    "start_time": "2024-08-29T09:14:55.579Z"
   },
   {
    "duration": 1283,
    "start_time": "2024-08-29T09:14:55.650Z"
   },
   {
    "duration": 258,
    "start_time": "2024-08-29T09:14:56.937Z"
   },
   {
    "duration": 100,
    "start_time": "2024-08-29T09:14:57.197Z"
   },
   {
    "duration": 535,
    "start_time": "2024-08-29T09:14:57.299Z"
   },
   {
    "duration": 43,
    "start_time": "2024-08-29T09:14:57.837Z"
   },
   {
    "duration": 32,
    "start_time": "2024-08-29T09:14:57.881Z"
   },
   {
    "duration": 684,
    "start_time": "2024-08-29T09:14:57.915Z"
   },
   {
    "duration": 757,
    "start_time": "2024-08-29T09:14:58.600Z"
   },
   {
    "duration": 202,
    "start_time": "2024-08-29T09:14:59.359Z"
   },
   {
    "duration": 6,
    "start_time": "2024-08-29T09:14:59.564Z"
   },
   {
    "duration": 23,
    "start_time": "2024-08-29T09:14:59.572Z"
   },
   {
    "duration": 1383,
    "start_time": "2024-08-29T09:14:59.597Z"
   },
   {
    "duration": 1199,
    "start_time": "2024-08-29T09:15:00.982Z"
   },
   {
    "duration": 3,
    "start_time": "2024-08-29T09:15:02.184Z"
   },
   {
    "duration": 8,
    "start_time": "2024-08-29T09:15:02.188Z"
   },
   {
    "duration": 314,
    "start_time": "2024-08-29T09:15:02.198Z"
   },
   {
    "duration": 58,
    "start_time": "2024-08-29T09:15:02.514Z"
   },
   {
    "duration": 160,
    "start_time": "2024-08-29T09:15:02.574Z"
   },
   {
    "duration": 312,
    "start_time": "2024-08-29T09:15:02.736Z"
   },
   {
    "duration": 1652,
    "start_time": "2024-08-29T09:15:03.051Z"
   },
   {
    "duration": 323,
    "start_time": "2024-08-29T09:15:04.705Z"
   },
   {
    "duration": 18,
    "start_time": "2024-08-29T09:15:05.030Z"
   },
   {
    "duration": 211,
    "start_time": "2024-08-29T09:15:05.050Z"
   },
   {
    "duration": 8,
    "start_time": "2024-08-29T09:15:05.262Z"
   },
   {
    "duration": 28,
    "start_time": "2024-08-29T09:15:05.272Z"
   },
   {
    "duration": 4,
    "start_time": "2024-08-29T09:15:05.301Z"
   },
   {
    "duration": 9,
    "start_time": "2024-08-29T09:15:05.307Z"
   },
   {
    "duration": 25,
    "start_time": "2024-08-29T09:15:05.317Z"
   },
   {
    "duration": 10,
    "start_time": "2024-08-29T09:15:05.343Z"
   },
   {
    "duration": 253,
    "start_time": "2024-08-29T09:15:05.355Z"
   },
   {
    "duration": 4,
    "start_time": "2024-08-29T09:15:05.609Z"
   },
   {
    "duration": 18,
    "start_time": "2024-08-29T09:15:05.615Z"
   },
   {
    "duration": 11,
    "start_time": "2024-08-29T09:15:05.634Z"
   },
   {
    "duration": 14,
    "start_time": "2024-08-29T09:15:05.647Z"
   },
   {
    "duration": 16,
    "start_time": "2024-08-29T09:15:05.663Z"
   },
   {
    "duration": 32,
    "start_time": "2024-08-29T09:15:05.680Z"
   },
   {
    "duration": 41,
    "start_time": "2024-08-29T09:15:05.714Z"
   },
   {
    "duration": 32,
    "start_time": "2024-08-29T09:15:05.757Z"
   },
   {
    "duration": 10,
    "start_time": "2024-08-29T09:15:05.790Z"
   },
   {
    "duration": 78,
    "start_time": "2024-08-29T09:15:05.802Z"
   },
   {
    "duration": 12,
    "start_time": "2024-08-29T09:17:10.550Z"
   },
   {
    "duration": 11,
    "start_time": "2024-08-29T09:17:46.274Z"
   },
   {
    "duration": 12,
    "start_time": "2024-08-29T09:18:13.506Z"
   },
   {
    "duration": 54,
    "start_time": "2024-08-29T09:18:40.791Z"
   },
   {
    "duration": 48,
    "start_time": "2024-08-29T09:19:06.808Z"
   },
   {
    "duration": 46,
    "start_time": "2024-08-29T09:22:36.093Z"
   },
   {
    "duration": 62,
    "start_time": "2024-08-29T09:23:16.942Z"
   },
   {
    "duration": 48,
    "start_time": "2024-08-29T09:23:43.027Z"
   },
   {
    "duration": 1025,
    "start_time": "2024-08-29T09:23:50.956Z"
   },
   {
    "duration": 224,
    "start_time": "2024-08-29T09:23:51.983Z"
   },
   {
    "duration": 11,
    "start_time": "2024-08-29T09:23:52.211Z"
   },
   {
    "duration": 29,
    "start_time": "2024-08-29T09:23:52.224Z"
   },
   {
    "duration": 3,
    "start_time": "2024-08-29T09:23:52.255Z"
   },
   {
    "duration": 47,
    "start_time": "2024-08-29T09:23:52.260Z"
   },
   {
    "duration": 22,
    "start_time": "2024-08-29T09:23:52.308Z"
   },
   {
    "duration": 81,
    "start_time": "2024-08-29T09:23:52.331Z"
   },
   {
    "duration": 89,
    "start_time": "2024-08-29T09:23:52.414Z"
   },
   {
    "duration": 77,
    "start_time": "2024-08-29T09:23:52.505Z"
   },
   {
    "duration": 4,
    "start_time": "2024-08-29T09:23:52.583Z"
   },
   {
    "duration": 62,
    "start_time": "2024-08-29T09:23:52.589Z"
   },
   {
    "duration": 18,
    "start_time": "2024-08-29T09:23:52.653Z"
   },
   {
    "duration": 92,
    "start_time": "2024-08-29T09:23:52.672Z"
   },
   {
    "duration": 43,
    "start_time": "2024-08-29T09:23:52.766Z"
   },
   {
    "duration": 15,
    "start_time": "2024-08-29T09:23:52.810Z"
   },
   {
    "duration": 52,
    "start_time": "2024-08-29T09:23:52.826Z"
   },
   {
    "duration": 40,
    "start_time": "2024-08-29T09:23:52.880Z"
   },
   {
    "duration": 1215,
    "start_time": "2024-08-29T09:23:52.922Z"
   },
   {
    "duration": 267,
    "start_time": "2024-08-29T09:23:54.138Z"
   },
   {
    "duration": 106,
    "start_time": "2024-08-29T09:23:54.406Z"
   },
   {
    "duration": 566,
    "start_time": "2024-08-29T09:23:54.514Z"
   },
   {
    "duration": 44,
    "start_time": "2024-08-29T09:23:55.081Z"
   },
   {
    "duration": 40,
    "start_time": "2024-08-29T09:23:55.126Z"
   },
   {
    "duration": 659,
    "start_time": "2024-08-29T09:23:55.168Z"
   },
   {
    "duration": 750,
    "start_time": "2024-08-29T09:23:55.829Z"
   },
   {
    "duration": 195,
    "start_time": "2024-08-29T09:23:56.583Z"
   },
   {
    "duration": 4,
    "start_time": "2024-08-29T09:23:56.780Z"
   },
   {
    "duration": 35,
    "start_time": "2024-08-29T09:23:56.786Z"
   },
   {
    "duration": 1321,
    "start_time": "2024-08-29T09:23:56.822Z"
   },
   {
    "duration": 1152,
    "start_time": "2024-08-29T09:23:58.144Z"
   },
   {
    "duration": 2,
    "start_time": "2024-08-29T09:23:59.298Z"
   },
   {
    "duration": 5,
    "start_time": "2024-08-29T09:23:59.302Z"
   },
   {
    "duration": 296,
    "start_time": "2024-08-29T09:23:59.309Z"
   },
   {
    "duration": 61,
    "start_time": "2024-08-29T09:23:59.606Z"
   },
   {
    "duration": 156,
    "start_time": "2024-08-29T09:23:59.669Z"
   },
   {
    "duration": 336,
    "start_time": "2024-08-29T09:23:59.827Z"
   },
   {
    "duration": 1734,
    "start_time": "2024-08-29T09:24:00.165Z"
   },
   {
    "duration": 312,
    "start_time": "2024-08-29T09:24:01.901Z"
   },
   {
    "duration": 13,
    "start_time": "2024-08-29T09:24:02.215Z"
   },
   {
    "duration": 201,
    "start_time": "2024-08-29T09:24:02.237Z"
   },
   {
    "duration": 6,
    "start_time": "2024-08-29T09:24:02.440Z"
   },
   {
    "duration": 45,
    "start_time": "2024-08-29T09:24:02.448Z"
   },
   {
    "duration": 109,
    "start_time": "2024-08-29T09:24:02.495Z"
   },
   {
    "duration": 38,
    "start_time": "2024-08-29T09:24:02.606Z"
   },
   {
    "duration": 96,
    "start_time": "2024-08-29T09:24:02.646Z"
   },
   {
    "duration": 20,
    "start_time": "2024-08-29T09:24:02.744Z"
   },
   {
    "duration": 277,
    "start_time": "2024-08-29T09:24:02.765Z"
   },
   {
    "duration": 4,
    "start_time": "2024-08-29T09:24:03.044Z"
   },
   {
    "duration": 11,
    "start_time": "2024-08-29T09:24:03.049Z"
   },
   {
    "duration": 29,
    "start_time": "2024-08-29T09:24:03.061Z"
   },
   {
    "duration": 10,
    "start_time": "2024-08-29T09:24:03.092Z"
   },
   {
    "duration": 12,
    "start_time": "2024-08-29T09:24:03.104Z"
   },
   {
    "duration": 7,
    "start_time": "2024-08-29T09:24:03.118Z"
   },
   {
    "duration": 31,
    "start_time": "2024-08-29T09:24:03.126Z"
   },
   {
    "duration": 33,
    "start_time": "2024-08-29T09:24:03.158Z"
   },
   {
    "duration": 32,
    "start_time": "2024-08-29T09:24:03.193Z"
   },
   {
    "duration": 55,
    "start_time": "2024-08-29T09:24:03.227Z"
   },
   {
    "duration": 256,
    "start_time": "2024-08-29T09:35:31.820Z"
   },
   {
    "duration": 212,
    "start_time": "2024-08-29T09:35:34.112Z"
   },
   {
    "duration": 374,
    "start_time": "2024-08-29T09:35:37.871Z"
   },
   {
    "duration": 263,
    "start_time": "2024-08-29T09:35:41.386Z"
   },
   {
    "duration": 240,
    "start_time": "2024-08-29T09:35:52.952Z"
   },
   {
    "duration": 209,
    "start_time": "2024-08-29T09:35:54.024Z"
   },
   {
    "duration": 259,
    "start_time": "2024-08-29T09:35:55.368Z"
   },
   {
    "duration": 768,
    "start_time": "2024-08-29T09:36:19.742Z"
   },
   {
    "duration": 7,
    "start_time": "2024-08-29T09:36:33.825Z"
   },
   {
    "duration": 7,
    "start_time": "2024-08-29T09:36:50.932Z"
   },
   {
    "duration": 10,
    "start_time": "2024-08-29T09:37:12.233Z"
   },
   {
    "duration": 25,
    "start_time": "2024-08-29T09:37:46.853Z"
   },
   {
    "duration": 503,
    "start_time": "2024-08-29T09:38:15.720Z"
   },
   {
    "duration": 10,
    "start_time": "2024-08-29T09:39:02.630Z"
   },
   {
    "duration": 11,
    "start_time": "2024-08-29T09:39:30.359Z"
   },
   {
    "duration": 49,
    "start_time": "2024-08-29T09:40:28.261Z"
   },
   {
    "duration": 43,
    "start_time": "2024-08-29T09:40:34.883Z"
   },
   {
    "duration": 296,
    "start_time": "2024-08-29T09:45:54.631Z"
   },
   {
    "duration": 470,
    "start_time": "2024-08-29T09:46:07.457Z"
   },
   {
    "duration": 291,
    "start_time": "2024-08-29T09:46:14.310Z"
   },
   {
    "duration": 283,
    "start_time": "2024-08-29T09:46:19.914Z"
   },
   {
    "duration": 435,
    "start_time": "2024-08-29T09:46:32.332Z"
   },
   {
    "duration": 1047,
    "start_time": "2024-08-29T09:46:41.075Z"
   },
   {
    "duration": 230,
    "start_time": "2024-08-29T09:46:42.124Z"
   },
   {
    "duration": 10,
    "start_time": "2024-08-29T09:46:42.355Z"
   },
   {
    "duration": 72,
    "start_time": "2024-08-29T09:46:42.367Z"
   },
   {
    "duration": 49,
    "start_time": "2024-08-29T09:46:42.440Z"
   },
   {
    "duration": 41,
    "start_time": "2024-08-29T09:46:42.491Z"
   },
   {
    "duration": 52,
    "start_time": "2024-08-29T09:46:42.534Z"
   },
   {
    "duration": 12,
    "start_time": "2024-08-29T09:46:42.587Z"
   },
   {
    "duration": 96,
    "start_time": "2024-08-29T09:46:42.600Z"
   },
   {
    "duration": 73,
    "start_time": "2024-08-29T09:46:42.699Z"
   },
   {
    "duration": 54,
    "start_time": "2024-08-29T09:46:42.773Z"
   },
   {
    "duration": 91,
    "start_time": "2024-08-29T09:46:42.828Z"
   },
   {
    "duration": 18,
    "start_time": "2024-08-29T09:46:42.921Z"
   },
   {
    "duration": 39,
    "start_time": "2024-08-29T09:46:42.941Z"
   },
   {
    "duration": 73,
    "start_time": "2024-08-29T09:46:42.982Z"
   },
   {
    "duration": 16,
    "start_time": "2024-08-29T09:46:43.056Z"
   },
   {
    "duration": 41,
    "start_time": "2024-08-29T09:46:43.073Z"
   },
   {
    "duration": 56,
    "start_time": "2024-08-29T09:46:43.116Z"
   },
   {
    "duration": 1238,
    "start_time": "2024-08-29T09:46:43.174Z"
   },
   {
    "duration": 260,
    "start_time": "2024-08-29T09:46:44.414Z"
   },
   {
    "duration": 103,
    "start_time": "2024-08-29T09:46:44.675Z"
   },
   {
    "duration": 547,
    "start_time": "2024-08-29T09:46:44.780Z"
   },
   {
    "duration": 41,
    "start_time": "2024-08-29T09:46:45.328Z"
   },
   {
    "duration": 44,
    "start_time": "2024-08-29T09:46:45.371Z"
   },
   {
    "duration": 650,
    "start_time": "2024-08-29T09:46:45.416Z"
   },
   {
    "duration": 744,
    "start_time": "2024-08-29T09:46:46.067Z"
   },
   {
    "duration": 189,
    "start_time": "2024-08-29T09:46:46.812Z"
   },
   {
    "duration": 5,
    "start_time": "2024-08-29T09:46:47.004Z"
   },
   {
    "duration": 28,
    "start_time": "2024-08-29T09:46:47.010Z"
   },
   {
    "duration": 1345,
    "start_time": "2024-08-29T09:46:47.040Z"
   },
   {
    "duration": 1127,
    "start_time": "2024-08-29T09:46:48.387Z"
   },
   {
    "duration": 2,
    "start_time": "2024-08-29T09:46:49.517Z"
   },
   {
    "duration": 13,
    "start_time": "2024-08-29T09:46:49.521Z"
   },
   {
    "duration": 284,
    "start_time": "2024-08-29T09:46:49.535Z"
   },
   {
    "duration": 53,
    "start_time": "2024-08-29T09:46:49.821Z"
   },
   {
    "duration": 158,
    "start_time": "2024-08-29T09:46:49.876Z"
   },
   {
    "duration": 319,
    "start_time": "2024-08-29T09:46:50.037Z"
   },
   {
    "duration": 1565,
    "start_time": "2024-08-29T09:46:50.358Z"
   },
   {
    "duration": 297,
    "start_time": "2024-08-29T09:46:51.925Z"
   },
   {
    "duration": 17,
    "start_time": "2024-08-29T09:46:52.223Z"
   },
   {
    "duration": 204,
    "start_time": "2024-08-29T09:46:52.242Z"
   },
   {
    "duration": 6,
    "start_time": "2024-08-29T09:46:52.447Z"
   },
   {
    "duration": 31,
    "start_time": "2024-08-29T09:46:52.455Z"
   },
   {
    "duration": 11,
    "start_time": "2024-08-29T09:46:52.488Z"
   },
   {
    "duration": 25,
    "start_time": "2024-08-29T09:46:52.501Z"
   },
   {
    "duration": 4,
    "start_time": "2024-08-29T09:46:52.528Z"
   },
   {
    "duration": 7,
    "start_time": "2024-08-29T09:46:52.534Z"
   },
   {
    "duration": 219,
    "start_time": "2024-08-29T09:46:52.543Z"
   },
   {
    "duration": 255,
    "start_time": "2024-08-29T09:46:52.763Z"
   },
   {
    "duration": 6,
    "start_time": "2024-08-29T09:46:53.019Z"
   },
   {
    "duration": 8,
    "start_time": "2024-08-29T09:46:53.036Z"
   },
   {
    "duration": 7,
    "start_time": "2024-08-29T09:46:53.045Z"
   },
   {
    "duration": 8,
    "start_time": "2024-08-29T09:46:53.054Z"
   },
   {
    "duration": 8,
    "start_time": "2024-08-29T09:46:53.063Z"
   },
   {
    "duration": 12,
    "start_time": "2024-08-29T09:46:53.072Z"
   },
   {
    "duration": 3,
    "start_time": "2024-08-29T09:46:53.085Z"
   },
   {
    "duration": 56,
    "start_time": "2024-08-29T09:46:53.089Z"
   },
   {
    "duration": 9,
    "start_time": "2024-08-29T09:46:53.146Z"
   },
   {
    "duration": 17,
    "start_time": "2024-08-29T09:46:53.156Z"
   },
   {
    "duration": 69,
    "start_time": "2024-08-29T09:46:53.175Z"
   },
   {
    "duration": 47,
    "start_time": "2024-08-29T09:48:58.690Z"
   },
   {
    "duration": 45,
    "start_time": "2024-08-29T09:50:01.735Z"
   },
   {
    "duration": 1010,
    "start_time": "2024-08-29T09:50:10.570Z"
   },
   {
    "duration": 235,
    "start_time": "2024-08-29T09:50:11.581Z"
   },
   {
    "duration": 12,
    "start_time": "2024-08-29T09:50:11.818Z"
   },
   {
    "duration": 41,
    "start_time": "2024-08-29T09:50:11.837Z"
   },
   {
    "duration": 4,
    "start_time": "2024-08-29T09:50:11.880Z"
   },
   {
    "duration": 8,
    "start_time": "2024-08-29T09:50:11.886Z"
   },
   {
    "duration": 28,
    "start_time": "2024-08-29T09:50:11.896Z"
   },
   {
    "duration": 8,
    "start_time": "2024-08-29T09:50:11.925Z"
   },
   {
    "duration": 79,
    "start_time": "2024-08-29T09:50:11.937Z"
   },
   {
    "duration": 82,
    "start_time": "2024-08-29T09:50:12.018Z"
   },
   {
    "duration": 3,
    "start_time": "2024-08-29T09:50:12.102Z"
   },
   {
    "duration": 69,
    "start_time": "2024-08-29T09:50:12.106Z"
   },
   {
    "duration": 18,
    "start_time": "2024-08-29T09:50:12.176Z"
   },
   {
    "duration": 17,
    "start_time": "2024-08-29T09:50:12.197Z"
   },
   {
    "duration": 58,
    "start_time": "2024-08-29T09:50:12.216Z"
   },
   {
    "duration": 15,
    "start_time": "2024-08-29T09:50:12.275Z"
   },
   {
    "duration": 35,
    "start_time": "2024-08-29T09:50:12.291Z"
   },
   {
    "duration": 49,
    "start_time": "2024-08-29T09:50:12.327Z"
   },
   {
    "duration": 1219,
    "start_time": "2024-08-29T09:50:12.378Z"
   },
   {
    "duration": 260,
    "start_time": "2024-08-29T09:50:13.598Z"
   },
   {
    "duration": 104,
    "start_time": "2024-08-29T09:50:13.860Z"
   },
   {
    "duration": 503,
    "start_time": "2024-08-29T09:50:13.966Z"
   },
   {
    "duration": 41,
    "start_time": "2024-08-29T09:50:14.471Z"
   },
   {
    "duration": 48,
    "start_time": "2024-08-29T09:50:14.513Z"
   },
   {
    "duration": 669,
    "start_time": "2024-08-29T09:50:14.563Z"
   },
   {
    "duration": 727,
    "start_time": "2024-08-29T09:50:15.237Z"
   },
   {
    "duration": 168,
    "start_time": "2024-08-29T09:50:15.966Z"
   },
   {
    "duration": 4,
    "start_time": "2024-08-29T09:50:16.138Z"
   },
   {
    "duration": 19,
    "start_time": "2024-08-29T09:50:16.144Z"
   },
   {
    "duration": 1294,
    "start_time": "2024-08-29T09:50:16.164Z"
   },
   {
    "duration": 1191,
    "start_time": "2024-08-29T09:50:17.460Z"
   },
   {
    "duration": 3,
    "start_time": "2024-08-29T09:50:18.652Z"
   },
   {
    "duration": 19,
    "start_time": "2024-08-29T09:50:18.657Z"
   },
   {
    "duration": 273,
    "start_time": "2024-08-29T09:50:18.677Z"
   },
   {
    "duration": 47,
    "start_time": "2024-08-29T09:50:18.952Z"
   },
   {
    "duration": 155,
    "start_time": "2024-08-29T09:50:19.001Z"
   },
   {
    "duration": 315,
    "start_time": "2024-08-29T09:50:19.158Z"
   },
   {
    "duration": 1640,
    "start_time": "2024-08-29T09:50:19.475Z"
   },
   {
    "duration": 300,
    "start_time": "2024-08-29T09:50:21.116Z"
   },
   {
    "duration": 19,
    "start_time": "2024-08-29T09:50:21.418Z"
   },
   {
    "duration": 199,
    "start_time": "2024-08-29T09:50:21.445Z"
   },
   {
    "duration": 5,
    "start_time": "2024-08-29T09:50:21.646Z"
   },
   {
    "duration": 36,
    "start_time": "2024-08-29T09:50:21.653Z"
   },
   {
    "duration": 8,
    "start_time": "2024-08-29T09:50:21.691Z"
   },
   {
    "duration": 12,
    "start_time": "2024-08-29T09:50:21.701Z"
   },
   {
    "duration": 5,
    "start_time": "2024-08-29T09:50:21.714Z"
   },
   {
    "duration": 35,
    "start_time": "2024-08-29T09:50:21.720Z"
   },
   {
    "duration": 281,
    "start_time": "2024-08-29T09:50:21.757Z"
   },
   {
    "duration": 238,
    "start_time": "2024-08-29T09:50:22.040Z"
   },
   {
    "duration": 5,
    "start_time": "2024-08-29T09:50:22.279Z"
   },
   {
    "duration": 8,
    "start_time": "2024-08-29T09:50:22.286Z"
   },
   {
    "duration": 8,
    "start_time": "2024-08-29T09:50:22.295Z"
   },
   {
    "duration": 21,
    "start_time": "2024-08-29T09:50:22.304Z"
   },
   {
    "duration": 20,
    "start_time": "2024-08-29T09:50:22.327Z"
   },
   {
    "duration": 18,
    "start_time": "2024-08-29T09:50:22.349Z"
   },
   {
    "duration": 37,
    "start_time": "2024-08-29T09:50:22.368Z"
   },
   {
    "duration": 42,
    "start_time": "2024-08-29T09:50:22.406Z"
   },
   {
    "duration": 21,
    "start_time": "2024-08-29T09:50:22.450Z"
   },
   {
    "duration": 11,
    "start_time": "2024-08-29T09:50:22.472Z"
   },
   {
    "duration": 44,
    "start_time": "2024-08-29T09:50:22.549Z"
   },
   {
    "duration": 956,
    "start_time": "2024-08-29T09:50:24.497Z"
   },
   {
    "duration": 219,
    "start_time": "2024-08-29T09:50:25.455Z"
   },
   {
    "duration": 10,
    "start_time": "2024-08-29T09:50:25.675Z"
   },
   {
    "duration": 22,
    "start_time": "2024-08-29T09:50:25.687Z"
   },
   {
    "duration": 2,
    "start_time": "2024-08-29T09:50:25.711Z"
   },
   {
    "duration": 24,
    "start_time": "2024-08-29T09:50:25.715Z"
   },
   {
    "duration": 22,
    "start_time": "2024-08-29T09:50:25.740Z"
   },
   {
    "duration": 5,
    "start_time": "2024-08-29T09:50:25.764Z"
   },
   {
    "duration": 93,
    "start_time": "2024-08-29T09:50:25.771Z"
   },
   {
    "duration": 79,
    "start_time": "2024-08-29T09:50:25.867Z"
   },
   {
    "duration": 5,
    "start_time": "2024-08-29T09:50:25.948Z"
   },
   {
    "duration": 58,
    "start_time": "2024-08-29T09:50:25.954Z"
   },
   {
    "duration": 30,
    "start_time": "2024-08-29T09:50:26.014Z"
   },
   {
    "duration": 17,
    "start_time": "2024-08-29T09:50:26.046Z"
   },
   {
    "duration": 39,
    "start_time": "2024-08-29T09:50:26.065Z"
   },
   {
    "duration": 34,
    "start_time": "2024-08-29T09:50:26.106Z"
   },
   {
    "duration": 23,
    "start_time": "2024-08-29T09:50:26.142Z"
   },
   {
    "duration": 37,
    "start_time": "2024-08-29T09:50:26.166Z"
   },
   {
    "duration": 1219,
    "start_time": "2024-08-29T09:50:26.204Z"
   },
   {
    "duration": 275,
    "start_time": "2024-08-29T09:50:27.425Z"
   },
   {
    "duration": 104,
    "start_time": "2024-08-29T09:50:27.702Z"
   },
   {
    "duration": 590,
    "start_time": "2024-08-29T09:50:27.808Z"
   },
   {
    "duration": 49,
    "start_time": "2024-08-29T09:50:28.400Z"
   },
   {
    "duration": 37,
    "start_time": "2024-08-29T09:50:28.450Z"
   },
   {
    "duration": 634,
    "start_time": "2024-08-29T09:50:28.489Z"
   },
   {
    "duration": 753,
    "start_time": "2024-08-29T09:50:29.125Z"
   },
   {
    "duration": 189,
    "start_time": "2024-08-29T09:50:29.879Z"
   },
   {
    "duration": 3,
    "start_time": "2024-08-29T09:50:30.072Z"
   },
   {
    "duration": 50,
    "start_time": "2024-08-29T09:50:30.077Z"
   },
   {
    "duration": 1277,
    "start_time": "2024-08-29T09:50:30.129Z"
   },
   {
    "duration": 1141,
    "start_time": "2024-08-29T09:50:31.408Z"
   },
   {
    "duration": 2,
    "start_time": "2024-08-29T09:50:32.551Z"
   },
   {
    "duration": 32,
    "start_time": "2024-08-29T09:50:32.554Z"
   },
   {
    "duration": 289,
    "start_time": "2024-08-29T09:50:32.588Z"
   },
   {
    "duration": 49,
    "start_time": "2024-08-29T09:50:32.879Z"
   },
   {
    "duration": 167,
    "start_time": "2024-08-29T09:50:32.937Z"
   },
   {
    "duration": 338,
    "start_time": "2024-08-29T09:50:33.106Z"
   },
   {
    "duration": 1641,
    "start_time": "2024-08-29T09:50:33.446Z"
   },
   {
    "duration": 294,
    "start_time": "2024-08-29T09:50:35.088Z"
   },
   {
    "duration": 11,
    "start_time": "2024-08-29T09:50:35.383Z"
   },
   {
    "duration": 190,
    "start_time": "2024-08-29T09:50:35.396Z"
   },
   {
    "duration": 5,
    "start_time": "2024-08-29T09:50:35.587Z"
   },
   {
    "duration": 18,
    "start_time": "2024-08-29T09:50:35.594Z"
   },
   {
    "duration": 4,
    "start_time": "2024-08-29T09:50:35.613Z"
   },
   {
    "duration": 9,
    "start_time": "2024-08-29T09:50:35.638Z"
   },
   {
    "duration": 4,
    "start_time": "2024-08-29T09:50:35.648Z"
   },
   {
    "duration": 6,
    "start_time": "2024-08-29T09:50:35.654Z"
   },
   {
    "duration": 219,
    "start_time": "2024-08-29T09:50:35.662Z"
   },
   {
    "duration": 242,
    "start_time": "2024-08-29T09:50:35.882Z"
   },
   {
    "duration": 11,
    "start_time": "2024-08-29T09:50:36.126Z"
   },
   {
    "duration": 8,
    "start_time": "2024-08-29T09:50:36.139Z"
   },
   {
    "duration": 6,
    "start_time": "2024-08-29T09:50:36.148Z"
   },
   {
    "duration": 29,
    "start_time": "2024-08-29T09:50:36.156Z"
   },
   {
    "duration": 24,
    "start_time": "2024-08-29T09:50:36.187Z"
   },
   {
    "duration": 14,
    "start_time": "2024-08-29T09:50:36.212Z"
   },
   {
    "duration": 4,
    "start_time": "2024-08-29T09:50:36.228Z"
   },
   {
    "duration": 26,
    "start_time": "2024-08-29T09:50:36.233Z"
   },
   {
    "duration": 30,
    "start_time": "2024-08-29T09:50:36.261Z"
   },
   {
    "duration": 17,
    "start_time": "2024-08-29T09:50:36.293Z"
   },
   {
    "duration": 57,
    "start_time": "2024-08-29T09:50:36.312Z"
   },
   {
    "duration": 46,
    "start_time": "2024-08-29T09:50:46.814Z"
   },
   {
    "duration": 5,
    "start_time": "2024-08-29T09:51:16.873Z"
   },
   {
    "duration": 52,
    "start_time": "2024-08-29T09:51:18.898Z"
   },
   {
    "duration": 11,
    "start_time": "2024-08-29T09:51:20.850Z"
   },
   {
    "duration": 23,
    "start_time": "2024-08-29T09:51:25.130Z"
   },
   {
    "duration": 51,
    "start_time": "2024-08-29T09:52:31.498Z"
   },
   {
    "duration": 45,
    "start_time": "2024-08-29T09:52:42.167Z"
   },
   {
    "duration": 213,
    "start_time": "2024-08-29T09:57:48.041Z"
   },
   {
    "duration": 213,
    "start_time": "2024-08-29T09:57:50.694Z"
   },
   {
    "duration": 208,
    "start_time": "2024-08-29T09:58:30.144Z"
   },
   {
    "duration": 213,
    "start_time": "2024-08-29T09:58:33.665Z"
   },
   {
    "duration": 213,
    "start_time": "2024-08-29T09:58:45.029Z"
   },
   {
    "duration": 5,
    "start_time": "2024-08-29T09:58:54.457Z"
   },
   {
    "duration": 4,
    "start_time": "2024-08-29T09:59:18.911Z"
   },
   {
    "duration": 9,
    "start_time": "2024-08-29T10:00:37.007Z"
   },
   {
    "duration": 4,
    "start_time": "2024-08-29T10:01:24.553Z"
   },
   {
    "duration": 4,
    "start_time": "2024-08-29T10:01:26.425Z"
   },
   {
    "duration": 5,
    "start_time": "2024-08-29T10:01:38.722Z"
   },
   {
    "duration": 3,
    "start_time": "2024-08-29T10:01:40.994Z"
   },
   {
    "duration": 7,
    "start_time": "2024-08-29T10:01:42.884Z"
   },
   {
    "duration": 9,
    "start_time": "2024-08-29T10:01:44.386Z"
   },
   {
    "duration": 11,
    "start_time": "2024-08-29T10:02:54.742Z"
   },
   {
    "duration": 24,
    "start_time": "2024-08-29T10:03:10.685Z"
   },
   {
    "duration": 22,
    "start_time": "2024-08-29T10:04:08.335Z"
   },
   {
    "duration": 111,
    "start_time": "2024-08-29T10:06:02.879Z"
   },
   {
    "duration": 3,
    "start_time": "2024-08-29T10:06:08.716Z"
   },
   {
    "duration": 22,
    "start_time": "2024-08-29T10:06:09.643Z"
   },
   {
    "duration": 3,
    "start_time": "2024-08-29T10:06:26.182Z"
   },
   {
    "duration": 13,
    "start_time": "2024-08-29T10:06:54.714Z"
   },
   {
    "duration": 3,
    "start_time": "2024-08-29T10:06:59.990Z"
   },
   {
    "duration": 22,
    "start_time": "2024-08-29T10:07:41.320Z"
   },
   {
    "duration": 23,
    "start_time": "2024-08-29T10:07:51.479Z"
   },
   {
    "duration": 3,
    "start_time": "2024-08-29T10:07:53.033Z"
   },
   {
    "duration": 22,
    "start_time": "2024-08-29T10:07:53.859Z"
   },
   {
    "duration": 3,
    "start_time": "2024-08-29T10:07:59.373Z"
   },
   {
    "duration": 21,
    "start_time": "2024-08-29T10:08:01.203Z"
   },
   {
    "duration": 10,
    "start_time": "2024-08-29T10:08:13.094Z"
   },
   {
    "duration": 11,
    "start_time": "2024-08-29T10:08:17.711Z"
   },
   {
    "duration": 45,
    "start_time": "2024-08-29T10:08:19.635Z"
   },
   {
    "duration": 13,
    "start_time": "2024-08-29T10:08:42.547Z"
   },
   {
    "duration": 58,
    "start_time": "2024-08-29T10:10:07.502Z"
   },
   {
    "duration": 107,
    "start_time": "2024-08-29T10:10:24.748Z"
   },
   {
    "duration": 90,
    "start_time": "2024-08-29T10:10:27.950Z"
   },
   {
    "duration": 61,
    "start_time": "2024-08-29T10:11:03.875Z"
   },
   {
    "duration": 52,
    "start_time": "2024-08-29T10:11:13.808Z"
   },
   {
    "duration": 973,
    "start_time": "2024-08-29T10:11:43.990Z"
   },
   {
    "duration": 242,
    "start_time": "2024-08-29T10:11:44.965Z"
   },
   {
    "duration": 13,
    "start_time": "2024-08-29T10:11:45.209Z"
   },
   {
    "duration": 42,
    "start_time": "2024-08-29T10:11:45.224Z"
   },
   {
    "duration": 24,
    "start_time": "2024-08-29T10:11:45.267Z"
   },
   {
    "duration": 34,
    "start_time": "2024-08-29T10:11:45.293Z"
   },
   {
    "duration": 72,
    "start_time": "2024-08-29T10:11:45.329Z"
   },
   {
    "duration": 5,
    "start_time": "2024-08-29T10:11:45.403Z"
   },
   {
    "duration": 111,
    "start_time": "2024-08-29T10:11:45.409Z"
   },
   {
    "duration": 79,
    "start_time": "2024-08-29T10:11:45.523Z"
   },
   {
    "duration": 4,
    "start_time": "2024-08-29T10:11:45.604Z"
   },
   {
    "duration": 66,
    "start_time": "2024-08-29T10:11:45.610Z"
   },
   {
    "duration": 20,
    "start_time": "2024-08-29T10:11:45.677Z"
   },
   {
    "duration": 16,
    "start_time": "2024-08-29T10:11:45.698Z"
   },
   {
    "duration": 62,
    "start_time": "2024-08-29T10:11:45.715Z"
   },
   {
    "duration": 15,
    "start_time": "2024-08-29T10:11:45.779Z"
   },
   {
    "duration": 38,
    "start_time": "2024-08-29T10:11:45.796Z"
   },
   {
    "duration": 39,
    "start_time": "2024-08-29T10:11:45.835Z"
   },
   {
    "duration": 1156,
    "start_time": "2024-08-29T10:11:45.876Z"
   },
   {
    "duration": 255,
    "start_time": "2024-08-29T10:11:47.037Z"
   },
   {
    "duration": 99,
    "start_time": "2024-08-29T10:11:47.294Z"
   },
   {
    "duration": 495,
    "start_time": "2024-08-29T10:11:47.395Z"
   },
   {
    "duration": 54,
    "start_time": "2024-08-29T10:11:47.892Z"
   },
   {
    "duration": 45,
    "start_time": "2024-08-29T10:11:47.948Z"
   },
   {
    "duration": 698,
    "start_time": "2024-08-29T10:11:47.996Z"
   },
   {
    "duration": 711,
    "start_time": "2024-08-29T10:11:48.695Z"
   },
   {
    "duration": 177,
    "start_time": "2024-08-29T10:11:49.408Z"
   },
   {
    "duration": 4,
    "start_time": "2024-08-29T10:11:49.589Z"
   },
   {
    "duration": 13,
    "start_time": "2024-08-29T10:11:49.595Z"
   },
   {
    "duration": 1288,
    "start_time": "2024-08-29T10:11:49.609Z"
   },
   {
    "duration": 1252,
    "start_time": "2024-08-29T10:11:50.899Z"
   },
   {
    "duration": 2,
    "start_time": "2024-08-29T10:11:52.153Z"
   },
   {
    "duration": 29,
    "start_time": "2024-08-29T10:11:52.157Z"
   },
   {
    "duration": 333,
    "start_time": "2024-08-29T10:11:52.188Z"
   },
   {
    "duration": 51,
    "start_time": "2024-08-29T10:11:52.523Z"
   },
   {
    "duration": 154,
    "start_time": "2024-08-29T10:11:52.576Z"
   },
   {
    "duration": 297,
    "start_time": "2024-08-29T10:11:52.732Z"
   },
   {
    "duration": 1652,
    "start_time": "2024-08-29T10:11:53.031Z"
   },
   {
    "duration": 319,
    "start_time": "2024-08-29T10:11:54.685Z"
   },
   {
    "duration": 12,
    "start_time": "2024-08-29T10:11:55.005Z"
   },
   {
    "duration": 204,
    "start_time": "2024-08-29T10:11:55.018Z"
   },
   {
    "duration": 6,
    "start_time": "2024-08-29T10:11:55.224Z"
   },
   {
    "duration": 16,
    "start_time": "2024-08-29T10:11:55.238Z"
   },
   {
    "duration": 5,
    "start_time": "2024-08-29T10:11:55.256Z"
   },
   {
    "duration": 20,
    "start_time": "2024-08-29T10:11:55.263Z"
   },
   {
    "duration": 8,
    "start_time": "2024-08-29T10:11:55.285Z"
   },
   {
    "duration": 45,
    "start_time": "2024-08-29T10:11:55.295Z"
   },
   {
    "duration": 270,
    "start_time": "2024-08-29T10:11:55.342Z"
   },
   {
    "duration": 5,
    "start_time": "2024-08-29T10:11:55.615Z"
   },
   {
    "duration": 7,
    "start_time": "2024-08-29T10:11:55.621Z"
   },
   {
    "duration": 9,
    "start_time": "2024-08-29T10:11:55.629Z"
   },
   {
    "duration": 8,
    "start_time": "2024-08-29T10:11:55.640Z"
   },
   {
    "duration": 110,
    "start_time": "2024-08-29T10:11:55.650Z"
   },
   {
    "duration": 0,
    "start_time": "2024-08-29T10:11:55.762Z"
   },
   {
    "duration": 0,
    "start_time": "2024-08-29T10:11:55.763Z"
   },
   {
    "duration": 1,
    "start_time": "2024-08-29T10:11:55.764Z"
   },
   {
    "duration": 0,
    "start_time": "2024-08-29T10:11:55.766Z"
   },
   {
    "duration": 0,
    "start_time": "2024-08-29T10:11:55.767Z"
   },
   {
    "duration": 1,
    "start_time": "2024-08-29T10:11:55.768Z"
   },
   {
    "duration": 0,
    "start_time": "2024-08-29T10:11:55.770Z"
   },
   {
    "duration": 3,
    "start_time": "2024-08-29T10:12:07.800Z"
   },
   {
    "duration": 7,
    "start_time": "2024-08-29T10:12:08.702Z"
   },
   {
    "duration": 5,
    "start_time": "2024-08-29T10:12:10.438Z"
   },
   {
    "duration": 8,
    "start_time": "2024-08-29T10:12:12.376Z"
   },
   {
    "duration": 3,
    "start_time": "2024-08-29T10:14:17.289Z"
   },
   {
    "duration": 5,
    "start_time": "2024-08-29T10:14:18.793Z"
   },
   {
    "duration": 6,
    "start_time": "2024-08-29T10:15:12.319Z"
   },
   {
    "duration": 12,
    "start_time": "2024-08-29T10:15:26.511Z"
   },
   {
    "duration": 3,
    "start_time": "2024-08-29T10:15:30.569Z"
   },
   {
    "duration": 6,
    "start_time": "2024-08-29T10:15:31.079Z"
   },
   {
    "duration": 3,
    "start_time": "2024-08-29T10:19:30.009Z"
   },
   {
    "duration": 3,
    "start_time": "2024-08-29T10:19:30.903Z"
   },
   {
    "duration": 7,
    "start_time": "2024-08-29T10:19:32.238Z"
   },
   {
    "duration": 2,
    "start_time": "2024-08-29T10:19:59.501Z"
   },
   {
    "duration": 12,
    "start_time": "2024-08-29T10:20:05.836Z"
   },
   {
    "duration": 3,
    "start_time": "2024-08-29T10:27:06.869Z"
   },
   {
    "duration": 13,
    "start_time": "2024-08-29T10:27:07.663Z"
   },
   {
    "duration": 4,
    "start_time": "2024-08-29T10:30:32.584Z"
   },
   {
    "duration": 263,
    "start_time": "2024-08-29T10:30:33.730Z"
   },
   {
    "duration": 22,
    "start_time": "2024-08-29T10:30:50.711Z"
   },
   {
    "duration": 20,
    "start_time": "2024-08-29T10:31:09.047Z"
   },
   {
    "duration": 24,
    "start_time": "2024-08-29T10:31:23.604Z"
   },
   {
    "duration": 23,
    "start_time": "2024-08-29T10:31:59.251Z"
   },
   {
    "duration": 26,
    "start_time": "2024-08-29T10:32:05.786Z"
   },
   {
    "duration": 53,
    "start_time": "2024-08-29T10:37:38.776Z"
   },
   {
    "duration": 10,
    "start_time": "2024-08-29T10:37:58.922Z"
   },
   {
    "duration": 13,
    "start_time": "2024-08-29T10:38:00.860Z"
   },
   {
    "duration": 58,
    "start_time": "2024-08-29T10:38:38.932Z"
   },
   {
    "duration": 13,
    "start_time": "2024-08-29T10:44:59.252Z"
   },
   {
    "duration": 60,
    "start_time": "2024-08-29T10:46:43.207Z"
   },
   {
    "duration": 8,
    "start_time": "2024-08-29T10:54:30.669Z"
   },
   {
    "duration": 4,
    "start_time": "2024-08-29T10:54:37.646Z"
   },
   {
    "duration": 56,
    "start_time": "2024-08-29T10:55:15.718Z"
   },
   {
    "duration": 4,
    "start_time": "2024-08-29T10:55:18.844Z"
   },
   {
    "duration": 4,
    "start_time": "2024-08-29T10:55:36.662Z"
   },
   {
    "duration": 3,
    "start_time": "2024-08-29T10:55:47.476Z"
   },
   {
    "duration": 3,
    "start_time": "2024-08-29T10:59:24.167Z"
   },
   {
    "duration": 4,
    "start_time": "2024-08-29T10:59:26.922Z"
   },
   {
    "duration": 4,
    "start_time": "2024-08-29T11:01:39.828Z"
   },
   {
    "duration": 23,
    "start_time": "2024-08-29T11:01:49.428Z"
   },
   {
    "duration": 22,
    "start_time": "2024-08-29T11:01:51.619Z"
   },
   {
    "duration": 49,
    "start_time": "2024-08-29T11:02:02.007Z"
   },
   {
    "duration": 121,
    "start_time": "2024-08-29T11:03:16.326Z"
   },
   {
    "duration": 4,
    "start_time": "2024-08-29T11:04:17.123Z"
   },
   {
    "duration": 65,
    "start_time": "2024-08-29T11:04:59.929Z"
   },
   {
    "duration": 73,
    "start_time": "2024-08-29T11:07:12.365Z"
   },
   {
    "duration": 2,
    "start_time": "2024-08-29T11:15:42.810Z"
   },
   {
    "duration": 333,
    "start_time": "2024-08-29T11:28:53.392Z"
   },
   {
    "duration": 13,
    "start_time": "2024-08-29T11:28:54.423Z"
   },
   {
    "duration": 57,
    "start_time": "2024-08-29T11:30:32.304Z"
   },
   {
    "duration": 3,
    "start_time": "2024-08-29T11:32:49.425Z"
   },
   {
    "duration": 29,
    "start_time": "2024-08-29T11:37:30.579Z"
   },
   {
    "duration": 28,
    "start_time": "2024-08-29T11:38:21.391Z"
   },
   {
    "duration": 9,
    "start_time": "2024-08-29T11:38:48.050Z"
   },
   {
    "duration": 20,
    "start_time": "2024-08-29T11:39:53.545Z"
   },
   {
    "duration": 50,
    "start_time": "2024-08-29T11:41:05.294Z"
   },
   {
    "duration": 4,
    "start_time": "2024-08-29T11:41:11.366Z"
   },
   {
    "duration": 5,
    "start_time": "2024-08-29T11:41:16.697Z"
   },
   {
    "duration": 5,
    "start_time": "2024-08-29T11:41:42.907Z"
   },
   {
    "duration": 10,
    "start_time": "2024-08-29T11:43:04.847Z"
   },
   {
    "duration": 12,
    "start_time": "2024-08-29T11:43:17.876Z"
   },
   {
    "duration": 16,
    "start_time": "2024-08-29T11:43:36.511Z"
   },
   {
    "duration": 11,
    "start_time": "2024-08-29T11:43:39.678Z"
   },
   {
    "duration": 16,
    "start_time": "2024-08-29T11:43:43.977Z"
   },
   {
    "duration": 11,
    "start_time": "2024-08-29T11:43:46.972Z"
   },
   {
    "duration": 11,
    "start_time": "2024-08-29T11:43:49.606Z"
   },
   {
    "duration": 10,
    "start_time": "2024-08-29T11:43:58.793Z"
   },
   {
    "duration": 17,
    "start_time": "2024-08-29T11:44:28.051Z"
   },
   {
    "duration": 7,
    "start_time": "2024-08-29T11:44:45.613Z"
   },
   {
    "duration": 9,
    "start_time": "2024-08-29T11:45:44.178Z"
   },
   {
    "duration": 4,
    "start_time": "2024-08-29T11:47:44.614Z"
   },
   {
    "duration": 3,
    "start_time": "2024-08-29T11:48:00.319Z"
   },
   {
    "duration": 3,
    "start_time": "2024-08-29T11:48:10.216Z"
   },
   {
    "duration": 4,
    "start_time": "2024-08-29T11:48:18.357Z"
   },
   {
    "duration": 5,
    "start_time": "2024-08-29T11:48:25.558Z"
   },
   {
    "duration": 5,
    "start_time": "2024-08-29T11:48:34.270Z"
   },
   {
    "duration": 3,
    "start_time": "2024-08-29T11:48:38.788Z"
   },
   {
    "duration": 4,
    "start_time": "2024-08-29T11:48:43.101Z"
   },
   {
    "duration": 4,
    "start_time": "2024-08-29T11:48:46.354Z"
   },
   {
    "duration": 4,
    "start_time": "2024-08-29T11:48:50.953Z"
   },
   {
    "duration": 4,
    "start_time": "2024-08-29T11:48:54.696Z"
   },
   {
    "duration": 4,
    "start_time": "2024-08-29T11:48:57.289Z"
   },
   {
    "duration": 56,
    "start_time": "2024-08-29T11:52:44.089Z"
   },
   {
    "duration": 8,
    "start_time": "2024-08-29T11:52:47.811Z"
   },
   {
    "duration": 4,
    "start_time": "2024-08-29T12:03:25.323Z"
   },
   {
    "duration": 5,
    "start_time": "2024-08-29T12:03:40.400Z"
   },
   {
    "duration": 945,
    "start_time": "2024-08-29T12:03:50.723Z"
   },
   {
    "duration": 5,
    "start_time": "2024-08-29T12:03:54.533Z"
   },
   {
    "duration": 4,
    "start_time": "2024-08-29T12:04:40.068Z"
   },
   {
    "duration": 4,
    "start_time": "2024-08-29T12:04:43.017Z"
   },
   {
    "duration": 4,
    "start_time": "2024-08-29T12:05:11.819Z"
   },
   {
    "duration": 3,
    "start_time": "2024-08-29T12:05:14.628Z"
   },
   {
    "duration": 5,
    "start_time": "2024-08-29T12:05:22.462Z"
   },
   {
    "duration": 4,
    "start_time": "2024-08-29T12:05:25.933Z"
   },
   {
    "duration": 727,
    "start_time": "2024-08-29T12:06:16.153Z"
   },
   {
    "duration": 729,
    "start_time": "2024-08-29T12:08:32.623Z"
   },
   {
    "duration": 12,
    "start_time": "2024-08-29T12:15:48.919Z"
   },
   {
    "duration": 10,
    "start_time": "2024-08-29T12:15:54.659Z"
   },
   {
    "duration": 10,
    "start_time": "2024-08-29T12:15:59.914Z"
   },
   {
    "duration": 6,
    "start_time": "2024-08-29T12:16:06.849Z"
   },
   {
    "duration": 7,
    "start_time": "2024-08-29T12:16:22.578Z"
   },
   {
    "duration": 6,
    "start_time": "2024-08-29T12:17:36.511Z"
   },
   {
    "duration": 9,
    "start_time": "2024-08-29T12:24:42.729Z"
   },
   {
    "duration": 1084,
    "start_time": "2024-08-29T12:26:26.991Z"
   },
   {
    "duration": 248,
    "start_time": "2024-08-29T12:26:28.077Z"
   },
   {
    "duration": 14,
    "start_time": "2024-08-29T12:26:28.327Z"
   },
   {
    "duration": 24,
    "start_time": "2024-08-29T12:26:28.343Z"
   },
   {
    "duration": 4,
    "start_time": "2024-08-29T12:26:28.370Z"
   },
   {
    "duration": 12,
    "start_time": "2024-08-29T12:26:28.375Z"
   },
   {
    "duration": 22,
    "start_time": "2024-08-29T12:26:28.389Z"
   },
   {
    "duration": 34,
    "start_time": "2024-08-29T12:26:28.413Z"
   },
   {
    "duration": 102,
    "start_time": "2024-08-29T12:26:28.449Z"
   },
   {
    "duration": 70,
    "start_time": "2024-08-29T12:26:28.553Z"
   },
   {
    "duration": 4,
    "start_time": "2024-08-29T12:26:28.624Z"
   },
   {
    "duration": 61,
    "start_time": "2024-08-29T12:26:28.629Z"
   },
   {
    "duration": 19,
    "start_time": "2024-08-29T12:26:28.692Z"
   },
   {
    "duration": 34,
    "start_time": "2024-08-29T12:26:28.714Z"
   },
   {
    "duration": 38,
    "start_time": "2024-08-29T12:26:28.750Z"
   },
   {
    "duration": 15,
    "start_time": "2024-08-29T12:26:28.789Z"
   },
   {
    "duration": 49,
    "start_time": "2024-08-29T12:26:28.805Z"
   },
   {
    "duration": 35,
    "start_time": "2024-08-29T12:26:28.855Z"
   },
   {
    "duration": 1352,
    "start_time": "2024-08-29T12:26:28.892Z"
   },
   {
    "duration": 311,
    "start_time": "2024-08-29T12:26:30.247Z"
   },
   {
    "duration": 95,
    "start_time": "2024-08-29T12:26:30.560Z"
   },
   {
    "duration": 533,
    "start_time": "2024-08-29T12:26:30.657Z"
   },
   {
    "duration": 48,
    "start_time": "2024-08-29T12:26:31.192Z"
   },
   {
    "duration": 33,
    "start_time": "2024-08-29T12:26:31.241Z"
   },
   {
    "duration": 706,
    "start_time": "2024-08-29T12:26:31.276Z"
   },
   {
    "duration": 745,
    "start_time": "2024-08-29T12:26:31.984Z"
   },
   {
    "duration": 178,
    "start_time": "2024-08-29T12:26:32.730Z"
   },
   {
    "duration": 3,
    "start_time": "2024-08-29T12:26:32.910Z"
   },
   {
    "duration": 33,
    "start_time": "2024-08-29T12:26:32.915Z"
   },
   {
    "duration": 1431,
    "start_time": "2024-08-29T12:26:32.950Z"
   },
   {
    "duration": 1149,
    "start_time": "2024-08-29T12:26:34.383Z"
   },
   {
    "duration": 3,
    "start_time": "2024-08-29T12:26:35.537Z"
   },
   {
    "duration": 12,
    "start_time": "2024-08-29T12:26:35.541Z"
   },
   {
    "duration": 278,
    "start_time": "2024-08-29T12:26:35.554Z"
   },
   {
    "duration": 49,
    "start_time": "2024-08-29T12:26:35.833Z"
   },
   {
    "duration": 156,
    "start_time": "2024-08-29T12:26:35.884Z"
   },
   {
    "duration": 302,
    "start_time": "2024-08-29T12:26:36.041Z"
   },
   {
    "duration": 1658,
    "start_time": "2024-08-29T12:26:36.345Z"
   },
   {
    "duration": 323,
    "start_time": "2024-08-29T12:26:38.005Z"
   },
   {
    "duration": 15,
    "start_time": "2024-08-29T12:26:38.330Z"
   },
   {
    "duration": 207,
    "start_time": "2024-08-29T12:26:38.348Z"
   },
   {
    "duration": 7,
    "start_time": "2024-08-29T12:26:38.557Z"
   },
   {
    "duration": 30,
    "start_time": "2024-08-29T12:26:38.566Z"
   },
   {
    "duration": 4,
    "start_time": "2024-08-29T12:26:38.597Z"
   },
   {
    "duration": 11,
    "start_time": "2024-08-29T12:26:38.603Z"
   },
   {
    "duration": 4,
    "start_time": "2024-08-29T12:26:38.615Z"
   },
   {
    "duration": 27,
    "start_time": "2024-08-29T12:26:38.620Z"
   },
   {
    "duration": 7,
    "start_time": "2024-08-29T12:26:38.649Z"
   },
   {
    "duration": 35,
    "start_time": "2024-08-29T12:26:38.657Z"
   },
   {
    "duration": 21,
    "start_time": "2024-08-29T12:26:38.693Z"
   },
   {
    "duration": 7,
    "start_time": "2024-08-29T12:26:38.715Z"
   },
   {
    "duration": 208,
    "start_time": "2024-08-29T12:26:38.724Z"
   },
   {
    "duration": 4,
    "start_time": "2024-08-29T12:26:38.937Z"
   },
   {
    "duration": 37,
    "start_time": "2024-08-29T12:26:38.943Z"
   },
   {
    "duration": 31,
    "start_time": "2024-08-29T12:26:38.982Z"
   },
   {
    "duration": 5,
    "start_time": "2024-08-29T12:26:39.015Z"
   },
   {
    "duration": 7,
    "start_time": "2024-08-29T12:26:39.021Z"
   },
   {
    "duration": 19,
    "start_time": "2024-08-29T12:26:39.029Z"
   },
   {
    "duration": 10,
    "start_time": "2024-08-29T12:26:39.050Z"
   },
   {
    "duration": 9,
    "start_time": "2024-08-29T12:26:39.061Z"
   },
   {
    "duration": 24,
    "start_time": "2024-08-29T12:26:39.071Z"
   },
   {
    "duration": 15,
    "start_time": "2024-08-29T12:26:39.096Z"
   },
   {
    "duration": 11,
    "start_time": "2024-08-29T12:26:39.113Z"
   },
   {
    "duration": 3,
    "start_time": "2024-08-29T12:26:39.126Z"
   },
   {
    "duration": 4,
    "start_time": "2024-08-29T12:26:39.137Z"
   },
   {
    "duration": 5,
    "start_time": "2024-08-29T12:26:39.142Z"
   },
   {
    "duration": 46,
    "start_time": "2024-08-29T12:26:39.149Z"
   },
   {
    "duration": 165,
    "start_time": "2024-08-29T12:28:55.202Z"
   },
   {
    "duration": 175,
    "start_time": "2024-08-29T12:29:01.011Z"
   },
   {
    "duration": 5,
    "start_time": "2024-08-29T12:29:02.873Z"
   },
   {
    "duration": 13,
    "start_time": "2024-08-29T12:30:18.340Z"
   },
   {
    "duration": 1397,
    "start_time": "2024-08-29T12:30:56.232Z"
   },
   {
    "duration": 1150,
    "start_time": "2024-08-29T12:31:11.165Z"
   },
   {
    "duration": 4,
    "start_time": "2024-08-29T12:31:24.808Z"
   },
   {
    "duration": 3,
    "start_time": "2024-08-29T12:31:34.356Z"
   },
   {
    "duration": 4,
    "start_time": "2024-08-29T12:31:35.434Z"
   },
   {
    "duration": 279,
    "start_time": "2024-08-29T12:32:01.038Z"
   },
   {
    "duration": 72,
    "start_time": "2024-08-29T12:32:03.325Z"
   },
   {
    "duration": 1130,
    "start_time": "2024-08-29T12:32:15.190Z"
   },
   {
    "duration": 3,
    "start_time": "2024-08-29T12:32:18.057Z"
   },
   {
    "duration": 3,
    "start_time": "2024-08-29T12:32:19.207Z"
   },
   {
    "duration": 277,
    "start_time": "2024-08-29T12:32:23.532Z"
   },
   {
    "duration": 47,
    "start_time": "2024-08-29T12:32:25.434Z"
   },
   {
    "duration": 148,
    "start_time": "2024-08-29T12:32:27.325Z"
   },
   {
    "duration": 1004,
    "start_time": "2024-08-29T12:37:03.961Z"
   },
   {
    "duration": 207,
    "start_time": "2024-08-29T12:37:04.966Z"
   },
   {
    "duration": 12,
    "start_time": "2024-08-29T12:37:05.175Z"
   },
   {
    "duration": 26,
    "start_time": "2024-08-29T12:37:05.188Z"
   },
   {
    "duration": 3,
    "start_time": "2024-08-29T12:37:05.216Z"
   },
   {
    "duration": 7,
    "start_time": "2024-08-29T12:37:05.237Z"
   },
   {
    "duration": 29,
    "start_time": "2024-08-29T12:37:05.246Z"
   },
   {
    "duration": 5,
    "start_time": "2024-08-29T12:37:05.276Z"
   },
   {
    "duration": 90,
    "start_time": "2024-08-29T12:37:05.283Z"
   },
   {
    "duration": 76,
    "start_time": "2024-08-29T12:37:05.374Z"
   },
   {
    "duration": 97,
    "start_time": "2024-08-29T12:37:05.452Z"
   },
   {
    "duration": 90,
    "start_time": "2024-08-29T12:37:05.551Z"
   },
   {
    "duration": 26,
    "start_time": "2024-08-29T12:37:05.643Z"
   },
   {
    "duration": 17,
    "start_time": "2024-08-29T12:37:05.673Z"
   },
   {
    "duration": 55,
    "start_time": "2024-08-29T12:37:05.691Z"
   },
   {
    "duration": 14,
    "start_time": "2024-08-29T12:37:05.748Z"
   },
   {
    "duration": 26,
    "start_time": "2024-08-29T12:37:05.763Z"
   },
   {
    "duration": 51,
    "start_time": "2024-08-29T12:37:05.791Z"
   },
   {
    "duration": 1158,
    "start_time": "2024-08-29T12:37:05.844Z"
   },
   {
    "duration": 257,
    "start_time": "2024-08-29T12:37:07.003Z"
   },
   {
    "duration": 91,
    "start_time": "2024-08-29T12:37:07.261Z"
   },
   {
    "duration": 541,
    "start_time": "2024-08-29T12:37:07.353Z"
   },
   {
    "duration": 64,
    "start_time": "2024-08-29T12:37:07.897Z"
   },
   {
    "duration": 36,
    "start_time": "2024-08-29T12:37:07.963Z"
   },
   {
    "duration": 641,
    "start_time": "2024-08-29T12:37:08.001Z"
   },
   {
    "duration": 703,
    "start_time": "2024-08-29T12:37:08.643Z"
   },
   {
    "duration": 176,
    "start_time": "2024-08-29T12:37:09.348Z"
   },
   {
    "duration": 4,
    "start_time": "2024-08-29T12:37:09.525Z"
   },
   {
    "duration": 71,
    "start_time": "2024-08-29T12:37:09.530Z"
   },
   {
    "duration": 1300,
    "start_time": "2024-08-29T12:37:09.602Z"
   },
   {
    "duration": 1134,
    "start_time": "2024-08-29T12:37:10.903Z"
   },
   {
    "duration": 3,
    "start_time": "2024-08-29T12:37:12.039Z"
   },
   {
    "duration": 12,
    "start_time": "2024-08-29T12:37:12.043Z"
   },
   {
    "duration": 285,
    "start_time": "2024-08-29T12:37:12.057Z"
   },
   {
    "duration": 48,
    "start_time": "2024-08-29T12:37:12.343Z"
   },
   {
    "duration": 203,
    "start_time": "2024-08-29T12:37:12.392Z"
   },
   {
    "duration": 283,
    "start_time": "2024-08-29T12:37:12.597Z"
   },
   {
    "duration": 1578,
    "start_time": "2024-08-29T12:37:12.881Z"
   },
   {
    "duration": 319,
    "start_time": "2024-08-29T12:37:14.461Z"
   },
   {
    "duration": 13,
    "start_time": "2024-08-29T12:37:14.781Z"
   },
   {
    "duration": 192,
    "start_time": "2024-08-29T12:37:14.798Z"
   },
   {
    "duration": 6,
    "start_time": "2024-08-29T12:37:14.991Z"
   },
   {
    "duration": 30,
    "start_time": "2024-08-29T12:37:14.998Z"
   },
   {
    "duration": 75,
    "start_time": "2024-08-29T12:37:15.030Z"
   },
   {
    "duration": 62,
    "start_time": "2024-08-29T12:37:15.107Z"
   },
   {
    "duration": 42,
    "start_time": "2024-08-29T12:37:15.171Z"
   },
   {
    "duration": 71,
    "start_time": "2024-08-29T12:37:15.214Z"
   },
   {
    "duration": 45,
    "start_time": "2024-08-29T12:37:15.286Z"
   },
   {
    "duration": 218,
    "start_time": "2024-08-29T12:37:15.333Z"
   },
   {
    "duration": 24,
    "start_time": "2024-08-29T12:37:15.552Z"
   },
   {
    "duration": 36,
    "start_time": "2024-08-29T12:37:15.577Z"
   },
   {
    "duration": 221,
    "start_time": "2024-08-29T12:37:15.615Z"
   },
   {
    "duration": 5,
    "start_time": "2024-08-29T12:37:15.838Z"
   },
   {
    "duration": 32,
    "start_time": "2024-08-29T12:37:15.844Z"
   },
   {
    "duration": 40,
    "start_time": "2024-08-29T12:37:15.878Z"
   },
   {
    "duration": 28,
    "start_time": "2024-08-29T12:37:15.919Z"
   },
   {
    "duration": 27,
    "start_time": "2024-08-29T12:37:15.948Z"
   },
   {
    "duration": 29,
    "start_time": "2024-08-29T12:37:15.976Z"
   },
   {
    "duration": 31,
    "start_time": "2024-08-29T12:37:16.006Z"
   },
   {
    "duration": 26,
    "start_time": "2024-08-29T12:37:16.038Z"
   },
   {
    "duration": 45,
    "start_time": "2024-08-29T12:37:16.065Z"
   },
   {
    "duration": 21,
    "start_time": "2024-08-29T12:37:16.111Z"
   },
   {
    "duration": 19,
    "start_time": "2024-08-29T12:37:16.134Z"
   },
   {
    "duration": 16,
    "start_time": "2024-08-29T12:37:16.154Z"
   },
   {
    "duration": 5,
    "start_time": "2024-08-29T12:37:16.171Z"
   },
   {
    "duration": 5,
    "start_time": "2024-08-29T12:37:16.177Z"
   },
   {
    "duration": 63,
    "start_time": "2024-08-29T12:37:16.183Z"
   },
   {
    "duration": 13,
    "start_time": "2024-08-29T12:39:47.459Z"
   },
   {
    "duration": 1133,
    "start_time": "2024-08-29T13:43:27.251Z"
   },
   {
    "duration": 246,
    "start_time": "2024-08-29T13:43:28.386Z"
   },
   {
    "duration": 15,
    "start_time": "2024-08-29T13:43:28.633Z"
   },
   {
    "duration": 116,
    "start_time": "2024-08-29T13:43:28.651Z"
   },
   {
    "duration": 3,
    "start_time": "2024-08-29T13:43:28.769Z"
   },
   {
    "duration": 19,
    "start_time": "2024-08-29T13:43:28.774Z"
   },
   {
    "duration": 35,
    "start_time": "2024-08-29T13:43:28.794Z"
   },
   {
    "duration": 6,
    "start_time": "2024-08-29T13:43:28.831Z"
   },
   {
    "duration": 91,
    "start_time": "2024-08-29T13:43:28.838Z"
   },
   {
    "duration": 85,
    "start_time": "2024-08-29T13:43:28.932Z"
   },
   {
    "duration": 5,
    "start_time": "2024-08-29T13:43:29.018Z"
   },
   {
    "duration": 59,
    "start_time": "2024-08-29T13:43:29.025Z"
   },
   {
    "duration": 38,
    "start_time": "2024-08-29T13:43:29.086Z"
   },
   {
    "duration": 19,
    "start_time": "2024-08-29T13:43:29.126Z"
   },
   {
    "duration": 64,
    "start_time": "2024-08-29T13:43:29.147Z"
   },
   {
    "duration": 17,
    "start_time": "2024-08-29T13:43:29.213Z"
   },
   {
    "duration": 27,
    "start_time": "2024-08-29T13:43:29.232Z"
   },
   {
    "duration": 70,
    "start_time": "2024-08-29T13:43:29.261Z"
   },
   {
    "duration": 1330,
    "start_time": "2024-08-29T13:43:29.334Z"
   },
   {
    "duration": 301,
    "start_time": "2024-08-29T13:43:30.665Z"
   },
   {
    "duration": 106,
    "start_time": "2024-08-29T13:43:30.968Z"
   },
   {
    "duration": 600,
    "start_time": "2024-08-29T13:43:31.075Z"
   },
   {
    "duration": 57,
    "start_time": "2024-08-29T13:43:31.676Z"
   },
   {
    "duration": 36,
    "start_time": "2024-08-29T13:43:31.735Z"
   },
   {
    "duration": 754,
    "start_time": "2024-08-29T13:43:31.773Z"
   },
   {
    "duration": 795,
    "start_time": "2024-08-29T13:43:32.528Z"
   },
   {
    "duration": 197,
    "start_time": "2024-08-29T13:43:33.324Z"
   },
   {
    "duration": 4,
    "start_time": "2024-08-29T13:43:33.525Z"
   },
   {
    "duration": 19,
    "start_time": "2024-08-29T13:43:33.531Z"
   },
   {
    "duration": 1408,
    "start_time": "2024-08-29T13:43:33.552Z"
   },
   {
    "duration": 1369,
    "start_time": "2024-08-29T13:43:34.962Z"
   },
   {
    "duration": 2,
    "start_time": "2024-08-29T13:43:36.333Z"
   },
   {
    "duration": 27,
    "start_time": "2024-08-29T13:43:36.337Z"
   },
   {
    "duration": 326,
    "start_time": "2024-08-29T13:43:36.366Z"
   },
   {
    "duration": 59,
    "start_time": "2024-08-29T13:43:36.694Z"
   },
   {
    "duration": 192,
    "start_time": "2024-08-29T13:43:36.754Z"
   },
   {
    "duration": 358,
    "start_time": "2024-08-29T13:43:36.947Z"
   },
   {
    "duration": 1704,
    "start_time": "2024-08-29T13:43:37.307Z"
   },
   {
    "duration": 329,
    "start_time": "2024-08-29T13:43:39.013Z"
   },
   {
    "duration": 13,
    "start_time": "2024-08-29T13:43:39.343Z"
   },
   {
    "duration": 215,
    "start_time": "2024-08-29T13:43:39.358Z"
   },
   {
    "duration": 6,
    "start_time": "2024-08-29T13:43:39.575Z"
   },
   {
    "duration": 35,
    "start_time": "2024-08-29T13:43:39.583Z"
   },
   {
    "duration": 5,
    "start_time": "2024-08-29T13:43:39.620Z"
   },
   {
    "duration": 20,
    "start_time": "2024-08-29T13:43:39.627Z"
   },
   {
    "duration": 8,
    "start_time": "2024-08-29T13:43:39.649Z"
   },
   {
    "duration": 23,
    "start_time": "2024-08-29T13:43:39.659Z"
   },
   {
    "duration": 6,
    "start_time": "2024-08-29T13:43:39.683Z"
   },
   {
    "duration": 22,
    "start_time": "2024-08-29T13:43:39.690Z"
   },
   {
    "duration": 4,
    "start_time": "2024-08-29T13:43:39.714Z"
   },
   {
    "duration": 22,
    "start_time": "2024-08-29T13:43:39.719Z"
   },
   {
    "duration": 235,
    "start_time": "2024-08-29T13:43:39.742Z"
   },
   {
    "duration": 5,
    "start_time": "2024-08-29T13:43:39.979Z"
   },
   {
    "duration": 24,
    "start_time": "2024-08-29T13:43:39.985Z"
   },
   {
    "duration": 41,
    "start_time": "2024-08-29T13:43:40.010Z"
   },
   {
    "duration": 6,
    "start_time": "2024-08-29T13:43:40.052Z"
   },
   {
    "duration": 12,
    "start_time": "2024-08-29T13:43:40.060Z"
   },
   {
    "duration": 7,
    "start_time": "2024-08-29T13:43:40.074Z"
   },
   {
    "duration": 87,
    "start_time": "2024-08-29T13:43:40.082Z"
   },
   {
    "duration": 20,
    "start_time": "2024-08-29T13:43:40.171Z"
   },
   {
    "duration": 45,
    "start_time": "2024-08-29T13:43:40.193Z"
   },
   {
    "duration": 11,
    "start_time": "2024-08-29T13:43:40.240Z"
   },
   {
    "duration": 15,
    "start_time": "2024-08-29T13:43:40.253Z"
   },
   {
    "duration": 10,
    "start_time": "2024-08-29T13:43:40.270Z"
   },
   {
    "duration": 14,
    "start_time": "2024-08-29T13:43:40.281Z"
   },
   {
    "duration": 12,
    "start_time": "2024-08-29T13:43:40.297Z"
   },
   {
    "duration": 65,
    "start_time": "2024-08-29T13:43:40.310Z"
   },
   {
    "duration": 495,
    "start_time": "2024-08-30T07:07:04.814Z"
   },
   {
    "duration": 1408,
    "start_time": "2024-08-30T07:08:16.797Z"
   },
   {
    "duration": 102,
    "start_time": "2024-08-30T07:17:58.011Z"
   },
   {
    "duration": 1344,
    "start_time": "2024-08-30T07:18:14.620Z"
   },
   {
    "duration": 780,
    "start_time": "2024-08-30T07:18:15.966Z"
   },
   {
    "duration": 14,
    "start_time": "2024-08-30T07:18:16.748Z"
   },
   {
    "duration": 23,
    "start_time": "2024-08-30T07:18:16.765Z"
   },
   {
    "duration": 5,
    "start_time": "2024-08-30T07:18:16.791Z"
   },
   {
    "duration": 32,
    "start_time": "2024-08-30T07:18:16.798Z"
   },
   {
    "duration": 27,
    "start_time": "2024-08-30T07:18:16.832Z"
   },
   {
    "duration": 22,
    "start_time": "2024-08-30T07:18:16.861Z"
   },
   {
    "duration": 93,
    "start_time": "2024-08-30T07:18:16.886Z"
   },
   {
    "duration": 86,
    "start_time": "2024-08-30T07:18:16.981Z"
   },
   {
    "duration": 4,
    "start_time": "2024-08-30T07:18:17.069Z"
   },
   {
    "duration": 70,
    "start_time": "2024-08-30T07:18:17.075Z"
   },
   {
    "duration": 20,
    "start_time": "2024-08-30T07:18:17.147Z"
   },
   {
    "duration": 93,
    "start_time": "2024-08-30T07:18:17.169Z"
   },
   {
    "duration": 65,
    "start_time": "2024-08-30T07:18:17.265Z"
   },
   {
    "duration": 18,
    "start_time": "2024-08-30T07:18:17.332Z"
   },
   {
    "duration": 40,
    "start_time": "2024-08-30T07:18:17.351Z"
   },
   {
    "duration": 45,
    "start_time": "2024-08-30T07:18:17.393Z"
   },
   {
    "duration": 1405,
    "start_time": "2024-08-30T07:18:17.439Z"
   },
   {
    "duration": 296,
    "start_time": "2024-08-30T07:18:18.846Z"
   },
   {
    "duration": 133,
    "start_time": "2024-08-30T07:18:19.144Z"
   },
   {
    "duration": 596,
    "start_time": "2024-08-30T07:18:19.279Z"
   },
   {
    "duration": 54,
    "start_time": "2024-08-30T07:18:19.877Z"
   },
   {
    "duration": 37,
    "start_time": "2024-08-30T07:18:19.933Z"
   },
   {
    "duration": 718,
    "start_time": "2024-08-30T07:18:19.971Z"
   },
   {
    "duration": 842,
    "start_time": "2024-08-30T07:18:20.691Z"
   },
   {
    "duration": 198,
    "start_time": "2024-08-30T07:18:21.534Z"
   },
   {
    "duration": 5,
    "start_time": "2024-08-30T07:18:21.736Z"
   },
   {
    "duration": 15,
    "start_time": "2024-08-30T07:18:21.742Z"
   },
   {
    "duration": 1501,
    "start_time": "2024-08-30T07:18:21.759Z"
   },
   {
    "duration": 1228,
    "start_time": "2024-08-30T07:18:23.262Z"
   },
   {
    "duration": 3,
    "start_time": "2024-08-30T07:18:24.491Z"
   },
   {
    "duration": 12,
    "start_time": "2024-08-30T07:18:24.496Z"
   },
   {
    "duration": 350,
    "start_time": "2024-08-30T07:18:24.510Z"
   },
   {
    "duration": 63,
    "start_time": "2024-08-30T07:18:24.861Z"
   },
   {
    "duration": 184,
    "start_time": "2024-08-30T07:18:24.926Z"
   },
   {
    "duration": 329,
    "start_time": "2024-08-30T07:18:25.112Z"
   },
   {
    "duration": 1758,
    "start_time": "2024-08-30T07:18:25.443Z"
   },
   {
    "duration": 7,
    "start_time": "2024-08-30T07:18:27.203Z"
   },
   {
    "duration": 428,
    "start_time": "2024-08-30T07:18:27.212Z"
   },
   {
    "duration": 15,
    "start_time": "2024-08-30T07:18:27.642Z"
   },
   {
    "duration": 258,
    "start_time": "2024-08-30T07:18:27.659Z"
   },
   {
    "duration": 6,
    "start_time": "2024-08-30T07:18:27.919Z"
   },
   {
    "duration": 19,
    "start_time": "2024-08-30T07:18:27.926Z"
   },
   {
    "duration": 4,
    "start_time": "2024-08-30T07:18:27.947Z"
   },
   {
    "duration": 8,
    "start_time": "2024-08-30T07:18:27.953Z"
   },
   {
    "duration": 10,
    "start_time": "2024-08-30T07:18:27.962Z"
   },
   {
    "duration": 24,
    "start_time": "2024-08-30T07:18:28.005Z"
   },
   {
    "duration": 8,
    "start_time": "2024-08-30T07:18:28.031Z"
   },
   {
    "duration": 40,
    "start_time": "2024-08-30T07:18:28.041Z"
   },
   {
    "duration": 10,
    "start_time": "2024-08-30T07:18:28.083Z"
   },
   {
    "duration": 18,
    "start_time": "2024-08-30T07:18:28.095Z"
   },
   {
    "duration": 232,
    "start_time": "2024-08-30T07:18:28.115Z"
   },
   {
    "duration": 4,
    "start_time": "2024-08-30T07:18:28.349Z"
   },
   {
    "duration": 8,
    "start_time": "2024-08-30T07:18:28.354Z"
   },
   {
    "duration": 13,
    "start_time": "2024-08-30T07:18:28.364Z"
   },
   {
    "duration": 10,
    "start_time": "2024-08-30T07:18:28.379Z"
   },
   {
    "duration": 16,
    "start_time": "2024-08-30T07:18:28.391Z"
   },
   {
    "duration": 4,
    "start_time": "2024-08-30T07:18:28.409Z"
   },
   {
    "duration": 13,
    "start_time": "2024-08-30T07:18:28.415Z"
   },
   {
    "duration": 20,
    "start_time": "2024-08-30T07:18:28.430Z"
   },
   {
    "duration": 29,
    "start_time": "2024-08-30T07:18:28.451Z"
   },
   {
    "duration": 29,
    "start_time": "2024-08-30T07:18:28.483Z"
   },
   {
    "duration": 15,
    "start_time": "2024-08-30T07:18:28.514Z"
   },
   {
    "duration": 3,
    "start_time": "2024-08-30T07:18:28.531Z"
   },
   {
    "duration": 4,
    "start_time": "2024-08-30T07:18:28.536Z"
   },
   {
    "duration": 8,
    "start_time": "2024-08-30T07:18:28.542Z"
   },
   {
    "duration": 93,
    "start_time": "2024-08-30T07:18:28.552Z"
   },
   {
    "duration": 111,
    "start_time": "2024-08-30T07:19:56.980Z"
   },
   {
    "duration": 16,
    "start_time": "2024-08-30T07:20:24.893Z"
   },
   {
    "duration": 22,
    "start_time": "2024-08-30T07:21:49.887Z"
   },
   {
    "duration": 508,
    "start_time": "2024-08-30T07:22:00.485Z"
   },
   {
    "duration": 63,
    "start_time": "2024-08-30T07:22:15.705Z"
   },
   {
    "duration": 18,
    "start_time": "2024-08-30T07:22:21.901Z"
   },
   {
    "duration": 53,
    "start_time": "2024-08-30T07:23:21.778Z"
   },
   {
    "duration": 59,
    "start_time": "2024-08-30T07:24:12.797Z"
   },
   {
    "duration": 49,
    "start_time": "2024-08-30T07:24:29.607Z"
   },
   {
    "duration": 51,
    "start_time": "2024-08-30T07:24:33.071Z"
   },
   {
    "duration": 49,
    "start_time": "2024-08-30T07:24:40.906Z"
   },
   {
    "duration": 13,
    "start_time": "2024-08-30T07:25:47.655Z"
   },
   {
    "duration": 15,
    "start_time": "2024-08-30T07:26:01.164Z"
   },
   {
    "duration": 4,
    "start_time": "2024-08-30T07:26:33.977Z"
   },
   {
    "duration": 29,
    "start_time": "2024-08-30T07:26:58.022Z"
   },
   {
    "duration": 12,
    "start_time": "2024-08-30T07:27:46.531Z"
   },
   {
    "duration": 63,
    "start_time": "2024-08-30T07:28:55.525Z"
   },
   {
    "duration": 56,
    "start_time": "2024-08-30T07:29:03.829Z"
   },
   {
    "duration": 11,
    "start_time": "2024-08-30T07:29:21.440Z"
   },
   {
    "duration": 11,
    "start_time": "2024-08-30T07:29:26.683Z"
   },
   {
    "duration": 19,
    "start_time": "2024-08-30T07:29:35.519Z"
   },
   {
    "duration": 12,
    "start_time": "2024-08-30T07:29:39.203Z"
   },
   {
    "duration": 13,
    "start_time": "2024-08-30T07:30:06.058Z"
   },
   {
    "duration": 17,
    "start_time": "2024-08-30T07:30:30.598Z"
   },
   {
    "duration": 4,
    "start_time": "2024-08-30T07:31:34.447Z"
   },
   {
    "duration": 13,
    "start_time": "2024-08-30T07:31:41.949Z"
   },
   {
    "duration": 12,
    "start_time": "2024-08-30T07:31:53.854Z"
   },
   {
    "duration": 13,
    "start_time": "2024-08-30T07:32:09.312Z"
   },
   {
    "duration": 12,
    "start_time": "2024-08-30T07:32:13.000Z"
   },
   {
    "duration": 12,
    "start_time": "2024-08-30T07:32:17.047Z"
   },
   {
    "duration": 14,
    "start_time": "2024-08-30T07:33:18.554Z"
   },
   {
    "duration": 12,
    "start_time": "2024-08-30T07:34:07.088Z"
   },
   {
    "duration": 12,
    "start_time": "2024-08-30T07:34:24.485Z"
   },
   {
    "duration": 12,
    "start_time": "2024-08-30T07:35:11.650Z"
   },
   {
    "duration": 12,
    "start_time": "2024-08-30T07:35:16.400Z"
   },
   {
    "duration": 25,
    "start_time": "2024-08-30T07:36:37.395Z"
   },
   {
    "duration": 18,
    "start_time": "2024-08-30T07:36:42.032Z"
   },
   {
    "duration": 102,
    "start_time": "2024-08-30T07:37:17.308Z"
   },
   {
    "duration": 19,
    "start_time": "2024-08-30T07:37:39.282Z"
   },
   {
    "duration": 17,
    "start_time": "2024-08-30T07:37:47.226Z"
   },
   {
    "duration": 15,
    "start_time": "2024-08-30T08:14:45.947Z"
   },
   {
    "duration": 25,
    "start_time": "2024-08-30T08:16:31.784Z"
   },
   {
    "duration": 19,
    "start_time": "2024-08-30T08:16:44.300Z"
   },
   {
    "duration": 67,
    "start_time": "2024-08-30T08:21:56.448Z"
   },
   {
    "duration": 14,
    "start_time": "2024-08-30T08:21:59.535Z"
   },
   {
    "duration": 13,
    "start_time": "2024-08-30T08:22:21.728Z"
   },
   {
    "duration": 12,
    "start_time": "2024-08-30T08:23:20.086Z"
   },
   {
    "duration": 18,
    "start_time": "2024-08-30T08:23:41.635Z"
   },
   {
    "duration": 21,
    "start_time": "2024-08-30T08:23:44.003Z"
   },
   {
    "duration": 13,
    "start_time": "2024-08-30T08:23:47.099Z"
   },
   {
    "duration": 20,
    "start_time": "2024-08-30T08:23:53.742Z"
   },
   {
    "duration": 19,
    "start_time": "2024-08-30T08:23:56.136Z"
   },
   {
    "duration": 20,
    "start_time": "2024-08-30T08:23:58.528Z"
   },
   {
    "duration": 19,
    "start_time": "2024-08-30T08:24:00.492Z"
   },
   {
    "duration": 21,
    "start_time": "2024-08-30T08:25:06.065Z"
   },
   {
    "duration": 13,
    "start_time": "2024-08-30T08:25:10.306Z"
   },
   {
    "duration": 14,
    "start_time": "2024-08-30T08:25:22.460Z"
   },
   {
    "duration": 15,
    "start_time": "2024-08-30T08:28:41.664Z"
   },
   {
    "duration": 3,
    "start_time": "2024-08-30T08:31:51.109Z"
   },
   {
    "duration": 5,
    "start_time": "2024-08-30T08:32:02.240Z"
   },
   {
    "duration": 4,
    "start_time": "2024-08-30T08:33:07.600Z"
   },
   {
    "duration": 4,
    "start_time": "2024-08-30T08:34:20.349Z"
   },
   {
    "duration": 4,
    "start_time": "2024-08-30T08:34:21.537Z"
   },
   {
    "duration": 64,
    "start_time": "2024-08-30T08:34:31.236Z"
   },
   {
    "duration": 66,
    "start_time": "2024-08-30T08:36:15.629Z"
   },
   {
    "duration": 62,
    "start_time": "2024-08-30T08:36:22.354Z"
   },
   {
    "duration": 63,
    "start_time": "2024-08-30T08:36:40.581Z"
   },
   {
    "duration": 3,
    "start_time": "2024-08-30T08:38:35.223Z"
   },
   {
    "duration": 4,
    "start_time": "2024-08-30T08:39:26.282Z"
   },
   {
    "duration": 16,
    "start_time": "2024-08-30T08:39:38.647Z"
   },
   {
    "duration": 5,
    "start_time": "2024-08-30T08:40:09.885Z"
   },
   {
    "duration": 5,
    "start_time": "2024-08-30T08:40:14.738Z"
   },
   {
    "duration": 63,
    "start_time": "2024-08-30T08:41:56.158Z"
   },
   {
    "duration": 57,
    "start_time": "2024-08-30T08:42:02.636Z"
   },
   {
    "duration": 81,
    "start_time": "2024-08-30T08:42:06.754Z"
   },
   {
    "duration": 72,
    "start_time": "2024-08-30T08:42:36.392Z"
   },
   {
    "duration": 66,
    "start_time": "2024-08-30T08:42:38.602Z"
   },
   {
    "duration": 5,
    "start_time": "2024-08-30T08:42:56.237Z"
   },
   {
    "duration": 68,
    "start_time": "2024-08-30T08:42:59.944Z"
   },
   {
    "duration": 64,
    "start_time": "2024-08-30T08:43:47.177Z"
   },
   {
    "duration": 64,
    "start_time": "2024-08-30T08:44:08.339Z"
   },
   {
    "duration": 76,
    "start_time": "2024-08-30T08:45:07.197Z"
   },
   {
    "duration": 67,
    "start_time": "2024-08-30T08:45:23.589Z"
   },
   {
    "duration": 60,
    "start_time": "2024-08-30T08:45:59.601Z"
   },
   {
    "duration": 56,
    "start_time": "2024-08-30T08:46:48.654Z"
   },
   {
    "duration": 17,
    "start_time": "2024-08-30T08:48:38.616Z"
   },
   {
    "duration": 573,
    "start_time": "2024-08-30T08:48:46.343Z"
   },
   {
    "duration": 16,
    "start_time": "2024-08-30T08:48:48.893Z"
   },
   {
    "duration": 6,
    "start_time": "2024-08-30T08:48:54.071Z"
   },
   {
    "duration": 5,
    "start_time": "2024-08-30T08:49:01.178Z"
   },
   {
    "duration": 6,
    "start_time": "2024-08-30T08:49:31.138Z"
   },
   {
    "duration": 5,
    "start_time": "2024-08-30T08:49:44.064Z"
   },
   {
    "duration": 101,
    "start_time": "2024-08-30T08:49:56.630Z"
   },
   {
    "duration": 4,
    "start_time": "2024-08-30T08:50:02.378Z"
   },
   {
    "duration": 4,
    "start_time": "2024-08-30T08:50:43.299Z"
   },
   {
    "duration": 5,
    "start_time": "2024-08-30T08:50:48.903Z"
   },
   {
    "duration": 7,
    "start_time": "2024-08-30T08:51:27.057Z"
   },
   {
    "duration": 7,
    "start_time": "2024-08-30T08:51:50.778Z"
   },
   {
    "duration": 9,
    "start_time": "2024-08-30T08:52:03.647Z"
   },
   {
    "duration": 9,
    "start_time": "2024-08-30T08:52:05.891Z"
   },
   {
    "duration": 8,
    "start_time": "2024-08-30T08:52:23.435Z"
   },
   {
    "duration": 7,
    "start_time": "2024-08-30T08:52:31.828Z"
   },
   {
    "duration": 13,
    "start_time": "2024-08-30T08:53:10.526Z"
   },
   {
    "duration": 6,
    "start_time": "2024-08-30T08:53:25.157Z"
   },
   {
    "duration": 6,
    "start_time": "2024-08-30T08:54:20.779Z"
   },
   {
    "duration": 6,
    "start_time": "2024-08-30T08:54:26.060Z"
   },
   {
    "duration": 7,
    "start_time": "2024-08-30T08:54:52.585Z"
   },
   {
    "duration": 7,
    "start_time": "2024-08-30T08:54:59.975Z"
   },
   {
    "duration": 9,
    "start_time": "2024-08-30T08:55:06.058Z"
   },
   {
    "duration": 8,
    "start_time": "2024-08-30T08:55:48.768Z"
   },
   {
    "duration": 10,
    "start_time": "2024-08-30T08:56:13.645Z"
   },
   {
    "duration": 61,
    "start_time": "2024-08-30T08:56:50.565Z"
   },
   {
    "duration": 12,
    "start_time": "2024-08-30T08:56:54.843Z"
   },
   {
    "duration": 9,
    "start_time": "2024-08-30T08:57:04.543Z"
   },
   {
    "duration": 10,
    "start_time": "2024-08-30T08:57:16.180Z"
   },
   {
    "duration": 64,
    "start_time": "2024-08-30T08:57:43.263Z"
   },
   {
    "duration": 278,
    "start_time": "2024-08-30T09:00:52.844Z"
   },
   {
    "duration": 30,
    "start_time": "2024-08-30T09:01:41.073Z"
   },
   {
    "duration": 55,
    "start_time": "2024-08-30T09:01:43.233Z"
   },
   {
    "duration": 273,
    "start_time": "2024-08-30T09:02:01.515Z"
   },
   {
    "duration": 6,
    "start_time": "2024-08-30T09:02:08.302Z"
   },
   {
    "duration": 5,
    "start_time": "2024-08-30T09:02:15.918Z"
   },
   {
    "duration": 2,
    "start_time": "2024-08-30T09:02:17.803Z"
   },
   {
    "duration": 3,
    "start_time": "2024-08-30T09:02:19.179Z"
   },
   {
    "duration": 6,
    "start_time": "2024-08-30T09:02:20.358Z"
   },
   {
    "duration": 3,
    "start_time": "2024-08-30T09:02:24.780Z"
   },
   {
    "duration": 14,
    "start_time": "2024-08-30T09:02:25.648Z"
   },
   {
    "duration": 3,
    "start_time": "2024-08-30T09:02:30.839Z"
   },
   {
    "duration": 23,
    "start_time": "2024-08-30T09:02:31.914Z"
   },
   {
    "duration": 10,
    "start_time": "2024-08-30T09:02:37.435Z"
   },
   {
    "duration": 13,
    "start_time": "2024-08-30T09:02:40.471Z"
   },
   {
    "duration": 4,
    "start_time": "2024-08-30T09:02:49.333Z"
   },
   {
    "duration": 4,
    "start_time": "2024-08-30T09:02:53.269Z"
   },
   {
    "duration": 3,
    "start_time": "2024-08-30T09:02:55.456Z"
   },
   {
    "duration": 3,
    "start_time": "2024-08-30T09:03:00.235Z"
   },
   {
    "duration": 52,
    "start_time": "2024-08-30T09:03:01.109Z"
   },
   {
    "duration": 23,
    "start_time": "2024-08-30T09:03:33.344Z"
   },
   {
    "duration": 8,
    "start_time": "2024-08-30T09:03:37.588Z"
   },
   {
    "duration": 9,
    "start_time": "2024-08-30T09:03:49.506Z"
   },
   {
    "duration": 13,
    "start_time": "2024-08-30T09:04:17.209Z"
   },
   {
    "duration": 10,
    "start_time": "2024-08-30T09:04:23.822Z"
   },
   {
    "duration": 10,
    "start_time": "2024-08-30T09:05:05.241Z"
   },
   {
    "duration": 12,
    "start_time": "2024-08-30T09:05:14.023Z"
   },
   {
    "duration": 23,
    "start_time": "2024-08-30T09:05:23.543Z"
   },
   {
    "duration": 15,
    "start_time": "2024-08-30T09:07:00.425Z"
   },
   {
    "duration": 14,
    "start_time": "2024-08-30T09:07:07.316Z"
   },
   {
    "duration": 18,
    "start_time": "2024-08-30T09:07:18.642Z"
   },
   {
    "duration": 7,
    "start_time": "2024-08-30T09:08:02.280Z"
   },
   {
    "duration": 62,
    "start_time": "2024-08-30T09:09:31.936Z"
   },
   {
    "duration": 66,
    "start_time": "2024-08-30T09:09:49.570Z"
   },
   {
    "duration": 25,
    "start_time": "2024-08-30T09:09:57.922Z"
   },
   {
    "duration": 17,
    "start_time": "2024-08-30T09:10:09.501Z"
   },
   {
    "duration": 18,
    "start_time": "2024-08-30T09:10:21.335Z"
   },
   {
    "duration": 16,
    "start_time": "2024-08-30T09:10:23.464Z"
   },
   {
    "duration": 15,
    "start_time": "2024-08-30T09:10:25.504Z"
   },
   {
    "duration": 20,
    "start_time": "2024-08-30T09:11:05.011Z"
   },
   {
    "duration": 16,
    "start_time": "2024-08-30T09:11:07.673Z"
   },
   {
    "duration": 15,
    "start_time": "2024-08-30T09:11:19.316Z"
   },
   {
    "duration": 9,
    "start_time": "2024-08-30T09:11:44.771Z"
   },
   {
    "duration": 15,
    "start_time": "2024-08-30T09:11:52.627Z"
   },
   {
    "duration": 8,
    "start_time": "2024-08-30T09:12:04.759Z"
   },
   {
    "duration": 10,
    "start_time": "2024-08-30T09:12:08.278Z"
   },
   {
    "duration": 9,
    "start_time": "2024-08-30T09:12:32.319Z"
   },
   {
    "duration": 10,
    "start_time": "2024-08-30T09:12:45.898Z"
   },
   {
    "duration": 12,
    "start_time": "2024-08-30T09:12:50.219Z"
   },
   {
    "duration": 16,
    "start_time": "2024-08-30T09:14:04.082Z"
   },
   {
    "duration": 18,
    "start_time": "2024-08-30T09:14:30.359Z"
   },
   {
    "duration": 23,
    "start_time": "2024-08-30T09:14:36.019Z"
   },
   {
    "duration": 13,
    "start_time": "2024-08-30T09:14:46.343Z"
   },
   {
    "duration": 62,
    "start_time": "2024-08-30T09:16:18.869Z"
   },
   {
    "duration": 14,
    "start_time": "2024-08-30T09:16:22.126Z"
   },
   {
    "duration": 13,
    "start_time": "2024-08-30T09:16:28.397Z"
   },
   {
    "duration": 14,
    "start_time": "2024-08-30T09:16:45.262Z"
   },
   {
    "duration": 16,
    "start_time": "2024-08-30T09:16:50.915Z"
   },
   {
    "duration": 14,
    "start_time": "2024-08-30T09:17:09.662Z"
   },
   {
    "duration": 18,
    "start_time": "2024-08-30T09:17:24.750Z"
   },
   {
    "duration": 13,
    "start_time": "2024-08-30T09:17:34.981Z"
   },
   {
    "duration": 12,
    "start_time": "2024-08-30T09:18:16.434Z"
   },
   {
    "duration": 4,
    "start_time": "2024-08-30T09:24:38.258Z"
   },
   {
    "duration": 4,
    "start_time": "2024-08-30T09:24:39.835Z"
   },
   {
    "duration": 74,
    "start_time": "2024-08-30T09:26:09.048Z"
   },
   {
    "duration": 13,
    "start_time": "2024-08-30T09:26:49.550Z"
   },
   {
    "duration": 1307,
    "start_time": "2024-08-30T09:28:10.000Z"
   },
   {
    "duration": 194,
    "start_time": "2024-08-30T09:28:11.309Z"
   },
   {
    "duration": 14,
    "start_time": "2024-08-30T09:28:11.504Z"
   },
   {
    "duration": 26,
    "start_time": "2024-08-30T09:28:11.521Z"
   },
   {
    "duration": 4,
    "start_time": "2024-08-30T09:28:11.549Z"
   },
   {
    "duration": 20,
    "start_time": "2024-08-30T09:28:11.554Z"
   },
   {
    "duration": 45,
    "start_time": "2024-08-30T09:28:11.576Z"
   },
   {
    "duration": 24,
    "start_time": "2024-08-30T09:28:11.623Z"
   },
   {
    "duration": 99,
    "start_time": "2024-08-30T09:28:11.649Z"
   },
   {
    "duration": 90,
    "start_time": "2024-08-30T09:28:11.751Z"
   },
   {
    "duration": 4,
    "start_time": "2024-08-30T09:28:11.843Z"
   },
   {
    "duration": 86,
    "start_time": "2024-08-30T09:28:11.848Z"
   },
   {
    "duration": 22,
    "start_time": "2024-08-30T09:28:11.936Z"
   },
   {
    "duration": 21,
    "start_time": "2024-08-30T09:28:11.960Z"
   },
   {
    "duration": 64,
    "start_time": "2024-08-30T09:28:11.983Z"
   },
   {
    "duration": 86,
    "start_time": "2024-08-30T09:28:12.049Z"
   },
   {
    "duration": 27,
    "start_time": "2024-08-30T09:28:12.136Z"
   },
   {
    "duration": 46,
    "start_time": "2024-08-30T09:28:12.165Z"
   },
   {
    "duration": 1358,
    "start_time": "2024-08-30T09:28:12.213Z"
   },
   {
    "duration": 297,
    "start_time": "2024-08-30T09:28:13.572Z"
   },
   {
    "duration": 110,
    "start_time": "2024-08-30T09:28:13.871Z"
   },
   {
    "duration": 582,
    "start_time": "2024-08-30T09:28:13.983Z"
   },
   {
    "duration": 62,
    "start_time": "2024-08-30T09:28:14.567Z"
   },
   {
    "duration": 84,
    "start_time": "2024-08-30T09:28:14.630Z"
   },
   {
    "duration": 772,
    "start_time": "2024-08-30T09:28:14.716Z"
   },
   {
    "duration": 806,
    "start_time": "2024-08-30T09:28:15.489Z"
   },
   {
    "duration": 191,
    "start_time": "2024-08-30T09:28:16.296Z"
   },
   {
    "duration": 14,
    "start_time": "2024-08-30T09:28:16.491Z"
   },
   {
    "duration": 36,
    "start_time": "2024-08-30T09:28:16.507Z"
   },
   {
    "duration": 1395,
    "start_time": "2024-08-30T09:28:16.545Z"
   },
   {
    "duration": 1219,
    "start_time": "2024-08-30T09:28:17.942Z"
   },
   {
    "duration": 2,
    "start_time": "2024-08-30T09:28:19.163Z"
   },
   {
    "duration": 20,
    "start_time": "2024-08-30T09:28:19.166Z"
   },
   {
    "duration": 311,
    "start_time": "2024-08-30T09:28:19.188Z"
   },
   {
    "duration": 51,
    "start_time": "2024-08-30T09:28:19.500Z"
   },
   {
    "duration": 179,
    "start_time": "2024-08-30T09:28:19.552Z"
   },
   {
    "duration": 337,
    "start_time": "2024-08-30T09:28:19.733Z"
   },
   {
    "duration": 1673,
    "start_time": "2024-08-30T09:28:20.072Z"
   },
   {
    "duration": 169,
    "start_time": "2024-08-30T09:28:21.746Z"
   },
   {
    "duration": 465,
    "start_time": "2024-08-30T09:28:21.917Z"
   },
   {
    "duration": 13,
    "start_time": "2024-08-30T09:28:22.384Z"
   },
   {
    "duration": 204,
    "start_time": "2024-08-30T09:28:22.405Z"
   },
   {
    "duration": 5,
    "start_time": "2024-08-30T09:28:22.610Z"
   },
   {
    "duration": 19,
    "start_time": "2024-08-30T09:28:22.617Z"
   },
   {
    "duration": 7,
    "start_time": "2024-08-30T09:28:22.637Z"
   },
   {
    "duration": 14,
    "start_time": "2024-08-30T09:28:22.645Z"
   },
   {
    "duration": 45,
    "start_time": "2024-08-30T09:28:22.661Z"
   },
   {
    "duration": 25,
    "start_time": "2024-08-30T09:28:22.708Z"
   },
   {
    "duration": 7,
    "start_time": "2024-08-30T09:28:22.734Z"
   },
   {
    "duration": 12,
    "start_time": "2024-08-30T09:28:22.743Z"
   },
   {
    "duration": 10,
    "start_time": "2024-08-30T09:28:22.756Z"
   },
   {
    "duration": 63,
    "start_time": "2024-08-30T09:28:22.768Z"
   },
   {
    "duration": 78,
    "start_time": "2024-08-30T09:28:22.833Z"
   },
   {
    "duration": 239,
    "start_time": "2024-08-30T09:28:22.912Z"
   },
   {
    "duration": 5,
    "start_time": "2024-08-30T09:28:23.153Z"
   },
   {
    "duration": 10,
    "start_time": "2024-08-30T09:28:23.159Z"
   },
   {
    "duration": 6,
    "start_time": "2024-08-30T09:28:23.170Z"
   },
   {
    "duration": 4,
    "start_time": "2024-08-30T09:28:23.177Z"
   },
   {
    "duration": 27,
    "start_time": "2024-08-30T09:28:23.183Z"
   },
   {
    "duration": 9,
    "start_time": "2024-08-30T09:28:23.212Z"
   },
   {
    "duration": 12,
    "start_time": "2024-08-30T09:28:23.223Z"
   },
   {
    "duration": 9,
    "start_time": "2024-08-30T09:28:23.237Z"
   },
   {
    "duration": 28,
    "start_time": "2024-08-30T09:28:23.248Z"
   },
   {
    "duration": 34,
    "start_time": "2024-08-30T09:28:23.278Z"
   },
   {
    "duration": 30,
    "start_time": "2024-08-30T09:28:23.314Z"
   },
   {
    "duration": 13,
    "start_time": "2024-08-30T09:28:23.346Z"
   },
   {
    "duration": 18,
    "start_time": "2024-08-30T09:28:23.361Z"
   },
   {
    "duration": 10,
    "start_time": "2024-08-30T09:28:23.381Z"
   },
   {
    "duration": 30,
    "start_time": "2024-08-30T09:28:23.395Z"
   },
   {
    "duration": 70,
    "start_time": "2024-08-30T09:28:23.426Z"
   },
   {
    "duration": 12,
    "start_time": "2024-08-30T09:28:23.497Z"
   },
   {
    "duration": 1208,
    "start_time": "2024-08-30T09:31:57.421Z"
   },
   {
    "duration": 198,
    "start_time": "2024-08-30T09:31:58.631Z"
   },
   {
    "duration": 11,
    "start_time": "2024-08-30T09:31:58.832Z"
   },
   {
    "duration": 38,
    "start_time": "2024-08-30T09:31:58.846Z"
   },
   {
    "duration": 4,
    "start_time": "2024-08-30T09:31:58.886Z"
   },
   {
    "duration": 21,
    "start_time": "2024-08-30T09:31:58.892Z"
   },
   {
    "duration": 23,
    "start_time": "2024-08-30T09:31:58.914Z"
   },
   {
    "duration": 5,
    "start_time": "2024-08-30T09:31:58.939Z"
   },
   {
    "duration": 114,
    "start_time": "2024-08-30T09:31:58.946Z"
   },
   {
    "duration": 83,
    "start_time": "2024-08-30T09:31:59.063Z"
   },
   {
    "duration": 5,
    "start_time": "2024-08-30T09:31:59.148Z"
   },
   {
    "duration": 75,
    "start_time": "2024-08-30T09:31:59.154Z"
   },
   {
    "duration": 19,
    "start_time": "2024-08-30T09:31:59.230Z"
   },
   {
    "duration": 17,
    "start_time": "2024-08-30T09:31:59.251Z"
   },
   {
    "duration": 80,
    "start_time": "2024-08-30T09:31:59.270Z"
   },
   {
    "duration": 17,
    "start_time": "2024-08-30T09:31:59.351Z"
   },
   {
    "duration": 44,
    "start_time": "2024-08-30T09:31:59.369Z"
   },
   {
    "duration": 38,
    "start_time": "2024-08-30T09:31:59.415Z"
   },
   {
    "duration": 1278,
    "start_time": "2024-08-30T09:31:59.455Z"
   },
   {
    "duration": 323,
    "start_time": "2024-08-30T09:32:00.735Z"
   },
   {
    "duration": 103,
    "start_time": "2024-08-30T09:32:01.060Z"
   },
   {
    "duration": 1308,
    "start_time": "2024-08-30T11:17:30.334Z"
   },
   {
    "duration": 730,
    "start_time": "2024-08-30T11:17:31.644Z"
   },
   {
    "duration": 9,
    "start_time": "2024-08-30T11:17:32.376Z"
   },
   {
    "duration": 43,
    "start_time": "2024-08-30T11:17:32.387Z"
   },
   {
    "duration": 109,
    "start_time": "2024-08-30T11:17:32.431Z"
   },
   {
    "duration": 80,
    "start_time": "2024-08-30T11:17:32.541Z"
   },
   {
    "duration": 33,
    "start_time": "2024-08-30T11:17:32.623Z"
   },
   {
    "duration": 21,
    "start_time": "2024-08-30T11:17:32.658Z"
   },
   {
    "duration": 77,
    "start_time": "2024-08-30T11:17:32.680Z"
   },
   {
    "duration": 72,
    "start_time": "2024-08-30T11:17:32.761Z"
   },
   {
    "duration": 4,
    "start_time": "2024-08-30T11:17:32.834Z"
   },
   {
    "duration": 64,
    "start_time": "2024-08-30T11:17:32.840Z"
   },
   {
    "duration": 17,
    "start_time": "2024-08-30T11:17:32.907Z"
   },
   {
    "duration": 17,
    "start_time": "2024-08-30T11:17:32.926Z"
   },
   {
    "duration": 52,
    "start_time": "2024-08-30T11:17:32.944Z"
   },
   {
    "duration": 18,
    "start_time": "2024-08-30T11:17:32.998Z"
   },
   {
    "duration": 22,
    "start_time": "2024-08-30T11:17:33.017Z"
   },
   {
    "duration": 38,
    "start_time": "2024-08-30T11:17:33.041Z"
   },
   {
    "duration": 1069,
    "start_time": "2024-08-30T11:17:33.081Z"
   },
   {
    "duration": 235,
    "start_time": "2024-08-30T11:17:34.151Z"
   },
   {
    "duration": 87,
    "start_time": "2024-08-30T11:17:34.388Z"
   },
   {
    "duration": 518,
    "start_time": "2024-08-30T11:17:34.477Z"
   },
   {
    "duration": 42,
    "start_time": "2024-08-30T11:17:34.996Z"
   },
   {
    "duration": 23,
    "start_time": "2024-08-30T11:17:35.040Z"
   },
   {
    "duration": 609,
    "start_time": "2024-08-30T11:17:35.064Z"
   },
   {
    "duration": 638,
    "start_time": "2024-08-30T11:17:35.674Z"
   },
   {
    "duration": 158,
    "start_time": "2024-08-30T11:17:36.314Z"
   },
   {
    "duration": 4,
    "start_time": "2024-08-30T11:17:36.475Z"
   },
   {
    "duration": 56,
    "start_time": "2024-08-30T11:17:36.481Z"
   },
   {
    "duration": 1123,
    "start_time": "2024-08-30T11:17:36.538Z"
   },
   {
    "duration": 990,
    "start_time": "2024-08-30T11:17:37.663Z"
   },
   {
    "duration": 3,
    "start_time": "2024-08-30T11:17:38.654Z"
   },
   {
    "duration": 14,
    "start_time": "2024-08-30T11:17:38.659Z"
   },
   {
    "duration": 311,
    "start_time": "2024-08-30T11:17:38.675Z"
   },
   {
    "duration": 52,
    "start_time": "2024-08-30T11:17:38.987Z"
   },
   {
    "duration": 149,
    "start_time": "2024-08-30T11:17:39.040Z"
   },
   {
    "duration": 283,
    "start_time": "2024-08-30T11:17:39.190Z"
   },
   {
    "duration": 1559,
    "start_time": "2024-08-30T11:17:39.474Z"
   },
   {
    "duration": 326,
    "start_time": "2024-08-30T11:17:41.035Z"
   },
   {
    "duration": 401,
    "start_time": "2024-08-30T11:17:41.363Z"
   },
   {
    "duration": 21,
    "start_time": "2024-08-30T11:17:41.765Z"
   },
   {
    "duration": 201,
    "start_time": "2024-08-30T11:17:41.788Z"
   },
   {
    "duration": 5,
    "start_time": "2024-08-30T11:17:41.990Z"
   },
   {
    "duration": 27,
    "start_time": "2024-08-30T11:17:41.997Z"
   },
   {
    "duration": 18,
    "start_time": "2024-08-30T11:17:42.025Z"
   },
   {
    "duration": 15,
    "start_time": "2024-08-30T11:17:42.044Z"
   },
   {
    "duration": 15,
    "start_time": "2024-08-30T11:17:42.061Z"
   },
   {
    "duration": 29,
    "start_time": "2024-08-30T11:17:42.077Z"
   },
   {
    "duration": 7,
    "start_time": "2024-08-30T11:17:42.107Z"
   },
   {
    "duration": 20,
    "start_time": "2024-08-30T11:17:42.115Z"
   },
   {
    "duration": 4,
    "start_time": "2024-08-30T11:17:42.136Z"
   },
   {
    "duration": 38,
    "start_time": "2024-08-30T11:17:42.141Z"
   },
   {
    "duration": 56,
    "start_time": "2024-08-30T11:17:42.181Z"
   },
   {
    "duration": 225,
    "start_time": "2024-08-30T11:17:42.239Z"
   },
   {
    "duration": 5,
    "start_time": "2024-08-30T11:17:42.465Z"
   },
   {
    "duration": 162,
    "start_time": "2024-08-30T11:17:42.471Z"
   },
   {
    "duration": 7,
    "start_time": "2024-08-30T11:17:42.634Z"
   },
   {
    "duration": 5,
    "start_time": "2024-08-30T11:17:42.643Z"
   },
   {
    "duration": 17,
    "start_time": "2024-08-30T11:17:42.649Z"
   },
   {
    "duration": 10,
    "start_time": "2024-08-30T11:17:42.668Z"
   },
   {
    "duration": 29,
    "start_time": "2024-08-30T11:17:42.681Z"
   },
   {
    "duration": 10,
    "start_time": "2024-08-30T11:17:42.712Z"
   },
   {
    "duration": 23,
    "start_time": "2024-08-30T11:17:42.723Z"
   },
   {
    "duration": 24,
    "start_time": "2024-08-30T11:17:42.747Z"
   },
   {
    "duration": 27,
    "start_time": "2024-08-30T11:17:42.773Z"
   },
   {
    "duration": 14,
    "start_time": "2024-08-30T11:17:42.802Z"
   },
   {
    "duration": 12,
    "start_time": "2024-08-30T11:17:42.818Z"
   },
   {
    "duration": 8,
    "start_time": "2024-08-30T11:17:42.832Z"
   },
   {
    "duration": 6,
    "start_time": "2024-08-30T11:17:42.841Z"
   },
   {
    "duration": 49,
    "start_time": "2024-08-30T11:17:42.849Z"
   },
   {
    "duration": 11,
    "start_time": "2024-08-30T11:17:42.900Z"
   },
   {
    "duration": 84,
    "start_time": "2024-08-30T11:24:06.914Z"
   },
   {
    "duration": 61,
    "start_time": "2024-10-17T09:56:32.444Z"
   }
  ],
  "kernelspec": {
   "display_name": "Python 3 (ipykernel)",
   "language": "python",
   "name": "python3"
  },
  "language_info": {
   "codemirror_mode": {
    "name": "ipython",
    "version": 3
   },
   "file_extension": ".py",
   "mimetype": "text/x-python",
   "name": "python",
   "nbconvert_exporter": "python",
   "pygments_lexer": "ipython3",
   "version": "3.11.5"
  },
  "toc": {
   "base_numbering": 1,
   "nav_menu": {},
   "number_sections": true,
   "sideBar": true,
   "skip_h1_title": true,
   "title_cell": "Table of Contents",
   "title_sidebar": "Contents",
   "toc_cell": false,
   "toc_position": {},
   "toc_section_display": true,
   "toc_window_display": false
  },
  "varInspector": {
   "cols": {
    "lenName": 16,
    "lenType": 16,
    "lenVar": 40
   },
   "kernels_config": {
    "python": {
     "delete_cmd_postfix": "",
     "delete_cmd_prefix": "del ",
     "library": "var_list.py",
     "varRefreshCmd": "print(var_dic_list())"
    },
    "r": {
     "delete_cmd_postfix": ") ",
     "delete_cmd_prefix": "rm(",
     "library": "var_list.r",
     "varRefreshCmd": "cat(var_dic_list()) "
    }
   },
   "types_to_exclude": [
    "module",
    "function",
    "builtin_function_or_method",
    "instance",
    "_Feature"
   ],
   "window_display": false
  }
 },
 "nbformat": 4,
 "nbformat_minor": 2
}
